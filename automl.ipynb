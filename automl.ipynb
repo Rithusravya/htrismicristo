{
  "cells": [
    {
      "cell_type": "markdown",
      "source": [
        "# Automated ML"
      ],
      "metadata": {}
    },
    {
      "cell_type": "code",
      "source": [
        "#Import required Dependencies\n",
        "from azureml.data.dataset_factory import TabularDatasetFactory\n",
        "import joblib\n",
        "from azureml.train.automl import AutoMLConfig\n",
        "from azureml.core import Workspace, Experiment, Dataset\n",
        "from azureml.core.environment import Environment\n",
        "from azureml.core.compute import ComputeTarget, AmlCompute\n",
        "from azureml.core.compute_target import ComputeTargetException\n",
        "from azureml.widgets import RunDetails\n",
        "import os\n",
        "import joblib\n",
        "from azureml.core import Experiment\n",
        "from azureml.core.model import Model"
      ],
      "outputs": [],
      "execution_count": 1,
      "metadata": {
        "gather": {
          "logged": 1617408573440
        },
        "jupyter": {
          "outputs_hidden": false,
          "source_hidden": false
        },
        "nteract": {
          "transient": {
            "deleting": false
          }
        }
      }
    },
    {
      "cell_type": "code",
      "source": [
        "# Installing xgboost 0.90 in order to avoid compatibility issues when retrieving the best model\r\n",
        "!pip install xgboost==0.90\r\n",
        "# The kernel should be restarted after executing this cell in order to apply the changes\r\n",
        "# Then the notebook can be executed normally"
      ],
      "outputs": [
        {
          "output_type": "stream",
          "name": "stdout",
          "text": [
            "Requirement already satisfied: xgboost==0.90 in /anaconda/envs/azureml_py36/lib/python3.6/site-packages (0.90)\r\n",
            "Requirement already satisfied: numpy in /anaconda/envs/azureml_py36/lib/python3.6/site-packages (from xgboost==0.90) (1.18.5)\r\n",
            "Requirement already satisfied: scipy in /anaconda/envs/azureml_py36/lib/python3.6/site-packages (from xgboost==0.90) (1.4.1)\r\n"
          ]
        }
      ],
      "execution_count": 2,
      "metadata": {
        "collapsed": true,
        "jupyter": {
          "source_hidden": false,
          "outputs_hidden": false
        },
        "nteract": {
          "transient": {
            "deleting": false
          }
        },
        "gather": {
          "logged": 1617408604608
        }
      }
    },
    {
      "cell_type": "code",
      "source": [
        "#find the workspace and create the environment with the name \"AutomatedML\". Start logging using exp.\n",
        "ws = Workspace.from_config()\n",
        "exp = Experiment(workspace=ws, name=\"AutomatedML\")\n",
        "\n",
        "print('Workspace name: ' + ws.name, \n",
        "      'Azure region: ' + ws.location, \n",
        "      'Subscription id: ' + ws.subscription_id, \n",
        "      'Resource group: ' + ws.resource_group, sep = '\\n')\n",
        "\n",
        "run = exp.start_logging()\n",
        "\n",
        "# Choose a name for your CPU cluster\n",
        "cpu_cluster_name = \"cpuabccluster\"\n",
        "\n",
        "# Verify that the cluster doesn't already exist\n",
        "try:\n",
        "    cpu_cluster = ComputeTarget(workspace=ws, name=cpu_cluster_name)\n",
        "    print('Found existing cluster')\n",
        "    \n",
        "#create a new cluster with the specified configurations \"vm_size='STANDARD_D12_V2' and max number of nodes as 4\"\n",
        "except ComputeTargetException:\n",
        "    \n",
        "    compute_config = AmlCompute.provisioning_configuration(vm_size='STANDARD_D12_V2', max_nodes=4)\n",
        "    cpu_cluster = ComputeTarget.create(ws, cpu_cluster_name, compute_config)\n",
        "    print(\"New cluster is created\")\n",
        "    \n",
        "cpu_cluster.wait_for_completion(show_output=True)\n"
      ],
      "outputs": [
        {
          "output_type": "stream",
          "name": "stdout",
          "text": [
            "Workspace name: quick-starts-ws-141841\n",
            "Azure region: southcentralus\n",
            "Subscription id: d4ad7261-832d-46b2-b093-22156001df5b\n",
            "Resource group: aml-quickstarts-141841\n",
            "Found existing cluster\n",
            "Succeeded\n",
            "AmlCompute wait for completion finished\n",
            "\n",
            "Minimum number of nodes requested have been provisioned\n"
          ]
        }
      ],
      "execution_count": 3,
      "metadata": {
        "scrolled": false,
        "gather": {
          "logged": 1617408612609
        }
      }
    },
    {
      "cell_type": "markdown",
      "source": [
        "## Dataset\n",
        "\n",
        "### Overview\n",
        "The dataset used to develop both models comes from Kaggle datasets. It deals with heart failures, bringing information on 12 categorical and numerical features which can be used to forecast mortality rates by cardiovascular diseases (CVDs). Additionally, The dataset has a total of 299 observations.\n",
        "\n",
        "#### Task\n",
        "As it was mentioned previously, this data is going to be used to predict heart failures caused by CVDs, in order to provide an early detection ML model using the 12 clinical variables included in the dataset.\n",
        "\n",
        "#### Access\n",
        "For training the AutoML model, I registered the dataset from local files using the Datasets Hub in the Azure ML Studio.\n",
        "By contrast, I used the following dataset url from github for training the customised model using HyperDrive: https://github.com/htrismicristo/Capstone-Project-Azure-ML-Engineer-Microsoft-Udacity/blob/main/heart_failure_clinical_records_dataset.csv"
      ],
      "metadata": {}
    },
    {
      "cell_type": "code",
      "source": [
        "# azureml-core of version 1.0.72 or higher is required\n",
        "# azureml-dataprep[pandas] of version 1.1.34 or higher is required\n",
        "from azureml.core import Workspace, Dataset\n",
        "\n",
        "subscription_id = 'd4ad7261-832d-46b2-b093-22156001df5b'\n",
        "resource_group = 'aml-quickstarts-141841'\n",
        "workspace_name = 'quick-starts-ws-141841'\n",
        "\n",
        "workspace = Workspace(subscription_id, resource_group, workspace_name)\n",
        "\n",
        "dataset = Dataset.get_by_name(workspace, name='Heart Failure Data')\n",
        "dataset.to_pandas_dataframe()"
      ],
      "outputs": [
        {
          "output_type": "execute_result",
          "execution_count": 4,
          "data": {
            "text/plain": "      age  anaemia  creatinine_phosphokinase  diabetes  ejection_fraction  \\\n0    75.0        0                       582         0                 20   \n1    55.0        0                      7861         0                 38   \n2    65.0        0                       146         0                 20   \n3    50.0        1                       111         0                 20   \n4    65.0        1                       160         1                 20   \n..    ...      ...                       ...       ...                ...   \n294  62.0        0                        61         1                 38   \n295  55.0        0                      1820         0                 38   \n296  45.0        0                      2060         1                 60   \n297  45.0        0                      2413         0                 38   \n298  50.0        0                       196         0                 45   \n\n     high_blood_pressure  platelets  serum_creatinine  serum_sodium  sex  \\\n0                      1  265000.00               1.9           130    1   \n1                      0  263358.03               1.1           136    1   \n2                      0  162000.00               1.3           129    1   \n3                      0  210000.00               1.9           137    1   \n4                      0  327000.00               2.7           116    0   \n..                   ...        ...               ...           ...  ...   \n294                    1  155000.00               1.1           143    1   \n295                    0  270000.00               1.2           139    0   \n296                    0  742000.00               0.8           138    0   \n297                    0  140000.00               1.4           140    1   \n298                    0  395000.00               1.6           136    1   \n\n     smoking  time  DEATH_EVENT  \n0          0     4            1  \n1          0     6            1  \n2          1     7            1  \n3          0     7            1  \n4          0     8            1  \n..       ...   ...          ...  \n294        1   270            0  \n295        0   271            0  \n296        0   278            0  \n297        1   280            0  \n298        1   285            0  \n\n[299 rows x 13 columns]",
            "text/html": "<div>\n<style scoped>\n    .dataframe tbody tr th:only-of-type {\n        vertical-align: middle;\n    }\n\n    .dataframe tbody tr th {\n        vertical-align: top;\n    }\n\n    .dataframe thead th {\n        text-align: right;\n    }\n</style>\n<table border=\"1\" class=\"dataframe\">\n  <thead>\n    <tr style=\"text-align: right;\">\n      <th></th>\n      <th>age</th>\n      <th>anaemia</th>\n      <th>creatinine_phosphokinase</th>\n      <th>diabetes</th>\n      <th>ejection_fraction</th>\n      <th>high_blood_pressure</th>\n      <th>platelets</th>\n      <th>serum_creatinine</th>\n      <th>serum_sodium</th>\n      <th>sex</th>\n      <th>smoking</th>\n      <th>time</th>\n      <th>DEATH_EVENT</th>\n    </tr>\n  </thead>\n  <tbody>\n    <tr>\n      <th>0</th>\n      <td>75.0</td>\n      <td>0</td>\n      <td>582</td>\n      <td>0</td>\n      <td>20</td>\n      <td>1</td>\n      <td>265000.00</td>\n      <td>1.9</td>\n      <td>130</td>\n      <td>1</td>\n      <td>0</td>\n      <td>4</td>\n      <td>1</td>\n    </tr>\n    <tr>\n      <th>1</th>\n      <td>55.0</td>\n      <td>0</td>\n      <td>7861</td>\n      <td>0</td>\n      <td>38</td>\n      <td>0</td>\n      <td>263358.03</td>\n      <td>1.1</td>\n      <td>136</td>\n      <td>1</td>\n      <td>0</td>\n      <td>6</td>\n      <td>1</td>\n    </tr>\n    <tr>\n      <th>2</th>\n      <td>65.0</td>\n      <td>0</td>\n      <td>146</td>\n      <td>0</td>\n      <td>20</td>\n      <td>0</td>\n      <td>162000.00</td>\n      <td>1.3</td>\n      <td>129</td>\n      <td>1</td>\n      <td>1</td>\n      <td>7</td>\n      <td>1</td>\n    </tr>\n    <tr>\n      <th>3</th>\n      <td>50.0</td>\n      <td>1</td>\n      <td>111</td>\n      <td>0</td>\n      <td>20</td>\n      <td>0</td>\n      <td>210000.00</td>\n      <td>1.9</td>\n      <td>137</td>\n      <td>1</td>\n      <td>0</td>\n      <td>7</td>\n      <td>1</td>\n    </tr>\n    <tr>\n      <th>4</th>\n      <td>65.0</td>\n      <td>1</td>\n      <td>160</td>\n      <td>1</td>\n      <td>20</td>\n      <td>0</td>\n      <td>327000.00</td>\n      <td>2.7</td>\n      <td>116</td>\n      <td>0</td>\n      <td>0</td>\n      <td>8</td>\n      <td>1</td>\n    </tr>\n    <tr>\n      <th>...</th>\n      <td>...</td>\n      <td>...</td>\n      <td>...</td>\n      <td>...</td>\n      <td>...</td>\n      <td>...</td>\n      <td>...</td>\n      <td>...</td>\n      <td>...</td>\n      <td>...</td>\n      <td>...</td>\n      <td>...</td>\n      <td>...</td>\n    </tr>\n    <tr>\n      <th>294</th>\n      <td>62.0</td>\n      <td>0</td>\n      <td>61</td>\n      <td>1</td>\n      <td>38</td>\n      <td>1</td>\n      <td>155000.00</td>\n      <td>1.1</td>\n      <td>143</td>\n      <td>1</td>\n      <td>1</td>\n      <td>270</td>\n      <td>0</td>\n    </tr>\n    <tr>\n      <th>295</th>\n      <td>55.0</td>\n      <td>0</td>\n      <td>1820</td>\n      <td>0</td>\n      <td>38</td>\n      <td>0</td>\n      <td>270000.00</td>\n      <td>1.2</td>\n      <td>139</td>\n      <td>0</td>\n      <td>0</td>\n      <td>271</td>\n      <td>0</td>\n    </tr>\n    <tr>\n      <th>296</th>\n      <td>45.0</td>\n      <td>0</td>\n      <td>2060</td>\n      <td>1</td>\n      <td>60</td>\n      <td>0</td>\n      <td>742000.00</td>\n      <td>0.8</td>\n      <td>138</td>\n      <td>0</td>\n      <td>0</td>\n      <td>278</td>\n      <td>0</td>\n    </tr>\n    <tr>\n      <th>297</th>\n      <td>45.0</td>\n      <td>0</td>\n      <td>2413</td>\n      <td>0</td>\n      <td>38</td>\n      <td>0</td>\n      <td>140000.00</td>\n      <td>1.4</td>\n      <td>140</td>\n      <td>1</td>\n      <td>1</td>\n      <td>280</td>\n      <td>0</td>\n    </tr>\n    <tr>\n      <th>298</th>\n      <td>50.0</td>\n      <td>0</td>\n      <td>196</td>\n      <td>0</td>\n      <td>45</td>\n      <td>0</td>\n      <td>395000.00</td>\n      <td>1.6</td>\n      <td>136</td>\n      <td>1</td>\n      <td>1</td>\n      <td>285</td>\n      <td>0</td>\n    </tr>\n  </tbody>\n</table>\n<p>299 rows × 13 columns</p>\n</div>"
          },
          "metadata": {}
        }
      ],
      "execution_count": 4,
      "metadata": {
        "gather": {
          "logged": 1617408627003
        },
        "jupyter": {
          "outputs_hidden": false,
          "source_hidden": false
        },
        "nteract": {
          "transient": {
            "deleting": false
          }
        }
      }
    },
    {
      "cell_type": "markdown",
      "source": [
        "## AutoML Configuration\n",
        "\n",
        "In overview, the following were the main settings and parameters used for the AutoML model on the Azure platform:\n",
        "\n",
        "* n_cross_validations = 5. It sets the number of cross validations to carry out.\n",
        "* iterations = 30. It specifies how many algorithm and parameter combinations to test during the experiment.\n",
        "* max_concurrent_iterations = 4. It represents the maximum number of iterations that could be performed in parallel.\n",
        "* primary_metric = Accuracy. This is the metric which will be optimized for model training and selection.\n",
        "* target column = DEATH_EVENT. Whether the patient died from a heart failure or not.\n",
        "* task = classification. Based on the project's goal and the nature of the data, the task is clearly a classification one.\n",
        "* experiment_timeout_minutes = 30. It determines the maximum amount of time all iterations can take before the experiment terminates. "
      ],
      "metadata": {}
    },
    {
      "cell_type": "code",
      "source": [
        "automl_settings = {\n",
        "    \"experiment_timeout_minutes\":30,\n",
        "    \"task\":'classification',\n",
        "    \"primary_metric\":'accuracy',\n",
        "    \"training_data\":dataset,\n",
        "    \"label_column_name\":'DEATH_EVENT',\n",
        "    \"iterations\":30,\n",
        "    \"max_concurrent_iterations\": 4,\n",
        "    \"n_cross_validations\":5,\n",
        " }\n",
        "\n",
        "automl_config = AutoMLConfig(\n",
        "    compute_target=cpu_cluster,\n",
        "    **automl_settings)\n"
      ],
      "outputs": [],
      "execution_count": 5,
      "metadata": {
        "gather": {
          "logged": 1617408633228
        }
      }
    },
    {
      "cell_type": "code",
      "source": [
        "# Submit experiment\n",
        "remote_run=exp.submit(automl_config, show_output=True)\n"
      ],
      "outputs": [
        {
          "output_type": "stream",
          "name": "stdout",
          "text": [
            "Running on remote.\n",
            "No run_configuration provided, running on cpuabccluster with default configuration\n",
            "Running on remote compute: cpuabccluster\n",
            "Parent Run ID: AutoML_711a8f3f-3947-4a16-b260-488faaed90c0\n",
            "\n",
            "Current status: FeaturesGeneration. Generating features for the dataset.\n",
            "Current status: ModelSelection. Beginning model selection.\n",
            "\n",
            "****************************************************************************************************\n",
            "DATA GUARDRAILS: \n",
            "\n",
            "TYPE:         Class balancing detection\n",
            "STATUS:       PASSED\n",
            "DESCRIPTION:  Your inputs were analyzed, and all classes are balanced in your training data.\n",
            "              Learn more about imbalanced data: https://aka.ms/AutomatedMLImbalancedData\n",
            "\n",
            "****************************************************************************************************\n",
            "\n",
            "TYPE:         Missing feature values imputation\n",
            "STATUS:       PASSED\n",
            "DESCRIPTION:  No feature missing values were detected in the training data.\n",
            "              Learn more about missing value imputation: https://aka.ms/AutomatedMLFeaturization\n",
            "\n",
            "****************************************************************************************************\n",
            "\n",
            "TYPE:         High cardinality feature detection\n",
            "STATUS:       PASSED\n",
            "DESCRIPTION:  Your inputs were analyzed, and no high cardinality features were detected.\n",
            "              Learn more about high cardinality feature handling: https://aka.ms/AutomatedMLFeaturization\n",
            "\n",
            "****************************************************************************************************\n",
            "\n",
            "****************************************************************************************************\n",
            "ITERATION: The iteration being evaluated.\n",
            "PIPELINE: A summary description of the pipeline being evaluated.\n",
            "DURATION: Time taken for the current iteration.\n",
            "METRIC: The result of computing score on the fitted pipeline.\n",
            "BEST: The best observed score thus far.\n",
            "****************************************************************************************************\n",
            "\n",
            " ITERATION   PIPELINE                                       DURATION      METRIC      BEST\n",
            "         0   MaxAbsScaler LightGBM                          0:00:40       0.8060    0.8060\n",
            "         1   MaxAbsScaler XGBoostClassifier                 0:00:40       0.8259    0.8259\n",
            "         2   MinMaxScaler RandomForest                      0:00:42       0.8359    0.8359\n",
            "         3   MinMaxScaler RandomForest                      0:00:46       0.8360    0.8360\n",
            "         4   MinMaxScaler RandomForest                      0:00:42       0.8427    0.8427\n",
            "         7   MinMaxScaler SVM                               0:00:38       0.7124    0.8427\n",
            "         5   StandardScalerWrapper XGBoostClassifier        0:02:45       0.8292    0.8427\n",
            "         6   MinMaxScaler LogisticRegression                0:02:50       0.8160    0.8427\n",
            "         9   MaxAbsScaler GradientBoosting                  0:00:39       0.8327    0.8427\n",
            "        11   SparseNormalizer LightGBM                      0:00:39       0.7360    0.8427\n",
            "        10   SparseNormalizer XGBoostClassifier             0:00:51       0.8363    0.8427\n",
            "        12   StandardScalerWrapper RandomForest             0:00:53       0.8529    0.8529\n",
            "        14   RobustScaler ExtremeRandomTrees                0:00:46       0.8394    0.8529\n",
            "        13   StandardScalerWrapper LightGBM                 0:01:05       0.8160    0.8529\n",
            "         8   SparseNormalizer XGBoostClassifier             0:02:57       0.8463    0.8529\n",
            "        15   MinMaxScaler LightGBM                          0:01:12       0.8091    0.8529\n",
            "        16   RobustScaler ExtremeRandomTrees                0:00:43       0.8562    0.8562\n",
            "        17   StandardScalerWrapper LightGBM                 0:00:40       0.8025    0.8562\n",
            "        18   StandardScalerWrapper RandomForest             0:00:41       0.8293    0.8562\n",
            "        19   SparseNormalizer XGBoostClassifier             0:00:43       0.8427    0.8562\n",
            "        20   StandardScalerWrapper LightGBM                 0:00:40       0.8327    0.8562\n",
            "        21   StandardScalerWrapper LightGBM                 0:00:48       0.8327    0.8562\n",
            "        22   SparseNormalizer LightGBM                      0:00:42       0.8328    0.8562\n",
            "        23   SparseNormalizer XGBoostClassifier             0:00:44       0.8397    0.8562\n",
            "        24   MinMaxScaler LightGBM                          0:00:42       0.8194    0.8562\n",
            "        26   MaxAbsScaler LightGBM                          0:00:37       0.7959    0.8562\n",
            "        25   SparseNormalizer ExtremeRandomTrees            0:01:13       0.6791    0.8562\n",
            "        27   MaxAbsScaler ExtremeRandomTrees                0:00:42       0.8529    0.8562\n",
            "        28    VotingEnsemble                                0:01:24       0.8763    0.8763\n",
            "        29    StackEnsemble                                 0:01:27       0.8496    0.8763\n"
          ]
        }
      ],
      "execution_count": 6,
      "metadata": {
        "gather": {
          "logged": 1617409994943
        },
        "jupyter": {
          "outputs_hidden": false,
          "source_hidden": false
        },
        "nteract": {
          "transient": {
            "deleting": false
          }
        }
      }
    },
    {
      "cell_type": "markdown",
      "source": [
        "## Run Details"
      ],
      "metadata": {}
    },
    {
      "cell_type": "code",
      "source": [
        "RunDetails(remote_run).show()"
      ],
      "outputs": [
        {
          "output_type": "display_data",
          "data": {
            "text/plain": "_AutoMLWidget(widget_settings={'childWidgetDisplay': 'popup', 'send_telemetry': False, 'log_level': 'INFO', 's…",
            "application/vnd.jupyter.widget-view+json": {
              "version_major": 2,
              "version_minor": 0,
              "model_id": "18a90366de954cae90a9d3a75634604e"
            }
          },
          "metadata": {}
        },
        {
          "output_type": "display_data",
          "data": {
            "application/aml.mini.widget.v1": "{\"status\": \"Completed\", \"workbench_run_details_uri\": \"https://ml.azure.com/experiments/AutomatedML/runs/AutoML_711a8f3f-3947-4a16-b260-488faaed90c0?wsid=/subscriptions/d4ad7261-832d-46b2-b093-22156001df5b/resourcegroups/aml-quickstarts-141841/workspaces/quick-starts-ws-141841\", \"run_id\": \"AutoML_711a8f3f-3947-4a16-b260-488faaed90c0\", \"run_properties\": {\"run_id\": \"AutoML_711a8f3f-3947-4a16-b260-488faaed90c0\", \"created_utc\": \"2021-04-03T00:10:41.53774Z\", \"properties\": {\"num_iterations\": \"30\", \"training_type\": \"TrainFull\", \"acquisition_function\": \"EI\", \"primary_metric\": \"accuracy\", \"train_split\": \"0\", \"acquisition_parameter\": \"0\", \"num_cross_validation\": \"5\", \"target\": \"cpuabccluster\", \"AMLSettingsJsonString\": \"{\\\"path\\\":null,\\\"name\\\":\\\"AutomatedML\\\",\\\"subscription_id\\\":\\\"d4ad7261-832d-46b2-b093-22156001df5b\\\",\\\"resource_group\\\":\\\"aml-quickstarts-141841\\\",\\\"workspace_name\\\":\\\"quick-starts-ws-141841\\\",\\\"region\\\":\\\"southcentralus\\\",\\\"compute_target\\\":\\\"cpuabccluster\\\",\\\"spark_service\\\":null,\\\"azure_service\\\":\\\"remote\\\",\\\"many_models\\\":false,\\\"pipeline_fetch_max_batch_size\\\":1,\\\"enable_batch_run\\\":false,\\\"iterations\\\":30,\\\"primary_metric\\\":\\\"accuracy\\\",\\\"task_type\\\":\\\"classification\\\",\\\"data_script\\\":null,\\\"validation_size\\\":0.0,\\\"n_cross_validations\\\":5,\\\"y_min\\\":null,\\\"y_max\\\":null,\\\"num_classes\\\":null,\\\"featurization\\\":\\\"auto\\\",\\\"_ignore_package_version_incompatibilities\\\":false,\\\"is_timeseries\\\":false,\\\"max_cores_per_iteration\\\":1,\\\"max_concurrent_iterations\\\":4,\\\"iteration_timeout_minutes\\\":null,\\\"mem_in_mb\\\":null,\\\"enforce_time_on_windows\\\":false,\\\"experiment_timeout_minutes\\\":30,\\\"experiment_exit_score\\\":null,\\\"whitelist_models\\\":null,\\\"blacklist_algos\\\":[\\\"TensorFlowLinearClassifier\\\",\\\"TensorFlowDNN\\\"],\\\"supported_models\\\":[\\\"LinearSVM\\\",\\\"BernoulliNaiveBayes\\\",\\\"TensorFlowDNN\\\",\\\"SGD\\\",\\\"DecisionTree\\\",\\\"LightGBM\\\",\\\"KNN\\\",\\\"AveragedPerceptronClassifier\\\",\\\"TensorFlowLinearClassifier\\\",\\\"LogisticRegression\\\",\\\"RandomForest\\\",\\\"ExtremeRandomTrees\\\",\\\"SVM\\\",\\\"GradientBoosting\\\",\\\"MultinomialNaiveBayes\\\",\\\"XGBoostClassifier\\\"],\\\"private_models\\\":[],\\\"auto_blacklist\\\":true,\\\"blacklist_samples_reached\\\":false,\\\"exclude_nan_labels\\\":true,\\\"verbosity\\\":20,\\\"_debug_log\\\":\\\"azureml_automl.log\\\",\\\"show_warnings\\\":false,\\\"model_explainability\\\":true,\\\"service_url\\\":null,\\\"sdk_url\\\":null,\\\"sdk_packages\\\":null,\\\"enable_onnx_compatible_models\\\":false,\\\"enable_split_onnx_featurizer_estimator_models\\\":false,\\\"vm_type\\\":\\\"STANDARD_D12_V2\\\",\\\"telemetry_verbosity\\\":20,\\\"send_telemetry\\\":true,\\\"enable_dnn\\\":false,\\\"scenario\\\":\\\"SDK-1.13.0\\\",\\\"environment_label\\\":null,\\\"save_mlflow\\\":false,\\\"force_text_dnn\\\":false,\\\"enable_feature_sweeping\\\":true,\\\"enable_early_stopping\\\":false,\\\"early_stopping_n_iters\\\":10,\\\"metrics\\\":null,\\\"enable_metric_confidence\\\":false,\\\"enable_ensembling\\\":true,\\\"enable_stack_ensembling\\\":true,\\\"ensemble_iterations\\\":15,\\\"enable_tf\\\":false,\\\"enable_subsampling\\\":false,\\\"subsample_seed\\\":null,\\\"enable_nimbusml\\\":false,\\\"enable_streaming\\\":false,\\\"force_streaming\\\":false,\\\"track_child_runs\\\":true,\\\"allowed_private_models\\\":[],\\\"label_column_name\\\":\\\"DEATH_EVENT\\\",\\\"weight_column_name\\\":null,\\\"cv_split_column_names\\\":null,\\\"enable_local_managed\\\":false,\\\"_local_managed_run_id\\\":null,\\\"cost_mode\\\":1,\\\"lag_length\\\":0,\\\"metric_operation\\\":\\\"maximize\\\",\\\"preprocess\\\":true}\", \"DataPrepJsonString\": \"{\\\\\\\"training_data\\\\\\\": \\\\\\\"{\\\\\\\\\\\\\\\"blocks\\\\\\\\\\\\\\\": [{\\\\\\\\\\\\\\\"id\\\\\\\\\\\\\\\": \\\\\\\\\\\\\\\"e236d66d-e443-4b68-b581-d0c502982ac4\\\\\\\\\\\\\\\", \\\\\\\\\\\\\\\"type\\\\\\\\\\\\\\\": \\\\\\\\\\\\\\\"Microsoft.DPrep.GetDatastoreFilesBlock\\\\\\\\\\\\\\\", \\\\\\\\\\\\\\\"arguments\\\\\\\\\\\\\\\": {\\\\\\\\\\\\\\\"datastores\\\\\\\\\\\\\\\": [{\\\\\\\\\\\\\\\"datastoreName\\\\\\\\\\\\\\\": \\\\\\\\\\\\\\\"workspaceblobstore\\\\\\\\\\\\\\\", \\\\\\\\\\\\\\\"path\\\\\\\\\\\\\\\": \\\\\\\\\\\\\\\"UI/04-02-2021_094701_UTC/heart_failure_clinical_records_dataset.csv\\\\\\\\\\\\\\\", \\\\\\\\\\\\\\\"resourceGroup\\\\\\\\\\\\\\\": \\\\\\\\\\\\\\\"aml-quickstarts-141841\\\\\\\\\\\\\\\", \\\\\\\\\\\\\\\"subscription\\\\\\\\\\\\\\\": \\\\\\\\\\\\\\\"d4ad7261-832d-46b2-b093-22156001df5b\\\\\\\\\\\\\\\", \\\\\\\\\\\\\\\"workspaceName\\\\\\\\\\\\\\\": \\\\\\\\\\\\\\\"quick-starts-ws-141841\\\\\\\\\\\\\\\"}]}, \\\\\\\\\\\\\\\"localData\\\\\\\\\\\\\\\": {}, \\\\\\\\\\\\\\\"isEnabled\\\\\\\\\\\\\\\": true, \\\\\\\\\\\\\\\"name\\\\\\\\\\\\\\\": null, \\\\\\\\\\\\\\\"annotation\\\\\\\\\\\\\\\": null}, {\\\\\\\\\\\\\\\"id\\\\\\\\\\\\\\\": \\\\\\\\\\\\\\\"208d23d0-7ac9-444c-beee-40e119bd5e88\\\\\\\\\\\\\\\", \\\\\\\\\\\\\\\"type\\\\\\\\\\\\\\\": \\\\\\\\\\\\\\\"Microsoft.DPrep.ParseDelimitedBlock\\\\\\\\\\\\\\\", \\\\\\\\\\\\\\\"arguments\\\\\\\\\\\\\\\": {\\\\\\\\\\\\\\\"columnHeadersMode\\\\\\\\\\\\\\\": 1, \\\\\\\\\\\\\\\"fileEncoding\\\\\\\\\\\\\\\": 0, \\\\\\\\\\\\\\\"handleQuotedLineBreaks\\\\\\\\\\\\\\\": false, \\\\\\\\\\\\\\\"preview\\\\\\\\\\\\\\\": false, \\\\\\\\\\\\\\\"separator\\\\\\\\\\\\\\\": \\\\\\\\\\\\\\\",\\\\\\\\\\\\\\\", \\\\\\\\\\\\\\\"skipRows\\\\\\\\\\\\\\\": 0, \\\\\\\\\\\\\\\"skipRowsMode\\\\\\\\\\\\\\\": 0}, \\\\\\\\\\\\\\\"localData\\\\\\\\\\\\\\\": {}, \\\\\\\\\\\\\\\"isEnabled\\\\\\\\\\\\\\\": true, \\\\\\\\\\\\\\\"name\\\\\\\\\\\\\\\": null, \\\\\\\\\\\\\\\"annotation\\\\\\\\\\\\\\\": null}, {\\\\\\\\\\\\\\\"id\\\\\\\\\\\\\\\": \\\\\\\\\\\\\\\"1851cb79-2b7e-4966-b7f5-c4d0a534075a\\\\\\\\\\\\\\\", \\\\\\\\\\\\\\\"type\\\\\\\\\\\\\\\": \\\\\\\\\\\\\\\"Microsoft.DPrep.DropColumnsBlock\\\\\\\\\\\\\\\", \\\\\\\\\\\\\\\"arguments\\\\\\\\\\\\\\\": {\\\\\\\\\\\\\\\"columns\\\\\\\\\\\\\\\": {\\\\\\\\\\\\\\\"type\\\\\\\\\\\\\\\": 0, \\\\\\\\\\\\\\\"details\\\\\\\\\\\\\\\": {\\\\\\\\\\\\\\\"selectedColumns\\\\\\\\\\\\\\\": [\\\\\\\\\\\\\\\"Path\\\\\\\\\\\\\\\"]}}}, \\\\\\\\\\\\\\\"localData\\\\\\\\\\\\\\\": {}, \\\\\\\\\\\\\\\"isEnabled\\\\\\\\\\\\\\\": true, \\\\\\\\\\\\\\\"name\\\\\\\\\\\\\\\": null, \\\\\\\\\\\\\\\"annotation\\\\\\\\\\\\\\\": null}, {\\\\\\\\\\\\\\\"id\\\\\\\\\\\\\\\": \\\\\\\\\\\\\\\"b6277ff3-01fe-4c5e-a2a0-0276d3cb51ea\\\\\\\\\\\\\\\", \\\\\\\\\\\\\\\"type\\\\\\\\\\\\\\\": \\\\\\\\\\\\\\\"Microsoft.DPrep.SetColumnTypesBlock\\\\\\\\\\\\\\\", \\\\\\\\\\\\\\\"arguments\\\\\\\\\\\\\\\": {\\\\\\\\\\\\\\\"columnConversion\\\\\\\\\\\\\\\": [{\\\\\\\\\\\\\\\"column\\\\\\\\\\\\\\\": {\\\\\\\\\\\\\\\"type\\\\\\\\\\\\\\\": 2, \\\\\\\\\\\\\\\"details\\\\\\\\\\\\\\\": {\\\\\\\\\\\\\\\"selectedColumn\\\\\\\\\\\\\\\": \\\\\\\\\\\\\\\"Path\\\\\\\\\\\\\\\"}}, \\\\\\\\\\\\\\\"typeProperty\\\\\\\\\\\\\\\": 0}, {\\\\\\\\\\\\\\\"column\\\\\\\\\\\\\\\": {\\\\\\\\\\\\\\\"type\\\\\\\\\\\\\\\": 2, \\\\\\\\\\\\\\\"details\\\\\\\\\\\\\\\": {\\\\\\\\\\\\\\\"selectedColumn\\\\\\\\\\\\\\\": \\\\\\\\\\\\\\\"age\\\\\\\\\\\\\\\"}}, \\\\\\\\\\\\\\\"typeProperty\\\\\\\\\\\\\\\": 3}, {\\\\\\\\\\\\\\\"column\\\\\\\\\\\\\\\": {\\\\\\\\\\\\\\\"type\\\\\\\\\\\\\\\": 2, \\\\\\\\\\\\\\\"details\\\\\\\\\\\\\\\": {\\\\\\\\\\\\\\\"selectedColumn\\\\\\\\\\\\\\\": \\\\\\\\\\\\\\\"anaemia\\\\\\\\\\\\\\\"}}, \\\\\\\\\\\\\\\"typeProperty\\\\\\\\\\\\\\\": 2}, {\\\\\\\\\\\\\\\"column\\\\\\\\\\\\\\\": {\\\\\\\\\\\\\\\"type\\\\\\\\\\\\\\\": 2, \\\\\\\\\\\\\\\"details\\\\\\\\\\\\\\\": {\\\\\\\\\\\\\\\"selectedColumn\\\\\\\\\\\\\\\": \\\\\\\\\\\\\\\"creatinine_phosphokinase\\\\\\\\\\\\\\\"}}, \\\\\\\\\\\\\\\"typeProperty\\\\\\\\\\\\\\\": 2}, {\\\\\\\\\\\\\\\"column\\\\\\\\\\\\\\\": {\\\\\\\\\\\\\\\"type\\\\\\\\\\\\\\\": 2, \\\\\\\\\\\\\\\"details\\\\\\\\\\\\\\\": {\\\\\\\\\\\\\\\"selectedColumn\\\\\\\\\\\\\\\": \\\\\\\\\\\\\\\"diabetes\\\\\\\\\\\\\\\"}}, \\\\\\\\\\\\\\\"typeProperty\\\\\\\\\\\\\\\": 2}, {\\\\\\\\\\\\\\\"column\\\\\\\\\\\\\\\": {\\\\\\\\\\\\\\\"type\\\\\\\\\\\\\\\": 2, \\\\\\\\\\\\\\\"details\\\\\\\\\\\\\\\": {\\\\\\\\\\\\\\\"selectedColumn\\\\\\\\\\\\\\\": \\\\\\\\\\\\\\\"ejection_fraction\\\\\\\\\\\\\\\"}}, \\\\\\\\\\\\\\\"typeProperty\\\\\\\\\\\\\\\": 2}, {\\\\\\\\\\\\\\\"column\\\\\\\\\\\\\\\": {\\\\\\\\\\\\\\\"type\\\\\\\\\\\\\\\": 2, \\\\\\\\\\\\\\\"details\\\\\\\\\\\\\\\": {\\\\\\\\\\\\\\\"selectedColumn\\\\\\\\\\\\\\\": \\\\\\\\\\\\\\\"high_blood_pressure\\\\\\\\\\\\\\\"}}, \\\\\\\\\\\\\\\"typeProperty\\\\\\\\\\\\\\\": 2}, {\\\\\\\\\\\\\\\"column\\\\\\\\\\\\\\\": {\\\\\\\\\\\\\\\"type\\\\\\\\\\\\\\\": 2, \\\\\\\\\\\\\\\"details\\\\\\\\\\\\\\\": {\\\\\\\\\\\\\\\"selectedColumn\\\\\\\\\\\\\\\": \\\\\\\\\\\\\\\"platelets\\\\\\\\\\\\\\\"}}, \\\\\\\\\\\\\\\"typeProperty\\\\\\\\\\\\\\\": 3}, {\\\\\\\\\\\\\\\"column\\\\\\\\\\\\\\\": {\\\\\\\\\\\\\\\"type\\\\\\\\\\\\\\\": 2, \\\\\\\\\\\\\\\"details\\\\\\\\\\\\\\\": {\\\\\\\\\\\\\\\"selectedColumn\\\\\\\\\\\\\\\": \\\\\\\\\\\\\\\"serum_creatinine\\\\\\\\\\\\\\\"}}, \\\\\\\\\\\\\\\"typeProperty\\\\\\\\\\\\\\\": 3}, {\\\\\\\\\\\\\\\"column\\\\\\\\\\\\\\\": {\\\\\\\\\\\\\\\"type\\\\\\\\\\\\\\\": 2, \\\\\\\\\\\\\\\"details\\\\\\\\\\\\\\\": {\\\\\\\\\\\\\\\"selectedColumn\\\\\\\\\\\\\\\": \\\\\\\\\\\\\\\"serum_sodium\\\\\\\\\\\\\\\"}}, \\\\\\\\\\\\\\\"typeProperty\\\\\\\\\\\\\\\": 2}, {\\\\\\\\\\\\\\\"column\\\\\\\\\\\\\\\": {\\\\\\\\\\\\\\\"type\\\\\\\\\\\\\\\": 2, \\\\\\\\\\\\\\\"details\\\\\\\\\\\\\\\": {\\\\\\\\\\\\\\\"selectedColumn\\\\\\\\\\\\\\\": \\\\\\\\\\\\\\\"sex\\\\\\\\\\\\\\\"}}, \\\\\\\\\\\\\\\"typeProperty\\\\\\\\\\\\\\\": 2}, {\\\\\\\\\\\\\\\"column\\\\\\\\\\\\\\\": {\\\\\\\\\\\\\\\"type\\\\\\\\\\\\\\\": 2, \\\\\\\\\\\\\\\"details\\\\\\\\\\\\\\\": {\\\\\\\\\\\\\\\"selectedColumn\\\\\\\\\\\\\\\": \\\\\\\\\\\\\\\"smoking\\\\\\\\\\\\\\\"}}, \\\\\\\\\\\\\\\"typeProperty\\\\\\\\\\\\\\\": 2}, {\\\\\\\\\\\\\\\"column\\\\\\\\\\\\\\\": {\\\\\\\\\\\\\\\"type\\\\\\\\\\\\\\\": 2, \\\\\\\\\\\\\\\"details\\\\\\\\\\\\\\\": {\\\\\\\\\\\\\\\"selectedColumn\\\\\\\\\\\\\\\": \\\\\\\\\\\\\\\"time\\\\\\\\\\\\\\\"}}, \\\\\\\\\\\\\\\"typeProperty\\\\\\\\\\\\\\\": 2}, {\\\\\\\\\\\\\\\"column\\\\\\\\\\\\\\\": {\\\\\\\\\\\\\\\"type\\\\\\\\\\\\\\\": 2, \\\\\\\\\\\\\\\"details\\\\\\\\\\\\\\\": {\\\\\\\\\\\\\\\"selectedColumn\\\\\\\\\\\\\\\": \\\\\\\\\\\\\\\"DEATH_EVENT\\\\\\\\\\\\\\\"}}, \\\\\\\\\\\\\\\"typeProperty\\\\\\\\\\\\\\\": 2}]}, \\\\\\\\\\\\\\\"localData\\\\\\\\\\\\\\\": {}, \\\\\\\\\\\\\\\"isEnabled\\\\\\\\\\\\\\\": true, \\\\\\\\\\\\\\\"name\\\\\\\\\\\\\\\": null, \\\\\\\\\\\\\\\"annotation\\\\\\\\\\\\\\\": null}], \\\\\\\\\\\\\\\"inspectors\\\\\\\\\\\\\\\": [], \\\\\\\\\\\\\\\"meta\\\\\\\\\\\\\\\": {\\\\\\\\\\\\\\\"savedDatasetId\\\\\\\\\\\\\\\": \\\\\\\\\\\\\\\"95e81adc-ae06-4eac-ae63-7e344a8aab65\\\\\\\\\\\\\\\", \\\\\\\\\\\\\\\"datasetType\\\\\\\\\\\\\\\": \\\\\\\\\\\\\\\"tabular\\\\\\\\\\\\\\\", \\\\\\\\\\\\\\\"subscriptionId\\\\\\\\\\\\\\\": \\\\\\\\\\\\\\\"d4ad7261-832d-46b2-b093-22156001df5b\\\\\\\\\\\\\\\", \\\\\\\\\\\\\\\"workspaceId\\\\\\\\\\\\\\\": \\\\\\\\\\\\\\\"9d55405e-b3d2-42ab-b255-9fcb10be3e20\\\\\\\\\\\\\\\", \\\\\\\\\\\\\\\"workspaceLocation\\\\\\\\\\\\\\\": \\\\\\\\\\\\\\\"southcentralus\\\\\\\\\\\\\\\"}}\\\\\\\", \\\\\\\"activities\\\\\\\": 0}\", \"EnableSubsampling\": \"False\", \"runTemplate\": \"AutoML\", \"azureml.runsource\": \"automl\", \"display_task_type\": \"classification\", \"dependencies_versions\": \"{\\\"azureml-widgets\\\": \\\"1.24.0\\\", \\\"azureml-train\\\": \\\"1.24.0\\\", \\\"azureml-train-restclients-hyperdrive\\\": \\\"1.24.0\\\", \\\"azureml-train-core\\\": \\\"1.24.0\\\", \\\"azureml-train-automl\\\": \\\"1.24.0\\\", \\\"azureml-train-automl-runtime\\\": \\\"1.24.0\\\", \\\"azureml-train-automl-client\\\": \\\"1.24.0\\\", \\\"azureml-tensorboard\\\": \\\"1.24.0\\\", \\\"azureml-telemetry\\\": \\\"1.24.0\\\", \\\"azureml-sdk\\\": \\\"1.24.0\\\", \\\"azureml-samples\\\": \\\"0+unknown\\\", \\\"azureml-pipeline\\\": \\\"1.24.0\\\", \\\"azureml-pipeline-steps\\\": \\\"1.24.0\\\", \\\"azureml-pipeline-core\\\": \\\"1.24.0\\\", \\\"azureml-opendatasets\\\": \\\"1.24.0\\\", \\\"azureml-model-management-sdk\\\": \\\"1.0.1b6.post1\\\", \\\"azureml-mlflow\\\": \\\"1.24.0\\\", \\\"azureml-interpret\\\": \\\"1.24.0\\\", \\\"azureml-explain-model\\\": \\\"1.24.0\\\", \\\"azureml-defaults\\\": \\\"1.24.0\\\", \\\"azureml-dataset-runtime\\\": \\\"1.24.0\\\", \\\"azureml-dataprep\\\": \\\"2.11.1\\\", \\\"azureml-dataprep-rslex\\\": \\\"1.9.0\\\", \\\"azureml-dataprep-native\\\": \\\"30.0.0\\\", \\\"azureml-datadrift\\\": \\\"1.24.0\\\", \\\"azureml-core\\\": \\\"1.24.0\\\", \\\"azureml-contrib-services\\\": \\\"1.24.0\\\", \\\"azureml-contrib-server\\\": \\\"1.24.0\\\", \\\"azureml-contrib-reinforcementlearning\\\": \\\"1.24.0\\\", \\\"azureml-contrib-pipeline-steps\\\": \\\"1.24.0\\\", \\\"azureml-contrib-notebook\\\": \\\"1.24.0\\\", \\\"azureml-contrib-gbdt\\\": \\\"1.24.0\\\", \\\"azureml-contrib-fairness\\\": \\\"1.24.0\\\", \\\"azureml-contrib-dataset\\\": \\\"1.24.0\\\", \\\"azureml-cli-common\\\": \\\"1.24.0\\\", \\\"azureml-automl-runtime\\\": \\\"1.24.0\\\", \\\"azureml-automl-dnn-nlp\\\": \\\"1.24.0\\\", \\\"azureml-automl-core\\\": \\\"1.24.0\\\", \\\"azureml-accel-models\\\": \\\"1.24.0\\\"}\", \"_aml_system_scenario_identification\": \"Remote.Parent\", \"ClientType\": \"SDK\", \"environment_cpu_name\": \"AzureML-AutoML\", \"environment_cpu_label\": \"prod\", \"environment_gpu_name\": \"AzureML-AutoML-GPU\", \"environment_gpu_label\": \"prod\", \"root_attribution\": \"automl\", \"attribution\": \"AutoML\", \"Orchestrator\": \"AutoML\", \"CancelUri\": \"https://southcentralus.experiments.azureml.net/jasmine/v1.0/subscriptions/d4ad7261-832d-46b2-b093-22156001df5b/resourceGroups/aml-quickstarts-141841/providers/Microsoft.MachineLearningServices/workspaces/quick-starts-ws-141841/experimentids/4f65b322-5df7-46f3-8b93-032aefe6b748/cancel/AutoML_711a8f3f-3947-4a16-b260-488faaed90c0\", \"ClientSdkVersion\": \"1.24.0\", \"snapshotId\": \"00000000-0000-0000-0000-000000000000\", \"SetupRunId\": \"AutoML_711a8f3f-3947-4a16-b260-488faaed90c0_setup\", \"SetupRunContainerId\": \"dcid.AutoML_711a8f3f-3947-4a16-b260-488faaed90c0_setup\", \"FeaturizationRunJsonPath\": \"featurizer_container.json\", \"FeaturizationRunId\": \"AutoML_711a8f3f-3947-4a16-b260-488faaed90c0_featurize\", \"ProblemInfoJsonString\": \"{\\\"dataset_num_categorical\\\": 0, \\\"is_sparse\\\": false, \\\"subsampling\\\": false, \\\"dataset_classes\\\": 2, \\\"dataset_features\\\": 12, \\\"dataset_samples\\\": 299, \\\"single_frequency_class_detected\\\": false}\", \"ModelExplainRunId\": \"AutoML_711a8f3f-3947-4a16-b260-488faaed90c0_ModelExplain\"}, \"tags\": {\"model_explain_run\": \"best_run\", \"_aml_system_azureml.automlComponent\": \"AutoML\", \"pipeline_id\": \"\", \"score\": \"\", \"predicted_cost\": \"\", \"fit_time\": \"\", \"training_percent\": \"\", \"iteration\": \"\", \"run_preprocessor\": \"\", \"run_algorithm\": \"\", \"dynamic_whitelisting_iterations\": \"<25>;\", \"automl_best_child_run_id\": \"AutoML_711a8f3f-3947-4a16-b260-488faaed90c0_28\", \"model_explain_best_run_child_id\": \"AutoML_711a8f3f-3947-4a16-b260-488faaed90c0_28\"}, \"end_time_utc\": \"2021-04-03T00:32:52.598379Z\", \"status\": \"Completed\", \"log_files\": {}, \"log_groups\": [], \"run_duration\": \"0:22:11\", \"run_number\": \"38\", \"run_queued_details\": {\"status\": \"Completed\", \"details\": null}}, \"child_runs\": [{\"run_id\": \"AutoML_711a8f3f-3947-4a16-b260-488faaed90c0_0\", \"run_number\": 42, \"metric\": null, \"status\": \"Completed\", \"run_type\": \"azureml.scriptrun\", \"training_percent\": \"100\", \"start_time\": \"2021-04-03T00:18:40.730997Z\", \"end_time\": \"2021-04-03T00:19:20.626907Z\", \"created_time\": \"2021-04-03T00:18:27.841461Z\", \"created_time_dt\": \"2021-04-03T00:18:27.841461Z\", \"duration\": \"0:00:52\", \"iteration\": \"0\", \"goal\": \"accuracy_max\", \"run_name\": \"MaxAbsScaler, LightGBM\", \"run_properties\": \"copy=True\", \"primary_metric\": 0.8059887, \"best_metric\": 0.8059887}, {\"run_id\": \"AutoML_711a8f3f-3947-4a16-b260-488faaed90c0_3\", \"run_number\": 43, \"metric\": null, \"status\": \"Completed\", \"run_type\": \"azureml.scriptrun\", \"training_percent\": \"100\", \"start_time\": \"2021-04-03T00:21:27.350841Z\", \"end_time\": \"2021-04-03T00:22:13.538977Z\", \"created_time\": \"2021-04-03T00:18:27.964446Z\", \"created_time_dt\": \"2021-04-03T00:18:27.964446Z\", \"duration\": \"0:03:45\", \"iteration\": \"3\", \"goal\": \"accuracy_max\", \"run_name\": \"MinMaxScaler, RandomForest\", \"run_properties\": \"copy=True, feature_range=(0, 1\", \"primary_metric\": 0.8359887, \"best_metric\": 0.8359887}, {\"run_id\": \"AutoML_711a8f3f-3947-4a16-b260-488faaed90c0_2\", \"run_number\": 44, \"metric\": null, \"status\": \"Completed\", \"run_type\": \"azureml.scriptrun\", \"training_percent\": \"100\", \"start_time\": \"2021-04-03T00:20:28.725853Z\", \"end_time\": \"2021-04-03T00:21:10.667224Z\", \"created_time\": \"2021-04-03T00:18:27.96621Z\", \"created_time_dt\": \"2021-04-03T00:18:27.96621Z\", \"duration\": \"0:02:42\", \"iteration\": \"2\", \"goal\": \"accuracy_max\", \"run_name\": \"MinMaxScaler, RandomForest\", \"run_properties\": \"copy=True, feature_range=(0, 1\", \"primary_metric\": 0.8359322, \"best_metric\": 0.8359322}, {\"run_id\": \"AutoML_711a8f3f-3947-4a16-b260-488faaed90c0_1\", \"run_number\": 45, \"metric\": null, \"status\": \"Completed\", \"run_type\": \"azureml.scriptrun\", \"training_percent\": \"100\", \"start_time\": \"2021-04-03T00:19:35.485589Z\", \"end_time\": \"2021-04-03T00:20:15.814089Z\", \"created_time\": \"2021-04-03T00:18:28.097608Z\", \"created_time_dt\": \"2021-04-03T00:18:28.097608Z\", \"duration\": \"0:01:47\", \"iteration\": \"1\", \"goal\": \"accuracy_max\", \"run_name\": \"MaxAbsScaler, XGBoostClassifier\", \"run_properties\": \"copy=True\", \"primary_metric\": 0.8259322, \"best_metric\": 0.8259322}, {\"run_id\": \"AutoML_711a8f3f-3947-4a16-b260-488faaed90c0_4\", \"run_number\": 46, \"metric\": null, \"status\": \"Completed\", \"run_type\": \"azureml.scriptrun\", \"training_percent\": \"100\", \"start_time\": \"2021-04-03T00:22:30.900339Z\", \"end_time\": \"2021-04-03T00:23:12.864761Z\", \"created_time\": \"2021-04-03T00:19:23.613986Z\", \"created_time_dt\": \"2021-04-03T00:19:23.613986Z\", \"duration\": \"0:03:49\", \"iteration\": \"4\", \"goal\": \"accuracy_max\", \"run_name\": \"MinMaxScaler, RandomForest\", \"run_properties\": \"copy=True, feature_range=(0, 1\", \"primary_metric\": 0.84265537, \"best_metric\": 0.84265537}, {\"run_id\": \"AutoML_711a8f3f-3947-4a16-b260-488faaed90c0_5\", \"run_number\": 47, \"metric\": null, \"status\": \"Completed\", \"run_type\": \"azureml.scriptrun\", \"training_percent\": \"100\", \"start_time\": \"2021-04-03T00:22:39.555966Z\", \"end_time\": \"2021-04-03T00:25:25.04033Z\", \"created_time\": \"2021-04-03T00:20:18.414443Z\", \"created_time_dt\": \"2021-04-03T00:20:18.414443Z\", \"duration\": \"0:05:06\", \"iteration\": \"5\", \"goal\": \"accuracy_max\", \"run_name\": \"StandardScalerWrapper, XGBoostClassifier\", \"run_properties\": \"<azureml.automl.runtime.shared.model_wrappers.StandardScalerWrapper object at 0x7f1e7ca9ea58\", \"primary_metric\": 0.82920904, \"best_metric\": 0.84265537}, {\"run_id\": \"AutoML_711a8f3f-3947-4a16-b260-488faaed90c0_6\", \"run_number\": 48, \"metric\": null, \"status\": \"Completed\", \"run_type\": \"azureml.scriptrun\", \"training_percent\": \"100\", \"start_time\": \"2021-04-03T00:22:43.902179Z\", \"end_time\": \"2021-04-03T00:25:34.352004Z\", \"created_time\": \"2021-04-03T00:21:14.234666Z\", \"created_time_dt\": \"2021-04-03T00:21:14.234666Z\", \"duration\": \"0:04:20\", \"iteration\": \"6\", \"goal\": \"accuracy_max\", \"run_name\": \"MinMaxScaler, LogisticRegression\", \"run_properties\": \"copy=True, feature_range=(0, 1\", \"primary_metric\": 0.8160452, \"best_metric\": 0.84265537}, {\"run_id\": \"AutoML_711a8f3f-3947-4a16-b260-488faaed90c0_7\", \"run_number\": 49, \"metric\": null, \"status\": \"Completed\", \"run_type\": \"azureml.scriptrun\", \"training_percent\": \"100\", \"start_time\": \"2021-04-03T00:23:26.209903Z\", \"end_time\": \"2021-04-03T00:24:03.86504Z\", \"created_time\": \"2021-04-03T00:22:16.455365Z\", \"created_time_dt\": \"2021-04-03T00:22:16.455365Z\", \"duration\": \"0:01:47\", \"iteration\": \"7\", \"goal\": \"accuracy_max\", \"run_name\": \"MinMaxScaler, SVM\", \"run_properties\": \"copy=True, feature_range=(0, 1\", \"primary_metric\": 0.71242938, \"best_metric\": 0.84265537}, {\"run_id\": \"AutoML_711a8f3f-3947-4a16-b260-488faaed90c0_8\", \"run_number\": 50, \"metric\": null, \"status\": \"Completed\", \"run_type\": \"azureml.scriptrun\", \"training_percent\": \"100\", \"start_time\": \"2021-04-03T00:24:41.283492Z\", \"end_time\": \"2021-04-03T00:27:38.626894Z\", \"created_time\": \"2021-04-03T00:23:15.339091Z\", \"created_time_dt\": \"2021-04-03T00:23:15.339091Z\", \"duration\": \"0:04:23\", \"iteration\": \"8\", \"goal\": \"accuracy_max\", \"run_name\": \"SparseNormalizer, XGBoostClassifier\", \"run_properties\": \"<azureml.automl.runtime.shared.model_wrappers.SparseNormalizer object at 0x7ff1cc914ef0\", \"primary_metric\": 0.84627119, \"best_metric\": 0.84627119}, {\"run_id\": \"AutoML_711a8f3f-3947-4a16-b260-488faaed90c0_9\", \"run_number\": 51, \"metric\": null, \"status\": \"Completed\", \"run_type\": \"azureml.scriptrun\", \"training_percent\": \"100\", \"start_time\": \"2021-04-03T00:24:50.151646Z\", \"end_time\": \"2021-04-03T00:25:29.230067Z\", \"created_time\": \"2021-04-03T00:24:06.772247Z\", \"created_time_dt\": \"2021-04-03T00:24:06.772247Z\", \"duration\": \"0:01:22\", \"iteration\": \"9\", \"goal\": \"accuracy_max\", \"run_name\": \"MaxAbsScaler, GradientBoosting\", \"run_properties\": \"copy=True\", \"primary_metric\": 0.83271186, \"best_metric\": 0.84627119}, {\"run_id\": \"AutoML_711a8f3f-3947-4a16-b260-488faaed90c0_10\", \"run_number\": 52, \"metric\": null, \"status\": \"Completed\", \"run_type\": \"azureml.scriptrun\", \"training_percent\": \"100\", \"start_time\": \"2021-04-03T00:25:39.164271Z\", \"end_time\": \"2021-04-03T00:26:30.336705Z\", \"created_time\": \"2021-04-03T00:25:26.904429Z\", \"created_time_dt\": \"2021-04-03T00:25:26.904429Z\", \"duration\": \"0:01:03\", \"iteration\": \"10\", \"goal\": \"accuracy_max\", \"run_name\": \"SparseNormalizer, XGBoostClassifier\", \"run_properties\": \"<azureml.automl.runtime.shared.model_wrappers.SparseNormalizer object at 0x7ff00a5c9ef0\", \"primary_metric\": 0.83627119, \"best_metric\": 0.84627119}, {\"run_id\": \"AutoML_711a8f3f-3947-4a16-b260-488faaed90c0_11\", \"run_number\": 53, \"metric\": null, \"status\": \"Completed\", \"run_type\": \"azureml.scriptrun\", \"training_percent\": \"100\", \"start_time\": \"2021-04-03T00:25:44.894521Z\", \"end_time\": \"2021-04-03T00:26:24.385663Z\", \"created_time\": \"2021-04-03T00:25:31.974731Z\", \"created_time_dt\": \"2021-04-03T00:25:31.974731Z\", \"duration\": \"0:00:52\", \"iteration\": \"11\", \"goal\": \"accuracy_max\", \"run_name\": \"SparseNormalizer, LightGBM\", \"run_properties\": \"<azureml.automl.runtime.shared.model_wrappers.SparseNormalizer object at 0x7fd49da210f0\", \"primary_metric\": 0.7360452, \"best_metric\": 0.84627119}, {\"run_id\": \"AutoML_711a8f3f-3947-4a16-b260-488faaed90c0_12\", \"run_number\": 54, \"metric\": null, \"status\": \"Completed\", \"run_type\": \"azureml.scriptrun\", \"training_percent\": \"100\", \"start_time\": \"2021-04-03T00:25:47.549705Z\", \"end_time\": \"2021-04-03T00:26:40.409993Z\", \"created_time\": \"2021-04-03T00:25:37.14776Z\", \"created_time_dt\": \"2021-04-03T00:25:37.14776Z\", \"duration\": \"0:01:03\", \"iteration\": \"12\", \"goal\": \"accuracy_max\", \"run_name\": \"StandardScalerWrapper, RandomForest\", \"run_properties\": \"<azureml.automl.runtime.shared.model_wrappers.StandardScalerWrapper object at 0x7f1364312358\", \"primary_metric\": 0.85293785, \"best_metric\": 0.85293785}, {\"run_id\": \"AutoML_711a8f3f-3947-4a16-b260-488faaed90c0_13\", \"run_number\": 55, \"metric\": null, \"status\": \"Completed\", \"run_type\": \"azureml.scriptrun\", \"training_percent\": \"100\", \"start_time\": \"2021-04-03T00:26:41.611431Z\", \"end_time\": \"2021-04-03T00:27:46.682668Z\", \"created_time\": \"2021-04-03T00:26:26.594156Z\", \"created_time_dt\": \"2021-04-03T00:26:26.594156Z\", \"duration\": \"0:01:20\", \"iteration\": \"13\", \"goal\": \"accuracy_max\", \"run_name\": \"StandardScalerWrapper, LightGBM\", \"run_properties\": \"<azureml.automl.runtime.shared.model_wrappers.StandardScalerWrapper object at 0x7f32c42cadd8\", \"primary_metric\": 0.8160452, \"best_metric\": 0.85293785}, {\"run_id\": \"AutoML_711a8f3f-3947-4a16-b260-488faaed90c0_14\", \"run_number\": 56, \"metric\": null, \"status\": \"Completed\", \"run_type\": \"azureml.scriptrun\", \"training_percent\": \"100\", \"start_time\": \"2021-04-03T00:26:44.585032Z\", \"end_time\": \"2021-04-03T00:27:30.705593Z\", \"created_time\": \"2021-04-03T00:26:32.312608Z\", \"created_time_dt\": \"2021-04-03T00:26:32.312608Z\", \"duration\": \"0:00:58\", \"iteration\": \"14\", \"goal\": \"accuracy_max\", \"run_name\": \"RobustScaler, ExtremeRandomTrees\", \"run_properties\": \"copy=True, quantile_range=[25, 75], with_centering=True,\\n             with_scaling=False\", \"primary_metric\": 0.83943503, \"best_metric\": 0.85293785}, {\"run_id\": \"AutoML_711a8f3f-3947-4a16-b260-488faaed90c0_15\", \"run_number\": 57, \"metric\": null, \"status\": \"Completed\", \"run_type\": \"azureml.scriptrun\", \"training_percent\": \"100\", \"start_time\": \"2021-04-03T00:26:57.768848Z\", \"end_time\": \"2021-04-03T00:28:09.277244Z\", \"created_time\": \"2021-04-03T00:26:42.389116Z\", \"created_time_dt\": \"2021-04-03T00:26:42.389116Z\", \"duration\": \"0:01:26\", \"iteration\": \"15\", \"goal\": \"accuracy_max\", \"run_name\": \"MinMaxScaler, LightGBM\", \"run_properties\": \"copy=True, feature_range=(0, 1\", \"primary_metric\": 0.80909605, \"best_metric\": 0.85293785}, {\"run_id\": \"AutoML_711a8f3f-3947-4a16-b260-488faaed90c0_16\", \"run_number\": 58, \"metric\": null, \"status\": \"Completed\", \"run_type\": \"azureml.scriptrun\", \"training_percent\": \"100\", \"start_time\": \"2021-04-03T00:27:46.108429Z\", \"end_time\": \"2021-04-03T00:28:28.886108Z\", \"created_time\": \"2021-04-03T00:27:32.821284Z\", \"created_time_dt\": \"2021-04-03T00:27:32.821284Z\", \"duration\": \"0:00:56\", \"iteration\": \"16\", \"goal\": \"accuracy_max\", \"run_name\": \"RobustScaler, ExtremeRandomTrees\", \"run_properties\": \"copy=True, quantile_range=[25, 75], with_centering=True,\\n             with_scaling=False\", \"primary_metric\": 0.85621469, \"best_metric\": 0.85621469}, {\"run_id\": \"AutoML_711a8f3f-3947-4a16-b260-488faaed90c0_17\", \"run_number\": 59, \"metric\": null, \"status\": \"Completed\", \"run_type\": \"azureml.scriptrun\", \"training_percent\": \"100\", \"start_time\": \"2021-04-03T00:27:52.42647Z\", \"end_time\": \"2021-04-03T00:28:32.63987Z\", \"created_time\": \"2021-04-03T00:27:40.337288Z\", \"created_time_dt\": \"2021-04-03T00:27:40.337288Z\", \"duration\": \"0:00:52\", \"iteration\": \"17\", \"goal\": \"accuracy_max\", \"run_name\": \"StandardScalerWrapper, LightGBM\", \"run_properties\": \"<azureml.automl.runtime.shared.model_wrappers.StandardScalerWrapper object at 0x7fbc05946860\", \"primary_metric\": 0.80254237, \"best_metric\": 0.85621469}, {\"run_id\": \"AutoML_711a8f3f-3947-4a16-b260-488faaed90c0_18\", \"run_number\": 60, \"metric\": null, \"status\": \"Completed\", \"run_type\": \"azureml.scriptrun\", \"training_percent\": \"100\", \"start_time\": \"2021-04-03T00:28:01.890576Z\", \"end_time\": \"2021-04-03T00:28:42.445604Z\", \"created_time\": \"2021-04-03T00:27:48.786648Z\", \"created_time_dt\": \"2021-04-03T00:27:48.786648Z\", \"duration\": \"0:00:53\", \"iteration\": \"18\", \"goal\": \"accuracy_max\", \"run_name\": \"StandardScalerWrapper, RandomForest\", \"run_properties\": \"<azureml.automl.runtime.shared.model_wrappers.StandardScalerWrapper object at 0x7f33c3aa88d0\", \"primary_metric\": 0.82932203, \"best_metric\": 0.85621469}, {\"run_id\": \"AutoML_711a8f3f-3947-4a16-b260-488faaed90c0_19\", \"run_number\": 61, \"metric\": null, \"status\": \"Completed\", \"run_type\": \"azureml.scriptrun\", \"training_percent\": \"100\", \"start_time\": \"2021-04-03T00:28:25.215253Z\", \"end_time\": \"2021-04-03T00:29:08.020817Z\", \"created_time\": \"2021-04-03T00:28:11.063949Z\", \"created_time_dt\": \"2021-04-03T00:28:11.063949Z\", \"duration\": \"0:00:56\", \"iteration\": \"19\", \"goal\": \"accuracy_max\", \"run_name\": \"SparseNormalizer, XGBoostClassifier\", \"run_properties\": \"<azureml.automl.runtime.shared.model_wrappers.SparseNormalizer object at 0x7f06651d8a90\", \"primary_metric\": 0.84271186, \"best_metric\": 0.85621469}, {\"run_id\": \"AutoML_711a8f3f-3947-4a16-b260-488faaed90c0_20\", \"run_number\": 62, \"metric\": null, \"status\": \"Completed\", \"run_type\": \"azureml.scriptrun\", \"training_percent\": \"100\", \"start_time\": \"2021-04-03T00:28:43.986142Z\", \"end_time\": \"2021-04-03T00:29:23.957038Z\", \"created_time\": \"2021-04-03T00:28:30.649346Z\", \"created_time_dt\": \"2021-04-03T00:28:30.649346Z\", \"duration\": \"0:00:53\", \"iteration\": \"20\", \"goal\": \"accuracy_max\", \"run_name\": \"StandardScalerWrapper, LightGBM\", \"run_properties\": \"<azureml.automl.runtime.shared.model_wrappers.StandardScalerWrapper object at 0x7faee21e99b0\", \"primary_metric\": 0.83265537, \"best_metric\": 0.85621469}, {\"run_id\": \"AutoML_711a8f3f-3947-4a16-b260-488faaed90c0_21\", \"run_number\": 63, \"metric\": null, \"status\": \"Completed\", \"run_type\": \"azureml.scriptrun\", \"training_percent\": \"100\", \"start_time\": \"2021-04-03T00:28:47.372031Z\", \"end_time\": \"2021-04-03T00:29:35.644691Z\", \"created_time\": \"2021-04-03T00:28:34.928567Z\", \"created_time_dt\": \"2021-04-03T00:28:34.928567Z\", \"duration\": \"0:01:00\", \"iteration\": \"21\", \"goal\": \"accuracy_max\", \"run_name\": \"StandardScalerWrapper, LightGBM\", \"run_properties\": \"<azureml.automl.runtime.shared.model_wrappers.StandardScalerWrapper object at 0x7f2a6c2fc438\", \"primary_metric\": 0.83265537, \"best_metric\": 0.85621469}, {\"run_id\": \"AutoML_711a8f3f-3947-4a16-b260-488faaed90c0_22\", \"run_number\": 64, \"metric\": null, \"status\": \"Completed\", \"run_type\": \"azureml.scriptrun\", \"training_percent\": \"100\", \"start_time\": \"2021-04-03T00:28:56.719079Z\", \"end_time\": \"2021-04-03T00:29:38.870391Z\", \"created_time\": \"2021-04-03T00:28:44.461256Z\", \"created_time_dt\": \"2021-04-03T00:28:44.461256Z\", \"duration\": \"0:00:54\", \"iteration\": \"22\", \"goal\": \"accuracy_max\", \"run_name\": \"SparseNormalizer, LightGBM\", \"run_properties\": \"<azureml.automl.runtime.shared.model_wrappers.SparseNormalizer object at 0x7f6ea6b36550\", \"primary_metric\": 0.83282486, \"best_metric\": 0.85621469}, {\"run_id\": \"AutoML_711a8f3f-3947-4a16-b260-488faaed90c0_23\", \"run_number\": 65, \"metric\": null, \"status\": \"Completed\", \"run_type\": \"azureml.scriptrun\", \"training_percent\": \"100\", \"start_time\": \"2021-04-03T00:29:23.054062Z\", \"end_time\": \"2021-04-03T00:30:06.706653Z\", \"created_time\": \"2021-04-03T00:29:09.779546Z\", \"created_time_dt\": \"2021-04-03T00:29:09.779546Z\", \"duration\": \"0:00:56\", \"iteration\": \"23\", \"goal\": \"accuracy_max\", \"run_name\": \"SparseNormalizer, XGBoostClassifier\", \"run_properties\": \"<azureml.automl.runtime.shared.model_wrappers.SparseNormalizer object at 0x7fc3b47065f8\", \"primary_metric\": 0.83966102, \"best_metric\": 0.85621469}, {\"run_id\": \"AutoML_711a8f3f-3947-4a16-b260-488faaed90c0_24\", \"run_number\": 66, \"metric\": null, \"status\": \"Completed\", \"run_type\": \"azureml.scriptrun\", \"training_percent\": \"100\", \"start_time\": \"2021-04-03T00:29:37.56437Z\", \"end_time\": \"2021-04-03T00:30:19.858206Z\", \"created_time\": \"2021-04-03T00:29:27.437782Z\", \"created_time_dt\": \"2021-04-03T00:29:27.437782Z\", \"duration\": \"0:00:52\", \"iteration\": \"24\", \"goal\": \"accuracy_max\", \"run_name\": \"MinMaxScaler, LightGBM\", \"run_properties\": \"copy=True, feature_range=(0, 1\", \"primary_metric\": 0.81943503, \"best_metric\": 0.85621469}, {\"run_id\": \"AutoML_711a8f3f-3947-4a16-b260-488faaed90c0_25\", \"run_number\": 67, \"metric\": null, \"status\": \"Completed\", \"run_type\": \"azureml.scriptrun\", \"training_percent\": \"100\", \"start_time\": \"2021-04-03T00:29:51.817929Z\", \"end_time\": \"2021-04-03T00:31:05.12899Z\", \"created_time\": \"2021-04-03T00:29:38.761166Z\", \"created_time_dt\": \"2021-04-03T00:29:38.761166Z\", \"duration\": \"0:01:26\", \"iteration\": \"25\", \"goal\": \"accuracy_max\", \"run_name\": \"SparseNormalizer, ExtremeRandomTrees\", \"run_properties\": \"<azureml.automl.runtime.shared.model_wrappers.SparseNormalizer object at 0x7f3ae92017f0\", \"primary_metric\": 0.67909605, \"best_metric\": 0.85621469}, {\"run_id\": \"AutoML_711a8f3f-3947-4a16-b260-488faaed90c0_26\", \"run_number\": 68, \"metric\": null, \"status\": \"Completed\", \"run_type\": \"azureml.scriptrun\", \"training_percent\": \"100\", \"start_time\": \"2021-04-03T00:29:54.956457Z\", \"end_time\": \"2021-04-03T00:30:31.878125Z\", \"created_time\": \"2021-04-03T00:29:43.621766Z\", \"created_time_dt\": \"2021-04-03T00:29:43.621766Z\", \"duration\": \"0:00:48\", \"iteration\": \"26\", \"goal\": \"accuracy_max\", \"run_name\": \"MaxAbsScaler, LightGBM\", \"run_properties\": \"copy=True\", \"primary_metric\": 0.79587571, \"best_metric\": 0.85621469}, {\"run_id\": \"AutoML_711a8f3f-3947-4a16-b260-488faaed90c0_27\", \"run_number\": 69, \"metric\": null, \"status\": \"Completed\", \"run_type\": \"azureml.scriptrun\", \"training_percent\": \"100\", \"start_time\": \"2021-04-03T00:30:20.873313Z\", \"end_time\": \"2021-04-03T00:31:02.623946Z\", \"created_time\": \"2021-04-03T00:30:09.222139Z\", \"created_time_dt\": \"2021-04-03T00:30:09.222139Z\", \"duration\": \"0:00:53\", \"iteration\": \"27\", \"goal\": \"accuracy_max\", \"run_name\": \"MaxAbsScaler, ExtremeRandomTrees\", \"run_properties\": \"copy=True\", \"primary_metric\": 0.85288136, \"best_metric\": 0.85621469}, {\"run_id\": \"AutoML_711a8f3f-3947-4a16-b260-488faaed90c0_28\", \"run_number\": 70, \"metric\": null, \"status\": \"Completed\", \"run_type\": \"azureml.scriptrun\", \"training_percent\": \"100\", \"start_time\": \"2021-04-03T00:31:14.788365Z\", \"end_time\": \"2021-04-03T00:32:38.706018Z\", \"created_time\": \"2021-04-03T00:31:06.056718Z\", \"created_time_dt\": \"2021-04-03T00:31:06.056718Z\", \"duration\": \"0:01:32\", \"iteration\": \"28\", \"goal\": \"accuracy_max\", \"run_name\": \"VotingEnsemble\", \"run_properties\": \"classification_labels=None,\\n                              estimators=[('16',\\n                                           Pipeline(memory=None,\\n                                                    steps=[('robustscaler',\\n                                                            RobustScaler(copy=True,\\n                                                                         quantile_range=[25,\\n                                                                                         75],\\n                                                                         with_centering=True,\\n                                                                         with_scaling=False\", \"primary_metric\": 0.87632768, \"best_metric\": 0.87632768}, {\"run_id\": \"AutoML_711a8f3f-3947-4a16-b260-488faaed90c0_29\", \"run_number\": 71, \"metric\": null, \"status\": \"Completed\", \"run_type\": \"azureml.scriptrun\", \"training_percent\": \"100\", \"start_time\": \"2021-04-03T00:31:13.524432Z\", \"end_time\": \"2021-04-03T00:32:40.690088Z\", \"created_time\": \"2021-04-03T00:31:06.072011Z\", \"created_time_dt\": \"2021-04-03T00:31:06.072011Z\", \"duration\": \"0:01:34\", \"iteration\": \"29\", \"goal\": \"accuracy_max\", \"run_name\": \"StackEnsemble\", \"run_properties\": \"base_learners=[('16',\\n                                        Pipeline(memory=None,\\n                                                 steps=[('robustscaler',\\n                                                         RobustScaler(copy=True,\\n                                                                      quantile_range=[25,\\n                                                                                      75],\\n                                                                      with_centering=True,\\n                                                                      with_scaling=False\", \"primary_metric\": 0.84960452, \"best_metric\": 0.87632768}], \"children_metrics\": {\"categories\": [0], \"series\": {\"f1_score_macro\": [{\"categories\": [\"0\", \"1\", \"2\", \"3\", \"4\", \"5\", \"6\", \"7\", \"8\", \"9\", \"10\", \"11\", \"12\", \"13\", \"14\", \"15\", \"16\", \"17\", \"18\", \"19\", \"20\", \"21\", \"22\", \"23\", \"24\", \"25\", \"26\", \"27\", \"28\", \"29\"], \"mode\": \"markers\", \"name\": \"f1_score_macro\", \"stepped\": false, \"type\": \"scatter\", \"data\": [0.7682096405971308, 0.7972526241921125, 0.8079083867910324, 0.7941355329471963, 0.8142380567717662, 0.796850903840036, 0.777731957024298, 0.6187172200441265, 0.8182329158586782, 0.8008220884870342, 0.7998732320652098, 0.6252048522662619, 0.8198489566461239, 0.7695891912830867, 0.7993791035571288, 0.7645286327979106, 0.8216656762486798, 0.7538489296370823, 0.7990050588019126, 0.7999186947598323, 0.8014519087699344, 0.7983400661454317, 0.7977064698505035, 0.8095790583685322, 0.7614342041079093, 0.40276783177038933, 0.7362037085097459, 0.8161598755414478, 0.8490680142814344, 0.8197946378452755]}, {\"categories\": [\"0\", \"1\", \"2\", \"3\", \"4\", \"5\", \"6\", \"7\", \"8\", \"9\", \"10\", \"11\", \"12\", \"13\", \"14\", \"15\", \"16\", \"17\", \"18\", \"19\", \"20\", \"21\", \"22\", \"23\", \"24\", \"25\", \"26\", \"27\", \"28\", \"29\"], \"mode\": \"lines\", \"name\": \"f1_score_macro_max\", \"stepped\": true, \"type\": \"scatter\", \"data\": [0.7682096405971308, 0.7972526241921125, 0.8079083867910324, 0.8079083867910324, 0.8142380567717662, 0.8142380567717662, 0.8142380567717662, 0.8142380567717662, 0.8182329158586782, 0.8182329158586782, 0.8182329158586782, 0.8182329158586782, 0.8198489566461239, 0.8198489566461239, 0.8198489566461239, 0.8198489566461239, 0.8216656762486798, 0.8216656762486798, 0.8216656762486798, 0.8216656762486798, 0.8216656762486798, 0.8216656762486798, 0.8216656762486798, 0.8216656762486798, 0.8216656762486798, 0.8216656762486798, 0.8216656762486798, 0.8216656762486798, 0.8490680142814344, 0.8490680142814344]}], \"recall_score_macro\": [{\"categories\": [\"0\", \"1\", \"2\", \"3\", \"4\", \"5\", \"6\", \"7\", \"8\", \"9\", \"10\", \"11\", \"12\", \"13\", \"14\", \"15\", \"16\", \"17\", \"18\", \"19\", \"20\", \"21\", \"22\", \"23\", \"24\", \"25\", \"26\", \"27\", \"28\", \"29\"], \"mode\": \"markers\", \"name\": \"recall_score_macro\", \"stepped\": false, \"type\": \"scatter\", \"data\": [0.7760209025470652, 0.8060125968992248, 0.815685215946844, 0.7856976744186046, 0.8240524640088595, 0.8078875968992248, 0.7885548172757475, 0.6282613510520487, 0.8268369324473974, 0.8106042358803986, 0.7971940753045403, 0.6379761904761905, 0.8127083333333334, 0.7672155315614617, 0.7903190753045404, 0.7670881782945737, 0.8095535714285713, 0.75265780730897, 0.8088441306755261, 0.8001744186046512, 0.8108381782945736, 0.8000089977851607, 0.8018071705426356, 0.810765503875969, 0.7482101328903654, 0.5, 0.7311738648947952, 0.8049702380952383, 0.843095238095238, 0.8187202380952382]}, {\"categories\": [\"0\", \"1\", \"2\", \"3\", \"4\", \"5\", \"6\", \"7\", \"8\", \"9\", \"10\", \"11\", \"12\", \"13\", \"14\", \"15\", \"16\", \"17\", \"18\", \"19\", \"20\", \"21\", \"22\", \"23\", \"24\", \"25\", \"26\", \"27\", \"28\", \"29\"], \"mode\": \"lines\", \"name\": \"recall_score_macro_max\", \"stepped\": true, \"type\": \"scatter\", \"data\": [0.7760209025470652, 0.8060125968992248, 0.815685215946844, 0.815685215946844, 0.8240524640088595, 0.8240524640088595, 0.8240524640088595, 0.8240524640088595, 0.8268369324473974, 0.8268369324473974, 0.8268369324473974, 0.8268369324473974, 0.8268369324473974, 0.8268369324473974, 0.8268369324473974, 0.8268369324473974, 0.8268369324473974, 0.8268369324473974, 0.8268369324473974, 0.8268369324473974, 0.8268369324473974, 0.8268369324473974, 0.8268369324473974, 0.8268369324473974, 0.8268369324473974, 0.8268369324473974, 0.8268369324473974, 0.8268369324473974, 0.843095238095238, 0.843095238095238]}], \"matthews_correlation\": [{\"categories\": [\"0\", \"1\", \"2\", \"3\", \"4\", \"5\", \"6\", \"7\", \"8\", \"9\", \"10\", \"11\", \"12\", \"13\", \"14\", \"15\", \"16\", \"17\", \"18\", \"19\", \"20\", \"21\", \"22\", \"23\", \"24\", \"25\", \"26\", \"27\", \"28\", \"29\"], \"mode\": \"markers\", \"name\": \"matthews_correlation\", \"stepped\": false, \"type\": \"scatter\", \"data\": [0.5628617041183437, 0.6132552509330647, 0.6262709109338028, 0.6126301272195547, 0.6411886221135463, 0.6175142987676125, 0.5903431657959342, 0.30144558801333055, 0.6604081807336983, 0.6256559946727805, 0.6270024461300338, 0.37006932289245953, 0.6674162091773049, 0.577377585520883, 0.629435025056807, 0.5483941592250209, 0.678578202950101, 0.5413735838838376, 0.6095387231584212, 0.6368962197433861, 0.6214951713714093, 0.6174019003823129, 0.6199983476431427, 0.6341138679482298, 0.5790958976000884, 0.0, 0.5241174584965578, 0.6677996592702773, 0.7292901226073087, 0.671074075960202]}, {\"categories\": [\"0\", \"1\", \"2\", \"3\", \"4\", \"5\", \"6\", \"7\", \"8\", \"9\", \"10\", \"11\", \"12\", \"13\", \"14\", \"15\", \"16\", \"17\", \"18\", \"19\", \"20\", \"21\", \"22\", \"23\", \"24\", \"25\", \"26\", \"27\", \"28\", \"29\"], \"mode\": \"lines\", \"name\": \"matthews_correlation_max\", \"stepped\": true, \"type\": \"scatter\", \"data\": [0.5628617041183437, 0.6132552509330647, 0.6262709109338028, 0.6262709109338028, 0.6411886221135463, 0.6411886221135463, 0.6411886221135463, 0.6411886221135463, 0.6604081807336983, 0.6604081807336983, 0.6604081807336983, 0.6604081807336983, 0.6674162091773049, 0.6674162091773049, 0.6674162091773049, 0.6674162091773049, 0.678578202950101, 0.678578202950101, 0.678578202950101, 0.678578202950101, 0.678578202950101, 0.678578202950101, 0.678578202950101, 0.678578202950101, 0.678578202950101, 0.678578202950101, 0.678578202950101, 0.678578202950101, 0.7292901226073087, 0.7292901226073087]}], \"AUC_micro\": [{\"categories\": [\"0\", \"1\", \"2\", \"3\", \"4\", \"5\", \"6\", \"7\", \"8\", \"9\", \"10\", \"11\", \"12\", \"13\", \"14\", \"15\", \"16\", \"17\", \"18\", \"19\", \"20\", \"21\", \"22\", \"23\", \"24\", \"25\", \"26\", \"27\", \"28\", \"29\"], \"mode\": \"markers\", \"name\": \"AUC_micro\", \"stepped\": false, \"type\": \"scatter\", \"data\": [0.8880105014523284, 0.8999905678444892, 0.9019307351016629, 0.9057612276165852, 0.911867582750806, 0.9016805036866801, 0.8784487854703309, 0.7828925516294807, 0.9035812346388331, 0.9113381371891857, 0.900126815410642, 0.8328210603594114, 0.9093837179609945, 0.8864027259089022, 0.8965128794407736, 0.9043348175811549, 0.9009853330779787, 0.8944535254875674, 0.9133362379903603, 0.8893709023588368, 0.9020798301892814, 0.9082023364933448, 0.9071681349548341, 0.8995741166331512, 0.8781159309266175, 0.688861948992946, 0.8822512528328386, 0.9026999585048996, 0.9148580707970252, 0.9062398416802324]}, {\"categories\": [\"0\", \"1\", \"2\", \"3\", \"4\", \"5\", \"6\", \"7\", \"8\", \"9\", \"10\", \"11\", \"12\", \"13\", \"14\", \"15\", \"16\", \"17\", \"18\", \"19\", \"20\", \"21\", \"22\", \"23\", \"24\", \"25\", \"26\", \"27\", \"28\", \"29\"], \"mode\": \"lines\", \"name\": \"AUC_micro_max\", \"stepped\": true, \"type\": \"scatter\", \"data\": [0.8880105014523284, 0.8999905678444892, 0.9019307351016629, 0.9057612276165852, 0.911867582750806, 0.911867582750806, 0.911867582750806, 0.911867582750806, 0.911867582750806, 0.911867582750806, 0.911867582750806, 0.911867582750806, 0.911867582750806, 0.911867582750806, 0.911867582750806, 0.911867582750806, 0.911867582750806, 0.911867582750806, 0.9133362379903603, 0.9133362379903603, 0.9133362379903603, 0.9133362379903603, 0.9133362379903603, 0.9133362379903603, 0.9133362379903603, 0.9133362379903603, 0.9133362379903603, 0.9133362379903603, 0.9148580707970252, 0.9148580707970252]}], \"average_precision_score_micro\": [{\"categories\": [\"0\", \"1\", \"2\", \"3\", \"4\", \"5\", \"6\", \"7\", \"8\", \"9\", \"10\", \"11\", \"12\", \"13\", \"14\", \"15\", \"16\", \"17\", \"18\", \"19\", \"20\", \"21\", \"22\", \"23\", \"24\", \"25\", \"26\", \"27\", \"28\", \"29\"], \"mode\": \"markers\", \"name\": \"average_precision_score_micro\", \"stepped\": false, \"type\": \"scatter\", \"data\": [0.887958292631032, 0.9018582931163117, 0.9029270002345013, 0.9063409614677729, 0.9145676104031338, 0.9049603941187232, 0.8799901075077005, 0.7615300928201162, 0.9020916181204706, 0.9111534543665968, 0.9022681622437723, 0.8377483843872803, 0.9117486067259885, 0.8877787967043064, 0.8975923514869372, 0.9069311129985611, 0.904076248528572, 0.8973084466373693, 0.9146205519506336, 0.8872160781039942, 0.8995255439107467, 0.9111581298001014, 0.909343539667695, 0.8958867734484735, 0.8833124244711119, 0.668539964147399, 0.8890918759776995, 0.9043448580094593, 0.9176121738190284, 0.9042788530866905]}, {\"categories\": [\"0\", \"1\", \"2\", \"3\", \"4\", \"5\", \"6\", \"7\", \"8\", \"9\", \"10\", \"11\", \"12\", \"13\", \"14\", \"15\", \"16\", \"17\", \"18\", \"19\", \"20\", \"21\", \"22\", \"23\", \"24\", \"25\", \"26\", \"27\", \"28\", \"29\"], \"mode\": \"lines\", \"name\": \"average_precision_score_micro_max\", \"stepped\": true, \"type\": \"scatter\", \"data\": [0.887958292631032, 0.9018582931163117, 0.9029270002345013, 0.9063409614677729, 0.9145676104031338, 0.9145676104031338, 0.9145676104031338, 0.9145676104031338, 0.9145676104031338, 0.9145676104031338, 0.9145676104031338, 0.9145676104031338, 0.9145676104031338, 0.9145676104031338, 0.9145676104031338, 0.9145676104031338, 0.9145676104031338, 0.9145676104031338, 0.9146205519506336, 0.9146205519506336, 0.9146205519506336, 0.9146205519506336, 0.9146205519506336, 0.9146205519506336, 0.9146205519506336, 0.9146205519506336, 0.9146205519506336, 0.9146205519506336, 0.9176121738190284, 0.9176121738190284]}], \"average_precision_score_weighted\": [{\"categories\": [\"0\", \"1\", \"2\", \"3\", \"4\", \"5\", \"6\", \"7\", \"8\", \"9\", \"10\", \"11\", \"12\", \"13\", \"14\", \"15\", \"16\", \"17\", \"18\", \"19\", \"20\", \"21\", \"22\", \"23\", \"24\", \"25\", \"26\", \"27\", \"28\", \"29\"], \"mode\": \"markers\", \"name\": \"average_precision_score_weighted\", \"stepped\": false, \"type\": \"scatter\", \"data\": [0.8955370396295249, 0.9103506263314479, 0.9038585092157018, 0.910865011965973, 0.9202865305562591, 0.9102561015555077, 0.8871327202451138, 0.7681037568868003, 0.907549263035289, 0.9199358867529188, 0.9096621001006209, 0.8458920762759519, 0.9182261174761475, 0.9058607560878091, 0.9039842310411157, 0.9111091832389391, 0.9121439938481843, 0.9052300829814242, 0.9157076441144095, 0.8921101577103491, 0.9079298012280905, 0.9181596860653727, 0.9126795621828252, 0.8977687189620761, 0.8996352029458643, 0.6109553879707349, 0.8967309145858726, 0.911913368862149, 0.925904789252227, 0.9262693353749418]}, {\"categories\": [\"0\", \"1\", \"2\", \"3\", \"4\", \"5\", \"6\", \"7\", \"8\", \"9\", \"10\", \"11\", \"12\", \"13\", \"14\", \"15\", \"16\", \"17\", \"18\", \"19\", \"20\", \"21\", \"22\", \"23\", \"24\", \"25\", \"26\", \"27\", \"28\", \"29\"], \"mode\": \"lines\", \"name\": \"average_precision_score_weighted_max\", \"stepped\": true, \"type\": \"scatter\", \"data\": [0.8955370396295249, 0.9103506263314479, 0.9103506263314479, 0.910865011965973, 0.9202865305562591, 0.9202865305562591, 0.9202865305562591, 0.9202865305562591, 0.9202865305562591, 0.9202865305562591, 0.9202865305562591, 0.9202865305562591, 0.9202865305562591, 0.9202865305562591, 0.9202865305562591, 0.9202865305562591, 0.9202865305562591, 0.9202865305562591, 0.9202865305562591, 0.9202865305562591, 0.9202865305562591, 0.9202865305562591, 0.9202865305562591, 0.9202865305562591, 0.9202865305562591, 0.9202865305562591, 0.9202865305562591, 0.9202865305562591, 0.925904789252227, 0.9262693353749418]}], \"precision_score_macro\": [{\"categories\": [\"0\", \"1\", \"2\", \"3\", \"4\", \"5\", \"6\", \"7\", \"8\", \"9\", \"10\", \"11\", \"12\", \"13\", \"14\", \"15\", \"16\", \"17\", \"18\", \"19\", \"20\", \"21\", \"22\", \"23\", \"24\", \"25\", \"26\", \"27\", \"28\", \"29\"], \"mode\": \"markers\", \"name\": \"precision_score_macro\", \"stepped\": false, \"type\": \"scatter\", \"data\": [0.7889041743265773, 0.8086642059265495, 0.8112174051403226, 0.829391425360631, 0.8180877107343235, 0.8117583698460846, 0.8057518640185325, 0.6828788742703836, 0.836190434874329, 0.8171321683493649, 0.8325196253792461, 0.7693400768179093, 0.8590707978947675, 0.8145149307214524, 0.8428401360544218, 0.7827466203925384, 0.8752532673148311, 0.7924821022648049, 0.8017026548402818, 0.8435179739053155, 0.8121850952664905, 0.8190090010719058, 0.8210411445279867, 0.824308208922212, 0.8403919022154318, 0.33954802259887, 0.8003172978758532, 0.8690210471540395, 0.8904235593903296, 0.8570249846119411]}, {\"categories\": [\"0\", \"1\", \"2\", \"3\", \"4\", \"5\", \"6\", \"7\", \"8\", \"9\", \"10\", \"11\", \"12\", \"13\", \"14\", \"15\", \"16\", \"17\", \"18\", \"19\", \"20\", \"21\", \"22\", \"23\", \"24\", \"25\", \"26\", \"27\", \"28\", \"29\"], \"mode\": \"lines\", \"name\": \"precision_score_macro_max\", \"stepped\": true, \"type\": \"scatter\", \"data\": [0.7889041743265773, 0.8086642059265495, 0.8112174051403226, 0.829391425360631, 0.829391425360631, 0.829391425360631, 0.829391425360631, 0.829391425360631, 0.836190434874329, 0.836190434874329, 0.836190434874329, 0.836190434874329, 0.8590707978947675, 0.8590707978947675, 0.8590707978947675, 0.8590707978947675, 0.8752532673148311, 0.8752532673148311, 0.8752532673148311, 0.8752532673148311, 0.8752532673148311, 0.8752532673148311, 0.8752532673148311, 0.8752532673148311, 0.8752532673148311, 0.8752532673148311, 0.8752532673148311, 0.8752532673148311, 0.8904235593903296, 0.8904235593903296]}], \"average_precision_score_macro\": [{\"categories\": [\"0\", \"1\", \"2\", \"3\", \"4\", \"5\", \"6\", \"7\", \"8\", \"9\", \"10\", \"11\", \"12\", \"13\", \"14\", \"15\", \"16\", \"17\", \"18\", \"19\", \"20\", \"21\", \"22\", \"23\", \"24\", \"25\", \"26\", \"27\", \"28\", \"29\"], \"mode\": \"markers\", \"name\": \"average_precision_score_macro\", \"stepped\": false, \"type\": \"scatter\", \"data\": [0.8655792376041671, 0.8826936933050062, 0.8737631695440637, 0.8853972024871322, 0.8905966408373954, 0.8812863920933595, 0.8519402146392121, 0.719255550808799, 0.8817569707809666, 0.8977869067533849, 0.8827732062499305, 0.799425832504898, 0.8934596918923832, 0.8821896413678351, 0.8790890516162847, 0.8833324282258908, 0.8894045941144737, 0.8773379269334891, 0.8884577630343063, 0.8619592063912815, 0.8838449863978501, 0.8949484146327167, 0.8846801667087874, 0.8728899332889071, 0.8689015433051004, 0.5330834775923593, 0.8633923517976699, 0.8881874785581392, 0.9014174180917834, 0.9015367120348609]}, {\"categories\": [\"0\", \"1\", \"2\", \"3\", \"4\", \"5\", \"6\", \"7\", \"8\", \"9\", \"10\", \"11\", \"12\", \"13\", \"14\", \"15\", \"16\", \"17\", \"18\", \"19\", \"20\", \"21\", \"22\", \"23\", \"24\", \"25\", \"26\", \"27\", \"28\", \"29\"], \"mode\": \"lines\", \"name\": \"average_precision_score_macro_max\", \"stepped\": true, \"type\": \"scatter\", \"data\": [0.8655792376041671, 0.8826936933050062, 0.8826936933050062, 0.8853972024871322, 0.8905966408373954, 0.8905966408373954, 0.8905966408373954, 0.8905966408373954, 0.8905966408373954, 0.8977869067533849, 0.8977869067533849, 0.8977869067533849, 0.8977869067533849, 0.8977869067533849, 0.8977869067533849, 0.8977869067533849, 0.8977869067533849, 0.8977869067533849, 0.8977869067533849, 0.8977869067533849, 0.8977869067533849, 0.8977869067533849, 0.8977869067533849, 0.8977869067533849, 0.8977869067533849, 0.8977869067533849, 0.8977869067533849, 0.8977869067533849, 0.9014174180917834, 0.9015367120348609]}], \"balanced_accuracy\": [{\"categories\": [\"0\", \"1\", \"2\", \"3\", \"4\", \"5\", \"6\", \"7\", \"8\", \"9\", \"10\", \"11\", \"12\", \"13\", \"14\", \"15\", \"16\", \"17\", \"18\", \"19\", \"20\", \"21\", \"22\", \"23\", \"24\", \"25\", \"26\", \"27\", \"28\", \"29\"], \"mode\": \"markers\", \"name\": \"balanced_accuracy\", \"stepped\": false, \"type\": \"scatter\", \"data\": [0.7760209025470652, 0.8060125968992248, 0.815685215946844, 0.7856976744186046, 0.8240524640088595, 0.8078875968992248, 0.7885548172757475, 0.6282613510520487, 0.8268369324473974, 0.8106042358803986, 0.7971940753045403, 0.6379761904761905, 0.8127083333333334, 0.7672155315614617, 0.7903190753045404, 0.7670881782945737, 0.8095535714285713, 0.75265780730897, 0.8088441306755261, 0.8001744186046512, 0.8108381782945736, 0.8000089977851607, 0.8018071705426356, 0.810765503875969, 0.7482101328903654, 0.5, 0.7311738648947952, 0.8049702380952383, 0.843095238095238, 0.8187202380952382]}, {\"categories\": [\"0\", \"1\", \"2\", \"3\", \"4\", \"5\", \"6\", \"7\", \"8\", \"9\", \"10\", \"11\", \"12\", \"13\", \"14\", \"15\", \"16\", \"17\", \"18\", \"19\", \"20\", \"21\", \"22\", \"23\", \"24\", \"25\", \"26\", \"27\", \"28\", \"29\"], \"mode\": \"lines\", \"name\": \"balanced_accuracy_max\", \"stepped\": true, \"type\": \"scatter\", \"data\": [0.7760209025470652, 0.8060125968992248, 0.815685215946844, 0.815685215946844, 0.8240524640088595, 0.8240524640088595, 0.8240524640088595, 0.8240524640088595, 0.8268369324473974, 0.8268369324473974, 0.8268369324473974, 0.8268369324473974, 0.8268369324473974, 0.8268369324473974, 0.8268369324473974, 0.8268369324473974, 0.8268369324473974, 0.8268369324473974, 0.8268369324473974, 0.8268369324473974, 0.8268369324473974, 0.8268369324473974, 0.8268369324473974, 0.8268369324473974, 0.8268369324473974, 0.8268369324473974, 0.8268369324473974, 0.8268369324473974, 0.843095238095238, 0.843095238095238]}], \"precision_score_weighted\": [{\"categories\": [\"0\", \"1\", \"2\", \"3\", \"4\", \"5\", \"6\", \"7\", \"8\", \"9\", \"10\", \"11\", \"12\", \"13\", \"14\", \"15\", \"16\", \"17\", \"18\", \"19\", \"20\", \"21\", \"22\", \"23\", \"24\", \"25\", \"26\", \"27\", \"28\", \"29\"], \"mode\": \"markers\", \"name\": \"precision_score_weighted\", \"stepped\": false, \"type\": \"scatter\", \"data\": [0.8237683758533973, 0.8403871377947292, 0.8459262122745305, 0.8465670841739101, 0.8545989582187076, 0.8490786047654139, 0.8407374045536857, 0.7252623260618144, 0.8646464804683163, 0.8488118715519913, 0.8522035627944705, 0.7792163027878148, 0.8668671557574573, 0.8315673124386462, 0.8508755975984105, 0.8174279910877423, 0.872337191458616, 0.8180345629300609, 0.840109493563646, 0.8602889885348265, 0.8469671295434008, 0.8439344285644792, 0.8480004451721669, 0.8486564553883307, 0.8411223683309995, 0.4689005075169971, 0.815052968737841, 0.868853373689084, 0.8950471537693939, 0.868406381326057]}, {\"categories\": [\"0\", \"1\", \"2\", \"3\", \"4\", \"5\", \"6\", \"7\", \"8\", \"9\", \"10\", \"11\", \"12\", \"13\", \"14\", \"15\", \"16\", \"17\", \"18\", \"19\", \"20\", \"21\", \"22\", \"23\", \"24\", \"25\", \"26\", \"27\", \"28\", \"29\"], \"mode\": \"lines\", \"name\": \"precision_score_weighted_max\", \"stepped\": true, \"type\": \"scatter\", \"data\": [0.8237683758533973, 0.8403871377947292, 0.8459262122745305, 0.8465670841739101, 0.8545989582187076, 0.8545989582187076, 0.8545989582187076, 0.8545989582187076, 0.8646464804683163, 0.8646464804683163, 0.8646464804683163, 0.8646464804683163, 0.8668671557574573, 0.8668671557574573, 0.8668671557574573, 0.8668671557574573, 0.872337191458616, 0.872337191458616, 0.872337191458616, 0.872337191458616, 0.872337191458616, 0.872337191458616, 0.872337191458616, 0.872337191458616, 0.872337191458616, 0.872337191458616, 0.872337191458616, 0.872337191458616, 0.8950471537693939, 0.8950471537693939]}], \"log_loss\": [{\"categories\": [\"0\", \"1\", \"2\", \"3\", \"4\", \"5\", \"6\", \"7\", \"8\", \"9\", \"10\", \"11\", \"12\", \"13\", \"14\", \"15\", \"16\", \"17\", \"18\", \"19\", \"20\", \"21\", \"22\", \"23\", \"24\", \"25\", \"26\", \"27\", \"28\", \"29\"], \"mode\": \"markers\", \"name\": \"log_loss\", \"stepped\": false, \"type\": \"scatter\", \"data\": [0.5282491261622873, 0.43217688137359717, 0.4008799424470803, 0.4088844354776807, 0.3831354290103756, 0.40670367542963326, 0.4482172341059959, 0.5888812969651658, 0.39668155380939407, 0.37910421049544263, 0.4883730044708267, 0.5184056250785269, 0.41040771162173567, 0.4727004574854833, 0.42252701409154836, 0.3942650461328258, 0.4113796880983925, 0.43546851362189176, 0.3772464209112937, 0.414322494277926, 0.39762141526834127, 0.3997407425109225, 0.3907823102788081, 0.4049669611121631, 0.467640246861191, 0.6390823189716677, 0.4641793310729094, 0.4146399453559068, 0.40631175416244175, 0.4232399877748773]}, {\"categories\": [\"0\", \"1\", \"2\", \"3\", \"4\", \"5\", \"6\", \"7\", \"8\", \"9\", \"10\", \"11\", \"12\", \"13\", \"14\", \"15\", \"16\", \"17\", \"18\", \"19\", \"20\", \"21\", \"22\", \"23\", \"24\", \"25\", \"26\", \"27\", \"28\", \"29\"], \"mode\": \"lines\", \"name\": \"log_loss_min\", \"stepped\": true, \"type\": \"scatter\", \"data\": [0.5282491261622873, 0.43217688137359717, 0.4008799424470803, 0.4008799424470803, 0.3831354290103756, 0.3831354290103756, 0.3831354290103756, 0.3831354290103756, 0.3831354290103756, 0.37910421049544263, 0.37910421049544263, 0.37910421049544263, 0.37910421049544263, 0.37910421049544263, 0.37910421049544263, 0.37910421049544263, 0.37910421049544263, 0.37910421049544263, 0.3772464209112937, 0.3772464209112937, 0.3772464209112937, 0.3772464209112937, 0.3772464209112937, 0.3772464209112937, 0.3772464209112937, 0.3772464209112937, 0.3772464209112937, 0.3772464209112937, 0.3772464209112937, 0.3772464209112937]}], \"accuracy\": [{\"categories\": [\"0\", \"1\", \"2\", \"3\", \"4\", \"5\", \"6\", \"7\", \"8\", \"9\", \"10\", \"11\", \"12\", \"13\", \"14\", \"15\", \"16\", \"17\", \"18\", \"19\", \"20\", \"21\", \"22\", \"23\", \"24\", \"25\", \"26\", \"27\", \"28\", \"29\"], \"mode\": \"markers\", \"name\": \"accuracy\", \"stepped\": false, \"type\": \"scatter\", \"data\": [0.8059887005649717, 0.8259322033898304, 0.8359322033898305, 0.8359887005649718, 0.8426553672316384, 0.8292090395480226, 0.8160451977401131, 0.7124293785310735, 0.846271186440678, 0.8327118644067797, 0.836271186440678, 0.736045197740113, 0.8529378531073446, 0.8160451977401131, 0.8394350282485876, 0.8090960451977403, 0.8562146892655367, 0.8025423728813559, 0.8293220338983052, 0.8427118644067797, 0.8326553672316385, 0.8326553672316385, 0.8328248587570621, 0.8396610169491525, 0.8194350282485875, 0.67909604519774, 0.7958757062146893, 0.8528813559322034, 0.8763276836158193, 0.8496045197740113]}, {\"categories\": [\"0\", \"1\", \"2\", \"3\", \"4\", \"5\", \"6\", \"7\", \"8\", \"9\", \"10\", \"11\", \"12\", \"13\", \"14\", \"15\", \"16\", \"17\", \"18\", \"19\", \"20\", \"21\", \"22\", \"23\", \"24\", \"25\", \"26\", \"27\", \"28\", \"29\"], \"mode\": \"lines\", \"name\": \"accuracy_max\", \"stepped\": true, \"type\": \"scatter\", \"data\": [0.8059887005649717, 0.8259322033898304, 0.8359322033898305, 0.8359887005649718, 0.8426553672316384, 0.8426553672316384, 0.8426553672316384, 0.8426553672316384, 0.846271186440678, 0.846271186440678, 0.846271186440678, 0.846271186440678, 0.8529378531073446, 0.8529378531073446, 0.8529378531073446, 0.8529378531073446, 0.8562146892655367, 0.8562146892655367, 0.8562146892655367, 0.8562146892655367, 0.8562146892655367, 0.8562146892655367, 0.8562146892655367, 0.8562146892655367, 0.8562146892655367, 0.8562146892655367, 0.8562146892655367, 0.8562146892655367, 0.8763276836158193, 0.8763276836158193]}], \"f1_score_weighted\": [{\"categories\": [\"0\", \"1\", \"2\", \"3\", \"4\", \"5\", \"6\", \"7\", \"8\", \"9\", \"10\", \"11\", \"12\", \"13\", \"14\", \"15\", \"16\", \"17\", \"18\", \"19\", \"20\", \"21\", \"22\", \"23\", \"24\", \"25\", \"26\", \"27\", \"28\", \"29\"], \"mode\": \"markers\", \"name\": \"f1_score_weighted\", \"stepped\": false, \"type\": \"scatter\", \"data\": [0.8014398448329555, 0.8237396450256732, 0.8359022826185066, 0.8291163521604237, 0.8425291656217848, 0.8271772067012491, 0.8111375615251999, 0.6867648896774883, 0.8440887176790568, 0.8284811810695707, 0.8303299104097744, 0.6920924975909098, 0.846841111461796, 0.8041176153746544, 0.8303715638584166, 0.8036005957596233, 0.8477339302464658, 0.7927356471104344, 0.8294320482087002, 0.8341702288093698, 0.8305508128892576, 0.8277041636824469, 0.8288155855840393, 0.8366627045139088, 0.8031729850413962, 0.5526564268547016, 0.7789750496433505, 0.8441898906917954, 0.870270678532381, 0.8439971337252606]}, {\"categories\": [\"0\", \"1\", \"2\", \"3\", \"4\", \"5\", \"6\", \"7\", \"8\", \"9\", \"10\", \"11\", \"12\", \"13\", \"14\", \"15\", \"16\", \"17\", \"18\", \"19\", \"20\", \"21\", \"22\", \"23\", \"24\", \"25\", \"26\", \"27\", \"28\", \"29\"], \"mode\": \"lines\", \"name\": \"f1_score_weighted_max\", \"stepped\": true, \"type\": \"scatter\", \"data\": [0.8014398448329555, 0.8237396450256732, 0.8359022826185066, 0.8359022826185066, 0.8425291656217848, 0.8425291656217848, 0.8425291656217848, 0.8425291656217848, 0.8440887176790568, 0.8440887176790568, 0.8440887176790568, 0.8440887176790568, 0.846841111461796, 0.846841111461796, 0.846841111461796, 0.846841111461796, 0.8477339302464658, 0.8477339302464658, 0.8477339302464658, 0.8477339302464658, 0.8477339302464658, 0.8477339302464658, 0.8477339302464658, 0.8477339302464658, 0.8477339302464658, 0.8477339302464658, 0.8477339302464658, 0.8477339302464658, 0.870270678532381, 0.870270678532381]}], \"recall_score_micro\": [{\"categories\": [\"0\", \"1\", \"2\", \"3\", \"4\", \"5\", \"6\", \"7\", \"8\", \"9\", \"10\", \"11\", \"12\", \"13\", \"14\", \"15\", \"16\", \"17\", \"18\", \"19\", \"20\", \"21\", \"22\", \"23\", \"24\", \"25\", \"26\", \"27\", \"28\", \"29\"], \"mode\": \"markers\", \"name\": \"recall_score_micro\", \"stepped\": false, \"type\": \"scatter\", \"data\": [0.8059887005649717, 0.8259322033898304, 0.8359322033898305, 0.8359887005649718, 0.8426553672316384, 0.8292090395480226, 0.8160451977401131, 0.7124293785310735, 0.846271186440678, 0.8327118644067797, 0.836271186440678, 0.736045197740113, 0.8529378531073446, 0.8160451977401131, 0.8394350282485876, 0.8090960451977403, 0.8562146892655367, 0.8025423728813559, 0.8293220338983052, 0.8427118644067797, 0.8326553672316385, 0.8326553672316385, 0.8328248587570621, 0.8396610169491525, 0.8194350282485875, 0.67909604519774, 0.7958757062146893, 0.8528813559322034, 0.8763276836158193, 0.8496045197740113]}, {\"categories\": [\"0\", \"1\", \"2\", \"3\", \"4\", \"5\", \"6\", \"7\", \"8\", \"9\", \"10\", \"11\", \"12\", \"13\", \"14\", \"15\", \"16\", \"17\", \"18\", \"19\", \"20\", \"21\", \"22\", \"23\", \"24\", \"25\", \"26\", \"27\", \"28\", \"29\"], \"mode\": \"lines\", \"name\": \"recall_score_micro_max\", \"stepped\": true, \"type\": \"scatter\", \"data\": [0.8059887005649717, 0.8259322033898304, 0.8359322033898305, 0.8359887005649718, 0.8426553672316384, 0.8426553672316384, 0.8426553672316384, 0.8426553672316384, 0.846271186440678, 0.846271186440678, 0.846271186440678, 0.846271186440678, 0.8529378531073446, 0.8529378531073446, 0.8529378531073446, 0.8529378531073446, 0.8562146892655367, 0.8562146892655367, 0.8562146892655367, 0.8562146892655367, 0.8562146892655367, 0.8562146892655367, 0.8562146892655367, 0.8562146892655367, 0.8562146892655367, 0.8562146892655367, 0.8562146892655367, 0.8562146892655367, 0.8763276836158193, 0.8763276836158193]}], \"AUC_weighted\": [{\"categories\": [\"0\", \"1\", \"2\", \"3\", \"4\", \"5\", \"6\", \"7\", \"8\", \"9\", \"10\", \"11\", \"12\", \"13\", \"14\", \"15\", \"16\", \"17\", \"18\", \"19\", \"20\", \"21\", \"22\", \"23\", \"24\", \"25\", \"26\", \"27\", \"28\", \"29\"], \"mode\": \"markers\", \"name\": \"AUC_weighted\", \"stepped\": false, \"type\": \"scatter\", \"data\": [0.8811331210778885, 0.8929591177556293, 0.8954777593207826, 0.895094522886674, 0.9073372554448135, 0.8977131321520856, 0.8681016519010705, 0.7394446982281285, 0.894921534699151, 0.9051628368401625, 0.8967421557770393, 0.8303234588409006, 0.9007868447766704, 0.8939186277224067, 0.8918032945736434, 0.8980745431893687, 0.8957937200073829, 0.8927271594684386, 0.9047873177371724, 0.8802835455887781, 0.8961190937615356, 0.904734242340347, 0.9017715023994095, 0.8876623292727943, 0.8813533591731266, 0.5161123684939093, 0.8808052325581395, 0.9002529992617202, 0.9157743170911775, 0.9151254383536361]}, {\"categories\": [\"0\", \"1\", \"2\", \"3\", \"4\", \"5\", \"6\", \"7\", \"8\", \"9\", \"10\", \"11\", \"12\", \"13\", \"14\", \"15\", \"16\", \"17\", \"18\", \"19\", \"20\", \"21\", \"22\", \"23\", \"24\", \"25\", \"26\", \"27\", \"28\", \"29\"], \"mode\": \"lines\", \"name\": \"AUC_weighted_max\", \"stepped\": true, \"type\": \"scatter\", \"data\": [0.8811331210778885, 0.8929591177556293, 0.8954777593207826, 0.8954777593207826, 0.9073372554448135, 0.9073372554448135, 0.9073372554448135, 0.9073372554448135, 0.9073372554448135, 0.9073372554448135, 0.9073372554448135, 0.9073372554448135, 0.9073372554448135, 0.9073372554448135, 0.9073372554448135, 0.9073372554448135, 0.9073372554448135, 0.9073372554448135, 0.9073372554448135, 0.9073372554448135, 0.9073372554448135, 0.9073372554448135, 0.9073372554448135, 0.9073372554448135, 0.9073372554448135, 0.9073372554448135, 0.9073372554448135, 0.9073372554448135, 0.9157743170911775, 0.9157743170911775]}], \"AUC_macro\": [{\"categories\": [\"0\", \"1\", \"2\", \"3\", \"4\", \"5\", \"6\", \"7\", \"8\", \"9\", \"10\", \"11\", \"12\", \"13\", \"14\", \"15\", \"16\", \"17\", \"18\", \"19\", \"20\", \"21\", \"22\", \"23\", \"24\", \"25\", \"26\", \"27\", \"28\", \"29\"], \"mode\": \"markers\", \"name\": \"AUC_macro\", \"stepped\": false, \"type\": \"scatter\", \"data\": [0.8811331210778885, 0.8929591177556295, 0.8954777593207826, 0.895094522886674, 0.9073372554448135, 0.8977131321520856, 0.8681016519010705, 0.7394446982281285, 0.894921534699151, 0.9051628368401625, 0.8967421557770396, 0.8303234588409006, 0.9007868447766704, 0.8939186277224069, 0.8918032945736434, 0.8980745431893687, 0.8957937200073827, 0.8927271594684386, 0.9047873177371724, 0.8802835455887781, 0.8961190937615356, 0.9047342423403469, 0.9017715023994095, 0.8876623292727943, 0.8813533591731266, 0.5161123684939092, 0.8808052325581395, 0.9002529992617202, 0.9157743170911775, 0.9151254383536361]}, {\"categories\": [\"0\", \"1\", \"2\", \"3\", \"4\", \"5\", \"6\", \"7\", \"8\", \"9\", \"10\", \"11\", \"12\", \"13\", \"14\", \"15\", \"16\", \"17\", \"18\", \"19\", \"20\", \"21\", \"22\", \"23\", \"24\", \"25\", \"26\", \"27\", \"28\", \"29\"], \"mode\": \"lines\", \"name\": \"AUC_macro_max\", \"stepped\": true, \"type\": \"scatter\", \"data\": [0.8811331210778885, 0.8929591177556295, 0.8954777593207826, 0.8954777593207826, 0.9073372554448135, 0.9073372554448135, 0.9073372554448135, 0.9073372554448135, 0.9073372554448135, 0.9073372554448135, 0.9073372554448135, 0.9073372554448135, 0.9073372554448135, 0.9073372554448135, 0.9073372554448135, 0.9073372554448135, 0.9073372554448135, 0.9073372554448135, 0.9073372554448135, 0.9073372554448135, 0.9073372554448135, 0.9073372554448135, 0.9073372554448135, 0.9073372554448135, 0.9073372554448135, 0.9073372554448135, 0.9073372554448135, 0.9073372554448135, 0.9157743170911775, 0.9157743170911775]}], \"weighted_accuracy\": [{\"categories\": [\"0\", \"1\", \"2\", \"3\", \"4\", \"5\", \"6\", \"7\", \"8\", \"9\", \"10\", \"11\", \"12\", \"13\", \"14\", \"15\", \"16\", \"17\", \"18\", \"19\", \"20\", \"21\", \"22\", \"23\", \"24\", \"25\", \"26\", \"27\", \"28\", \"29\"], \"mode\": \"markers\", \"name\": \"weighted_accuracy\", \"stepped\": false, \"type\": \"scatter\", \"data\": [0.8252063202764133, 0.8406325321291572, 0.8494827837342239, 0.8683688993138718, 0.8551865488044588, 0.8438286357024891, 0.8360473402486086, 0.7695242910482673, 0.8614527378563306, 0.8477069024570291, 0.8631404005320202, 0.8032567402089587, 0.8807305247703943, 0.8499213641944703, 0.8738635368636766, 0.836754929781805, 0.8879561268687999, 0.8365299867324645, 0.843725157168158, 0.8717026983916979, 0.8478945134062286, 0.8552056261934704, 0.8547947975103691, 0.8586782896708176, 0.867813205958397, 0.7971865900207855, 0.8408221857595117, 0.8860345582413489, 0.8986147612977045, 0.8695547482651019]}, {\"categories\": [\"0\", \"1\", \"2\", \"3\", \"4\", \"5\", \"6\", \"7\", \"8\", \"9\", \"10\", \"11\", \"12\", \"13\", \"14\", \"15\", \"16\", \"17\", \"18\", \"19\", \"20\", \"21\", \"22\", \"23\", \"24\", \"25\", \"26\", \"27\", \"28\", \"29\"], \"mode\": \"lines\", \"name\": \"weighted_accuracy_max\", \"stepped\": true, \"type\": \"scatter\", \"data\": [0.8252063202764133, 0.8406325321291572, 0.8494827837342239, 0.8683688993138718, 0.8683688993138718, 0.8683688993138718, 0.8683688993138718, 0.8683688993138718, 0.8683688993138718, 0.8683688993138718, 0.8683688993138718, 0.8683688993138718, 0.8807305247703943, 0.8807305247703943, 0.8807305247703943, 0.8807305247703943, 0.8879561268687999, 0.8879561268687999, 0.8879561268687999, 0.8879561268687999, 0.8879561268687999, 0.8879561268687999, 0.8879561268687999, 0.8879561268687999, 0.8879561268687999, 0.8879561268687999, 0.8879561268687999, 0.8879561268687999, 0.8986147612977045, 0.8986147612977045]}], \"recall_score_weighted\": [{\"categories\": [\"0\", \"1\", \"2\", \"3\", \"4\", \"5\", \"6\", \"7\", \"8\", \"9\", \"10\", \"11\", \"12\", \"13\", \"14\", \"15\", \"16\", \"17\", \"18\", \"19\", \"20\", \"21\", \"22\", \"23\", \"24\", \"25\", \"26\", \"27\", \"28\", \"29\"], \"mode\": \"markers\", \"name\": \"recall_score_weighted\", \"stepped\": false, \"type\": \"scatter\", \"data\": [0.8059887005649717, 0.8259322033898304, 0.8359322033898305, 0.8359887005649718, 0.8426553672316384, 0.8292090395480226, 0.8160451977401131, 0.7124293785310735, 0.846271186440678, 0.8327118644067797, 0.836271186440678, 0.736045197740113, 0.8529378531073446, 0.8160451977401131, 0.8394350282485876, 0.8090960451977403, 0.8562146892655367, 0.8025423728813559, 0.8293220338983052, 0.8427118644067797, 0.8326553672316385, 0.8326553672316385, 0.8328248587570621, 0.8396610169491525, 0.8194350282485875, 0.67909604519774, 0.7958757062146893, 0.8528813559322034, 0.8763276836158193, 0.8496045197740113]}, {\"categories\": [\"0\", \"1\", \"2\", \"3\", \"4\", \"5\", \"6\", \"7\", \"8\", \"9\", \"10\", \"11\", \"12\", \"13\", \"14\", \"15\", \"16\", \"17\", \"18\", \"19\", \"20\", \"21\", \"22\", \"23\", \"24\", \"25\", \"26\", \"27\", \"28\", \"29\"], \"mode\": \"lines\", \"name\": \"recall_score_weighted_max\", \"stepped\": true, \"type\": \"scatter\", \"data\": [0.8059887005649717, 0.8259322033898304, 0.8359322033898305, 0.8359887005649718, 0.8426553672316384, 0.8426553672316384, 0.8426553672316384, 0.8426553672316384, 0.846271186440678, 0.846271186440678, 0.846271186440678, 0.846271186440678, 0.8529378531073446, 0.8529378531073446, 0.8529378531073446, 0.8529378531073446, 0.8562146892655367, 0.8562146892655367, 0.8562146892655367, 0.8562146892655367, 0.8562146892655367, 0.8562146892655367, 0.8562146892655367, 0.8562146892655367, 0.8562146892655367, 0.8562146892655367, 0.8562146892655367, 0.8562146892655367, 0.8763276836158193, 0.8763276836158193]}], \"f1_score_micro\": [{\"categories\": [\"0\", \"1\", \"2\", \"3\", \"4\", \"5\", \"6\", \"7\", \"8\", \"9\", \"10\", \"11\", \"12\", \"13\", \"14\", \"15\", \"16\", \"17\", \"18\", \"19\", \"20\", \"21\", \"22\", \"23\", \"24\", \"25\", \"26\", \"27\", \"28\", \"29\"], \"mode\": \"markers\", \"name\": \"f1_score_micro\", \"stepped\": false, \"type\": \"scatter\", \"data\": [0.8059887005649718, 0.8259322033898304, 0.8359322033898305, 0.8359887005649718, 0.8426553672316384, 0.8292090395480226, 0.8160451977401131, 0.7124293785310735, 0.846271186440678, 0.8327118644067797, 0.836271186440678, 0.736045197740113, 0.8529378531073446, 0.8160451977401131, 0.8394350282485876, 0.8090960451977403, 0.8562146892655367, 0.8025423728813559, 0.8293220338983052, 0.8427118644067797, 0.8326553672316385, 0.8326553672316385, 0.8328248587570621, 0.8396610169491525, 0.8194350282485875, 0.67909604519774, 0.7958757062146893, 0.8528813559322034, 0.8763276836158193, 0.8496045197740113]}, {\"categories\": [\"0\", \"1\", \"2\", \"3\", \"4\", \"5\", \"6\", \"7\", \"8\", \"9\", \"10\", \"11\", \"12\", \"13\", \"14\", \"15\", \"16\", \"17\", \"18\", \"19\", \"20\", \"21\", \"22\", \"23\", \"24\", \"25\", \"26\", \"27\", \"28\", \"29\"], \"mode\": \"lines\", \"name\": \"f1_score_micro_max\", \"stepped\": true, \"type\": \"scatter\", \"data\": [0.8059887005649718, 0.8259322033898304, 0.8359322033898305, 0.8359887005649718, 0.8426553672316384, 0.8426553672316384, 0.8426553672316384, 0.8426553672316384, 0.846271186440678, 0.846271186440678, 0.846271186440678, 0.846271186440678, 0.8529378531073446, 0.8529378531073446, 0.8529378531073446, 0.8529378531073446, 0.8562146892655367, 0.8562146892655367, 0.8562146892655367, 0.8562146892655367, 0.8562146892655367, 0.8562146892655367, 0.8562146892655367, 0.8562146892655367, 0.8562146892655367, 0.8562146892655367, 0.8562146892655367, 0.8562146892655367, 0.8763276836158193, 0.8763276836158193]}], \"precision_score_micro\": [{\"categories\": [\"0\", \"1\", \"2\", \"3\", \"4\", \"5\", \"6\", \"7\", \"8\", \"9\", \"10\", \"11\", \"12\", \"13\", \"14\", \"15\", \"16\", \"17\", \"18\", \"19\", \"20\", \"21\", \"22\", \"23\", \"24\", \"25\", \"26\", \"27\", \"28\", \"29\"], \"mode\": \"markers\", \"name\": \"precision_score_micro\", \"stepped\": false, \"type\": \"scatter\", \"data\": [0.8059887005649717, 0.8259322033898304, 0.8359322033898305, 0.8359887005649718, 0.8426553672316384, 0.8292090395480226, 0.8160451977401131, 0.7124293785310735, 0.846271186440678, 0.8327118644067797, 0.836271186440678, 0.736045197740113, 0.8529378531073446, 0.8160451977401131, 0.8394350282485876, 0.8090960451977403, 0.8562146892655367, 0.8025423728813559, 0.8293220338983052, 0.8427118644067797, 0.8326553672316385, 0.8326553672316385, 0.8328248587570621, 0.8396610169491525, 0.8194350282485875, 0.67909604519774, 0.7958757062146893, 0.8528813559322034, 0.8763276836158193, 0.8496045197740113]}, {\"categories\": [\"0\", \"1\", \"2\", \"3\", \"4\", \"5\", \"6\", \"7\", \"8\", \"9\", \"10\", \"11\", \"12\", \"13\", \"14\", \"15\", \"16\", \"17\", \"18\", \"19\", \"20\", \"21\", \"22\", \"23\", \"24\", \"25\", \"26\", \"27\", \"28\", \"29\"], \"mode\": \"lines\", \"name\": \"precision_score_micro_max\", \"stepped\": true, \"type\": \"scatter\", \"data\": [0.8059887005649717, 0.8259322033898304, 0.8359322033898305, 0.8359887005649718, 0.8426553672316384, 0.8426553672316384, 0.8426553672316384, 0.8426553672316384, 0.846271186440678, 0.846271186440678, 0.846271186440678, 0.846271186440678, 0.8529378531073446, 0.8529378531073446, 0.8529378531073446, 0.8529378531073446, 0.8562146892655367, 0.8562146892655367, 0.8562146892655367, 0.8562146892655367, 0.8562146892655367, 0.8562146892655367, 0.8562146892655367, 0.8562146892655367, 0.8562146892655367, 0.8562146892655367, 0.8562146892655367, 0.8562146892655367, 0.8763276836158193, 0.8763276836158193]}], \"norm_macro_recall\": [{\"categories\": [\"0\", \"1\", \"2\", \"3\", \"4\", \"5\", \"6\", \"7\", \"8\", \"9\", \"10\", \"11\", \"12\", \"13\", \"14\", \"15\", \"16\", \"17\", \"18\", \"19\", \"20\", \"21\", \"22\", \"23\", \"24\", \"25\", \"26\", \"27\", \"28\", \"29\"], \"mode\": \"markers\", \"name\": \"norm_macro_recall\", \"stepped\": false, \"type\": \"scatter\", \"data\": [0.5520418050941306, 0.6120251937984496, 0.6313704318936877, 0.5713953488372093, 0.6481049280177187, 0.6157751937984496, 0.577109634551495, 0.25652270210409744, 0.6536738648947951, 0.6212084717607974, 0.5943881506090809, 0.275952380952381, 0.6254166666666666, 0.5344310631229235, 0.5806381506090809, 0.5341763565891473, 0.6191071428571429, 0.5053156146179403, 0.6176882613510519, 0.6003488372093024, 0.6216763565891472, 0.6000179955703212, 0.6036143410852712, 0.6215310077519379, 0.49642026578073084, 0.0, 0.46234772978959027, 0.6099404761904762, 0.6861904761904762, 0.6374404761904762]}, {\"categories\": [\"0\", \"1\", \"2\", \"3\", \"4\", \"5\", \"6\", \"7\", \"8\", \"9\", \"10\", \"11\", \"12\", \"13\", \"14\", \"15\", \"16\", \"17\", \"18\", \"19\", \"20\", \"21\", \"22\", \"23\", \"24\", \"25\", \"26\", \"27\", \"28\", \"29\"], \"mode\": \"lines\", \"name\": \"norm_macro_recall_max\", \"stepped\": true, \"type\": \"scatter\", \"data\": [0.5520418050941306, 0.6120251937984496, 0.6313704318936877, 0.6313704318936877, 0.6481049280177187, 0.6481049280177187, 0.6481049280177187, 0.6481049280177187, 0.6536738648947951, 0.6536738648947951, 0.6536738648947951, 0.6536738648947951, 0.6536738648947951, 0.6536738648947951, 0.6536738648947951, 0.6536738648947951, 0.6536738648947951, 0.6536738648947951, 0.6536738648947951, 0.6536738648947951, 0.6536738648947951, 0.6536738648947951, 0.6536738648947951, 0.6536738648947951, 0.6536738648947951, 0.6536738648947951, 0.6536738648947951, 0.6536738648947951, 0.6861904761904762, 0.6861904761904762]}]}, \"metricName\": null, \"primaryMetricName\": \"accuracy\", \"showLegend\": false}, \"run_metrics\": [{\"name\": \"experiment_status\", \"run_id\": \"AutoML_711a8f3f-3947-4a16-b260-488faaed90c0\", \"categories\": [0, 1, 2, 3, 4, 5, 6, 7, 8, 9, 10, 11, 12, 13], \"series\": [{\"data\": [\"DatasetEvaluation\", \"FeaturesGeneration\", \"DatasetFeaturization\", \"DatasetFeaturizationCompleted\", \"DatasetCrossValidationSplit\", \"ModelSelection\", \"BestRunExplainModel\", \"ModelExplanationDataSetSetup\", \"PickSurrogateModel\", \"EngineeredFeatureExplanations\", \"EngineeredFeatureExplanations\", \"RawFeaturesExplanations\", \"RawFeaturesExplanations\", \"BestRunExplainModel\"]}]}, {\"name\": \"experiment_status_description\", \"run_id\": \"AutoML_711a8f3f-3947-4a16-b260-488faaed90c0\", \"categories\": [0, 1, 2, 3, 4, 5, 6, 7, 8, 9, 10, 11, 12, 13], \"series\": [{\"data\": [\"Gathering dataset statistics.\", \"Generating features for the dataset.\", \"Beginning to fit featurizers and featurize the dataset.\", \"Completed fit featurizers and featurizing the dataset.\", \"Generating individually featurized CV splits.\", \"Beginning model selection.\", \"Best run model explanations started\", \"Model explanations data setup completed\", \"Choosing LightGBM as the surrogate model for explanations\", \"Computation of engineered features started\", \"Computation of engineered features completed\", \"Computation of raw features started\", \"Computation of raw features completed\", \"Best run model explanations completed\"]}]}, {\"name\": \"f1_score_macro\", \"run_id\": \"AutoML_711a8f3f-3947-4a16-b260-488faaed90c0\", \"categories\": [0], \"series\": [{\"data\": [0.8490680142814344]}]}, {\"name\": \"accuracy\", \"run_id\": \"AutoML_711a8f3f-3947-4a16-b260-488faaed90c0\", \"categories\": [0], \"series\": [{\"data\": [0.8763276836158193]}]}, {\"name\": \"recall_score_weighted\", \"run_id\": \"AutoML_711a8f3f-3947-4a16-b260-488faaed90c0\", \"categories\": [0], \"series\": [{\"data\": [0.8763276836158193]}]}, {\"name\": \"matthews_correlation\", \"run_id\": \"AutoML_711a8f3f-3947-4a16-b260-488faaed90c0\", \"categories\": [0], \"series\": [{\"data\": [0.7292901226073087]}]}, {\"name\": \"f1_score_micro\", \"run_id\": \"AutoML_711a8f3f-3947-4a16-b260-488faaed90c0\", \"categories\": [0], \"series\": [{\"data\": [0.8763276836158193]}]}, {\"name\": \"average_precision_score_macro\", \"run_id\": \"AutoML_711a8f3f-3947-4a16-b260-488faaed90c0\", \"categories\": [0], \"series\": [{\"data\": [0.9014174180917834]}]}, {\"name\": \"weighted_accuracy\", \"run_id\": \"AutoML_711a8f3f-3947-4a16-b260-488faaed90c0\", \"categories\": [0], \"series\": [{\"data\": [0.8986147612977045]}]}, {\"name\": \"AUC_micro\", \"run_id\": \"AutoML_711a8f3f-3947-4a16-b260-488faaed90c0\", \"categories\": [0], \"series\": [{\"data\": [0.9148580707970252]}]}, {\"name\": \"recall_score_macro\", \"run_id\": \"AutoML_711a8f3f-3947-4a16-b260-488faaed90c0\", \"categories\": [0], \"series\": [{\"data\": [0.843095238095238]}]}, {\"name\": \"balanced_accuracy\", \"run_id\": \"AutoML_711a8f3f-3947-4a16-b260-488faaed90c0\", \"categories\": [0], \"series\": [{\"data\": [0.843095238095238]}]}, {\"name\": \"average_precision_score_weighted\", \"run_id\": \"AutoML_711a8f3f-3947-4a16-b260-488faaed90c0\", \"categories\": [0], \"series\": [{\"data\": [0.925904789252227]}]}, {\"name\": \"norm_macro_recall\", \"run_id\": \"AutoML_711a8f3f-3947-4a16-b260-488faaed90c0\", \"categories\": [0], \"series\": [{\"data\": [0.6861904761904762]}]}, {\"name\": \"AUC_weighted\", \"run_id\": \"AutoML_711a8f3f-3947-4a16-b260-488faaed90c0\", \"categories\": [0], \"series\": [{\"data\": [0.9157743170911775]}]}, {\"name\": \"log_loss\", \"run_id\": \"AutoML_711a8f3f-3947-4a16-b260-488faaed90c0\", \"categories\": [0], \"series\": [{\"data\": [0.40631175416244175]}]}, {\"name\": \"precision_score_macro\", \"run_id\": \"AutoML_711a8f3f-3947-4a16-b260-488faaed90c0\", \"categories\": [0], \"series\": [{\"data\": [0.8904235593903296]}]}, {\"name\": \"recall_score_micro\", \"run_id\": \"AutoML_711a8f3f-3947-4a16-b260-488faaed90c0\", \"categories\": [0], \"series\": [{\"data\": [0.8763276836158193]}]}, {\"name\": \"precision_score_micro\", \"run_id\": \"AutoML_711a8f3f-3947-4a16-b260-488faaed90c0\", \"categories\": [0], \"series\": [{\"data\": [0.8763276836158193]}]}, {\"name\": \"AUC_macro\", \"run_id\": \"AutoML_711a8f3f-3947-4a16-b260-488faaed90c0\", \"categories\": [0], \"series\": [{\"data\": [0.9157743170911775]}]}, {\"name\": \"average_precision_score_micro\", \"run_id\": \"AutoML_711a8f3f-3947-4a16-b260-488faaed90c0\", \"categories\": [0], \"series\": [{\"data\": [0.9176121738190284]}]}, {\"name\": \"f1_score_weighted\", \"run_id\": \"AutoML_711a8f3f-3947-4a16-b260-488faaed90c0\", \"categories\": [0], \"series\": [{\"data\": [0.870270678532381]}]}, {\"name\": \"precision_score_weighted\", \"run_id\": \"AutoML_711a8f3f-3947-4a16-b260-488faaed90c0\", \"categories\": [0], \"series\": [{\"data\": [0.8950471537693939]}]}], \"run_logs\": \"\\nRun is completed.\", \"graph\": {}, \"widget_settings\": {\"childWidgetDisplay\": \"popup\", \"send_telemetry\": false, \"log_level\": \"INFO\", \"sdk_version\": \"1.24.0\"}, \"loading\": false}"
          },
          "metadata": {}
        }
      ],
      "execution_count": 7,
      "metadata": {
        "gather": {
          "logged": 1617410250099
        }
      }
    },
    {
      "cell_type": "markdown",
      "source": [
        "## Best Model\n",
        "\n"
      ],
      "metadata": {}
    },
    {
      "cell_type": "code",
      "source": [
        "\n",
        "#getting the metrics required\n",
        "best_run_auto, fitted_model_auto = remote_run.get_output()\n",
        "best_run_metrics = best_run_auto.get_metrics()\n",
        "parameter_values = best_run_auto.get_details()['runDefinition']['arguments']\n",
        "\n",
        "print('The best run automl model\\n', best_run_auto)\n",
        "\n",
        "print('\\nThe Id for best run is:', best_run_auto.id)\n",
        "print('The Accuracy: is', best_run_metrics['accuracy'])\n",
        "\n"
      ],
      "outputs": [
        {
          "output_type": "stream",
          "name": "stdout",
          "text": [
            "The best run automl model\n",
            " Run(Experiment: AutomatedML,\n",
            "Id: AutoML_711a8f3f-3947-4a16-b260-488faaed90c0_28,\n",
            "Type: azureml.scriptrun,\n",
            "Status: Completed)\n",
            "\n",
            "The Id for best run is: AutoML_711a8f3f-3947-4a16-b260-488faaed90c0_28\n",
            "The Accuracy: is 0.8763276836158193\n"
          ]
        }
      ],
      "execution_count": 8,
      "metadata": {
        "gather": {
          "logged": 1617410288854
        },
        "jupyter": {
          "outputs_hidden": false,
          "source_hidden": false
        },
        "nteract": {
          "transient": {
            "deleting": false
          }
        }
      }
    },
    {
      "cell_type": "code",
      "source": [
        "# Retrieve and save your best automl model.\n",
        "best_run_model, fitted_model_a = remote_run.get_output()\n",
        "\n",
        "joblib.dump(fitted_model_a, \"model.joblib\")\n",
        "\n",
        "print(best_run_model)\n",
        "\n",
        "print(fitted_model_a)"
      ],
      "outputs": [
        {
          "output_type": "stream",
          "name": "stdout",
          "text": [
            "Run(Experiment: AutomatedML,\n",
            "Id: AutoML_711a8f3f-3947-4a16-b260-488faaed90c0_28,\n",
            "Type: azureml.scriptrun,\n",
            "Status: Completed)\n",
            "Pipeline(memory=None,\n",
            "         steps=[('datatransformer',\n",
            "                 DataTransformer(enable_dnn=None, enable_feature_sweeping=None,\n",
            "                                 feature_sweeping_config=None,\n",
            "                                 feature_sweeping_timeout=None,\n",
            "                                 featurization_config=None, force_text_dnn=None,\n",
            "                                 is_cross_validation=None,\n",
            "                                 is_onnx_compatible=None, logger=None,\n",
            "                                 observer=None, task=None, working_dir=None)),\n",
            "                ('prefittedsoftvotingclassifier',...\n",
            "                                                                                                  n_estimators=25,\n",
            "                                                                                                  n_jobs=1,\n",
            "                                                                                                  oob_score=True,\n",
            "                                                                                                  random_state=None,\n",
            "                                                                                                  verbose=0,\n",
            "                                                                                                  warm_start=False))],\n",
            "                                                                     verbose=False))],\n",
            "                                               flatten_transform=None,\n",
            "                                               weights=[0.08333333333333333,\n",
            "                                                        0.08333333333333333,\n",
            "                                                        0.08333333333333333,\n",
            "                                                        0.16666666666666666,\n",
            "                                                        0.08333333333333333,\n",
            "                                                        0.08333333333333333,\n",
            "                                                        0.16666666666666666,\n",
            "                                                        0.08333333333333333,\n",
            "                                                        0.08333333333333333,\n",
            "                                                        0.08333333333333333]))],\n",
            "         verbose=False)\n"
          ]
        }
      ],
      "execution_count": 9,
      "metadata": {
        "gather": {
          "logged": 1617410293258
        },
        "jupyter": {
          "outputs_hidden": false,
          "source_hidden": false
        },
        "nteract": {
          "transient": {
            "deleting": false
          }
        }
      }
    },
    {
      "cell_type": "code",
      "source": [
        "#print the estimators\n",
        "from pprint import pprint\n",
        "\n",
        "def print_model(model, prefix=\"\"):\n",
        "    for step in model.steps:\n",
        "        print(prefix + step[0])\n",
        "        if hasattr(step[1], 'estimators') and hasattr(step[1], 'weights'):\n",
        "            pprint({'estimators': list(\n",
        "                e[0] for e in step[1].estimators), 'weights': step[1].weights})\n",
        "            print()\n",
        "            for estimator in step[1].estimators:\n",
        "                print_model(estimator[1], estimator[0] + ' - ')\n",
        "        else:\n",
        "            pprint(step[1].get_params())\n",
        "            print()\n",
        "\n",
        "print_model(fitted_model_a)"
      ],
      "outputs": [
        {
          "output_type": "stream",
          "name": "stdout",
          "text": [
            "datatransformer\n",
            "{'enable_dnn': None,\n",
            " 'enable_feature_sweeping': None,\n",
            " 'feature_sweeping_config': None,\n",
            " 'feature_sweeping_timeout': None,\n",
            " 'featurization_config': None,\n",
            " 'force_text_dnn': None,\n",
            " 'is_cross_validation': None,\n",
            " 'is_onnx_compatible': None,\n",
            " 'logger': None,\n",
            " 'observer': None,\n",
            " 'task': None,\n",
            " 'working_dir': None}\n",
            "\n",
            "prefittedsoftvotingclassifier\n",
            "{'estimators': ['16', '12', '27', '8', '19', '4', '10', '9', '5', '25'],\n",
            " 'weights': [0.08333333333333333,\n",
            "             0.08333333333333333,\n",
            "             0.08333333333333333,\n",
            "             0.16666666666666666,\n",
            "             0.08333333333333333,\n",
            "             0.08333333333333333,\n",
            "             0.16666666666666666,\n",
            "             0.08333333333333333,\n",
            "             0.08333333333333333,\n",
            "             0.08333333333333333]}\n",
            "\n",
            "16 - robustscaler\n",
            "{'copy': True,\n",
            " 'quantile_range': [25, 75],\n",
            " 'with_centering': True,\n",
            " 'with_scaling': False}\n",
            "\n",
            "16 - extratreesclassifier\n",
            "{'bootstrap': False,\n",
            " 'ccp_alpha': 0.0,\n",
            " 'class_weight': None,\n",
            " 'criterion': 'entropy',\n",
            " 'max_depth': None,\n",
            " 'max_features': 0.8,\n",
            " 'max_leaf_nodes': None,\n",
            " 'max_samples': None,\n",
            " 'min_impurity_decrease': 0.0,\n",
            " 'min_impurity_split': None,\n",
            " 'min_samples_leaf': 0.01,\n",
            " 'min_samples_split': 0.2442105263157895,\n",
            " 'min_weight_fraction_leaf': 0.0,\n",
            " 'n_estimators': 100,\n",
            " 'n_jobs': 1,\n",
            " 'oob_score': False,\n",
            " 'random_state': None,\n",
            " 'verbose': 0,\n",
            " 'warm_start': False}\n",
            "\n",
            "12 - standardscalerwrapper\n",
            "{'class_name': 'StandardScaler',\n",
            " 'copy': True,\n",
            " 'module_name': 'sklearn.preprocessing._data',\n",
            " 'with_mean': False,\n",
            " 'with_std': True}\n",
            "\n",
            "12 - randomforestclassifier\n",
            "{'bootstrap': False,\n",
            " 'ccp_alpha': 0.0,\n",
            " 'class_weight': None,\n",
            " 'criterion': 'entropy',\n",
            " 'max_depth': None,\n",
            " 'max_features': 0.2,\n",
            " 'max_leaf_nodes': None,\n",
            " 'max_samples': None,\n",
            " 'min_impurity_decrease': 0.0,\n",
            " 'min_impurity_split': None,\n",
            " 'min_samples_leaf': 0.01,\n",
            " 'min_samples_split': 0.10368421052631578,\n",
            " 'min_weight_fraction_leaf': 0.0,\n",
            " 'n_estimators': 25,\n",
            " 'n_jobs': 1,\n",
            " 'oob_score': False,\n",
            " 'random_state': None,\n",
            " 'verbose': 0,\n",
            " 'warm_start': False}\n",
            "\n",
            "27 - maxabsscaler\n",
            "{'copy': True}\n",
            "\n",
            "27 - extratreesclassifier\n",
            "{'bootstrap': False,\n",
            " 'ccp_alpha': 0.0,\n",
            " 'class_weight': None,\n",
            " 'criterion': 'entropy',\n",
            " 'max_depth': None,\n",
            " 'max_features': 0.8,\n",
            " 'max_leaf_nodes': None,\n",
            " 'max_samples': None,\n",
            " 'min_impurity_decrease': 0.0,\n",
            " 'min_impurity_split': None,\n",
            " 'min_samples_leaf': 0.035789473684210524,\n",
            " 'min_samples_split': 0.19736842105263158,\n",
            " 'min_weight_fraction_leaf': 0.0,\n",
            " 'n_estimators': 100,\n",
            " 'n_jobs': 1,\n",
            " 'oob_score': False,\n",
            " 'random_state': None,\n",
            " 'verbose': 0,\n",
            " 'warm_start': False}\n",
            "\n",
            "8 - sparsenormalizer\n",
            "{'copy': True, 'norm': 'l2'}\n",
            "\n",
            "8 - xgboostclassifier\n",
            "{'base_score': 0.5,\n",
            " 'booster': 'gbtree',\n",
            " 'colsample_bylevel': 1,\n",
            " 'colsample_bynode': 1,\n",
            " 'colsample_bytree': 0.9,\n",
            " 'eta': 0.3,\n",
            " 'gamma': 0,\n",
            " 'learning_rate': 0.1,\n",
            " 'max_delta_step': 0,\n",
            " 'max_depth': 9,\n",
            " 'max_leaves': 0,\n",
            " 'min_child_weight': 1,\n",
            " 'missing': nan,\n",
            " 'n_estimators': 25,\n",
            " 'n_jobs': 1,\n",
            " 'nthread': None,\n",
            " 'objective': 'reg:logistic',\n",
            " 'random_state': 0,\n",
            " 'reg_alpha': 0,\n",
            " 'reg_lambda': 0.7291666666666667,\n",
            " 'scale_pos_weight': 1,\n",
            " 'seed': None,\n",
            " 'silent': None,\n",
            " 'subsample': 0.9,\n",
            " 'tree_method': 'auto',\n",
            " 'verbose': -10,\n",
            " 'verbosity': 0}\n",
            "\n",
            "19 - sparsenormalizer\n",
            "{'copy': True, 'norm': 'l1'}\n",
            "\n",
            "19 - xgboostclassifier\n",
            "{'base_score': 0.5,\n",
            " 'booster': 'gbtree',\n",
            " 'colsample_bylevel': 1,\n",
            " 'colsample_bynode': 1,\n",
            " 'colsample_bytree': 0.5,\n",
            " 'eta': 0.3,\n",
            " 'gamma': 0,\n",
            " 'learning_rate': 0.1,\n",
            " 'max_delta_step': 0,\n",
            " 'max_depth': 6,\n",
            " 'max_leaves': 0,\n",
            " 'min_child_weight': 1,\n",
            " 'missing': nan,\n",
            " 'n_estimators': 50,\n",
            " 'n_jobs': 1,\n",
            " 'nthread': None,\n",
            " 'objective': 'reg:logistic',\n",
            " 'random_state': 0,\n",
            " 'reg_alpha': 0,\n",
            " 'reg_lambda': 2.1875,\n",
            " 'scale_pos_weight': 1,\n",
            " 'seed': None,\n",
            " 'silent': None,\n",
            " 'subsample': 0.8,\n",
            " 'tree_method': 'auto',\n",
            " 'verbose': -10,\n",
            " 'verbosity': 0}\n",
            "\n",
            "4 - minmaxscaler\n",
            "{'copy': True, 'feature_range': (0, 1)}\n",
            "\n",
            "4 - randomforestclassifier\n",
            "{'bootstrap': True,\n",
            " 'ccp_alpha': 0.0,\n",
            " 'class_weight': 'balanced',\n",
            " 'criterion': 'gini',\n",
            " 'max_depth': None,\n",
            " 'max_features': 'log2',\n",
            " 'max_leaf_nodes': None,\n",
            " 'max_samples': None,\n",
            " 'min_impurity_decrease': 0.0,\n",
            " 'min_impurity_split': None,\n",
            " 'min_samples_leaf': 0.01,\n",
            " 'min_samples_split': 0.01,\n",
            " 'min_weight_fraction_leaf': 0.0,\n",
            " 'n_estimators': 25,\n",
            " 'n_jobs': 1,\n",
            " 'oob_score': True,\n",
            " 'random_state': None,\n",
            " 'verbose': 0,\n",
            " 'warm_start': False}\n",
            "\n",
            "10 - sparsenormalizer\n",
            "{'copy': True, 'norm': 'l2'}\n",
            "\n",
            "10 - xgboostclassifier\n",
            "{'base_score': 0.5,\n",
            " 'booster': 'gbtree',\n",
            " 'colsample_bylevel': 1,\n",
            " 'colsample_bynode': 1,\n",
            " 'colsample_bytree': 0.7,\n",
            " 'eta': 0.3,\n",
            " 'gamma': 0.1,\n",
            " 'learning_rate': 0.1,\n",
            " 'max_delta_step': 0,\n",
            " 'max_depth': 8,\n",
            " 'max_leaves': 0,\n",
            " 'min_child_weight': 1,\n",
            " 'missing': nan,\n",
            " 'n_estimators': 10,\n",
            " 'n_jobs': 1,\n",
            " 'nthread': None,\n",
            " 'objective': 'reg:logistic',\n",
            " 'random_state': 0,\n",
            " 'reg_alpha': 0,\n",
            " 'reg_lambda': 1.5625,\n",
            " 'scale_pos_weight': 1,\n",
            " 'seed': None,\n",
            " 'silent': None,\n",
            " 'subsample': 0.5,\n",
            " 'tree_method': 'auto',\n",
            " 'verbose': -10,\n",
            " 'verbosity': 0}\n",
            "\n",
            "9 - maxabsscaler\n",
            "{'copy': True}\n",
            "\n",
            "9 - gradientboostingclassifier\n",
            "{'ccp_alpha': 0.0,\n",
            " 'criterion': 'friedman_mse',\n",
            " 'init': None,\n",
            " 'learning_rate': 0.046415888336127774,\n",
            " 'loss': 'deviance',\n",
            " 'max_depth': 4,\n",
            " 'max_features': 0.4,\n",
            " 'max_leaf_nodes': None,\n",
            " 'min_impurity_decrease': 0.0,\n",
            " 'min_impurity_split': None,\n",
            " 'min_samples_leaf': 0.08736842105263157,\n",
            " 'min_samples_split': 0.5252631578947369,\n",
            " 'min_weight_fraction_leaf': 0.0,\n",
            " 'n_estimators': 100,\n",
            " 'n_iter_no_change': None,\n",
            " 'presort': 'deprecated',\n",
            " 'random_state': None,\n",
            " 'subsample': 1,\n",
            " 'tol': 0.0001,\n",
            " 'validation_fraction': 0.1,\n",
            " 'verbose': 0,\n",
            " 'warm_start': False}\n",
            "\n",
            "5 - standardscalerwrapper\n",
            "{'class_name': 'StandardScaler',\n",
            " 'copy': True,\n",
            " 'module_name': 'sklearn.preprocessing._data',\n",
            " 'with_mean': False,\n",
            " 'with_std': False}\n",
            "\n",
            "5 - xgboostclassifier\n",
            "{'base_score': 0.5,\n",
            " 'booster': 'gbtree',\n",
            " 'colsample_bylevel': 1,\n",
            " 'colsample_bynode': 1,\n",
            " 'colsample_bytree': 0.9,\n",
            " 'eta': 0.3,\n",
            " 'gamma': 0,\n",
            " 'learning_rate': 0.1,\n",
            " 'max_delta_step': 0,\n",
            " 'max_depth': 10,\n",
            " 'max_leaves': 63,\n",
            " 'min_child_weight': 1,\n",
            " 'missing': nan,\n",
            " 'n_estimators': 600,\n",
            " 'n_jobs': 1,\n",
            " 'nthread': None,\n",
            " 'objective': 'reg:logistic',\n",
            " 'random_state': 0,\n",
            " 'reg_alpha': 1.6666666666666667,\n",
            " 'reg_lambda': 0.9375,\n",
            " 'scale_pos_weight': 1,\n",
            " 'seed': None,\n",
            " 'silent': None,\n",
            " 'subsample': 1,\n",
            " 'tree_method': 'auto',\n",
            " 'verbose': -10,\n",
            " 'verbosity': 0}\n",
            "\n",
            "25 - sparsenormalizer\n",
            "{'copy': True, 'norm': 'l1'}\n",
            "\n",
            "25 - extratreesclassifier\n",
            "{'bootstrap': True,\n",
            " 'ccp_alpha': 0.0,\n",
            " 'class_weight': None,\n",
            " 'criterion': 'gini',\n",
            " 'max_depth': None,\n",
            " 'max_features': 0.05,\n",
            " 'max_leaf_nodes': None,\n",
            " 'max_samples': None,\n",
            " 'min_impurity_decrease': 0.0,\n",
            " 'min_impurity_split': None,\n",
            " 'min_samples_leaf': 0.08736842105263157,\n",
            " 'min_samples_split': 0.10368421052631578,\n",
            " 'min_weight_fraction_leaf': 0.0,\n",
            " 'n_estimators': 25,\n",
            " 'n_jobs': 1,\n",
            " 'oob_score': True,\n",
            " 'random_state': None,\n",
            " 'verbose': 0,\n",
            " 'warm_start': False}\n",
            "\n"
          ]
        }
      ],
      "execution_count": 10,
      "metadata": {
        "scrolled": false,
        "gather": {
          "logged": 1617410296056
        }
      }
    },
    {
      "cell_type": "code",
      "source": [
        "#final estimator\n",
        "print(fitted_model_a._final_estimator)\n"
      ],
      "outputs": [
        {
          "output_type": "stream",
          "name": "stdout",
          "text": [
            "PreFittedSoftVotingClassifier(classification_labels=None,\n",
            "                              estimators=[('16',\n",
            "                                           Pipeline(memory=None,\n",
            "                                                    steps=[('robustscaler',\n",
            "                                                            RobustScaler(copy=True,\n",
            "                                                                         quantile_range=[25,\n",
            "                                                                                         75],\n",
            "                                                                         with_centering=True,\n",
            "                                                                         with_scaling=False)),\n",
            "                                                           ('extratreesclassifier',\n",
            "                                                            ExtraTreesClassifier(bootstrap=False,\n",
            "                                                                                 ccp_alpha=0.0,\n",
            "                                                                                 class_weight=None,\n",
            "                                                                                 criterion='entropy',\n",
            "                                                                                 max_depth=None,\n",
            "                                                                                 max_features=0.8...\n",
            "                                                                                 min_weight_fraction_leaf=0.0,\n",
            "                                                                                 n_estimators=25,\n",
            "                                                                                 n_jobs=1,\n",
            "                                                                                 oob_score=True,\n",
            "                                                                                 random_state=None,\n",
            "                                                                                 verbose=0,\n",
            "                                                                                 warm_start=False))],\n",
            "                                                    verbose=False))],\n",
            "                              flatten_transform=None,\n",
            "                              weights=[0.08333333333333333, 0.08333333333333333,\n",
            "                                       0.08333333333333333, 0.16666666666666666,\n",
            "                                       0.08333333333333333, 0.08333333333333333,\n",
            "                                       0.16666666666666666, 0.08333333333333333,\n",
            "                                       0.08333333333333333,\n",
            "                                       0.08333333333333333])\n"
          ]
        }
      ],
      "execution_count": 11,
      "metadata": {
        "gather": {
          "logged": 1617410423739
        }
      }
    },
    {
      "cell_type": "code",
      "source": [
        "#Register the model \"best-model_auto.joblib\"\n",
        "the_bestmodel = best_run_model.register_model(model_name='best-model_auto.joblib', model_path='./')"
      ],
      "outputs": [],
      "execution_count": 12,
      "metadata": {
        "gather": {
          "logged": 1617410427574
        },
        "jupyter": {
          "outputs_hidden": false,
          "source_hidden": false
        },
        "nteract": {
          "transient": {
            "deleting": false
          }
        }
      }
    },
    {
      "cell_type": "code",
      "source": [
        "#display the best model \n",
        "the_bestmodel"
      ],
      "outputs": [
        {
          "output_type": "execute_result",
          "execution_count": 13,
          "data": {
            "text/plain": "Model(workspace=Workspace.create(name='quick-starts-ws-141841', subscription_id='d4ad7261-832d-46b2-b093-22156001df5b', resource_group='aml-quickstarts-141841'), name=best-model_auto.joblib, id=best-model_auto.joblib:1, version=1, tags={}, properties={})"
          },
          "metadata": {}
        }
      ],
      "execution_count": 13,
      "metadata": {
        "gather": {
          "logged": 1617410428979
        }
      }
    },
    {
      "cell_type": "code",
      "source": [],
      "outputs": [],
      "execution_count": null,
      "metadata": {}
    }
  ],
  "metadata": {
    "kernel_info": {
      "name": "python3"
    },
    "kernelspec": {
      "name": "python3",
      "language": "python",
      "display_name": "Python 3"
    },
    "language_info": {
      "name": "python",
      "version": "3.6.9",
      "mimetype": "text/x-python",
      "codemirror_mode": {
        "name": "ipython",
        "version": 3
      },
      "pygments_lexer": "ipython3",
      "nbconvert_exporter": "python",
      "file_extension": ".py"
    },
    "nteract": {
      "version": "nteract-front-end@1.0.0"
    }
  },
  "nbformat": 4,
  "nbformat_minor": 2
}