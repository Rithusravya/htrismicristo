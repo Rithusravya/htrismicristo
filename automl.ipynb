{
 "cells": [
  {
   "cell_type": "markdown",
   "metadata": {},
   "source": [
    "# Automated ML"
   ]
  },
  {
   "cell_type": "code",
   "execution_count": 1,
   "metadata": {
    "gather": {
     "logged": 1617712682285
    },
    "jupyter": {
     "outputs_hidden": false,
     "source_hidden": false
    },
    "nteract": {
     "transient": {
      "deleting": false
     }
    }
   },
   "outputs": [],
   "source": [
    "#Import required Dependencies\n",
    "from azureml.data.dataset_factory import TabularDatasetFactory\n",
    "import joblib\n",
    "from azureml.train.automl import AutoMLConfig\n",
    "from azureml.core import Workspace, Experiment, Dataset\n",
    "from azureml.core.environment import Environment\n",
    "from azureml.core.compute import ComputeTarget, AmlCompute\n",
    "from azureml.core.compute_target import ComputeTargetException\n",
    "from azureml.widgets import RunDetails\n",
    "import os\n",
    "import joblib\n",
    "from azureml.core import Experiment\n",
    "from azureml.core.model import Model"
   ]
  },
  {
   "cell_type": "code",
   "execution_count": 2,
   "metadata": {
    "gather": {
     "logged": 1617712692743
    },
    "jupyter": {
     "outputs_hidden": false,
     "source_hidden": false
    },
    "nteract": {
     "transient": {
      "deleting": false
     }
    }
   },
   "outputs": [
    {
     "name": "stdout",
     "output_type": "stream",
     "text": [
      "Requirement already satisfied: xgboost==0.90 in /anaconda/envs/azureml_py36/lib/python3.6/site-packages (0.90)\r\n",
      "Requirement already satisfied: numpy in /anaconda/envs/azureml_py36/lib/python3.6/site-packages (from xgboost==0.90) (1.18.5)\r\n",
      "Requirement already satisfied: scipy in /anaconda/envs/azureml_py36/lib/python3.6/site-packages (from xgboost==0.90) (1.4.1)\r\n"
     ]
    }
   ],
   "source": [
    "# Installing xgboost 0.90 in order to avoid compatibility issues when retrieving the best model\n",
    "!pip install xgboost==0.90\n",
    "# The kernel should be restarted after executing this cell in order to apply the changes\n",
    "# Then the notebook can be executed normally"
   ]
  },
  {
   "cell_type": "code",
   "execution_count": 3,
   "metadata": {
    "gather": {
     "logged": 1617712746545
    },
    "scrolled": false
   },
   "outputs": [
    {
     "name": "stdout",
     "output_type": "stream",
     "text": [
      "Workspace name: quick-starts-ws-142131\n",
      "Azure region: southcentralus\n",
      "Subscription id: aa7cf8e8-d23f-4bce-a7b9-1f0b4e0ac8ee\n",
      "Resource group: aml-quickstarts-142131\n",
      "New cluster is created\n",
      "Creating....\n",
      "SucceededProvisioning operation finished, operation \"Succeeded\"\n",
      "Succeeded\n",
      "AmlCompute wait for completion finished\n",
      "\n",
      "Minimum number of nodes requested have been provisioned\n"
     ]
    }
   ],
   "source": [
    "#find the workspace and create the environment with the name \"AutoML\". Start logging using exp.\n",
    "ws = Workspace.from_config()\n",
    "exp = Experiment(workspace=ws, name=\"AutoML\")\n",
    "\n",
    "print('Workspace name: ' + ws.name, \n",
    "      'Azure region: ' + ws.location, \n",
    "      'Subscription id: ' + ws.subscription_id, \n",
    "      'Resource group: ' + ws.resource_group, sep = '\\n')\n",
    "\n",
    "run = exp.start_logging()\n",
    "\n",
    "# Choose a name for your CPU cluster\n",
    "cpu_cluster_name = \"autoMlCluster\"\n",
    "\n",
    "# Verify that the cluster doesn't already exist\n",
    "try:\n",
    "    cpu_cluster = ComputeTarget(workspace=ws, name=cpu_cluster_name)\n",
    "    print('Found existing cluster')\n",
    "    \n",
    "#create a new cluster with the specified configurations \"vm_size='STANDARD_D12_V2' and at most 4 nodes\n",
    "except ComputeTargetException:\n",
    "    \n",
    "    compute_config = AmlCompute.provisioning_configuration(vm_size='STANDARD_D12_V2', max_nodes=4)\n",
    "    cpu_cluster = ComputeTarget.create(ws, cpu_cluster_name, compute_config)\n",
    "    print(\"New cluster is created\")\n",
    "    \n",
    "cpu_cluster.wait_for_completion(show_output=True)\n"
   ]
  },
  {
   "cell_type": "markdown",
   "metadata": {},
   "source": [
    "## Dataset\n",
    "\n",
    "### Overview\n",
    "The dataset used to develop both models comes from Kaggle datasets. It deals with heart failures, bringing information on 12 categorical and numerical features which can be used to forecast mortality rates by cardiovascular diseases (CVDs). Additionally, The dataset has a total of 299 observations.\n",
    "\n",
    "#### Task\n",
    "As it was mentioned previously, this data is going to be used to predict heart failures caused by CVDs, in order to provide an early detection ML model using the 12 clinical variables included in the dataset.\n",
    "\n",
    "#### Access\n",
    "For training the AutoML model, I registered the dataset from local files using the Datasets Hub in the Azure ML Studio.\n",
    "By contrast, I used the following dataset url from github for training the customised model using HyperDrive: https://github.com/htrismicristo/Capstone-Project-Azure-ML-Engineer-Microsoft-Udacity/blob/main/heart_failure_clinical_records_dataset.csv"
   ]
  },
  {
   "cell_type": "code",
   "execution_count": 4,
   "metadata": {
    "gather": {
     "logged": 1617712880686
    },
    "jupyter": {
     "outputs_hidden": false,
     "source_hidden": false
    },
    "nteract": {
     "transient": {
      "deleting": false
     }
    }
   },
   "outputs": [
    {
     "data": {
      "text/html": [
       "<div>\n",
       "<style scoped>\n",
       "    .dataframe tbody tr th:only-of-type {\n",
       "        vertical-align: middle;\n",
       "    }\n",
       "\n",
       "    .dataframe tbody tr th {\n",
       "        vertical-align: top;\n",
       "    }\n",
       "\n",
       "    .dataframe thead th {\n",
       "        text-align: right;\n",
       "    }\n",
       "</style>\n",
       "<table border=\"1\" class=\"dataframe\">\n",
       "  <thead>\n",
       "    <tr style=\"text-align: right;\">\n",
       "      <th></th>\n",
       "      <th>age</th>\n",
       "      <th>anaemia</th>\n",
       "      <th>creatinine_phosphokinase</th>\n",
       "      <th>diabetes</th>\n",
       "      <th>ejection_fraction</th>\n",
       "      <th>high_blood_pressure</th>\n",
       "      <th>platelets</th>\n",
       "      <th>serum_creatinine</th>\n",
       "      <th>serum_sodium</th>\n",
       "      <th>sex</th>\n",
       "      <th>smoking</th>\n",
       "      <th>time</th>\n",
       "      <th>DEATH_EVENT</th>\n",
       "    </tr>\n",
       "  </thead>\n",
       "  <tbody>\n",
       "    <tr>\n",
       "      <th>0</th>\n",
       "      <td>75.0</td>\n",
       "      <td>0</td>\n",
       "      <td>582</td>\n",
       "      <td>0</td>\n",
       "      <td>20</td>\n",
       "      <td>1</td>\n",
       "      <td>265000.00</td>\n",
       "      <td>1.9</td>\n",
       "      <td>130</td>\n",
       "      <td>1</td>\n",
       "      <td>0</td>\n",
       "      <td>4</td>\n",
       "      <td>1</td>\n",
       "    </tr>\n",
       "    <tr>\n",
       "      <th>1</th>\n",
       "      <td>55.0</td>\n",
       "      <td>0</td>\n",
       "      <td>7861</td>\n",
       "      <td>0</td>\n",
       "      <td>38</td>\n",
       "      <td>0</td>\n",
       "      <td>263358.03</td>\n",
       "      <td>1.1</td>\n",
       "      <td>136</td>\n",
       "      <td>1</td>\n",
       "      <td>0</td>\n",
       "      <td>6</td>\n",
       "      <td>1</td>\n",
       "    </tr>\n",
       "    <tr>\n",
       "      <th>2</th>\n",
       "      <td>65.0</td>\n",
       "      <td>0</td>\n",
       "      <td>146</td>\n",
       "      <td>0</td>\n",
       "      <td>20</td>\n",
       "      <td>0</td>\n",
       "      <td>162000.00</td>\n",
       "      <td>1.3</td>\n",
       "      <td>129</td>\n",
       "      <td>1</td>\n",
       "      <td>1</td>\n",
       "      <td>7</td>\n",
       "      <td>1</td>\n",
       "    </tr>\n",
       "    <tr>\n",
       "      <th>3</th>\n",
       "      <td>50.0</td>\n",
       "      <td>1</td>\n",
       "      <td>111</td>\n",
       "      <td>0</td>\n",
       "      <td>20</td>\n",
       "      <td>0</td>\n",
       "      <td>210000.00</td>\n",
       "      <td>1.9</td>\n",
       "      <td>137</td>\n",
       "      <td>1</td>\n",
       "      <td>0</td>\n",
       "      <td>7</td>\n",
       "      <td>1</td>\n",
       "    </tr>\n",
       "    <tr>\n",
       "      <th>4</th>\n",
       "      <td>65.0</td>\n",
       "      <td>1</td>\n",
       "      <td>160</td>\n",
       "      <td>1</td>\n",
       "      <td>20</td>\n",
       "      <td>0</td>\n",
       "      <td>327000.00</td>\n",
       "      <td>2.7</td>\n",
       "      <td>116</td>\n",
       "      <td>0</td>\n",
       "      <td>0</td>\n",
       "      <td>8</td>\n",
       "      <td>1</td>\n",
       "    </tr>\n",
       "    <tr>\n",
       "      <th>...</th>\n",
       "      <td>...</td>\n",
       "      <td>...</td>\n",
       "      <td>...</td>\n",
       "      <td>...</td>\n",
       "      <td>...</td>\n",
       "      <td>...</td>\n",
       "      <td>...</td>\n",
       "      <td>...</td>\n",
       "      <td>...</td>\n",
       "      <td>...</td>\n",
       "      <td>...</td>\n",
       "      <td>...</td>\n",
       "      <td>...</td>\n",
       "    </tr>\n",
       "    <tr>\n",
       "      <th>294</th>\n",
       "      <td>62.0</td>\n",
       "      <td>0</td>\n",
       "      <td>61</td>\n",
       "      <td>1</td>\n",
       "      <td>38</td>\n",
       "      <td>1</td>\n",
       "      <td>155000.00</td>\n",
       "      <td>1.1</td>\n",
       "      <td>143</td>\n",
       "      <td>1</td>\n",
       "      <td>1</td>\n",
       "      <td>270</td>\n",
       "      <td>0</td>\n",
       "    </tr>\n",
       "    <tr>\n",
       "      <th>295</th>\n",
       "      <td>55.0</td>\n",
       "      <td>0</td>\n",
       "      <td>1820</td>\n",
       "      <td>0</td>\n",
       "      <td>38</td>\n",
       "      <td>0</td>\n",
       "      <td>270000.00</td>\n",
       "      <td>1.2</td>\n",
       "      <td>139</td>\n",
       "      <td>0</td>\n",
       "      <td>0</td>\n",
       "      <td>271</td>\n",
       "      <td>0</td>\n",
       "    </tr>\n",
       "    <tr>\n",
       "      <th>296</th>\n",
       "      <td>45.0</td>\n",
       "      <td>0</td>\n",
       "      <td>2060</td>\n",
       "      <td>1</td>\n",
       "      <td>60</td>\n",
       "      <td>0</td>\n",
       "      <td>742000.00</td>\n",
       "      <td>0.8</td>\n",
       "      <td>138</td>\n",
       "      <td>0</td>\n",
       "      <td>0</td>\n",
       "      <td>278</td>\n",
       "      <td>0</td>\n",
       "    </tr>\n",
       "    <tr>\n",
       "      <th>297</th>\n",
       "      <td>45.0</td>\n",
       "      <td>0</td>\n",
       "      <td>2413</td>\n",
       "      <td>0</td>\n",
       "      <td>38</td>\n",
       "      <td>0</td>\n",
       "      <td>140000.00</td>\n",
       "      <td>1.4</td>\n",
       "      <td>140</td>\n",
       "      <td>1</td>\n",
       "      <td>1</td>\n",
       "      <td>280</td>\n",
       "      <td>0</td>\n",
       "    </tr>\n",
       "    <tr>\n",
       "      <th>298</th>\n",
       "      <td>50.0</td>\n",
       "      <td>0</td>\n",
       "      <td>196</td>\n",
       "      <td>0</td>\n",
       "      <td>45</td>\n",
       "      <td>0</td>\n",
       "      <td>395000.00</td>\n",
       "      <td>1.6</td>\n",
       "      <td>136</td>\n",
       "      <td>1</td>\n",
       "      <td>1</td>\n",
       "      <td>285</td>\n",
       "      <td>0</td>\n",
       "    </tr>\n",
       "  </tbody>\n",
       "</table>\n",
       "<p>299 rows × 13 columns</p>\n",
       "</div>"
      ],
      "text/plain": [
       "      age  anaemia  creatinine_phosphokinase  diabetes  ejection_fraction  \\\n",
       "0    75.0        0                       582         0                 20   \n",
       "1    55.0        0                      7861         0                 38   \n",
       "2    65.0        0                       146         0                 20   \n",
       "3    50.0        1                       111         0                 20   \n",
       "4    65.0        1                       160         1                 20   \n",
       "..    ...      ...                       ...       ...                ...   \n",
       "294  62.0        0                        61         1                 38   \n",
       "295  55.0        0                      1820         0                 38   \n",
       "296  45.0        0                      2060         1                 60   \n",
       "297  45.0        0                      2413         0                 38   \n",
       "298  50.0        0                       196         0                 45   \n",
       "\n",
       "     high_blood_pressure  platelets  serum_creatinine  serum_sodium  sex  \\\n",
       "0                      1  265000.00               1.9           130    1   \n",
       "1                      0  263358.03               1.1           136    1   \n",
       "2                      0  162000.00               1.3           129    1   \n",
       "3                      0  210000.00               1.9           137    1   \n",
       "4                      0  327000.00               2.7           116    0   \n",
       "..                   ...        ...               ...           ...  ...   \n",
       "294                    1  155000.00               1.1           143    1   \n",
       "295                    0  270000.00               1.2           139    0   \n",
       "296                    0  742000.00               0.8           138    0   \n",
       "297                    0  140000.00               1.4           140    1   \n",
       "298                    0  395000.00               1.6           136    1   \n",
       "\n",
       "     smoking  time  DEATH_EVENT  \n",
       "0          0     4            1  \n",
       "1          0     6            1  \n",
       "2          1     7            1  \n",
       "3          0     7            1  \n",
       "4          0     8            1  \n",
       "..       ...   ...          ...  \n",
       "294        1   270            0  \n",
       "295        0   271            0  \n",
       "296        0   278            0  \n",
       "297        1   280            0  \n",
       "298        1   285            0  \n",
       "\n",
       "[299 rows x 13 columns]"
      ]
     },
     "execution_count": 4,
     "metadata": {},
     "output_type": "execute_result"
    }
   ],
   "source": [
    "# azureml-core of version 1.0.72 or higher is required\n",
    "# azureml-dataprep[pandas] of version 1.1.34 or higher is required\n",
    "from azureml.core import Workspace, Dataset\n",
    "\n",
    "subscription_id = 'aa7cf8e8-d23f-4bce-a7b9-1f0b4e0ac8ee'\n",
    "resource_group = 'aml-quickstarts-142131'\n",
    "workspace_name = 'quick-starts-ws-142131'\n",
    "\n",
    "workspace = Workspace(subscription_id, resource_group, workspace_name)\n",
    "\n",
    "dataset = Dataset.get_by_name(workspace, name='Heart Failure Data')\n",
    "dataset.to_pandas_dataframe()"
   ]
  },
  {
   "cell_type": "markdown",
   "metadata": {},
   "source": [
    "## AutoML Configuration\n",
    "\n",
    "In overview, the following were the main settings and parameters used for the AutoML model on the Azure platform:\n",
    "\n",
    "* n_cross_validations = 5. It sets the number of cross validations to carry out.\n",
    "* iterations = 30. It specifies how many algorithm and parameter combinations to test during the experiment.\n",
    "* max_concurrent_iterations = 4. It represents the maximum number of iterations that could be performed in parallel.\n",
    "* primary_metric = Accuracy. This is the metric which will be optimized for model training and selection.\n",
    "* target column = DEATH_EVENT. Whether the patient died from a heart failure or not.\n",
    "* task = classification. Based on the project's goal and the nature of the data, the task is clearly a classification one.\n",
    "* experiment_timeout_minutes = 30. It determines the maximum amount of time all iterations can take before the experiment terminates. "
   ]
  },
  {
   "cell_type": "code",
   "execution_count": 5,
   "metadata": {
    "gather": {
     "logged": 1617712930999
    }
   },
   "outputs": [],
   "source": [
    "automl_settings = {\n",
    "    \"experiment_timeout_minutes\":30,\n",
    "    \"task\":'classification',\n",
    "    \"primary_metric\":'accuracy',\n",
    "    \"training_data\":dataset,\n",
    "    \"label_column_name\":'DEATH_EVENT',\n",
    "    \"iterations\":30,\n",
    "    \"max_concurrent_iterations\": 4,\n",
    "    \"n_cross_validations\":5,\n",
    " }\n",
    "\n",
    "automl_config = AutoMLConfig(\n",
    "    compute_target=cpu_cluster,\n",
    "    **automl_settings)\n"
   ]
  },
  {
   "cell_type": "code",
   "execution_count": 6,
   "metadata": {
    "gather": {
     "logged": 1617714143308
    },
    "jupyter": {
     "outputs_hidden": false,
     "source_hidden": false
    },
    "nteract": {
     "transient": {
      "deleting": false
     }
    }
   },
   "outputs": [
    {
     "name": "stdout",
     "output_type": "stream",
     "text": [
      "Running on remote.\n",
      "No run_configuration provided, running on autoMlCluster with default configuration\n",
      "Running on remote compute: autoMlCluster\n",
      "Parent Run ID: AutoML_ca9f86d7-590e-439a-9ecf-6e3de59abab6\n",
      "\n",
      "Current status: FeaturesGeneration. Generating features for the dataset.\n",
      "Current status: DatasetCrossValidationSplit. Generating individually featurized CV splits.\n",
      "Current status: ModelSelection. Beginning model selection.\n",
      "\n",
      "****************************************************************************************************\n",
      "DATA GUARDRAILS: \n",
      "\n",
      "TYPE:         Class balancing detection\n",
      "STATUS:       PASSED\n",
      "DESCRIPTION:  Your inputs were analyzed, and all classes are balanced in your training data.\n",
      "              Learn more about imbalanced data: https://aka.ms/AutomatedMLImbalancedData\n",
      "\n",
      "****************************************************************************************************\n",
      "\n",
      "TYPE:         Missing feature values imputation\n",
      "STATUS:       PASSED\n",
      "DESCRIPTION:  No feature missing values were detected in the training data.\n",
      "              Learn more about missing value imputation: https://aka.ms/AutomatedMLFeaturization\n",
      "\n",
      "****************************************************************************************************\n",
      "\n",
      "TYPE:         High cardinality feature detection\n",
      "STATUS:       PASSED\n",
      "DESCRIPTION:  Your inputs were analyzed, and no high cardinality features were detected.\n",
      "              Learn more about high cardinality feature handling: https://aka.ms/AutomatedMLFeaturization\n",
      "\n",
      "****************************************************************************************************\n",
      "\n",
      "****************************************************************************************************\n",
      "ITERATION: The iteration being evaluated.\n",
      "PIPELINE: A summary description of the pipeline being evaluated.\n",
      "DURATION: Time taken for the current iteration.\n",
      "METRIC: The result of computing score on the fitted pipeline.\n",
      "BEST: The best observed score thus far.\n",
      "****************************************************************************************************\n",
      "\n",
      " ITERATION   PIPELINE                                       DURATION      METRIC      BEST\n",
      "         1   MaxAbsScaler XGBoostClassifier                 0:00:42       0.8259    0.8259\n",
      "         2   MinMaxScaler RandomForest                      0:00:45       0.8261    0.8261\n",
      "         5   StandardScalerWrapper XGBoostClassifier        0:00:46       0.8360    0.8360\n",
      "         3   MinMaxScaler RandomForest                      0:01:43       0.8227    0.8360\n",
      "         4   MinMaxScaler RandomForest                      0:01:53       0.8225    0.8360\n",
      "         6   MinMaxScaler SVM                               0:00:47       0.7058    0.8360\n",
      "         0   MaxAbsScaler LightGBM                          0:02:43       0.8060    0.8360\n",
      "         7   SparseNormalizer XGBoostClassifier             0:00:52       0.8094    0.8360\n",
      "         8   MaxAbsScaler GradientBoosting                  0:00:40       0.8293    0.8360\n",
      "         9   StandardScalerWrapper LightGBM                 0:00:40       0.8093    0.8360\n",
      "        11   StandardScalerWrapper RandomForest             0:00:40       0.8528    0.8528\n",
      "        10   SparseNormalizer LightGBM                      0:00:51       0.8330    0.8528\n",
      "        12   StandardScalerWrapper XGBoostClassifier        0:00:47       0.8227    0.8528\n",
      "        13   SparseNormalizer XGBoostClassifier             0:00:55       0.8397    0.8528\n",
      "        14   MinMaxScaler LightGBM                          0:00:40       0.8360    0.8528\n",
      "        15   MaxAbsScaler LightGBM                          0:00:45       0.8460    0.8528\n",
      "        16   RobustScaler RandomForest                      0:00:37       0.8328    0.8528\n",
      "        17   MinMaxScaler LightGBM                          0:00:49       0.8361    0.8528\n",
      "        18   MinMaxScaler LightGBM                          0:00:47       0.8162    0.8528\n",
      "        19   StandardScalerWrapper ExtremeRandomTrees       0:00:45       0.8262    0.8528\n",
      "        20   StandardScalerWrapper LightGBM                 0:00:46       0.8160    0.8528\n",
      "        21   SparseNormalizer XGBoostClassifier             0:00:39       0.8495    0.8528\n",
      "        22   SparseNormalizer XGBoostClassifier             0:00:45       0.8162    0.8528\n",
      "        23   MaxAbsScaler LightGBM                          0:00:49       0.8360    0.8528\n",
      "        24   MaxAbsScaler ExtremeRandomTrees                0:00:43       0.8360    0.8528\n",
      "        25   SparseNormalizer RandomForest                  0:00:43       0.6888    0.8528\n",
      "        26   SparseNormalizer RandomForest                  0:00:50       0.7925    0.8528\n",
      "        27   StandardScalerWrapper RandomForest             0:00:42       0.8294    0.8528\n",
      "        28    VotingEnsemble                                0:01:00       0.8697    0.8697\n",
      "        29    StackEnsemble                                 0:01:03       0.8596    0.8697\n"
     ]
    }
   ],
   "source": [
    "# Submit experiment\n",
    "remote_run=exp.submit(automl_config, show_output=True)\n"
   ]
  },
  {
   "cell_type": "markdown",
   "metadata": {},
   "source": [
    "## Run Details"
   ]
  },
  {
   "cell_type": "code",
   "execution_count": 7,
   "metadata": {
    "gather": {
     "logged": 1617714636869
    }
   },
   "outputs": [
    {
     "data": {
      "application/vnd.jupyter.widget-view+json": {
       "model_id": "c5f64a0985244ec98067f537dde9fb60",
       "version_major": 2,
       "version_minor": 0
      },
      "text/plain": [
       "_AutoMLWidget(widget_settings={'childWidgetDisplay': 'popup', 'send_telemetry': False, 'log_level': 'INFO', 's…"
      ]
     },
     "metadata": {},
     "output_type": "display_data"
    },
    {
     "data": {
      "application/aml.mini.widget.v1": "{\"status\": \"Completed\", \"workbench_run_details_uri\": \"https://ml.azure.com/experiments/AutoML/runs/AutoML_ca9f86d7-590e-439a-9ecf-6e3de59abab6?wsid=/subscriptions/aa7cf8e8-d23f-4bce-a7b9-1f0b4e0ac8ee/resourcegroups/aml-quickstarts-142131/workspaces/quick-starts-ws-142131\", \"run_id\": \"AutoML_ca9f86d7-590e-439a-9ecf-6e3de59abab6\", \"run_properties\": {\"run_id\": \"AutoML_ca9f86d7-590e-439a-9ecf-6e3de59abab6\", \"created_utc\": \"2021-04-06T22:27:57.999183Z\", \"properties\": {\"num_iterations\": \"30\", \"training_type\": \"TrainFull\", \"acquisition_function\": \"EI\", \"primary_metric\": \"accuracy\", \"train_split\": \"0\", \"acquisition_parameter\": \"0\", \"num_cross_validation\": \"5\", \"target\": \"autoMlCluster\", \"AMLSettingsJsonString\": \"{\\\"path\\\":null,\\\"name\\\":\\\"AutoML\\\",\\\"subscription_id\\\":\\\"aa7cf8e8-d23f-4bce-a7b9-1f0b4e0ac8ee\\\",\\\"resource_group\\\":\\\"aml-quickstarts-142131\\\",\\\"workspace_name\\\":\\\"quick-starts-ws-142131\\\",\\\"region\\\":\\\"southcentralus\\\",\\\"compute_target\\\":\\\"autoMlCluster\\\",\\\"spark_service\\\":null,\\\"azure_service\\\":\\\"remote\\\",\\\"many_models\\\":false,\\\"pipeline_fetch_max_batch_size\\\":1,\\\"enable_batch_run\\\":false,\\\"iterations\\\":30,\\\"primary_metric\\\":\\\"accuracy\\\",\\\"task_type\\\":\\\"classification\\\",\\\"data_script\\\":null,\\\"validation_size\\\":0.0,\\\"n_cross_validations\\\":5,\\\"y_min\\\":null,\\\"y_max\\\":null,\\\"num_classes\\\":null,\\\"featurization\\\":\\\"auto\\\",\\\"_ignore_package_version_incompatibilities\\\":false,\\\"is_timeseries\\\":false,\\\"max_cores_per_iteration\\\":1,\\\"max_concurrent_iterations\\\":4,\\\"iteration_timeout_minutes\\\":null,\\\"mem_in_mb\\\":null,\\\"enforce_time_on_windows\\\":false,\\\"experiment_timeout_minutes\\\":30,\\\"experiment_exit_score\\\":null,\\\"whitelist_models\\\":null,\\\"blacklist_algos\\\":[\\\"TensorFlowLinearClassifier\\\",\\\"TensorFlowDNN\\\"],\\\"supported_models\\\":[\\\"TensorFlowLinearClassifier\\\",\\\"LightGBM\\\",\\\"XGBoostClassifier\\\",\\\"LinearSVM\\\",\\\"SGD\\\",\\\"LogisticRegression\\\",\\\"DecisionTree\\\",\\\"ExtremeRandomTrees\\\",\\\"AveragedPerceptronClassifier\\\",\\\"KNN\\\",\\\"MultinomialNaiveBayes\\\",\\\"RandomForest\\\",\\\"SVM\\\",\\\"BernoulliNaiveBayes\\\",\\\"GradientBoosting\\\",\\\"TensorFlowDNN\\\"],\\\"private_models\\\":[],\\\"auto_blacklist\\\":true,\\\"blacklist_samples_reached\\\":false,\\\"exclude_nan_labels\\\":true,\\\"verbosity\\\":20,\\\"_debug_log\\\":\\\"azureml_automl.log\\\",\\\"show_warnings\\\":false,\\\"model_explainability\\\":true,\\\"service_url\\\":null,\\\"sdk_url\\\":null,\\\"sdk_packages\\\":null,\\\"enable_onnx_compatible_models\\\":false,\\\"enable_split_onnx_featurizer_estimator_models\\\":false,\\\"vm_type\\\":\\\"STANDARD_D12_V2\\\",\\\"telemetry_verbosity\\\":20,\\\"send_telemetry\\\":true,\\\"enable_dnn\\\":false,\\\"scenario\\\":\\\"SDK-1.13.0\\\",\\\"environment_label\\\":null,\\\"save_mlflow\\\":false,\\\"force_text_dnn\\\":false,\\\"enable_feature_sweeping\\\":true,\\\"enable_early_stopping\\\":false,\\\"early_stopping_n_iters\\\":10,\\\"metrics\\\":null,\\\"enable_metric_confidence\\\":false,\\\"enable_ensembling\\\":true,\\\"enable_stack_ensembling\\\":true,\\\"ensemble_iterations\\\":15,\\\"enable_tf\\\":false,\\\"enable_subsampling\\\":false,\\\"subsample_seed\\\":null,\\\"enable_nimbusml\\\":false,\\\"enable_streaming\\\":false,\\\"force_streaming\\\":false,\\\"track_child_runs\\\":true,\\\"allowed_private_models\\\":[],\\\"label_column_name\\\":\\\"DEATH_EVENT\\\",\\\"weight_column_name\\\":null,\\\"cv_split_column_names\\\":null,\\\"enable_local_managed\\\":false,\\\"_local_managed_run_id\\\":null,\\\"cost_mode\\\":1,\\\"lag_length\\\":0,\\\"metric_operation\\\":\\\"maximize\\\",\\\"preprocess\\\":true}\", \"DataPrepJsonString\": \"{\\\\\\\"training_data\\\\\\\": \\\\\\\"{\\\\\\\\\\\\\\\"blocks\\\\\\\\\\\\\\\": [{\\\\\\\\\\\\\\\"id\\\\\\\\\\\\\\\": \\\\\\\\\\\\\\\"eb7253f4-6a2b-45a0-809c-dc709e5abd74\\\\\\\\\\\\\\\", \\\\\\\\\\\\\\\"type\\\\\\\\\\\\\\\": \\\\\\\\\\\\\\\"Microsoft.DPrep.GetDatastoreFilesBlock\\\\\\\\\\\\\\\", \\\\\\\\\\\\\\\"arguments\\\\\\\\\\\\\\\": {\\\\\\\\\\\\\\\"datastores\\\\\\\\\\\\\\\": [{\\\\\\\\\\\\\\\"datastoreName\\\\\\\\\\\\\\\": \\\\\\\\\\\\\\\"workspaceblobstore\\\\\\\\\\\\\\\", \\\\\\\\\\\\\\\"path\\\\\\\\\\\\\\\": \\\\\\\\\\\\\\\"UI/04-06-2021_101234_UTC/heart_failure_clinical_records_dataset.csv\\\\\\\\\\\\\\\", \\\\\\\\\\\\\\\"resourceGroup\\\\\\\\\\\\\\\": \\\\\\\\\\\\\\\"aml-quickstarts-142131\\\\\\\\\\\\\\\", \\\\\\\\\\\\\\\"subscription\\\\\\\\\\\\\\\": \\\\\\\\\\\\\\\"aa7cf8e8-d23f-4bce-a7b9-1f0b4e0ac8ee\\\\\\\\\\\\\\\", \\\\\\\\\\\\\\\"workspaceName\\\\\\\\\\\\\\\": \\\\\\\\\\\\\\\"quick-starts-ws-142131\\\\\\\\\\\\\\\"}]}, \\\\\\\\\\\\\\\"localData\\\\\\\\\\\\\\\": {}, \\\\\\\\\\\\\\\"isEnabled\\\\\\\\\\\\\\\": true, \\\\\\\\\\\\\\\"name\\\\\\\\\\\\\\\": null, \\\\\\\\\\\\\\\"annotation\\\\\\\\\\\\\\\": null}, {\\\\\\\\\\\\\\\"id\\\\\\\\\\\\\\\": \\\\\\\\\\\\\\\"14374c4a-fa16-4e3c-a2e8-1e4de80965c2\\\\\\\\\\\\\\\", \\\\\\\\\\\\\\\"type\\\\\\\\\\\\\\\": \\\\\\\\\\\\\\\"Microsoft.DPrep.ParseDelimitedBlock\\\\\\\\\\\\\\\", \\\\\\\\\\\\\\\"arguments\\\\\\\\\\\\\\\": {\\\\\\\\\\\\\\\"columnHeadersMode\\\\\\\\\\\\\\\": 1, \\\\\\\\\\\\\\\"fileEncoding\\\\\\\\\\\\\\\": 0, \\\\\\\\\\\\\\\"handleQuotedLineBreaks\\\\\\\\\\\\\\\": false, \\\\\\\\\\\\\\\"preview\\\\\\\\\\\\\\\": false, \\\\\\\\\\\\\\\"separator\\\\\\\\\\\\\\\": \\\\\\\\\\\\\\\",\\\\\\\\\\\\\\\", \\\\\\\\\\\\\\\"skipRows\\\\\\\\\\\\\\\": 0, \\\\\\\\\\\\\\\"skipRowsMode\\\\\\\\\\\\\\\": 0}, \\\\\\\\\\\\\\\"localData\\\\\\\\\\\\\\\": {}, \\\\\\\\\\\\\\\"isEnabled\\\\\\\\\\\\\\\": true, \\\\\\\\\\\\\\\"name\\\\\\\\\\\\\\\": null, \\\\\\\\\\\\\\\"annotation\\\\\\\\\\\\\\\": null}, {\\\\\\\\\\\\\\\"id\\\\\\\\\\\\\\\": \\\\\\\\\\\\\\\"04182707-fd72-4862-89c5-d5b1153159ce\\\\\\\\\\\\\\\", \\\\\\\\\\\\\\\"type\\\\\\\\\\\\\\\": \\\\\\\\\\\\\\\"Microsoft.DPrep.DropColumnsBlock\\\\\\\\\\\\\\\", \\\\\\\\\\\\\\\"arguments\\\\\\\\\\\\\\\": {\\\\\\\\\\\\\\\"columns\\\\\\\\\\\\\\\": {\\\\\\\\\\\\\\\"type\\\\\\\\\\\\\\\": 0, \\\\\\\\\\\\\\\"details\\\\\\\\\\\\\\\": {\\\\\\\\\\\\\\\"selectedColumns\\\\\\\\\\\\\\\": [\\\\\\\\\\\\\\\"Path\\\\\\\\\\\\\\\"]}}}, \\\\\\\\\\\\\\\"localData\\\\\\\\\\\\\\\": {}, \\\\\\\\\\\\\\\"isEnabled\\\\\\\\\\\\\\\": true, \\\\\\\\\\\\\\\"name\\\\\\\\\\\\\\\": null, \\\\\\\\\\\\\\\"annotation\\\\\\\\\\\\\\\": null}, {\\\\\\\\\\\\\\\"id\\\\\\\\\\\\\\\": \\\\\\\\\\\\\\\"e179f588-c846-47e9-b9b5-610b47659e43\\\\\\\\\\\\\\\", \\\\\\\\\\\\\\\"type\\\\\\\\\\\\\\\": \\\\\\\\\\\\\\\"Microsoft.DPrep.SetColumnTypesBlock\\\\\\\\\\\\\\\", \\\\\\\\\\\\\\\"arguments\\\\\\\\\\\\\\\": {\\\\\\\\\\\\\\\"columnConversion\\\\\\\\\\\\\\\": [{\\\\\\\\\\\\\\\"column\\\\\\\\\\\\\\\": {\\\\\\\\\\\\\\\"type\\\\\\\\\\\\\\\": 2, \\\\\\\\\\\\\\\"details\\\\\\\\\\\\\\\": {\\\\\\\\\\\\\\\"selectedColumn\\\\\\\\\\\\\\\": \\\\\\\\\\\\\\\"Path\\\\\\\\\\\\\\\"}}, \\\\\\\\\\\\\\\"typeProperty\\\\\\\\\\\\\\\": 0}, {\\\\\\\\\\\\\\\"column\\\\\\\\\\\\\\\": {\\\\\\\\\\\\\\\"type\\\\\\\\\\\\\\\": 2, \\\\\\\\\\\\\\\"details\\\\\\\\\\\\\\\": {\\\\\\\\\\\\\\\"selectedColumn\\\\\\\\\\\\\\\": \\\\\\\\\\\\\\\"age\\\\\\\\\\\\\\\"}}, \\\\\\\\\\\\\\\"typeProperty\\\\\\\\\\\\\\\": 3}, {\\\\\\\\\\\\\\\"column\\\\\\\\\\\\\\\": {\\\\\\\\\\\\\\\"type\\\\\\\\\\\\\\\": 2, \\\\\\\\\\\\\\\"details\\\\\\\\\\\\\\\": {\\\\\\\\\\\\\\\"selectedColumn\\\\\\\\\\\\\\\": \\\\\\\\\\\\\\\"anaemia\\\\\\\\\\\\\\\"}}, \\\\\\\\\\\\\\\"typeProperty\\\\\\\\\\\\\\\": 2}, {\\\\\\\\\\\\\\\"column\\\\\\\\\\\\\\\": {\\\\\\\\\\\\\\\"type\\\\\\\\\\\\\\\": 2, \\\\\\\\\\\\\\\"details\\\\\\\\\\\\\\\": {\\\\\\\\\\\\\\\"selectedColumn\\\\\\\\\\\\\\\": \\\\\\\\\\\\\\\"creatinine_phosphokinase\\\\\\\\\\\\\\\"}}, \\\\\\\\\\\\\\\"typeProperty\\\\\\\\\\\\\\\": 2}, {\\\\\\\\\\\\\\\"column\\\\\\\\\\\\\\\": {\\\\\\\\\\\\\\\"type\\\\\\\\\\\\\\\": 2, \\\\\\\\\\\\\\\"details\\\\\\\\\\\\\\\": {\\\\\\\\\\\\\\\"selectedColumn\\\\\\\\\\\\\\\": \\\\\\\\\\\\\\\"diabetes\\\\\\\\\\\\\\\"}}, \\\\\\\\\\\\\\\"typeProperty\\\\\\\\\\\\\\\": 2}, {\\\\\\\\\\\\\\\"column\\\\\\\\\\\\\\\": {\\\\\\\\\\\\\\\"type\\\\\\\\\\\\\\\": 2, \\\\\\\\\\\\\\\"details\\\\\\\\\\\\\\\": {\\\\\\\\\\\\\\\"selectedColumn\\\\\\\\\\\\\\\": \\\\\\\\\\\\\\\"ejection_fraction\\\\\\\\\\\\\\\"}}, \\\\\\\\\\\\\\\"typeProperty\\\\\\\\\\\\\\\": 2}, {\\\\\\\\\\\\\\\"column\\\\\\\\\\\\\\\": {\\\\\\\\\\\\\\\"type\\\\\\\\\\\\\\\": 2, \\\\\\\\\\\\\\\"details\\\\\\\\\\\\\\\": {\\\\\\\\\\\\\\\"selectedColumn\\\\\\\\\\\\\\\": \\\\\\\\\\\\\\\"high_blood_pressure\\\\\\\\\\\\\\\"}}, \\\\\\\\\\\\\\\"typeProperty\\\\\\\\\\\\\\\": 2}, {\\\\\\\\\\\\\\\"column\\\\\\\\\\\\\\\": {\\\\\\\\\\\\\\\"type\\\\\\\\\\\\\\\": 2, \\\\\\\\\\\\\\\"details\\\\\\\\\\\\\\\": {\\\\\\\\\\\\\\\"selectedColumn\\\\\\\\\\\\\\\": \\\\\\\\\\\\\\\"platelets\\\\\\\\\\\\\\\"}}, \\\\\\\\\\\\\\\"typeProperty\\\\\\\\\\\\\\\": 3}, {\\\\\\\\\\\\\\\"column\\\\\\\\\\\\\\\": {\\\\\\\\\\\\\\\"type\\\\\\\\\\\\\\\": 2, \\\\\\\\\\\\\\\"details\\\\\\\\\\\\\\\": {\\\\\\\\\\\\\\\"selectedColumn\\\\\\\\\\\\\\\": \\\\\\\\\\\\\\\"serum_creatinine\\\\\\\\\\\\\\\"}}, \\\\\\\\\\\\\\\"typeProperty\\\\\\\\\\\\\\\": 3}, {\\\\\\\\\\\\\\\"column\\\\\\\\\\\\\\\": {\\\\\\\\\\\\\\\"type\\\\\\\\\\\\\\\": 2, \\\\\\\\\\\\\\\"details\\\\\\\\\\\\\\\": {\\\\\\\\\\\\\\\"selectedColumn\\\\\\\\\\\\\\\": \\\\\\\\\\\\\\\"serum_sodium\\\\\\\\\\\\\\\"}}, \\\\\\\\\\\\\\\"typeProperty\\\\\\\\\\\\\\\": 2}, {\\\\\\\\\\\\\\\"column\\\\\\\\\\\\\\\": {\\\\\\\\\\\\\\\"type\\\\\\\\\\\\\\\": 2, \\\\\\\\\\\\\\\"details\\\\\\\\\\\\\\\": {\\\\\\\\\\\\\\\"selectedColumn\\\\\\\\\\\\\\\": \\\\\\\\\\\\\\\"sex\\\\\\\\\\\\\\\"}}, \\\\\\\\\\\\\\\"typeProperty\\\\\\\\\\\\\\\": 2}, {\\\\\\\\\\\\\\\"column\\\\\\\\\\\\\\\": {\\\\\\\\\\\\\\\"type\\\\\\\\\\\\\\\": 2, \\\\\\\\\\\\\\\"details\\\\\\\\\\\\\\\": {\\\\\\\\\\\\\\\"selectedColumn\\\\\\\\\\\\\\\": \\\\\\\\\\\\\\\"smoking\\\\\\\\\\\\\\\"}}, \\\\\\\\\\\\\\\"typeProperty\\\\\\\\\\\\\\\": 2}, {\\\\\\\\\\\\\\\"column\\\\\\\\\\\\\\\": {\\\\\\\\\\\\\\\"type\\\\\\\\\\\\\\\": 2, \\\\\\\\\\\\\\\"details\\\\\\\\\\\\\\\": {\\\\\\\\\\\\\\\"selectedColumn\\\\\\\\\\\\\\\": \\\\\\\\\\\\\\\"time\\\\\\\\\\\\\\\"}}, \\\\\\\\\\\\\\\"typeProperty\\\\\\\\\\\\\\\": 2}, {\\\\\\\\\\\\\\\"column\\\\\\\\\\\\\\\": {\\\\\\\\\\\\\\\"type\\\\\\\\\\\\\\\": 2, \\\\\\\\\\\\\\\"details\\\\\\\\\\\\\\\": {\\\\\\\\\\\\\\\"selectedColumn\\\\\\\\\\\\\\\": \\\\\\\\\\\\\\\"DEATH_EVENT\\\\\\\\\\\\\\\"}}, \\\\\\\\\\\\\\\"typeProperty\\\\\\\\\\\\\\\": 2}]}, \\\\\\\\\\\\\\\"localData\\\\\\\\\\\\\\\": {}, \\\\\\\\\\\\\\\"isEnabled\\\\\\\\\\\\\\\": true, \\\\\\\\\\\\\\\"name\\\\\\\\\\\\\\\": null, \\\\\\\\\\\\\\\"annotation\\\\\\\\\\\\\\\": null}], \\\\\\\\\\\\\\\"inspectors\\\\\\\\\\\\\\\": [], \\\\\\\\\\\\\\\"meta\\\\\\\\\\\\\\\": {\\\\\\\\\\\\\\\"savedDatasetId\\\\\\\\\\\\\\\": \\\\\\\\\\\\\\\"f2d8e724-7d39-43f3-96d8-526041e33a24\\\\\\\\\\\\\\\", \\\\\\\\\\\\\\\"datasetType\\\\\\\\\\\\\\\": \\\\\\\\\\\\\\\"tabular\\\\\\\\\\\\\\\", \\\\\\\\\\\\\\\"subscriptionId\\\\\\\\\\\\\\\": \\\\\\\\\\\\\\\"aa7cf8e8-d23f-4bce-a7b9-1f0b4e0ac8ee\\\\\\\\\\\\\\\", \\\\\\\\\\\\\\\"workspaceId\\\\\\\\\\\\\\\": \\\\\\\\\\\\\\\"bdfedc64-c5e0-41ee-8b38-c6ee844f78d8\\\\\\\\\\\\\\\", \\\\\\\\\\\\\\\"workspaceLocation\\\\\\\\\\\\\\\": \\\\\\\\\\\\\\\"southcentralus\\\\\\\\\\\\\\\"}}\\\\\\\", \\\\\\\"activities\\\\\\\": 0}\", \"EnableSubsampling\": \"False\", \"runTemplate\": \"AutoML\", \"azureml.runsource\": \"automl\", \"display_task_type\": \"classification\", \"dependencies_versions\": \"{\\\"azureml-widgets\\\": \\\"1.24.0\\\", \\\"azureml-train\\\": \\\"1.24.0\\\", \\\"azureml-train-restclients-hyperdrive\\\": \\\"1.24.0\\\", \\\"azureml-train-core\\\": \\\"1.24.0\\\", \\\"azureml-train-automl\\\": \\\"1.24.0\\\", \\\"azureml-train-automl-runtime\\\": \\\"1.24.0\\\", \\\"azureml-train-automl-client\\\": \\\"1.24.0\\\", \\\"azureml-tensorboard\\\": \\\"1.24.0\\\", \\\"azureml-telemetry\\\": \\\"1.24.0\\\", \\\"azureml-sdk\\\": \\\"1.24.0\\\", \\\"azureml-samples\\\": \\\"0+unknown\\\", \\\"azureml-pipeline\\\": \\\"1.24.0\\\", \\\"azureml-pipeline-steps\\\": \\\"1.24.0\\\", \\\"azureml-pipeline-core\\\": \\\"1.24.0\\\", \\\"azureml-opendatasets\\\": \\\"1.24.0\\\", \\\"azureml-model-management-sdk\\\": \\\"1.0.1b6.post1\\\", \\\"azureml-mlflow\\\": \\\"1.24.0\\\", \\\"azureml-interpret\\\": \\\"1.24.0\\\", \\\"azureml-explain-model\\\": \\\"1.24.0\\\", \\\"azureml-defaults\\\": \\\"1.24.0\\\", \\\"azureml-dataset-runtime\\\": \\\"1.24.0\\\", \\\"azureml-dataprep\\\": \\\"2.11.1\\\", \\\"azureml-dataprep-rslex\\\": \\\"1.9.0\\\", \\\"azureml-dataprep-native\\\": \\\"30.0.0\\\", \\\"azureml-datadrift\\\": \\\"1.24.0\\\", \\\"azureml-core\\\": \\\"1.24.0\\\", \\\"azureml-contrib-services\\\": \\\"1.24.0\\\", \\\"azureml-contrib-server\\\": \\\"1.24.0\\\", \\\"azureml-contrib-reinforcementlearning\\\": \\\"1.24.0\\\", \\\"azureml-contrib-pipeline-steps\\\": \\\"1.24.0\\\", \\\"azureml-contrib-notebook\\\": \\\"1.24.0\\\", \\\"azureml-contrib-gbdt\\\": \\\"1.24.0\\\", \\\"azureml-contrib-fairness\\\": \\\"1.24.0\\\", \\\"azureml-contrib-dataset\\\": \\\"1.24.0\\\", \\\"azureml-cli-common\\\": \\\"1.24.0\\\", \\\"azureml-automl-runtime\\\": \\\"1.24.0\\\", \\\"azureml-automl-dnn-nlp\\\": \\\"1.24.0\\\", \\\"azureml-automl-core\\\": \\\"1.24.0\\\", \\\"azureml-accel-models\\\": \\\"1.24.0\\\"}\", \"_aml_system_scenario_identification\": \"Remote.Parent\", \"ClientType\": \"SDK\", \"environment_cpu_name\": \"AzureML-AutoML\", \"environment_cpu_label\": \"prod\", \"environment_gpu_name\": \"AzureML-AutoML-GPU\", \"environment_gpu_label\": \"prod\", \"root_attribution\": \"automl\", \"attribution\": \"AutoML\", \"Orchestrator\": \"AutoML\", \"CancelUri\": \"https://southcentralus.experiments.azureml.net/jasmine/v1.0/subscriptions/aa7cf8e8-d23f-4bce-a7b9-1f0b4e0ac8ee/resourceGroups/aml-quickstarts-142131/providers/Microsoft.MachineLearningServices/workspaces/quick-starts-ws-142131/experimentids/6ab18737-d738-4482-b7ad-63999daf804b/cancel/AutoML_ca9f86d7-590e-439a-9ecf-6e3de59abab6\", \"ClientSdkVersion\": \"1.24.0\", \"snapshotId\": \"00000000-0000-0000-0000-000000000000\", \"SetupRunId\": \"AutoML_ca9f86d7-590e-439a-9ecf-6e3de59abab6_setup\", \"SetupRunContainerId\": \"dcid.AutoML_ca9f86d7-590e-439a-9ecf-6e3de59abab6_setup\", \"FeaturizationRunJsonPath\": \"featurizer_container.json\", \"FeaturizationRunId\": \"AutoML_ca9f86d7-590e-439a-9ecf-6e3de59abab6_featurize\", \"ProblemInfoJsonString\": \"{\\\"dataset_num_categorical\\\": 0, \\\"is_sparse\\\": false, \\\"subsampling\\\": false, \\\"dataset_classes\\\": 2, \\\"dataset_features\\\": 12, \\\"dataset_samples\\\": 299, \\\"single_frequency_class_detected\\\": false}\", \"ModelExplainRunId\": \"AutoML_ca9f86d7-590e-439a-9ecf-6e3de59abab6_ModelExplain\"}, \"tags\": {\"model_explain_run\": \"best_run\", \"_aml_system_azureml.automlComponent\": \"AutoML\", \"pipeline_id\": \"\", \"score\": \"\", \"predicted_cost\": \"\", \"fit_time\": \"\", \"training_percent\": \"\", \"iteration\": \"\", \"run_preprocessor\": \"\", \"run_algorithm\": \"\", \"dynamic_whitelisting_iterations\": \"<25>;\", \"automl_best_child_run_id\": \"AutoML_ca9f86d7-590e-439a-9ecf-6e3de59abab6_28\", \"model_explain_best_run_child_id\": \"AutoML_ca9f86d7-590e-439a-9ecf-6e3de59abab6_28\"}, \"end_time_utc\": \"2021-04-06T22:46:03.902916Z\", \"status\": \"Completed\", \"log_files\": {}, \"log_groups\": [], \"run_duration\": \"0:18:05\", \"run_number\": \"2\", \"run_queued_details\": {\"status\": \"Completed\", \"details\": null}}, \"child_runs\": [{\"run_id\": \"AutoML_ca9f86d7-590e-439a-9ecf-6e3de59abab6_3\", \"run_number\": 6, \"metric\": null, \"status\": \"Completed\", \"run_type\": \"azureml.scriptrun\", \"training_percent\": \"100\", \"start_time\": \"2021-04-06T22:36:58.383218Z\", \"end_time\": \"2021-04-06T22:38:41.826083Z\", \"created_time\": \"2021-04-06T22:34:52.32503Z\", \"created_time_dt\": \"2021-04-06T22:34:52.32503Z\", \"duration\": \"0:03:49\", \"iteration\": \"3\", \"goal\": \"accuracy_max\", \"run_name\": \"MinMaxScaler, RandomForest\", \"run_properties\": \"copy=True, feature_range=(0, 1\", \"primary_metric\": 0.82271186, \"best_metric\": 0.82610169}, {\"run_id\": \"AutoML_ca9f86d7-590e-439a-9ecf-6e3de59abab6_2\", \"run_number\": 7, \"metric\": null, \"status\": \"Completed\", \"run_type\": \"azureml.scriptrun\", \"training_percent\": \"100\", \"start_time\": \"2021-04-06T22:36:04.273849Z\", \"end_time\": \"2021-04-06T22:36:48.972053Z\", \"created_time\": \"2021-04-06T22:34:52.340938Z\", \"created_time_dt\": \"2021-04-06T22:34:52.340938Z\", \"duration\": \"0:01:56\", \"iteration\": \"2\", \"goal\": \"accuracy_max\", \"run_name\": \"MinMaxScaler, RandomForest\", \"run_properties\": \"copy=True, feature_range=(0, 1\", \"primary_metric\": 0.82610169, \"best_metric\": 0.82610169}, {\"run_id\": \"AutoML_ca9f86d7-590e-439a-9ecf-6e3de59abab6_0\", \"run_number\": 8, \"metric\": null, \"status\": \"Completed\", \"run_type\": \"azureml.scriptrun\", \"training_percent\": \"100\", \"start_time\": \"2021-04-06T22:37:00.431267Z\", \"end_time\": \"2021-04-06T22:39:43.613107Z\", \"created_time\": \"2021-04-06T22:34:52.616134Z\", \"created_time_dt\": \"2021-04-06T22:34:52.616134Z\", \"duration\": \"0:04:50\", \"iteration\": \"0\", \"goal\": \"accuracy_max\", \"run_name\": \"MaxAbsScaler, LightGBM\", \"run_properties\": \"copy=True\", \"primary_metric\": 0.8059887, \"best_metric\": 0.8059887}, {\"run_id\": \"AutoML_ca9f86d7-590e-439a-9ecf-6e3de59abab6_1\", \"run_number\": 9, \"metric\": null, \"status\": \"Completed\", \"run_type\": \"azureml.scriptrun\", \"training_percent\": \"100\", \"start_time\": \"2021-04-06T22:35:02.973235Z\", \"end_time\": \"2021-04-06T22:35:45.40633Z\", \"created_time\": \"2021-04-06T22:34:52.700423Z\", \"created_time_dt\": \"2021-04-06T22:34:52.700423Z\", \"duration\": \"0:00:52\", \"iteration\": \"1\", \"goal\": \"accuracy_max\", \"run_name\": \"MaxAbsScaler, XGBoostClassifier\", \"run_properties\": \"copy=True\", \"primary_metric\": 0.8259322, \"best_metric\": 0.8259322}, {\"run_id\": \"AutoML_ca9f86d7-590e-439a-9ecf-6e3de59abab6_4\", \"run_number\": 10, \"metric\": null, \"status\": \"Completed\", \"run_type\": \"azureml.scriptrun\", \"training_percent\": \"100\", \"start_time\": \"2021-04-06T22:36:59.103588Z\", \"end_time\": \"2021-04-06T22:38:52.453951Z\", \"created_time\": \"2021-04-06T22:35:46.697476Z\", \"created_time_dt\": \"2021-04-06T22:35:46.697476Z\", \"duration\": \"0:03:05\", \"iteration\": \"4\", \"goal\": \"accuracy_max\", \"run_name\": \"MinMaxScaler, RandomForest\", \"run_properties\": \"copy=True, feature_range=(0, 1\", \"primary_metric\": 0.82254237, \"best_metric\": 0.82610169}, {\"run_id\": \"AutoML_ca9f86d7-590e-439a-9ecf-6e3de59abab6_5\", \"run_number\": 11, \"metric\": null, \"status\": \"Completed\", \"run_type\": \"azureml.scriptrun\", \"training_percent\": \"100\", \"start_time\": \"2021-04-06T22:37:04.648857Z\", \"end_time\": \"2021-04-06T22:37:50.435767Z\", \"created_time\": \"2021-04-06T22:36:52.158708Z\", \"created_time_dt\": \"2021-04-06T22:36:52.158708Z\", \"duration\": \"0:00:58\", \"iteration\": \"5\", \"goal\": \"accuracy_max\", \"run_name\": \"StandardScalerWrapper, XGBoostClassifier\", \"run_properties\": \"<azureml.automl.runtime.shared.model_wrappers.StandardScalerWrapper object at 0x7f433831c438\", \"primary_metric\": 0.8360452, \"best_metric\": 0.8360452}, {\"run_id\": \"AutoML_ca9f86d7-590e-439a-9ecf-6e3de59abab6_6\", \"run_number\": 12, \"metric\": null, \"status\": \"Completed\", \"run_type\": \"azureml.scriptrun\", \"training_percent\": \"100\", \"start_time\": \"2021-04-06T22:38:03.775Z\", \"end_time\": \"2021-04-06T22:38:51.214968Z\", \"created_time\": \"2021-04-06T22:37:52.892449Z\", \"created_time_dt\": \"2021-04-06T22:37:52.892449Z\", \"duration\": \"0:00:58\", \"iteration\": \"6\", \"goal\": \"accuracy_max\", \"run_name\": \"MinMaxScaler, SVM\", \"run_properties\": \"copy=True, feature_range=(0, 1\", \"primary_metric\": 0.70576271, \"best_metric\": 0.8360452}, {\"run_id\": \"AutoML_ca9f86d7-590e-439a-9ecf-6e3de59abab6_7\", \"run_number\": 13, \"metric\": null, \"status\": \"Completed\", \"run_type\": \"azureml.scriptrun\", \"training_percent\": \"100\", \"start_time\": \"2021-04-06T22:38:56.98338Z\", \"end_time\": \"2021-04-06T22:39:49.249987Z\", \"created_time\": \"2021-04-06T22:38:44.006892Z\", \"created_time_dt\": \"2021-04-06T22:38:44.006892Z\", \"duration\": \"0:01:05\", \"iteration\": \"7\", \"goal\": \"accuracy_max\", \"run_name\": \"SparseNormalizer, XGBoostClassifier\", \"run_properties\": \"<azureml.automl.runtime.shared.model_wrappers.SparseNormalizer object at 0x7efcf4eb2550\", \"primary_metric\": 0.80937853, \"best_metric\": 0.8360452}, {\"run_id\": \"AutoML_ca9f86d7-590e-439a-9ecf-6e3de59abab6_8\", \"run_number\": 14, \"metric\": null, \"status\": \"Completed\", \"run_type\": \"azureml.scriptrun\", \"training_percent\": \"100\", \"start_time\": \"2021-04-06T22:39:07.939268Z\", \"end_time\": \"2021-04-06T22:39:47.907433Z\", \"created_time\": \"2021-04-06T22:38:53.423855Z\", \"created_time_dt\": \"2021-04-06T22:38:53.423855Z\", \"duration\": \"0:00:54\", \"iteration\": \"8\", \"goal\": \"accuracy_max\", \"run_name\": \"MaxAbsScaler, GradientBoosting\", \"run_properties\": \"copy=True\", \"primary_metric\": 0.82932203, \"best_metric\": 0.8360452}, {\"run_id\": \"AutoML_ca9f86d7-590e-439a-9ecf-6e3de59abab6_9\", \"run_number\": 15, \"metric\": null, \"status\": \"Completed\", \"run_type\": \"azureml.scriptrun\", \"training_percent\": \"100\", \"start_time\": \"2021-04-06T22:39:10.363967Z\", \"end_time\": \"2021-04-06T22:39:49.877531Z\", \"created_time\": \"2021-04-06T22:38:57.209542Z\", \"created_time_dt\": \"2021-04-06T22:38:57.209542Z\", \"duration\": \"0:00:52\", \"iteration\": \"9\", \"goal\": \"accuracy_max\", \"run_name\": \"StandardScalerWrapper, LightGBM\", \"run_properties\": \"<azureml.automl.runtime.shared.model_wrappers.StandardScalerWrapper object at 0x7f5c53bee9e8\", \"primary_metric\": 0.80926554, \"best_metric\": 0.8360452}, {\"run_id\": \"AutoML_ca9f86d7-590e-439a-9ecf-6e3de59abab6_10\", \"run_number\": 16, \"metric\": null, \"status\": \"Completed\", \"run_type\": \"azureml.scriptrun\", \"training_percent\": \"100\", \"start_time\": \"2021-04-06T22:39:57.979142Z\", \"end_time\": \"2021-04-06T22:40:49.206476Z\", \"created_time\": \"2021-04-06T22:39:46.013163Z\", \"created_time_dt\": \"2021-04-06T22:39:46.013163Z\", \"duration\": \"0:01:03\", \"iteration\": \"10\", \"goal\": \"accuracy_max\", \"run_name\": \"SparseNormalizer, LightGBM\", \"run_properties\": \"<azureml.automl.runtime.shared.model_wrappers.SparseNormalizer object at 0x7fc3f065ccc0\", \"primary_metric\": 0.83299435, \"best_metric\": 0.8360452}, {\"run_id\": \"AutoML_ca9f86d7-590e-439a-9ecf-6e3de59abab6_11\", \"run_number\": 17, \"metric\": null, \"status\": \"Completed\", \"run_type\": \"azureml.scriptrun\", \"training_percent\": \"100\", \"start_time\": \"2021-04-06T22:40:05.963335Z\", \"end_time\": \"2021-04-06T22:40:46.03802Z\", \"created_time\": \"2021-04-06T22:39:52.297559Z\", \"created_time_dt\": \"2021-04-06T22:39:52.297559Z\", \"duration\": \"0:00:53\", \"iteration\": \"11\", \"goal\": \"accuracy_max\", \"run_name\": \"StandardScalerWrapper, RandomForest\", \"run_properties\": \"<azureml.automl.runtime.shared.model_wrappers.StandardScalerWrapper object at 0x7fe263c62710\", \"primary_metric\": 0.85276836, \"best_metric\": 0.85276836}, {\"run_id\": \"AutoML_ca9f86d7-590e-439a-9ecf-6e3de59abab6_12\", \"run_number\": 18, \"metric\": null, \"status\": \"Completed\", \"run_type\": \"azureml.scriptrun\", \"training_percent\": \"100\", \"start_time\": \"2021-04-06T22:40:08.515392Z\", \"end_time\": \"2021-04-06T22:40:55.643511Z\", \"created_time\": \"2021-04-06T22:39:52.334524Z\", \"created_time_dt\": \"2021-04-06T22:39:52.334524Z\", \"duration\": \"0:01:03\", \"iteration\": \"12\", \"goal\": \"accuracy_max\", \"run_name\": \"StandardScalerWrapper, XGBoostClassifier\", \"run_properties\": \"<azureml.automl.runtime.shared.model_wrappers.StandardScalerWrapper object at 0x7f2c6a9f3978\", \"primary_metric\": 0.82265537, \"best_metric\": 0.85276836}, {\"run_id\": \"AutoML_ca9f86d7-590e-439a-9ecf-6e3de59abab6_13\", \"run_number\": 19, \"metric\": null, \"status\": \"Completed\", \"run_type\": \"azureml.scriptrun\", \"training_percent\": \"100\", \"start_time\": \"2021-04-06T22:40:08.062514Z\", \"end_time\": \"2021-04-06T22:41:02.57043Z\", \"created_time\": \"2021-04-06T22:39:56.0548Z\", \"created_time_dt\": \"2021-04-06T22:39:56.0548Z\", \"duration\": \"0:01:06\", \"iteration\": \"13\", \"goal\": \"accuracy_max\", \"run_name\": \"SparseNormalizer, XGBoostClassifier\", \"run_properties\": \"<azureml.automl.runtime.shared.model_wrappers.SparseNormalizer object at 0x7f427a9340b8\", \"primary_metric\": 0.83966102, \"best_metric\": 0.85276836}, {\"run_id\": \"AutoML_ca9f86d7-590e-439a-9ecf-6e3de59abab6_14\", \"run_number\": 20, \"metric\": null, \"status\": \"Completed\", \"run_type\": \"azureml.scriptrun\", \"training_percent\": \"100\", \"start_time\": \"2021-04-06T22:40:59.785761Z\", \"end_time\": \"2021-04-06T22:41:39.399875Z\", \"created_time\": \"2021-04-06T22:40:49.656388Z\", \"created_time_dt\": \"2021-04-06T22:40:49.656388Z\", \"duration\": \"0:00:49\", \"iteration\": \"14\", \"goal\": \"accuracy_max\", \"run_name\": \"MinMaxScaler, LightGBM\", \"run_properties\": \"copy=True, feature_range=(0, 1\", \"primary_metric\": 0.8360452, \"best_metric\": 0.85276836}, {\"run_id\": \"AutoML_ca9f86d7-590e-439a-9ecf-6e3de59abab6_15\", \"run_number\": 21, \"metric\": null, \"status\": \"Completed\", \"run_type\": \"azureml.scriptrun\", \"training_percent\": \"100\", \"start_time\": \"2021-04-06T22:41:04.718071Z\", \"end_time\": \"2021-04-06T22:41:49.543406Z\", \"created_time\": \"2021-04-06T22:40:55.158906Z\", \"created_time_dt\": \"2021-04-06T22:40:55.158906Z\", \"duration\": \"0:00:54\", \"iteration\": \"15\", \"goal\": \"accuracy_max\", \"run_name\": \"MaxAbsScaler, LightGBM\", \"run_properties\": \"copy=True\", \"primary_metric\": 0.8460452, \"best_metric\": 0.85276836}, {\"run_id\": \"AutoML_ca9f86d7-590e-439a-9ecf-6e3de59abab6_16\", \"run_number\": 22, \"metric\": null, \"status\": \"Completed\", \"run_type\": \"azureml.scriptrun\", \"training_percent\": \"100\", \"start_time\": \"2021-04-06T22:41:12.488456Z\", \"end_time\": \"2021-04-06T22:41:49.921118Z\", \"created_time\": \"2021-04-06T22:40:58.858951Z\", \"created_time_dt\": \"2021-04-06T22:40:58.858951Z\", \"duration\": \"0:00:51\", \"iteration\": \"16\", \"goal\": \"accuracy_max\", \"run_name\": \"RobustScaler, RandomForest\", \"run_properties\": \"copy=True, quantile_range=[10, 90], with_centering=True,\\n             with_scaling=True\", \"primary_metric\": 0.83276836, \"best_metric\": 0.85276836}, {\"run_id\": \"AutoML_ca9f86d7-590e-439a-9ecf-6e3de59abab6_17\", \"run_number\": 23, \"metric\": null, \"status\": \"Completed\", \"run_type\": \"azureml.scriptrun\", \"training_percent\": \"100\", \"start_time\": \"2021-04-06T22:41:19.534028Z\", \"end_time\": \"2021-04-06T22:42:08.957028Z\", \"created_time\": \"2021-04-06T22:41:04.403958Z\", \"created_time_dt\": \"2021-04-06T22:41:04.403958Z\", \"duration\": \"0:01:04\", \"iteration\": \"17\", \"goal\": \"accuracy_max\", \"run_name\": \"MinMaxScaler, LightGBM\", \"run_properties\": \"copy=True, feature_range=(0, 1\", \"primary_metric\": 0.83610169, \"best_metric\": 0.85276836}, {\"run_id\": \"AutoML_ca9f86d7-590e-439a-9ecf-6e3de59abab6_18\", \"run_number\": 24, \"metric\": null, \"status\": \"Completed\", \"run_type\": \"azureml.scriptrun\", \"training_percent\": \"100\", \"start_time\": \"2021-04-06T22:41:55.193821Z\", \"end_time\": \"2021-04-06T22:42:41.999472Z\", \"created_time\": \"2021-04-06T22:41:41.227582Z\", \"created_time_dt\": \"2021-04-06T22:41:41.227582Z\", \"duration\": \"0:01:00\", \"iteration\": \"18\", \"goal\": \"accuracy_max\", \"run_name\": \"MinMaxScaler, LightGBM\", \"run_properties\": \"copy=True, feature_range=(0, 1\", \"primary_metric\": 0.81615819, \"best_metric\": 0.85276836}, {\"run_id\": \"AutoML_ca9f86d7-590e-439a-9ecf-6e3de59abab6_19\", \"run_number\": 25, \"metric\": null, \"status\": \"Completed\", \"run_type\": \"azureml.scriptrun\", \"training_percent\": \"100\", \"start_time\": \"2021-04-06T22:42:02.959247Z\", \"end_time\": \"2021-04-06T22:42:47.9088Z\", \"created_time\": \"2021-04-06T22:41:51.505314Z\", \"created_time_dt\": \"2021-04-06T22:41:51.505314Z\", \"duration\": \"0:00:56\", \"iteration\": \"19\", \"goal\": \"accuracy_max\", \"run_name\": \"StandardScalerWrapper, ExtremeRandomTrees\", \"run_properties\": \"<azureml.automl.runtime.shared.model_wrappers.StandardScalerWrapper object at 0x7ffa0747b128\", \"primary_metric\": 0.82615819, \"best_metric\": 0.85276836}, {\"run_id\": \"AutoML_ca9f86d7-590e-439a-9ecf-6e3de59abab6_20\", \"run_number\": 26, \"metric\": null, \"status\": \"Completed\", \"run_type\": \"azureml.scriptrun\", \"training_percent\": \"100\", \"start_time\": \"2021-04-06T22:42:05.337399Z\", \"end_time\": \"2021-04-06T22:42:51.604121Z\", \"created_time\": \"2021-04-06T22:41:51.507054Z\", \"created_time_dt\": \"2021-04-06T22:41:51.507054Z\", \"duration\": \"0:01:00\", \"iteration\": \"20\", \"goal\": \"accuracy_max\", \"run_name\": \"StandardScalerWrapper, LightGBM\", \"run_properties\": \"<azureml.automl.runtime.shared.model_wrappers.StandardScalerWrapper object at 0x7fdec47a06a0\", \"primary_metric\": 0.8160452, \"best_metric\": 0.85276836}, {\"run_id\": \"AutoML_ca9f86d7-590e-439a-9ecf-6e3de59abab6_21\", \"run_number\": 27, \"metric\": null, \"status\": \"Completed\", \"run_type\": \"azureml.scriptrun\", \"training_percent\": \"100\", \"start_time\": \"2021-04-06T22:42:24.007777Z\", \"end_time\": \"2021-04-06T22:43:03.259723Z\", \"created_time\": \"2021-04-06T22:42:10.76506Z\", \"created_time_dt\": \"2021-04-06T22:42:10.76506Z\", \"duration\": \"0:00:52\", \"iteration\": \"21\", \"goal\": \"accuracy_max\", \"run_name\": \"SparseNormalizer, XGBoostClassifier\", \"run_properties\": \"<azureml.automl.runtime.shared.model_wrappers.SparseNormalizer object at 0x7f37c650bf60\", \"primary_metric\": 0.84954802, \"best_metric\": 0.85276836}, {\"run_id\": \"AutoML_ca9f86d7-590e-439a-9ecf-6e3de59abab6_22\", \"run_number\": 28, \"metric\": null, \"status\": \"Completed\", \"run_type\": \"azureml.scriptrun\", \"training_percent\": \"100\", \"start_time\": \"2021-04-06T22:42:53.807862Z\", \"end_time\": \"2021-04-06T22:43:39.267008Z\", \"created_time\": \"2021-04-06T22:42:43.812436Z\", \"created_time_dt\": \"2021-04-06T22:42:43.812436Z\", \"duration\": \"0:00:55\", \"iteration\": \"22\", \"goal\": \"accuracy_max\", \"run_name\": \"SparseNormalizer, XGBoostClassifier\", \"run_properties\": \"<azureml.automl.runtime.shared.model_wrappers.SparseNormalizer object at 0x7f748e5494a8\", \"primary_metric\": 0.81615819, \"best_metric\": 0.85276836}, {\"run_id\": \"AutoML_ca9f86d7-590e-439a-9ecf-6e3de59abab6_23\", \"run_number\": 29, \"metric\": null, \"status\": \"Completed\", \"run_type\": \"azureml.scriptrun\", \"training_percent\": \"100\", \"start_time\": \"2021-04-06T22:43:03.979123Z\", \"end_time\": \"2021-04-06T22:43:53.2518Z\", \"created_time\": \"2021-04-06T22:42:49.613645Z\", \"created_time_dt\": \"2021-04-06T22:42:49.613645Z\", \"duration\": \"0:01:03\", \"iteration\": \"23\", \"goal\": \"accuracy_max\", \"run_name\": \"MaxAbsScaler, LightGBM\", \"run_properties\": \"copy=True\", \"primary_metric\": 0.8360452, \"best_metric\": 0.85276836}, {\"run_id\": \"AutoML_ca9f86d7-590e-439a-9ecf-6e3de59abab6_24\", \"run_number\": 30, \"metric\": null, \"status\": \"Completed\", \"run_type\": \"azureml.scriptrun\", \"training_percent\": \"100\", \"start_time\": \"2021-04-06T22:43:06.811668Z\", \"end_time\": \"2021-04-06T22:43:50.069727Z\", \"created_time\": \"2021-04-06T22:42:53.584072Z\", \"created_time_dt\": \"2021-04-06T22:42:53.584072Z\", \"duration\": \"0:00:56\", \"iteration\": \"24\", \"goal\": \"accuracy_max\", \"run_name\": \"MaxAbsScaler, ExtremeRandomTrees\", \"run_properties\": \"copy=True\", \"primary_metric\": 0.8360452, \"best_metric\": 0.85276836}, {\"run_id\": \"AutoML_ca9f86d7-590e-439a-9ecf-6e3de59abab6_25\", \"run_number\": 31, \"metric\": null, \"status\": \"Completed\", \"run_type\": \"azureml.scriptrun\", \"training_percent\": \"100\", \"start_time\": \"2021-04-06T22:43:21.051162Z\", \"end_time\": \"2021-04-06T22:44:04.291095Z\", \"created_time\": \"2021-04-06T22:43:06.262335Z\", \"created_time_dt\": \"2021-04-06T22:43:06.262335Z\", \"duration\": \"0:00:58\", \"iteration\": \"25\", \"goal\": \"accuracy_max\", \"run_name\": \"SparseNormalizer, RandomForest\", \"run_properties\": \"<azureml.automl.runtime.shared.model_wrappers.SparseNormalizer object at 0x7f79346676d8\", \"primary_metric\": 0.68875706, \"best_metric\": 0.85276836}, {\"run_id\": \"AutoML_ca9f86d7-590e-439a-9ecf-6e3de59abab6_26\", \"run_number\": 32, \"metric\": null, \"status\": \"Completed\", \"run_type\": \"azureml.scriptrun\", \"training_percent\": \"100\", \"start_time\": \"2021-04-06T22:43:53.989331Z\", \"end_time\": \"2021-04-06T22:44:43.871961Z\", \"created_time\": \"2021-04-06T22:43:41.217811Z\", \"created_time_dt\": \"2021-04-06T22:43:41.217811Z\", \"duration\": \"0:01:02\", \"iteration\": \"26\", \"goal\": \"accuracy_max\", \"run_name\": \"SparseNormalizer, RandomForest\", \"run_properties\": \"<azureml.automl.runtime.shared.model_wrappers.SparseNormalizer object at 0x7fd33e1feac8\", \"primary_metric\": 0.79248588, \"best_metric\": 0.85276836}, {\"run_id\": \"AutoML_ca9f86d7-590e-439a-9ecf-6e3de59abab6_27\", \"run_number\": 33, \"metric\": null, \"status\": \"Completed\", \"run_type\": \"azureml.scriptrun\", \"training_percent\": \"100\", \"start_time\": \"2021-04-06T22:44:03.067147Z\", \"end_time\": \"2021-04-06T22:44:45.279111Z\", \"created_time\": \"2021-04-06T22:43:52.457227Z\", \"created_time_dt\": \"2021-04-06T22:43:52.457227Z\", \"duration\": \"0:00:52\", \"iteration\": \"27\", \"goal\": \"accuracy_max\", \"run_name\": \"StandardScalerWrapper, RandomForest\", \"run_properties\": \"<azureml.automl.runtime.shared.model_wrappers.StandardScalerWrapper object at 0x7fe91179fc50\", \"primary_metric\": 0.82937853, \"best_metric\": 0.85276836}, {\"run_id\": \"AutoML_ca9f86d7-590e-439a-9ecf-6e3de59abab6_28\", \"run_number\": 34, \"metric\": null, \"status\": \"Completed\", \"run_type\": \"azureml.scriptrun\", \"training_percent\": \"100\", \"start_time\": \"2021-04-06T22:44:56.01328Z\", \"end_time\": \"2021-04-06T22:45:55.519462Z\", \"created_time\": \"2021-04-06T22:44:46.021706Z\", \"created_time_dt\": \"2021-04-06T22:44:46.021706Z\", \"duration\": \"0:01:09\", \"iteration\": \"28\", \"goal\": \"accuracy_max\", \"run_name\": \"VotingEnsemble\", \"run_properties\": \"classification_labels=None,\\n                              estimators=[('11',\\n                                           Pipeline(memory=None,\\n                                                    steps=[('standardscalerwrapper',\\n                                                            <azureml.automl.runtime.shared.model_wrappers.StandardScalerWrapper object at 0x7f1b09979dd8>\", \"primary_metric\": 0.86966102, \"best_metric\": 0.86966102}, {\"run_id\": \"AutoML_ca9f86d7-590e-439a-9ecf-6e3de59abab6_29\", \"run_number\": 35, \"metric\": null, \"status\": \"Completed\", \"run_type\": \"azureml.scriptrun\", \"training_percent\": \"100\", \"start_time\": \"2021-04-06T22:44:55.546415Z\", \"end_time\": \"2021-04-06T22:45:58.309259Z\", \"created_time\": \"2021-04-06T22:44:46.392053Z\", \"created_time_dt\": \"2021-04-06T22:44:46.392053Z\", \"duration\": \"0:01:11\", \"iteration\": \"29\", \"goal\": \"accuracy_max\", \"run_name\": \"StackEnsemble\", \"run_properties\": \"base_learners=[('11',\\n                                        Pipeline(memory=None,\\n                                                 steps=[('standardscalerwrapper',\\n                                                         <azureml.automl.runtime.shared.model_wrappers.StandardScalerWrapper object at 0x7f9e1324c780>\", \"primary_metric\": 0.85960452, \"best_metric\": 0.86966102}], \"children_metrics\": {\"categories\": [0], \"series\": {\"AUC_micro\": [{\"categories\": [\"0\", \"1\", \"2\", \"3\", \"4\", \"5\", \"6\", \"7\", \"8\", \"9\", \"10\", \"11\", \"12\", \"13\", \"14\", \"15\", \"16\", \"17\", \"18\", \"19\", \"20\", \"21\", \"22\", \"23\", \"24\", \"25\", \"26\", \"27\", \"28\", \"29\"], \"mode\": \"markers\", \"name\": \"AUC_micro\", \"stepped\": false, \"type\": \"scatter\", \"data\": [0.8880105014523284, 0.8999905678444892, 0.9061557981422963, 0.9064088863353443, 0.9082674040026811, 0.8992218072712183, 0.7801223706470044, 0.8762564716396948, 0.9110584602125826, 0.9018409939672509, 0.8939478119314372, 0.9152783044463597, 0.8911529573238852, 0.8995741166331512, 0.9083395575983912, 0.9068671039611861, 0.9102944556162023, 0.898246975645568, 0.8947004372945194, 0.8876562769319161, 0.8864027259089022, 0.90198817389639, 0.8784995850489962, 0.9075907465926137, 0.8901344441252513, 0.7549241437645631, 0.8862821188036643, 0.9099544830668072, 0.9139387947269304, 0.9127046985221361]}, {\"categories\": [\"0\", \"1\", \"2\", \"3\", \"4\", \"5\", \"6\", \"7\", \"8\", \"9\", \"10\", \"11\", \"12\", \"13\", \"14\", \"15\", \"16\", \"17\", \"18\", \"19\", \"20\", \"21\", \"22\", \"23\", \"24\", \"25\", \"26\", \"27\", \"28\", \"29\"], \"mode\": \"lines\", \"name\": \"AUC_micro_max\", \"stepped\": true, \"type\": \"scatter\", \"data\": [0.8880105014523284, 0.8999905678444892, 0.9061557981422963, 0.9064088863353443, 0.9082674040026811, 0.9082674040026811, 0.9082674040026811, 0.9082674040026811, 0.9110584602125826, 0.9110584602125826, 0.9110584602125826, 0.9152783044463597, 0.9152783044463597, 0.9152783044463597, 0.9152783044463597, 0.9152783044463597, 0.9152783044463597, 0.9152783044463597, 0.9152783044463597, 0.9152783044463597, 0.9152783044463597, 0.9152783044463597, 0.9152783044463597, 0.9152783044463597, 0.9152783044463597, 0.9152783044463597, 0.9152783044463597, 0.9152783044463597, 0.9152783044463597, 0.9152783044463597]}], \"accuracy\": [{\"categories\": [\"0\", \"1\", \"2\", \"3\", \"4\", \"5\", \"6\", \"7\", \"8\", \"9\", \"10\", \"11\", \"12\", \"13\", \"14\", \"15\", \"16\", \"17\", \"18\", \"19\", \"20\", \"21\", \"22\", \"23\", \"24\", \"25\", \"26\", \"27\", \"28\", \"29\"], \"mode\": \"markers\", \"name\": \"accuracy\", \"stepped\": false, \"type\": \"scatter\", \"data\": [0.8059887005649717, 0.8259322033898304, 0.8261016949152543, 0.8227118644067797, 0.822542372881356, 0.836045197740113, 0.7057627118644068, 0.8093785310734465, 0.8293220338983052, 0.8092655367231639, 0.8329943502824859, 0.8527683615819208, 0.8226553672316385, 0.8396610169491525, 0.836045197740113, 0.8460451977401131, 0.8327683615819209, 0.8361016949152542, 0.8161581920903955, 0.8261581920903953, 0.8160451977401131, 0.8495480225988701, 0.8161581920903955, 0.836045197740113, 0.836045197740113, 0.6887570621468926, 0.7924858757062146, 0.8293785310734464, 0.8696610169491524, 0.8596045197740112]}, {\"categories\": [\"0\", \"1\", \"2\", \"3\", \"4\", \"5\", \"6\", \"7\", \"8\", \"9\", \"10\", \"11\", \"12\", \"13\", \"14\", \"15\", \"16\", \"17\", \"18\", \"19\", \"20\", \"21\", \"22\", \"23\", \"24\", \"25\", \"26\", \"27\", \"28\", \"29\"], \"mode\": \"lines\", \"name\": \"accuracy_max\", \"stepped\": true, \"type\": \"scatter\", \"data\": [0.8059887005649717, 0.8259322033898304, 0.8261016949152543, 0.8261016949152543, 0.8261016949152543, 0.836045197740113, 0.836045197740113, 0.836045197740113, 0.836045197740113, 0.836045197740113, 0.836045197740113, 0.8527683615819208, 0.8527683615819208, 0.8527683615819208, 0.8527683615819208, 0.8527683615819208, 0.8527683615819208, 0.8527683615819208, 0.8527683615819208, 0.8527683615819208, 0.8527683615819208, 0.8527683615819208, 0.8527683615819208, 0.8527683615819208, 0.8527683615819208, 0.8527683615819208, 0.8527683615819208, 0.8527683615819208, 0.8696610169491524, 0.8696610169491524]}], \"precision_score_micro\": [{\"categories\": [\"0\", \"1\", \"2\", \"3\", \"4\", \"5\", \"6\", \"7\", \"8\", \"9\", \"10\", \"11\", \"12\", \"13\", \"14\", \"15\", \"16\", \"17\", \"18\", \"19\", \"20\", \"21\", \"22\", \"23\", \"24\", \"25\", \"26\", \"27\", \"28\", \"29\"], \"mode\": \"markers\", \"name\": \"precision_score_micro\", \"stepped\": false, \"type\": \"scatter\", \"data\": [0.8059887005649717, 0.8259322033898304, 0.8261016949152543, 0.8227118644067797, 0.822542372881356, 0.836045197740113, 0.7057627118644068, 0.8093785310734465, 0.8293220338983052, 0.8092655367231639, 0.8329943502824859, 0.8527683615819208, 0.8226553672316385, 0.8396610169491525, 0.836045197740113, 0.8460451977401131, 0.8327683615819209, 0.8361016949152542, 0.8161581920903955, 0.8261581920903953, 0.8160451977401131, 0.8495480225988701, 0.8161581920903955, 0.836045197740113, 0.836045197740113, 0.6887570621468926, 0.7924858757062146, 0.8293785310734464, 0.8696610169491524, 0.8596045197740112]}, {\"categories\": [\"0\", \"1\", \"2\", \"3\", \"4\", \"5\", \"6\", \"7\", \"8\", \"9\", \"10\", \"11\", \"12\", \"13\", \"14\", \"15\", \"16\", \"17\", \"18\", \"19\", \"20\", \"21\", \"22\", \"23\", \"24\", \"25\", \"26\", \"27\", \"28\", \"29\"], \"mode\": \"lines\", \"name\": \"precision_score_micro_max\", \"stepped\": true, \"type\": \"scatter\", \"data\": [0.8059887005649717, 0.8259322033898304, 0.8261016949152543, 0.8261016949152543, 0.8261016949152543, 0.836045197740113, 0.836045197740113, 0.836045197740113, 0.836045197740113, 0.836045197740113, 0.836045197740113, 0.8527683615819208, 0.8527683615819208, 0.8527683615819208, 0.8527683615819208, 0.8527683615819208, 0.8527683615819208, 0.8527683615819208, 0.8527683615819208, 0.8527683615819208, 0.8527683615819208, 0.8527683615819208, 0.8527683615819208, 0.8527683615819208, 0.8527683615819208, 0.8527683615819208, 0.8527683615819208, 0.8527683615819208, 0.8696610169491524, 0.8696610169491524]}], \"AUC_weighted\": [{\"categories\": [\"0\", \"1\", \"2\", \"3\", \"4\", \"5\", \"6\", \"7\", \"8\", \"9\", \"10\", \"11\", \"12\", \"13\", \"14\", \"15\", \"16\", \"17\", \"18\", \"19\", \"20\", \"21\", \"22\", \"23\", \"24\", \"25\", \"26\", \"27\", \"28\", \"29\"], \"mode\": \"markers\", \"name\": \"AUC_weighted\", \"stepped\": false, \"type\": \"scatter\", \"data\": [0.8811331210778885, 0.8929591177556293, 0.8993366786637136, 0.9087918973791067, 0.9098370478036175, 0.8948701088962718, 0.7394446982281285, 0.8592381875230715, 0.9047411637135474, 0.8994653700627537, 0.8876433877814691, 0.9134169896640827, 0.8888375899778517, 0.8876623292727943, 0.902828672942045, 0.9042281976744185, 0.9024931016980435, 0.9035994370616462, 0.8967023348098928, 0.8838768456995203, 0.8939186277224067, 0.8911969130675527, 0.8659630860095977, 0.90147030730897, 0.876172203765227, 0.6994093069398302, 0.8794027777777778, 0.9051502168696937, 0.9133089008859357, 0.9144607327427096]}, {\"categories\": [\"0\", \"1\", \"2\", \"3\", \"4\", \"5\", \"6\", \"7\", \"8\", \"9\", \"10\", \"11\", \"12\", \"13\", \"14\", \"15\", \"16\", \"17\", \"18\", \"19\", \"20\", \"21\", \"22\", \"23\", \"24\", \"25\", \"26\", \"27\", \"28\", \"29\"], \"mode\": \"lines\", \"name\": \"AUC_weighted_max\", \"stepped\": true, \"type\": \"scatter\", \"data\": [0.8811331210778885, 0.8929591177556293, 0.8993366786637136, 0.9087918973791067, 0.9098370478036175, 0.9098370478036175, 0.9098370478036175, 0.9098370478036175, 0.9098370478036175, 0.9098370478036175, 0.9098370478036175, 0.9134169896640827, 0.9134169896640827, 0.9134169896640827, 0.9134169896640827, 0.9134169896640827, 0.9134169896640827, 0.9134169896640827, 0.9134169896640827, 0.9134169896640827, 0.9134169896640827, 0.9134169896640827, 0.9134169896640827, 0.9134169896640827, 0.9134169896640827, 0.9134169896640827, 0.9134169896640827, 0.9134169896640827, 0.9134169896640827, 0.9144607327427096]}], \"balanced_accuracy\": [{\"categories\": [\"0\", \"1\", \"2\", \"3\", \"4\", \"5\", \"6\", \"7\", \"8\", \"9\", \"10\", \"11\", \"12\", \"13\", \"14\", \"15\", \"16\", \"17\", \"18\", \"19\", \"20\", \"21\", \"22\", \"23\", \"24\", \"25\", \"26\", \"27\", \"28\", \"29\"], \"mode\": \"markers\", \"name\": \"balanced_accuracy\", \"stepped\": false, \"type\": \"scatter\", \"data\": [0.7760209025470652, 0.8060125968992248, 0.8004934939091916, 0.7823684939091916, 0.80437569213732, 0.8221816168327797, 0.6182613510520488, 0.7602512458471761, 0.8050048449612403, 0.768312569213732, 0.8043410852713178, 0.8178107696566999, 0.7640351605758582, 0.810765503875969, 0.8116756644518273, 0.8090607696566998, 0.8019179125138429, 0.788826827242525, 0.7494601328903654, 0.7686565614617941, 0.7672155315614617, 0.8222238372093024, 0.7660035991140642, 0.8031679125138428, 0.8211357973421928, 0.6173954872646733, 0.7920418050941308, 0.8016756644518273, 0.8349702380952382, 0.8280613233665559]}, {\"categories\": [\"0\", \"1\", \"2\", \"3\", \"4\", \"5\", \"6\", \"7\", \"8\", \"9\", \"10\", \"11\", \"12\", \"13\", \"14\", \"15\", \"16\", \"17\", \"18\", \"19\", \"20\", \"21\", \"22\", \"23\", \"24\", \"25\", \"26\", \"27\", \"28\", \"29\"], \"mode\": \"lines\", \"name\": \"balanced_accuracy_max\", \"stepped\": true, \"type\": \"scatter\", \"data\": [0.7760209025470652, 0.8060125968992248, 0.8060125968992248, 0.8060125968992248, 0.8060125968992248, 0.8221816168327797, 0.8221816168327797, 0.8221816168327797, 0.8221816168327797, 0.8221816168327797, 0.8221816168327797, 0.8221816168327797, 0.8221816168327797, 0.8221816168327797, 0.8221816168327797, 0.8221816168327797, 0.8221816168327797, 0.8221816168327797, 0.8221816168327797, 0.8221816168327797, 0.8221816168327797, 0.8222238372093024, 0.8222238372093024, 0.8222238372093024, 0.8222238372093024, 0.8222238372093024, 0.8222238372093024, 0.8222238372093024, 0.8349702380952382, 0.8349702380952382]}], \"AUC_macro\": [{\"categories\": [\"0\", \"1\", \"2\", \"3\", \"4\", \"5\", \"6\", \"7\", \"8\", \"9\", \"10\", \"11\", \"12\", \"13\", \"14\", \"15\", \"16\", \"17\", \"18\", \"19\", \"20\", \"21\", \"22\", \"23\", \"24\", \"25\", \"26\", \"27\", \"28\", \"29\"], \"mode\": \"markers\", \"name\": \"AUC_macro\", \"stepped\": false, \"type\": \"scatter\", \"data\": [0.8811331210778885, 0.8929591177556295, 0.8993366786637136, 0.9087918973791067, 0.9098370478036177, 0.8948701088962718, 0.7394446982281285, 0.8592381875230715, 0.9047411637135474, 0.8994653700627537, 0.8876433877814691, 0.9134169896640827, 0.8888375899778517, 0.8876623292727943, 0.902828672942045, 0.9042281976744185, 0.9024931016980435, 0.9035994370616465, 0.8967023348098928, 0.8838768456995201, 0.8939186277224069, 0.8911969130675527, 0.8659630860095978, 0.90147030730897, 0.876172203765227, 0.6994093069398302, 0.8794027777777778, 0.9051502168696937, 0.9133089008859357, 0.9144607327427096]}, {\"categories\": [\"0\", \"1\", \"2\", \"3\", \"4\", \"5\", \"6\", \"7\", \"8\", \"9\", \"10\", \"11\", \"12\", \"13\", \"14\", \"15\", \"16\", \"17\", \"18\", \"19\", \"20\", \"21\", \"22\", \"23\", \"24\", \"25\", \"26\", \"27\", \"28\", \"29\"], \"mode\": \"lines\", \"name\": \"AUC_macro_max\", \"stepped\": true, \"type\": \"scatter\", \"data\": [0.8811331210778885, 0.8929591177556295, 0.8993366786637136, 0.9087918973791067, 0.9098370478036177, 0.9098370478036177, 0.9098370478036177, 0.9098370478036177, 0.9098370478036177, 0.9098370478036177, 0.9098370478036177, 0.9134169896640827, 0.9134169896640827, 0.9134169896640827, 0.9134169896640827, 0.9134169896640827, 0.9134169896640827, 0.9134169896640827, 0.9134169896640827, 0.9134169896640827, 0.9134169896640827, 0.9134169896640827, 0.9134169896640827, 0.9134169896640827, 0.9134169896640827, 0.9134169896640827, 0.9134169896640827, 0.9134169896640827, 0.9134169896640827, 0.9144607327427096]}], \"recall_score_micro\": [{\"categories\": [\"0\", \"1\", \"2\", \"3\", \"4\", \"5\", \"6\", \"7\", \"8\", \"9\", \"10\", \"11\", \"12\", \"13\", \"14\", \"15\", \"16\", \"17\", \"18\", \"19\", \"20\", \"21\", \"22\", \"23\", \"24\", \"25\", \"26\", \"27\", \"28\", \"29\"], \"mode\": \"markers\", \"name\": \"recall_score_micro\", \"stepped\": false, \"type\": \"scatter\", \"data\": [0.8059887005649717, 0.8259322033898304, 0.8261016949152543, 0.8227118644067797, 0.822542372881356, 0.836045197740113, 0.7057627118644068, 0.8093785310734465, 0.8293220338983052, 0.8092655367231639, 0.8329943502824859, 0.8527683615819208, 0.8226553672316385, 0.8396610169491525, 0.836045197740113, 0.8460451977401131, 0.8327683615819209, 0.8361016949152542, 0.8161581920903955, 0.8261581920903953, 0.8160451977401131, 0.8495480225988701, 0.8161581920903955, 0.836045197740113, 0.836045197740113, 0.6887570621468926, 0.7924858757062146, 0.8293785310734464, 0.8696610169491524, 0.8596045197740112]}, {\"categories\": [\"0\", \"1\", \"2\", \"3\", \"4\", \"5\", \"6\", \"7\", \"8\", \"9\", \"10\", \"11\", \"12\", \"13\", \"14\", \"15\", \"16\", \"17\", \"18\", \"19\", \"20\", \"21\", \"22\", \"23\", \"24\", \"25\", \"26\", \"27\", \"28\", \"29\"], \"mode\": \"lines\", \"name\": \"recall_score_micro_max\", \"stepped\": true, \"type\": \"scatter\", \"data\": [0.8059887005649717, 0.8259322033898304, 0.8261016949152543, 0.8261016949152543, 0.8261016949152543, 0.836045197740113, 0.836045197740113, 0.836045197740113, 0.836045197740113, 0.836045197740113, 0.836045197740113, 0.8527683615819208, 0.8527683615819208, 0.8527683615819208, 0.8527683615819208, 0.8527683615819208, 0.8527683615819208, 0.8527683615819208, 0.8527683615819208, 0.8527683615819208, 0.8527683615819208, 0.8527683615819208, 0.8527683615819208, 0.8527683615819208, 0.8527683615819208, 0.8527683615819208, 0.8527683615819208, 0.8527683615819208, 0.8696610169491524, 0.8696610169491524]}], \"matthews_correlation\": [{\"categories\": [\"0\", \"1\", \"2\", \"3\", \"4\", \"5\", \"6\", \"7\", \"8\", \"9\", \"10\", \"11\", \"12\", \"13\", \"14\", \"15\", \"16\", \"17\", \"18\", \"19\", \"20\", \"21\", \"22\", \"23\", \"24\", \"25\", \"26\", \"27\", \"28\", \"29\"], \"mode\": \"markers\", \"name\": \"matthews_correlation\", \"stepped\": false, \"type\": \"scatter\", \"data\": [0.5628617041183437, 0.6132552509330647, 0.6090418148170886, 0.5921997433531827, 0.6032743089809156, 0.6366884178785488, 0.27860839560174194, 0.5428697166604373, 0.6109497542621597, 0.5596588796082372, 0.6311991764150848, 0.6559241544170008, 0.5832835639254463, 0.6341138679482298, 0.6297397011260139, 0.6434829400534046, 0.619514792988041, 0.6175468950144516, 0.5731686693141919, 0.6030167914301202, 0.577377585520883, 0.6595006837750859, 0.5639200251615291, 0.6236287233373583, 0.6304446039050292, 0.25364406677827267, 0.5514369252573357, 0.6134373869209402, 0.7111601973444508, 0.6853677990663497]}, {\"categories\": [\"0\", \"1\", \"2\", \"3\", \"4\", \"5\", \"6\", \"7\", \"8\", \"9\", \"10\", \"11\", \"12\", \"13\", \"14\", \"15\", \"16\", \"17\", \"18\", \"19\", \"20\", \"21\", \"22\", \"23\", \"24\", \"25\", \"26\", \"27\", \"28\", \"29\"], \"mode\": \"lines\", \"name\": \"matthews_correlation_max\", \"stepped\": true, \"type\": \"scatter\", \"data\": [0.5628617041183437, 0.6132552509330647, 0.6132552509330647, 0.6132552509330647, 0.6132552509330647, 0.6366884178785488, 0.6366884178785488, 0.6366884178785488, 0.6366884178785488, 0.6366884178785488, 0.6366884178785488, 0.6559241544170008, 0.6559241544170008, 0.6559241544170008, 0.6559241544170008, 0.6559241544170008, 0.6559241544170008, 0.6559241544170008, 0.6559241544170008, 0.6559241544170008, 0.6559241544170008, 0.6595006837750859, 0.6595006837750859, 0.6595006837750859, 0.6595006837750859, 0.6595006837750859, 0.6595006837750859, 0.6595006837750859, 0.7111601973444508, 0.7111601973444508]}], \"recall_score_macro\": [{\"categories\": [\"0\", \"1\", \"2\", \"3\", \"4\", \"5\", \"6\", \"7\", \"8\", \"9\", \"10\", \"11\", \"12\", \"13\", \"14\", \"15\", \"16\", \"17\", \"18\", \"19\", \"20\", \"21\", \"22\", \"23\", \"24\", \"25\", \"26\", \"27\", \"28\", \"29\"], \"mode\": \"markers\", \"name\": \"recall_score_macro\", \"stepped\": false, \"type\": \"scatter\", \"data\": [0.7760209025470652, 0.8060125968992248, 0.8004934939091916, 0.7823684939091916, 0.80437569213732, 0.8221816168327797, 0.6182613510520488, 0.7602512458471761, 0.8050048449612403, 0.768312569213732, 0.8043410852713178, 0.8178107696566999, 0.7640351605758582, 0.810765503875969, 0.8116756644518273, 0.8090607696566998, 0.8019179125138429, 0.788826827242525, 0.7494601328903654, 0.7686565614617941, 0.7672155315614617, 0.8222238372093024, 0.7660035991140642, 0.8031679125138428, 0.8211357973421928, 0.6173954872646733, 0.7920418050941308, 0.8016756644518273, 0.8349702380952382, 0.8280613233665559]}, {\"categories\": [\"0\", \"1\", \"2\", \"3\", \"4\", \"5\", \"6\", \"7\", \"8\", \"9\", \"10\", \"11\", \"12\", \"13\", \"14\", \"15\", \"16\", \"17\", \"18\", \"19\", \"20\", \"21\", \"22\", \"23\", \"24\", \"25\", \"26\", \"27\", \"28\", \"29\"], \"mode\": \"lines\", \"name\": \"recall_score_macro_max\", \"stepped\": true, \"type\": \"scatter\", \"data\": [0.7760209025470652, 0.8060125968992248, 0.8060125968992248, 0.8060125968992248, 0.8060125968992248, 0.8221816168327797, 0.8221816168327797, 0.8221816168327797, 0.8221816168327797, 0.8221816168327797, 0.8221816168327797, 0.8221816168327797, 0.8221816168327797, 0.8221816168327797, 0.8221816168327797, 0.8221816168327797, 0.8221816168327797, 0.8221816168327797, 0.8221816168327797, 0.8221816168327797, 0.8221816168327797, 0.8222238372093024, 0.8222238372093024, 0.8222238372093024, 0.8222238372093024, 0.8222238372093024, 0.8222238372093024, 0.8222238372093024, 0.8349702380952382, 0.8349702380952382]}], \"f1_score_micro\": [{\"categories\": [\"0\", \"1\", \"2\", \"3\", \"4\", \"5\", \"6\", \"7\", \"8\", \"9\", \"10\", \"11\", \"12\", \"13\", \"14\", \"15\", \"16\", \"17\", \"18\", \"19\", \"20\", \"21\", \"22\", \"23\", \"24\", \"25\", \"26\", \"27\", \"28\", \"29\"], \"mode\": \"markers\", \"name\": \"f1_score_micro\", \"stepped\": false, \"type\": \"scatter\", \"data\": [0.8059887005649718, 0.8259322033898304, 0.8261016949152543, 0.8227118644067797, 0.822542372881356, 0.8360451977401132, 0.7057627118644068, 0.8093785310734465, 0.8293220338983052, 0.8092655367231639, 0.8329943502824859, 0.8527683615819208, 0.8226553672316385, 0.8396610169491525, 0.836045197740113, 0.8460451977401131, 0.8327683615819209, 0.8361016949152542, 0.8161581920903955, 0.8261581920903955, 0.8160451977401131, 0.8495480225988701, 0.8161581920903955, 0.836045197740113, 0.836045197740113, 0.6887570621468926, 0.7924858757062146, 0.8293785310734464, 0.8696610169491524, 0.8596045197740112]}, {\"categories\": [\"0\", \"1\", \"2\", \"3\", \"4\", \"5\", \"6\", \"7\", \"8\", \"9\", \"10\", \"11\", \"12\", \"13\", \"14\", \"15\", \"16\", \"17\", \"18\", \"19\", \"20\", \"21\", \"22\", \"23\", \"24\", \"25\", \"26\", \"27\", \"28\", \"29\"], \"mode\": \"lines\", \"name\": \"f1_score_micro_max\", \"stepped\": true, \"type\": \"scatter\", \"data\": [0.8059887005649718, 0.8259322033898304, 0.8261016949152543, 0.8261016949152543, 0.8261016949152543, 0.8360451977401132, 0.8360451977401132, 0.8360451977401132, 0.8360451977401132, 0.8360451977401132, 0.8360451977401132, 0.8527683615819208, 0.8527683615819208, 0.8527683615819208, 0.8527683615819208, 0.8527683615819208, 0.8527683615819208, 0.8527683615819208, 0.8527683615819208, 0.8527683615819208, 0.8527683615819208, 0.8527683615819208, 0.8527683615819208, 0.8527683615819208, 0.8527683615819208, 0.8527683615819208, 0.8527683615819208, 0.8527683615819208, 0.8696610169491524, 0.8696610169491524]}], \"average_precision_score_weighted\": [{\"categories\": [\"0\", \"1\", \"2\", \"3\", \"4\", \"5\", \"6\", \"7\", \"8\", \"9\", \"10\", \"11\", \"12\", \"13\", \"14\", \"15\", \"16\", \"17\", \"18\", \"19\", \"20\", \"21\", \"22\", \"23\", \"24\", \"25\", \"26\", \"27\", \"28\", \"29\"], \"mode\": \"markers\", \"name\": \"average_precision_score_weighted\", \"stepped\": false, \"type\": \"scatter\", \"data\": [0.8955370396295249, 0.9103506263314479, 0.9077494518914049, 0.918648867537604, 0.9204304560354105, 0.9075939971317688, 0.7675756738587173, 0.8720059756545379, 0.918081599061121, 0.9121500058940821, 0.9027199794815131, 0.9257430419471737, 0.8948959997609753, 0.8977687189620761, 0.9156792744979502, 0.9182639428948713, 0.9127807465365523, 0.9167741982757024, 0.9128183909604417, 0.9017236250505452, 0.9058607560878091, 0.9006084997836087, 0.8760661606913894, 0.9134991987377894, 0.8963872580575176, 0.7043043845662664, 0.8912607441242655, 0.9160173606477569, 0.9239740832086969, 0.9249482147095515]}, {\"categories\": [\"0\", \"1\", \"2\", \"3\", \"4\", \"5\", \"6\", \"7\", \"8\", \"9\", \"10\", \"11\", \"12\", \"13\", \"14\", \"15\", \"16\", \"17\", \"18\", \"19\", \"20\", \"21\", \"22\", \"23\", \"24\", \"25\", \"26\", \"27\", \"28\", \"29\"], \"mode\": \"lines\", \"name\": \"average_precision_score_weighted_max\", \"stepped\": true, \"type\": \"scatter\", \"data\": [0.8955370396295249, 0.9103506263314479, 0.9103506263314479, 0.918648867537604, 0.9204304560354105, 0.9204304560354105, 0.9204304560354105, 0.9204304560354105, 0.9204304560354105, 0.9204304560354105, 0.9204304560354105, 0.9257430419471737, 0.9257430419471737, 0.9257430419471737, 0.9257430419471737, 0.9257430419471737, 0.9257430419471737, 0.9257430419471737, 0.9257430419471737, 0.9257430419471737, 0.9257430419471737, 0.9257430419471737, 0.9257430419471737, 0.9257430419471737, 0.9257430419471737, 0.9257430419471737, 0.9257430419471737, 0.9257430419471737, 0.9257430419471737, 0.9257430419471737]}], \"f1_score_macro\": [{\"categories\": [\"0\", \"1\", \"2\", \"3\", \"4\", \"5\", \"6\", \"7\", \"8\", \"9\", \"10\", \"11\", \"12\", \"13\", \"14\", \"15\", \"16\", \"17\", \"18\", \"19\", \"20\", \"21\", \"22\", \"23\", \"24\", \"25\", \"26\", \"27\", \"28\", \"29\"], \"mode\": \"markers\", \"name\": \"f1_score_macro\", \"stepped\": false, \"type\": \"scatter\", \"data\": [0.7682096405971308, 0.7972526241921125, 0.7918849448805874, 0.780975055933224, 0.7903989776964206, 0.8077512191480093, 0.605865141051142, 0.7611013563473851, 0.7962943435419932, 0.7653123938462241, 0.8017629707082936, 0.8198427209419601, 0.7744146297219825, 0.8095790583685322, 0.8045004611589233, 0.8136400838443922, 0.7983895101899376, 0.7962813510253269, 0.7625919451180303, 0.7801507800343133, 0.7695891912830867, 0.819411511024574, 0.7703458736819672, 0.8003539676580527, 0.8079337579539777, 0.5855806703259901, 0.7673497271447844, 0.7964604782799982, 0.8419194687709297, 0.8300999737199994]}, {\"categories\": [\"0\", \"1\", \"2\", \"3\", \"4\", \"5\", \"6\", \"7\", \"8\", \"9\", \"10\", \"11\", \"12\", \"13\", \"14\", \"15\", \"16\", \"17\", \"18\", \"19\", \"20\", \"21\", \"22\", \"23\", \"24\", \"25\", \"26\", \"27\", \"28\", \"29\"], \"mode\": \"lines\", \"name\": \"f1_score_macro_max\", \"stepped\": true, \"type\": \"scatter\", \"data\": [0.7682096405971308, 0.7972526241921125, 0.7972526241921125, 0.7972526241921125, 0.7972526241921125, 0.8077512191480093, 0.8077512191480093, 0.8077512191480093, 0.8077512191480093, 0.8077512191480093, 0.8077512191480093, 0.8198427209419601, 0.8198427209419601, 0.8198427209419601, 0.8198427209419601, 0.8198427209419601, 0.8198427209419601, 0.8198427209419601, 0.8198427209419601, 0.8198427209419601, 0.8198427209419601, 0.8198427209419601, 0.8198427209419601, 0.8198427209419601, 0.8198427209419601, 0.8198427209419601, 0.8198427209419601, 0.8198427209419601, 0.8419194687709297, 0.8419194687709297]}], \"f1_score_weighted\": [{\"categories\": [\"0\", \"1\", \"2\", \"3\", \"4\", \"5\", \"6\", \"7\", \"8\", \"9\", \"10\", \"11\", \"12\", \"13\", \"14\", \"15\", \"16\", \"17\", \"18\", \"19\", \"20\", \"21\", \"22\", \"23\", \"24\", \"25\", \"26\", \"27\", \"28\", \"29\"], \"mode\": \"markers\", \"name\": \"f1_score_weighted\", \"stepped\": false, \"type\": \"scatter\", \"data\": [0.8014398448329555, 0.8237396450256732, 0.8220650099589719, 0.8157808386951343, 0.8219060445280354, 0.835545832495788, 0.6770444313687108, 0.8039757220257486, 0.8273127072526598, 0.8026943251342772, 0.8295428462047711, 0.8491638007042669, 0.8120819514951683, 0.8366627045139088, 0.8324050168303933, 0.8414895456242963, 0.8283167550001753, 0.8287486587180277, 0.8021759951947371, 0.8133132220499547, 0.8041176153746544, 0.8457257579195872, 0.8112107012544966, 0.8310804973528105, 0.8370109090925041, 0.6551129914094161, 0.7975908943378236, 0.8255052844543478, 0.8637293349883166, 0.854212974764921]}, {\"categories\": [\"0\", \"1\", \"2\", \"3\", \"4\", \"5\", \"6\", \"7\", \"8\", \"9\", \"10\", \"11\", \"12\", \"13\", \"14\", \"15\", \"16\", \"17\", \"18\", \"19\", \"20\", \"21\", \"22\", \"23\", \"24\", \"25\", \"26\", \"27\", \"28\", \"29\"], \"mode\": \"lines\", \"name\": \"f1_score_weighted_max\", \"stepped\": true, \"type\": \"scatter\", \"data\": [0.8014398448329555, 0.8237396450256732, 0.8237396450256732, 0.8237396450256732, 0.8237396450256732, 0.835545832495788, 0.835545832495788, 0.835545832495788, 0.835545832495788, 0.835545832495788, 0.835545832495788, 0.8491638007042669, 0.8491638007042669, 0.8491638007042669, 0.8491638007042669, 0.8491638007042669, 0.8491638007042669, 0.8491638007042669, 0.8491638007042669, 0.8491638007042669, 0.8491638007042669, 0.8491638007042669, 0.8491638007042669, 0.8491638007042669, 0.8491638007042669, 0.8491638007042669, 0.8491638007042669, 0.8491638007042669, 0.8637293349883166, 0.8637293349883166]}], \"precision_score_macro\": [{\"categories\": [\"0\", \"1\", \"2\", \"3\", \"4\", \"5\", \"6\", \"7\", \"8\", \"9\", \"10\", \"11\", \"12\", \"13\", \"14\", \"15\", \"16\", \"17\", \"18\", \"19\", \"20\", \"21\", \"22\", \"23\", \"24\", \"25\", \"26\", \"27\", \"28\", \"29\"], \"mode\": \"markers\", \"name\": \"precision_score_macro\", \"stepped\": false, \"type\": \"scatter\", \"data\": [0.7889041743265773, 0.8086642059265495, 0.8110111183399805, 0.8133116996034925, 0.8009145772288366, 0.8165719426492342, 0.6699767437211943, 0.7842618251313904, 0.8072886898666528, 0.7943801096672672, 0.8298263723233414, 0.8392549611980513, 0.8233427852120861, 0.824308208922212, 0.8197374860075091, 0.8355654079460381, 0.8196732946633322, 0.8310531264155043, 0.8309955634427684, 0.8408427519795302, 0.8145149307214524, 0.8392483338809841, 0.800353392645684, 0.8226013731885249, 0.8106884855210869, 0.6054465664805185, 0.7611439525962046, 0.8134219829397594, 0.8797953685376045, 0.8600683656839021]}, {\"categories\": [\"0\", \"1\", \"2\", \"3\", \"4\", \"5\", \"6\", \"7\", \"8\", \"9\", \"10\", \"11\", \"12\", \"13\", \"14\", \"15\", \"16\", \"17\", \"18\", \"19\", \"20\", \"21\", \"22\", \"23\", \"24\", \"25\", \"26\", \"27\", \"28\", \"29\"], \"mode\": \"lines\", \"name\": \"precision_score_macro_max\", \"stepped\": true, \"type\": \"scatter\", \"data\": [0.7889041743265773, 0.8086642059265495, 0.8110111183399805, 0.8133116996034925, 0.8133116996034925, 0.8165719426492342, 0.8165719426492342, 0.8165719426492342, 0.8165719426492342, 0.8165719426492342, 0.8298263723233414, 0.8392549611980513, 0.8392549611980513, 0.8392549611980513, 0.8392549611980513, 0.8392549611980513, 0.8392549611980513, 0.8392549611980513, 0.8392549611980513, 0.8408427519795302, 0.8408427519795302, 0.8408427519795302, 0.8408427519795302, 0.8408427519795302, 0.8408427519795302, 0.8408427519795302, 0.8408427519795302, 0.8408427519795302, 0.8797953685376045, 0.8797953685376045]}], \"log_loss\": [{\"categories\": [\"0\", \"1\", \"2\", \"3\", \"4\", \"5\", \"6\", \"7\", \"8\", \"9\", \"10\", \"11\", \"12\", \"13\", \"14\", \"15\", \"16\", \"17\", \"18\", \"19\", \"20\", \"21\", \"22\", \"23\", \"24\", \"25\", \"26\", \"27\", \"28\", \"29\"], \"mode\": \"markers\", \"name\": \"log_loss\", \"stepped\": false, \"type\": \"scatter\", \"data\": [0.5282491261622873, 0.43217688137359717, 0.3886624797672539, 0.40620303595465634, 0.38444310305566554, 0.4513273549266551, 0.5856940417087204, 0.4899611430866921, 0.3787655468336092, 0.402847525757828, 0.41472333246893617, 0.39246407132357264, 0.5044404800443761, 0.4049669611121631, 0.3845454077175118, 0.4249549102616344, 0.3927969106406529, 0.448087875349292, 0.4331556229669603, 0.4450313551418663, 0.4727004574854833, 0.3943460505962698, 0.49215824636685535, 0.3942567186158543, 0.4864793345436545, 0.6688936574084686, 0.5349251776738484, 0.38365622732982024, 0.4030382981255542, 0.3900676743696676]}, {\"categories\": [\"0\", \"1\", \"2\", \"3\", \"4\", \"5\", \"6\", \"7\", \"8\", \"9\", \"10\", \"11\", \"12\", \"13\", \"14\", \"15\", \"16\", \"17\", \"18\", \"19\", \"20\", \"21\", \"22\", \"23\", \"24\", \"25\", \"26\", \"27\", \"28\", \"29\"], \"mode\": \"lines\", \"name\": \"log_loss_min\", \"stepped\": true, \"type\": \"scatter\", \"data\": [0.5282491261622873, 0.43217688137359717, 0.3886624797672539, 0.3886624797672539, 0.38444310305566554, 0.38444310305566554, 0.38444310305566554, 0.38444310305566554, 0.3787655468336092, 0.3787655468336092, 0.3787655468336092, 0.3787655468336092, 0.3787655468336092, 0.3787655468336092, 0.3787655468336092, 0.3787655468336092, 0.3787655468336092, 0.3787655468336092, 0.3787655468336092, 0.3787655468336092, 0.3787655468336092, 0.3787655468336092, 0.3787655468336092, 0.3787655468336092, 0.3787655468336092, 0.3787655468336092, 0.3787655468336092, 0.3787655468336092, 0.3787655468336092, 0.3787655468336092]}], \"precision_score_weighted\": [{\"categories\": [\"0\", \"1\", \"2\", \"3\", \"4\", \"5\", \"6\", \"7\", \"8\", \"9\", \"10\", \"11\", \"12\", \"13\", \"14\", \"15\", \"16\", \"17\", \"18\", \"19\", \"20\", \"21\", \"22\", \"23\", \"24\", \"25\", \"26\", \"27\", \"28\", \"29\"], \"mode\": \"markers\", \"name\": \"precision_score_weighted\", \"stepped\": false, \"type\": \"scatter\", \"data\": [0.8237683758533973, 0.8403871377947292, 0.8427338329906415, 0.8387402781926708, 0.8432214442972693, 0.8550108990326709, 0.7147934920635686, 0.8196810460480322, 0.84383846771451, 0.8261621101752858, 0.8531774663897151, 0.8618526473751533, 0.8353061511935346, 0.8486564553883307, 0.8498653043810706, 0.8531691259234815, 0.8464945373486806, 0.8462229281028557, 0.8351820421085817, 0.8410774621821966, 0.8315673124386462, 0.8622154480247121, 0.8290506458574178, 0.8488355311768432, 0.8512988532454248, 0.669475614650507, 0.8162007702302262, 0.8425337199763157, 0.8843082529133692, 0.873576792180973]}, {\"categories\": [\"0\", \"1\", \"2\", \"3\", \"4\", \"5\", \"6\", \"7\", \"8\", \"9\", \"10\", \"11\", \"12\", \"13\", \"14\", \"15\", \"16\", \"17\", \"18\", \"19\", \"20\", \"21\", \"22\", \"23\", \"24\", \"25\", \"26\", \"27\", \"28\", \"29\"], \"mode\": \"lines\", \"name\": \"precision_score_weighted_max\", \"stepped\": true, \"type\": \"scatter\", \"data\": [0.8237683758533973, 0.8403871377947292, 0.8427338329906415, 0.8427338329906415, 0.8432214442972693, 0.8550108990326709, 0.8550108990326709, 0.8550108990326709, 0.8550108990326709, 0.8550108990326709, 0.8550108990326709, 0.8618526473751533, 0.8618526473751533, 0.8618526473751533, 0.8618526473751533, 0.8618526473751533, 0.8618526473751533, 0.8618526473751533, 0.8618526473751533, 0.8618526473751533, 0.8618526473751533, 0.8622154480247121, 0.8622154480247121, 0.8622154480247121, 0.8622154480247121, 0.8622154480247121, 0.8622154480247121, 0.8622154480247121, 0.8843082529133692, 0.8843082529133692]}], \"norm_macro_recall\": [{\"categories\": [\"0\", \"1\", \"2\", \"3\", \"4\", \"5\", \"6\", \"7\", \"8\", \"9\", \"10\", \"11\", \"12\", \"13\", \"14\", \"15\", \"16\", \"17\", \"18\", \"19\", \"20\", \"21\", \"22\", \"23\", \"24\", \"25\", \"26\", \"27\", \"28\", \"29\"], \"mode\": \"markers\", \"name\": \"norm_macro_recall\", \"stepped\": false, \"type\": \"scatter\", \"data\": [0.5520418050941306, 0.6120251937984496, 0.6009869878183831, 0.5647369878183832, 0.6087513842746402, 0.6443632336655591, 0.23652270210409743, 0.5205024916943521, 0.6100096899224807, 0.5366251384274641, 0.6086821705426356, 0.6356215393133997, 0.5280703211517166, 0.6215310077519379, 0.6233513289036546, 0.6181215393133997, 0.6038358250276855, 0.5776536544850499, 0.4989202657807309, 0.5373131229235881, 0.5344310631229235, 0.6444476744186047, 0.5320071982281285, 0.6063358250276855, 0.6422715946843853, 0.2347909745293467, 0.5840836101882615, 0.6033513289036545, 0.6699404761904763, 0.6561226467331119]}, {\"categories\": [\"0\", \"1\", \"2\", \"3\", \"4\", \"5\", \"6\", \"7\", \"8\", \"9\", \"10\", \"11\", \"12\", \"13\", \"14\", \"15\", \"16\", \"17\", \"18\", \"19\", \"20\", \"21\", \"22\", \"23\", \"24\", \"25\", \"26\", \"27\", \"28\", \"29\"], \"mode\": \"lines\", \"name\": \"norm_macro_recall_max\", \"stepped\": true, \"type\": \"scatter\", \"data\": [0.5520418050941306, 0.6120251937984496, 0.6120251937984496, 0.6120251937984496, 0.6120251937984496, 0.6443632336655591, 0.6443632336655591, 0.6443632336655591, 0.6443632336655591, 0.6443632336655591, 0.6443632336655591, 0.6443632336655591, 0.6443632336655591, 0.6443632336655591, 0.6443632336655591, 0.6443632336655591, 0.6443632336655591, 0.6443632336655591, 0.6443632336655591, 0.6443632336655591, 0.6443632336655591, 0.6444476744186047, 0.6444476744186047, 0.6444476744186047, 0.6444476744186047, 0.6444476744186047, 0.6444476744186047, 0.6444476744186047, 0.6699404761904763, 0.6699404761904763]}], \"average_precision_score_macro\": [{\"categories\": [\"0\", \"1\", \"2\", \"3\", \"4\", \"5\", \"6\", \"7\", \"8\", \"9\", \"10\", \"11\", \"12\", \"13\", \"14\", \"15\", \"16\", \"17\", \"18\", \"19\", \"20\", \"21\", \"22\", \"23\", \"24\", \"25\", \"26\", \"27\", \"28\", \"29\"], \"mode\": \"markers\", \"name\": \"average_precision_score_macro\", \"stepped\": false, \"type\": \"scatter\", \"data\": [0.8655792376041671, 0.8826936933050062, 0.8699537312887825, 0.8905627442949168, 0.8926909380519774, 0.8786157650125315, 0.7184634262666745, 0.8329476717741734, 0.8942930172132098, 0.8878636219265529, 0.8756968477195303, 0.9076175165244968, 0.8701786665611053, 0.8728899332889071, 0.8922205973702783, 0.8949398558279773, 0.8883120984449538, 0.8953198929246253, 0.8878516927812372, 0.8785063648931926, 0.8821896413678351, 0.8735160016345522, 0.8383995137953759, 0.8903128730442853, 0.8722842448307183, 0.6345901298444374, 0.8584040670058425, 0.8888473932226735, 0.9023328398612651, 0.9030282895460046]}, {\"categories\": [\"0\", \"1\", \"2\", \"3\", \"4\", \"5\", \"6\", \"7\", \"8\", \"9\", \"10\", \"11\", \"12\", \"13\", \"14\", \"15\", \"16\", \"17\", \"18\", \"19\", \"20\", \"21\", \"22\", \"23\", \"24\", \"25\", \"26\", \"27\", \"28\", \"29\"], \"mode\": \"lines\", \"name\": \"average_precision_score_macro_max\", \"stepped\": true, \"type\": \"scatter\", \"data\": [0.8655792376041671, 0.8826936933050062, 0.8826936933050062, 0.8905627442949168, 0.8926909380519774, 0.8926909380519774, 0.8926909380519774, 0.8926909380519774, 0.8942930172132098, 0.8942930172132098, 0.8942930172132098, 0.9076175165244968, 0.9076175165244968, 0.9076175165244968, 0.9076175165244968, 0.9076175165244968, 0.9076175165244968, 0.9076175165244968, 0.9076175165244968, 0.9076175165244968, 0.9076175165244968, 0.9076175165244968, 0.9076175165244968, 0.9076175165244968, 0.9076175165244968, 0.9076175165244968, 0.9076175165244968, 0.9076175165244968, 0.9076175165244968, 0.9076175165244968]}], \"weighted_accuracy\": [{\"categories\": [\"0\", \"1\", \"2\", \"3\", \"4\", \"5\", \"6\", \"7\", \"8\", \"9\", \"10\", \"11\", \"12\", \"13\", \"14\", \"15\", \"16\", \"17\", \"18\", \"19\", \"20\", \"21\", \"22\", \"23\", \"24\", \"25\", \"26\", \"27\", \"28\", \"29\"], \"mode\": \"markers\", \"name\": \"weighted_accuracy\", \"stepped\": false, \"type\": \"scatter\", \"data\": [0.8252063202764133, 0.8406325321291572, 0.8435335103162405, 0.8515531433013372, 0.8350044122077815, 0.8467733608988126, 0.7655242910482674, 0.8396048623725025, 0.8449141212493659, 0.8373043846340588, 0.8533820798830117, 0.8761040563872324, 0.8628172670030745, 0.8586782896708176, 0.8528042475897724, 0.8714073957752442, 0.8549681896511576, 0.8683962554142797, 0.8613333959821501, 0.8667732710472205, 0.8499213641944703, 0.868158124789024, 0.8484907891813738, 0.8594479996274045, 0.8468636015733096, 0.7361065788264312, 0.7929793065188155, 0.8488042475897724, 0.8930749382888548, 0.8810678589725678]}, {\"categories\": [\"0\", \"1\", \"2\", \"3\", \"4\", \"5\", \"6\", \"7\", \"8\", \"9\", \"10\", \"11\", \"12\", \"13\", \"14\", \"15\", \"16\", \"17\", \"18\", \"19\", \"20\", \"21\", \"22\", \"23\", \"24\", \"25\", \"26\", \"27\", \"28\", \"29\"], \"mode\": \"lines\", \"name\": \"weighted_accuracy_max\", \"stepped\": true, \"type\": \"scatter\", \"data\": [0.8252063202764133, 0.8406325321291572, 0.8435335103162405, 0.8515531433013372, 0.8515531433013372, 0.8515531433013372, 0.8515531433013372, 0.8515531433013372, 0.8515531433013372, 0.8515531433013372, 0.8533820798830117, 0.8761040563872324, 0.8761040563872324, 0.8761040563872324, 0.8761040563872324, 0.8761040563872324, 0.8761040563872324, 0.8761040563872324, 0.8761040563872324, 0.8761040563872324, 0.8761040563872324, 0.8761040563872324, 0.8761040563872324, 0.8761040563872324, 0.8761040563872324, 0.8761040563872324, 0.8761040563872324, 0.8761040563872324, 0.8930749382888548, 0.8930749382888548]}], \"recall_score_weighted\": [{\"categories\": [\"0\", \"1\", \"2\", \"3\", \"4\", \"5\", \"6\", \"7\", \"8\", \"9\", \"10\", \"11\", \"12\", \"13\", \"14\", \"15\", \"16\", \"17\", \"18\", \"19\", \"20\", \"21\", \"22\", \"23\", \"24\", \"25\", \"26\", \"27\", \"28\", \"29\"], \"mode\": \"markers\", \"name\": \"recall_score_weighted\", \"stepped\": false, \"type\": \"scatter\", \"data\": [0.8059887005649717, 0.8259322033898304, 0.8261016949152543, 0.8227118644067797, 0.822542372881356, 0.836045197740113, 0.7057627118644068, 0.8093785310734465, 0.8293220338983052, 0.8092655367231639, 0.8329943502824859, 0.8527683615819208, 0.8226553672316385, 0.8396610169491525, 0.836045197740113, 0.8460451977401131, 0.8327683615819209, 0.8361016949152542, 0.8161581920903955, 0.8261581920903953, 0.8160451977401131, 0.8495480225988701, 0.8161581920903955, 0.836045197740113, 0.836045197740113, 0.6887570621468926, 0.7924858757062146, 0.8293785310734464, 0.8696610169491524, 0.8596045197740112]}, {\"categories\": [\"0\", \"1\", \"2\", \"3\", \"4\", \"5\", \"6\", \"7\", \"8\", \"9\", \"10\", \"11\", \"12\", \"13\", \"14\", \"15\", \"16\", \"17\", \"18\", \"19\", \"20\", \"21\", \"22\", \"23\", \"24\", \"25\", \"26\", \"27\", \"28\", \"29\"], \"mode\": \"lines\", \"name\": \"recall_score_weighted_max\", \"stepped\": true, \"type\": \"scatter\", \"data\": [0.8059887005649717, 0.8259322033898304, 0.8261016949152543, 0.8261016949152543, 0.8261016949152543, 0.836045197740113, 0.836045197740113, 0.836045197740113, 0.836045197740113, 0.836045197740113, 0.836045197740113, 0.8527683615819208, 0.8527683615819208, 0.8527683615819208, 0.8527683615819208, 0.8527683615819208, 0.8527683615819208, 0.8527683615819208, 0.8527683615819208, 0.8527683615819208, 0.8527683615819208, 0.8527683615819208, 0.8527683615819208, 0.8527683615819208, 0.8527683615819208, 0.8527683615819208, 0.8527683615819208, 0.8527683615819208, 0.8696610169491524, 0.8696610169491524]}], \"average_precision_score_micro\": [{\"categories\": [\"0\", \"1\", \"2\", \"3\", \"4\", \"5\", \"6\", \"7\", \"8\", \"9\", \"10\", \"11\", \"12\", \"13\", \"14\", \"15\", \"16\", \"17\", \"18\", \"19\", \"20\", \"21\", \"22\", \"23\", \"24\", \"25\", \"26\", \"27\", \"28\", \"29\"], \"mode\": \"markers\", \"name\": \"average_precision_score_micro\", \"stepped\": false, \"type\": \"scatter\", \"data\": [0.887958292631032, 0.9018582931163117, 0.9097270264295039, 0.9110460748465126, 0.9125201049966327, 0.9019864439213251, 0.7602249781041643, 0.8723071880091318, 0.9116630048678172, 0.9021254270821759, 0.893386848713541, 0.9150111417244216, 0.8857281642392479, 0.8958867734484735, 0.9081882604104606, 0.909216697909528, 0.909164443531937, 0.9016456977714966, 0.9000157462971572, 0.8877350705380479, 0.8877787967043064, 0.8990214199367907, 0.8779450347945508, 0.9081906432279141, 0.8858882676932444, 0.7288122071070084, 0.8820057284689803, 0.9115792862906759, 0.9158152667207439, 0.9150115191262088]}, {\"categories\": [\"0\", \"1\", \"2\", \"3\", \"4\", \"5\", \"6\", \"7\", \"8\", \"9\", \"10\", \"11\", \"12\", \"13\", \"14\", \"15\", \"16\", \"17\", \"18\", \"19\", \"20\", \"21\", \"22\", \"23\", \"24\", \"25\", \"26\", \"27\", \"28\", \"29\"], \"mode\": \"lines\", \"name\": \"average_precision_score_micro_max\", \"stepped\": true, \"type\": \"scatter\", \"data\": [0.887958292631032, 0.9018582931163117, 0.9097270264295039, 0.9110460748465126, 0.9125201049966327, 0.9125201049966327, 0.9125201049966327, 0.9125201049966327, 0.9125201049966327, 0.9125201049966327, 0.9125201049966327, 0.9150111417244216, 0.9150111417244216, 0.9150111417244216, 0.9150111417244216, 0.9150111417244216, 0.9150111417244216, 0.9150111417244216, 0.9150111417244216, 0.9150111417244216, 0.9150111417244216, 0.9150111417244216, 0.9150111417244216, 0.9150111417244216, 0.9150111417244216, 0.9150111417244216, 0.9150111417244216, 0.9150111417244216, 0.9158152667207439, 0.9158152667207439]}]}, \"metricName\": null, \"primaryMetricName\": \"accuracy\", \"showLegend\": false}, \"run_metrics\": [{\"name\": \"experiment_status\", \"run_id\": \"AutoML_ca9f86d7-590e-439a-9ecf-6e3de59abab6\", \"categories\": [0, 1, 2, 3, 4, 5, 6, 7, 8, 9, 10, 11, 12, 13], \"series\": [{\"data\": [\"DatasetEvaluation\", \"FeaturesGeneration\", \"DatasetFeaturization\", \"DatasetFeaturizationCompleted\", \"DatasetCrossValidationSplit\", \"ModelSelection\", \"BestRunExplainModel\", \"ModelExplanationDataSetSetup\", \"PickSurrogateModel\", \"EngineeredFeatureExplanations\", \"EngineeredFeatureExplanations\", \"RawFeaturesExplanations\", \"RawFeaturesExplanations\", \"BestRunExplainModel\"]}]}, {\"name\": \"experiment_status_description\", \"run_id\": \"AutoML_ca9f86d7-590e-439a-9ecf-6e3de59abab6\", \"categories\": [0, 1, 2, 3, 4, 5, 6, 7, 8, 9, 10, 11, 12, 13], \"series\": [{\"data\": [\"Gathering dataset statistics.\", \"Generating features for the dataset.\", \"Beginning to fit featurizers and featurize the dataset.\", \"Completed fit featurizers and featurizing the dataset.\", \"Generating individually featurized CV splits.\", \"Beginning model selection.\", \"Best run model explanations started\", \"Model explanations data setup completed\", \"Choosing LightGBM as the surrogate model for explanations\", \"Computation of engineered features started\", \"Computation of engineered features completed\", \"Computation of raw features started\", \"Computation of raw features completed\", \"Best run model explanations completed\"]}]}, {\"name\": \"precision_score_weighted\", \"run_id\": \"AutoML_ca9f86d7-590e-439a-9ecf-6e3de59abab6\", \"categories\": [0], \"series\": [{\"data\": [0.8843082529133692]}]}, {\"name\": \"recall_score_weighted\", \"run_id\": \"AutoML_ca9f86d7-590e-439a-9ecf-6e3de59abab6\", \"categories\": [0], \"series\": [{\"data\": [0.8696610169491524]}]}, {\"name\": \"f1_score_micro\", \"run_id\": \"AutoML_ca9f86d7-590e-439a-9ecf-6e3de59abab6\", \"categories\": [0], \"series\": [{\"data\": [0.8696610169491524]}]}, {\"name\": \"AUC_micro\", \"run_id\": \"AutoML_ca9f86d7-590e-439a-9ecf-6e3de59abab6\", \"categories\": [0], \"series\": [{\"data\": [0.9139387947269304]}]}, {\"name\": \"AUC_weighted\", \"run_id\": \"AutoML_ca9f86d7-590e-439a-9ecf-6e3de59abab6\", \"categories\": [0], \"series\": [{\"data\": [0.9133089008859357]}]}, {\"name\": \"matthews_correlation\", \"run_id\": \"AutoML_ca9f86d7-590e-439a-9ecf-6e3de59abab6\", \"categories\": [0], \"series\": [{\"data\": [0.7111601973444508]}]}, {\"name\": \"precision_score_micro\", \"run_id\": \"AutoML_ca9f86d7-590e-439a-9ecf-6e3de59abab6\", \"categories\": [0], \"series\": [{\"data\": [0.8696610169491524]}]}, {\"name\": \"balanced_accuracy\", \"run_id\": \"AutoML_ca9f86d7-590e-439a-9ecf-6e3de59abab6\", \"categories\": [0], \"series\": [{\"data\": [0.8349702380952382]}]}, {\"name\": \"average_precision_score_weighted\", \"run_id\": \"AutoML_ca9f86d7-590e-439a-9ecf-6e3de59abab6\", \"categories\": [0], \"series\": [{\"data\": [0.9239740832086969]}]}, {\"name\": \"recall_score_micro\", \"run_id\": \"AutoML_ca9f86d7-590e-439a-9ecf-6e3de59abab6\", \"categories\": [0], \"series\": [{\"data\": [0.8696610169491524]}]}, {\"name\": \"log_loss\", \"run_id\": \"AutoML_ca9f86d7-590e-439a-9ecf-6e3de59abab6\", \"categories\": [0], \"series\": [{\"data\": [0.4030382981255542]}]}, {\"name\": \"average_precision_score_macro\", \"run_id\": \"AutoML_ca9f86d7-590e-439a-9ecf-6e3de59abab6\", \"categories\": [0], \"series\": [{\"data\": [0.9023328398612651]}]}, {\"name\": \"accuracy\", \"run_id\": \"AutoML_ca9f86d7-590e-439a-9ecf-6e3de59abab6\", \"categories\": [0], \"series\": [{\"data\": [0.8696610169491524]}]}, {\"name\": \"average_precision_score_micro\", \"run_id\": \"AutoML_ca9f86d7-590e-439a-9ecf-6e3de59abab6\", \"categories\": [0], \"series\": [{\"data\": [0.9158152667207439]}]}, {\"name\": \"recall_score_macro\", \"run_id\": \"AutoML_ca9f86d7-590e-439a-9ecf-6e3de59abab6\", \"categories\": [0], \"series\": [{\"data\": [0.8349702380952382]}]}, {\"name\": \"precision_score_macro\", \"run_id\": \"AutoML_ca9f86d7-590e-439a-9ecf-6e3de59abab6\", \"categories\": [0], \"series\": [{\"data\": [0.8797953685376045]}]}, {\"name\": \"f1_score_weighted\", \"run_id\": \"AutoML_ca9f86d7-590e-439a-9ecf-6e3de59abab6\", \"categories\": [0], \"series\": [{\"data\": [0.8637293349883166]}]}, {\"name\": \"f1_score_macro\", \"run_id\": \"AutoML_ca9f86d7-590e-439a-9ecf-6e3de59abab6\", \"categories\": [0], \"series\": [{\"data\": [0.8419194687709297]}]}, {\"name\": \"norm_macro_recall\", \"run_id\": \"AutoML_ca9f86d7-590e-439a-9ecf-6e3de59abab6\", \"categories\": [0], \"series\": [{\"data\": [0.6699404761904763]}]}, {\"name\": \"AUC_macro\", \"run_id\": \"AutoML_ca9f86d7-590e-439a-9ecf-6e3de59abab6\", \"categories\": [0], \"series\": [{\"data\": [0.9133089008859357]}]}, {\"name\": \"weighted_accuracy\", \"run_id\": \"AutoML_ca9f86d7-590e-439a-9ecf-6e3de59abab6\", \"categories\": [0], \"series\": [{\"data\": [0.8930749382888548]}]}], \"run_logs\": \"\\nRun is completed.\", \"graph\": {}, \"widget_settings\": {\"childWidgetDisplay\": \"popup\", \"send_telemetry\": false, \"log_level\": \"INFO\", \"sdk_version\": \"1.24.0\"}, \"loading\": false}"
     },
     "metadata": {},
     "output_type": "display_data"
    }
   ],
   "source": [
    "RunDetails(remote_run).show()"
   ]
  },
  {
   "cell_type": "markdown",
   "metadata": {},
   "source": [
    "## Best Model\n",
    "\n"
   ]
  },
  {
   "cell_type": "code",
   "execution_count": 8,
   "metadata": {
    "gather": {
     "logged": 1617714729096
    },
    "jupyter": {
     "outputs_hidden": false,
     "source_hidden": false
    },
    "nteract": {
     "transient": {
      "deleting": false
     }
    }
   },
   "outputs": [
    {
     "name": "stdout",
     "output_type": "stream",
     "text": [
      "The best run automl model\n",
      " Run(Experiment: AutoML,\n",
      "Id: AutoML_ca9f86d7-590e-439a-9ecf-6e3de59abab6_28,\n",
      "Type: azureml.scriptrun,\n",
      "Status: Completed)\n",
      "\n",
      "The Id for best run is: AutoML_ca9f86d7-590e-439a-9ecf-6e3de59abab6_28\n",
      "The Accuracy: is 0.8696610169491524\n"
     ]
    }
   ],
   "source": [
    "\n",
    "#getting the metrics required\n",
    "best_run_auto, fitted_model_auto = remote_run.get_output()\n",
    "best_run_metrics = best_run_auto.get_metrics()\n",
    "parameter_values = best_run_auto.get_details()['runDefinition']['arguments']\n",
    "\n",
    "print('The best run automl model\\n', best_run_auto)\n",
    "\n",
    "print('\\nThe Id for best run is:', best_run_auto.id)\n",
    "print('The Accuracy: is', best_run_metrics['accuracy'])\n",
    "\n"
   ]
  },
  {
   "cell_type": "code",
   "execution_count": 9,
   "metadata": {
    "gather": {
     "logged": 1617714785484
    },
    "jupyter": {
     "outputs_hidden": false,
     "source_hidden": false
    },
    "nteract": {
     "transient": {
      "deleting": false
     }
    }
   },
   "outputs": [
    {
     "name": "stdout",
     "output_type": "stream",
     "text": [
      "Run(Experiment: AutoML,\n",
      "Id: AutoML_ca9f86d7-590e-439a-9ecf-6e3de59abab6_28,\n",
      "Type: azureml.scriptrun,\n",
      "Status: Completed)\n",
      "Pipeline(memory=None,\n",
      "         steps=[('datatransformer',\n",
      "                 DataTransformer(enable_dnn=None, enable_feature_sweeping=None,\n",
      "                                 feature_sweeping_config=None,\n",
      "                                 feature_sweeping_timeout=None,\n",
      "                                 featurization_config=None, force_text_dnn=None,\n",
      "                                 is_cross_validation=None,\n",
      "                                 is_onnx_compatible=None, logger=None,\n",
      "                                 observer=None, task=None, working_dir=None)),\n",
      "                ('prefittedsoftvotingclassifier',...\n",
      "                                                                                                  min_samples_leaf=0.035789473684210524,\n",
      "                                                                                                  min_samples_split=0.19736842105263158,\n",
      "                                                                                                  min_weight_fraction_leaf=0.0,\n",
      "                                                                                                  n_estimators=50,\n",
      "                                                                                                  n_jobs=1,\n",
      "                                                                                                  oob_score=False,\n",
      "                                                                                                  random_state=None,\n",
      "                                                                                                  verbose=0,\n",
      "                                                                                                  warm_start=False))],\n",
      "                                                                     verbose=False))],\n",
      "                                               flatten_transform=None,\n",
      "                                               weights=[0.16666666666666666,\n",
      "                                                        0.16666666666666666,\n",
      "                                                        0.16666666666666666,\n",
      "                                                        0.16666666666666666,\n",
      "                                                        0.16666666666666666,\n",
      "                                                        0.16666666666666666]))],\n",
      "         verbose=False)\n"
     ]
    }
   ],
   "source": [
    "# Retrieve and save the best automl model.\n",
    "best_run_model, fitted_model_a = remote_run.get_output()\n",
    "\n",
    "joblib.dump(fitted_model_a, \"bestModelAutoML.joblib\")\n",
    "\n",
    "print(best_run_model)\n",
    "\n",
    "print(fitted_model_a)"
   ]
  },
  {
   "cell_type": "code",
   "execution_count": 10,
   "metadata": {
    "gather": {
     "logged": 1617714810168
    },
    "scrolled": false
   },
   "outputs": [
    {
     "name": "stdout",
     "output_type": "stream",
     "text": [
      "datatransformer\n",
      "{'enable_dnn': None,\n",
      " 'enable_feature_sweeping': None,\n",
      " 'feature_sweeping_config': None,\n",
      " 'feature_sweeping_timeout': None,\n",
      " 'featurization_config': None,\n",
      " 'force_text_dnn': None,\n",
      " 'is_cross_validation': None,\n",
      " 'is_onnx_compatible': None,\n",
      " 'logger': None,\n",
      " 'observer': None,\n",
      " 'task': None,\n",
      " 'working_dir': None}\n",
      "\n",
      "prefittedsoftvotingclassifier\n",
      "{'estimators': ['11', '21', '15', '13', '17', '19'],\n",
      " 'weights': [0.16666666666666666,\n",
      "             0.16666666666666666,\n",
      "             0.16666666666666666,\n",
      "             0.16666666666666666,\n",
      "             0.16666666666666666,\n",
      "             0.16666666666666666]}\n",
      "\n",
      "11 - standardscalerwrapper\n",
      "{'class_name': 'StandardScaler',\n",
      " 'copy': True,\n",
      " 'module_name': 'sklearn.preprocessing._data',\n",
      " 'with_mean': False,\n",
      " 'with_std': True}\n",
      "\n",
      "11 - randomforestclassifier\n",
      "{'bootstrap': False,\n",
      " 'ccp_alpha': 0.0,\n",
      " 'class_weight': None,\n",
      " 'criterion': 'entropy',\n",
      " 'max_depth': None,\n",
      " 'max_features': 0.2,\n",
      " 'max_leaf_nodes': None,\n",
      " 'max_samples': None,\n",
      " 'min_impurity_decrease': 0.0,\n",
      " 'min_impurity_split': None,\n",
      " 'min_samples_leaf': 0.01,\n",
      " 'min_samples_split': 0.10368421052631578,\n",
      " 'min_weight_fraction_leaf': 0.0,\n",
      " 'n_estimators': 25,\n",
      " 'n_jobs': 1,\n",
      " 'oob_score': False,\n",
      " 'random_state': None,\n",
      " 'verbose': 0,\n",
      " 'warm_start': False}\n",
      "\n",
      "21 - sparsenormalizer\n",
      "{'copy': True, 'norm': 'l1'}\n",
      "\n",
      "21 - xgboostclassifier\n",
      "{'base_score': 0.5,\n",
      " 'booster': 'gbtree',\n",
      " 'colsample_bylevel': 0.7,\n",
      " 'colsample_bynode': 1,\n",
      " 'colsample_bytree': 1,\n",
      " 'eta': 0.1,\n",
      " 'gamma': 0,\n",
      " 'learning_rate': 0.1,\n",
      " 'max_delta_step': 0,\n",
      " 'max_depth': 6,\n",
      " 'max_leaves': 0,\n",
      " 'min_child_weight': 1,\n",
      " 'missing': nan,\n",
      " 'n_estimators': 50,\n",
      " 'n_jobs': 1,\n",
      " 'nthread': None,\n",
      " 'objective': 'reg:logistic',\n",
      " 'random_state': 0,\n",
      " 'reg_alpha': 1.9791666666666667,\n",
      " 'reg_lambda': 1.7708333333333335,\n",
      " 'scale_pos_weight': 1,\n",
      " 'seed': None,\n",
      " 'silent': None,\n",
      " 'subsample': 1,\n",
      " 'tree_method': 'auto',\n",
      " 'verbose': -10,\n",
      " 'verbosity': 0}\n",
      "\n",
      "15 - maxabsscaler\n",
      "{'copy': True}\n",
      "\n",
      "15 - lightgbmclassifier\n",
      "{'boosting_type': 'goss',\n",
      " 'class_weight': None,\n",
      " 'colsample_bytree': 0.4955555555555555,\n",
      " 'importance_type': 'split',\n",
      " 'learning_rate': 0.06316157894736842,\n",
      " 'max_bin': 110,\n",
      " 'max_depth': 8,\n",
      " 'min_child_samples': 10,\n",
      " 'min_child_weight': 4,\n",
      " 'min_split_gain': 0,\n",
      " 'n_estimators': 25,\n",
      " 'n_jobs': 1,\n",
      " 'num_leaves': 5,\n",
      " 'objective': None,\n",
      " 'random_state': None,\n",
      " 'reg_alpha': 0.47368421052631576,\n",
      " 'reg_lambda': 0,\n",
      " 'silent': True,\n",
      " 'subsample': 1,\n",
      " 'subsample_for_bin': 200000,\n",
      " 'subsample_freq': 0,\n",
      " 'verbose': -10}\n",
      "\n",
      "13 - sparsenormalizer\n",
      "{'copy': True, 'norm': 'l1'}\n",
      "\n",
      "13 - xgboostclassifier\n",
      "{'base_score': 0.5,\n",
      " 'booster': 'gbtree',\n",
      " 'colsample_bylevel': 1,\n",
      " 'colsample_bynode': 1,\n",
      " 'colsample_bytree': 1,\n",
      " 'eta': 0.1,\n",
      " 'gamma': 0,\n",
      " 'learning_rate': 0.1,\n",
      " 'max_delta_step': 0,\n",
      " 'max_depth': 6,\n",
      " 'max_leaves': 31,\n",
      " 'min_child_weight': 1,\n",
      " 'missing': nan,\n",
      " 'n_estimators': 25,\n",
      " 'n_jobs': 1,\n",
      " 'nthread': None,\n",
      " 'objective': 'reg:logistic',\n",
      " 'random_state': 0,\n",
      " 'reg_alpha': 0.9375,\n",
      " 'reg_lambda': 1.875,\n",
      " 'scale_pos_weight': 1,\n",
      " 'seed': None,\n",
      " 'silent': None,\n",
      " 'subsample': 0.8,\n",
      " 'tree_method': 'auto',\n",
      " 'verbose': -10,\n",
      " 'verbosity': 0}\n",
      "\n",
      "17 - minmaxscaler\n",
      "{'copy': True, 'feature_range': (0, 1)}\n",
      "\n",
      "17 - lightgbmclassifier\n",
      "{'boosting_type': 'gbdt',\n",
      " 'class_weight': None,\n",
      " 'colsample_bytree': 0.4955555555555555,\n",
      " 'importance_type': 'split',\n",
      " 'learning_rate': 0.1,\n",
      " 'max_bin': 80,\n",
      " 'max_depth': 4,\n",
      " 'min_child_samples': 8,\n",
      " 'min_child_weight': 3,\n",
      " 'min_split_gain': 0.42105263157894735,\n",
      " 'n_estimators': 10,\n",
      " 'n_jobs': 1,\n",
      " 'num_leaves': 53,\n",
      " 'objective': None,\n",
      " 'random_state': None,\n",
      " 'reg_alpha': 0.10526315789473684,\n",
      " 'reg_lambda': 0.10526315789473684,\n",
      " 'silent': True,\n",
      " 'subsample': 0.49526315789473685,\n",
      " 'subsample_for_bin': 200000,\n",
      " 'subsample_freq': 0,\n",
      " 'verbose': -10}\n",
      "\n",
      "19 - standardscalerwrapper\n",
      "{'class_name': 'StandardScaler',\n",
      " 'copy': True,\n",
      " 'module_name': 'sklearn.preprocessing._data',\n",
      " 'with_mean': True,\n",
      " 'with_std': True}\n",
      "\n",
      "19 - extratreesclassifier\n",
      "{'bootstrap': False,\n",
      " 'ccp_alpha': 0.0,\n",
      " 'class_weight': None,\n",
      " 'criterion': 'gini',\n",
      " 'max_depth': None,\n",
      " 'max_features': 0.6,\n",
      " 'max_leaf_nodes': None,\n",
      " 'max_samples': None,\n",
      " 'min_impurity_decrease': 0.0,\n",
      " 'min_impurity_split': None,\n",
      " 'min_samples_leaf': 0.035789473684210524,\n",
      " 'min_samples_split': 0.19736842105263158,\n",
      " 'min_weight_fraction_leaf': 0.0,\n",
      " 'n_estimators': 50,\n",
      " 'n_jobs': 1,\n",
      " 'oob_score': False,\n",
      " 'random_state': None,\n",
      " 'verbose': 0,\n",
      " 'warm_start': False}\n",
      "\n"
     ]
    }
   ],
   "source": [
    "#print the estimators\n",
    "from pprint import pprint\n",
    "\n",
    "def print_model(model, prefix=\"\"):\n",
    "    for step in model.steps:\n",
    "        print(prefix + step[0])\n",
    "        if hasattr(step[1], 'estimators') and hasattr(step[1], 'weights'):\n",
    "            pprint({'estimators': list(\n",
    "                e[0] for e in step[1].estimators), 'weights': step[1].weights})\n",
    "            print()\n",
    "            for estimator in step[1].estimators:\n",
    "                print_model(estimator[1], estimator[0] + ' - ')\n",
    "        else:\n",
    "            pprint(step[1].get_params())\n",
    "            print()\n",
    "\n",
    "print_model(fitted_model_a)"
   ]
  },
  {
   "cell_type": "code",
   "execution_count": 11,
   "metadata": {
    "gather": {
     "logged": 1617714882569
    }
   },
   "outputs": [
    {
     "name": "stdout",
     "output_type": "stream",
     "text": [
      "PreFittedSoftVotingClassifier(classification_labels=None,\n",
      "                              estimators=[('11',\n",
      "                                           Pipeline(memory=None,\n",
      "                                                    steps=[('standardscalerwrapper',\n",
      "                                                            <azureml.automl.runtime.shared.model_wrappers.StandardScalerWrapper object at 0x7fa0206f0198>),\n",
      "                                                           ('randomforestclassifier',\n",
      "                                                            RandomForestClassifier(bootstrap=False,\n",
      "                                                                                   ccp_alpha=0.0,\n",
      "                                                                                   class_weight=None,\n",
      "                                                                                   criterion='entropy',\n",
      "                                                                                   max_depth=Non...\n",
      "                                                                                 min_samples_leaf=0.035789473684210524,\n",
      "                                                                                 min_samples_split=0.19736842105263158,\n",
      "                                                                                 min_weight_fraction_leaf=0.0,\n",
      "                                                                                 n_estimators=50,\n",
      "                                                                                 n_jobs=1,\n",
      "                                                                                 oob_score=False,\n",
      "                                                                                 random_state=None,\n",
      "                                                                                 verbose=0,\n",
      "                                                                                 warm_start=False))],\n",
      "                                                    verbose=False))],\n",
      "                              flatten_transform=None,\n",
      "                              weights=[0.16666666666666666, 0.16666666666666666,\n",
      "                                       0.16666666666666666, 0.16666666666666666,\n",
      "                                       0.16666666666666666,\n",
      "                                       0.16666666666666666])\n"
     ]
    }
   ],
   "source": [
    "#final estimator\n",
    "print(fitted_model_a._final_estimator)\n"
   ]
  },
  {
   "cell_type": "code",
   "execution_count": 12,
   "metadata": {
    "gather": {
     "logged": 1617714898730
    },
    "jupyter": {
     "outputs_hidden": false,
     "source_hidden": false
    },
    "nteract": {
     "transient": {
      "deleting": false
     }
    }
   },
   "outputs": [],
   "source": [
    "#Register the model \"best-model_auto.joblib\"\n",
    "the_bestmodel = best_run_model.register_model(model_name='bestModelAutoML.joblib', model_path='./')"
   ]
  },
  {
   "cell_type": "code",
   "execution_count": 13,
   "metadata": {
    "gather": {
     "logged": 1617714925852
    }
   },
   "outputs": [
    {
     "data": {
      "text/plain": [
       "Model(workspace=Workspace.create(name='quick-starts-ws-142131', subscription_id='aa7cf8e8-d23f-4bce-a7b9-1f0b4e0ac8ee', resource_group='aml-quickstarts-142131'), name=bestModelAutoML.joblib, id=bestModelAutoML.joblib:1, version=1, tags={}, properties={})"
      ]
     },
     "execution_count": 13,
     "metadata": {},
     "output_type": "execute_result"
    }
   ],
   "source": [
    "#display the best model \n",
    "the_bestmodel"
   ]
  }
 ],
 "metadata": {
  "kernel_info": {
   "name": "python3"
  },
  "kernelspec": {
   "display_name": "Python 3",
   "language": "python",
   "name": "python3"
  },
  "language_info": {
   "codemirror_mode": {
    "name": "ipython",
    "version": 3
   },
   "file_extension": ".py",
   "mimetype": "text/x-python",
   "name": "python",
   "nbconvert_exporter": "python",
   "pygments_lexer": "ipython3",
   "version": "3.6.9"
  },
  "microsoft": {
   "host": {
    "AzureML": {
     "notebookHasBeenCompleted": true
    }
   }
  },
  "nteract": {
   "version": "nteract-front-end@1.0.0"
  }
 },
 "nbformat": 4,
 "nbformat_minor": 2
}
