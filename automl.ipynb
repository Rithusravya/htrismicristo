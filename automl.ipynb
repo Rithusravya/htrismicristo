{
  "cells": [
    {
      "cell_type": "markdown",
      "source": [
        "# Automated ML"
      ],
      "metadata": {}
    },
    {
      "cell_type": "code",
      "source": [
        "#Import required Dependencies\n",
        "from azureml.data.dataset_factory import TabularDatasetFactory\n",
        "import joblib\n",
        "from azureml.train.automl import AutoMLConfig\n",
        "from azureml.core import Workspace, Experiment, Dataset\n",
        "from azureml.core.environment import Environment\n",
        "from azureml.core.compute import ComputeTarget, AmlCompute\n",
        "from azureml.core.compute_target import ComputeTargetException\n",
        "from azureml.widgets import RunDetails\n",
        "import os\n",
        "import joblib\n",
        "from azureml.core import Experiment\n",
        "from azureml.core.model import Model"
      ],
      "outputs": [],
      "execution_count": 1,
      "metadata": {
        "gather": {
          "logged": 1617712682285
        },
        "jupyter": {
          "outputs_hidden": false,
          "source_hidden": false
        },
        "nteract": {
          "transient": {
            "deleting": false
          }
        }
      }
    },
    {
      "cell_type": "code",
      "source": [
        "# Installing xgboost 0.90 in order to avoid compatibility issues when retrieving the best model\r\n",
        "!pip install xgboost==0.90\r\n",
        "# The kernel should be restarted after executing this cell in order to apply the changes\r\n",
        "# Then the notebook can be executed normally"
      ],
      "outputs": [
        {
          "output_type": "stream",
          "name": "stdout",
          "text": [
            "Requirement already satisfied: xgboost==0.90 in /anaconda/envs/azureml_py36/lib/python3.6/site-packages (0.90)\r\n",
            "Requirement already satisfied: numpy in /anaconda/envs/azureml_py36/lib/python3.6/site-packages (from xgboost==0.90) (1.18.5)\r\n",
            "Requirement already satisfied: scipy in /anaconda/envs/azureml_py36/lib/python3.6/site-packages (from xgboost==0.90) (1.4.1)\r\n"
          ]
        }
      ],
      "execution_count": 2,
      "metadata": {
        "collapsed": true,
        "jupyter": {
          "source_hidden": false,
          "outputs_hidden": false
        },
        "nteract": {
          "transient": {
            "deleting": false
          }
        },
        "gather": {
          "logged": 1617712692743
        }
      }
    },
    {
      "cell_type": "code",
      "source": [
        "#find the workspace and create the environment with the name \"AutoML\". Start logging using exp.\n",
        "ws = Workspace.from_config()\n",
        "exp = Experiment(workspace=ws, name=\"AutoML\")\n",
        "\n",
        "print('Workspace name: ' + ws.name, \n",
        "      'Azure region: ' + ws.location, \n",
        "      'Subscription id: ' + ws.subscription_id, \n",
        "      'Resource group: ' + ws.resource_group, sep = '\\n')\n",
        "\n",
        "run = exp.start_logging()\n",
        "\n",
        "# Choose a name for your CPU cluster\n",
        "cpu_cluster_name = \"autoMlCluster\"\n",
        "\n",
        "# Verify that the cluster doesn't already exist\n",
        "try:\n",
        "    cpu_cluster = ComputeTarget(workspace=ws, name=cpu_cluster_name)\n",
        "    print('Found existing cluster')\n",
        "    \n",
        "#create a new cluster with the specified configurations \"vm_size='STANDARD_D12_V2' and at most 4 nodes\n",
        "except ComputeTargetException:\n",
        "    \n",
        "    compute_config = AmlCompute.provisioning_configuration(vm_size='STANDARD_D12_V2', max_nodes=4)\n",
        "    cpu_cluster = ComputeTarget.create(ws, cpu_cluster_name, compute_config)\n",
        "    print(\"New cluster is created\")\n",
        "    \n",
        "cpu_cluster.wait_for_completion(show_output=True)\n"
      ],
      "outputs": [
        {
          "output_type": "stream",
          "name": "stdout",
          "text": [
            "Performing interactive authentication. Please follow the instructions on the terminal.\n",
            "To sign in, use a web browser to open the page https://microsoft.com/devicelogin and enter the code EMBJ9BR68 to authenticate.\n",
            "You have logged in. Now let us find all the subscriptions to which you have access...\n",
            "Interactive authentication successfully completed.\n",
            "Workspace name: quick-starts-ws-142099\n",
            "Azure region: southcentralus\n",
            "Subscription id: 1b944a9b-fdae-4f97-aeb1-b7eea0beac53\n",
            "Resource group: aml-quickstarts-142099\n",
            "New cluster is created\n",
            "Creating....\n",
            "SucceededProvisioning operation finished, operation \"Succeeded\"\n",
            "Succeeded\n",
            "AmlCompute wait for completion finished\n",
            "\n",
            "Minimum number of nodes requested have been provisioned\n"
          ]
        }
      ],
      "execution_count": 3,
      "metadata": {
        "scrolled": false,
        "gather": {
          "logged": 1617712746545
        }
      }
    },
    {
      "cell_type": "markdown",
      "source": [
        "## Dataset\n",
        "\n",
        "### Overview\n",
        "The dataset used to develop both models comes from Kaggle datasets. It deals with heart failures, bringing information on 12 categorical and numerical features which can be used to forecast mortality rates by cardiovascular diseases (CVDs). Additionally, The dataset has a total of 299 observations.\n",
        "\n",
        "#### Task\n",
        "As it was mentioned previously, this data is going to be used to predict heart failures caused by CVDs, in order to provide an early detection ML model using the 12 clinical variables included in the dataset.\n",
        "\n",
        "#### Access\n",
        "For training the AutoML model, I registered the dataset from local files using the Datasets Hub in the Azure ML Studio.\n",
        "By contrast, I used the following dataset url from github for training the customised model using HyperDrive: https://github.com/htrismicristo/Capstone-Project-Azure-ML-Engineer-Microsoft-Udacity/blob/main/heart_failure_clinical_records_dataset.csv"
      ],
      "metadata": {}
    },
    {
      "cell_type": "code",
      "source": [
        "# azureml-core of version 1.0.72 or higher is required\n",
        "# azureml-dataprep[pandas] of version 1.1.34 or higher is required\n",
        "from azureml.core import Workspace, Dataset\n",
        "\n",
        "subscription_id = '1b944a9b-fdae-4f97-aeb1-b7eea0beac53'\n",
        "resource_group = 'aml-quickstarts-142099'\n",
        "workspace_name = 'quick-starts-ws-142099'\n",
        "\n",
        "workspace = Workspace(subscription_id, resource_group, workspace_name)\n",
        "\n",
        "dataset = Dataset.get_by_name(workspace, name='Heart Failure Data')\n",
        "dataset.to_pandas_dataframe()"
      ],
      "outputs": [
        {
          "output_type": "execute_result",
          "execution_count": 4,
          "data": {
            "text/plain": "      age  anaemia  creatinine_phosphokinase  diabetes  ejection_fraction  \\\n0    75.0        0                       582         0                 20   \n1    55.0        0                      7861         0                 38   \n2    65.0        0                       146         0                 20   \n3    50.0        1                       111         0                 20   \n4    65.0        1                       160         1                 20   \n..    ...      ...                       ...       ...                ...   \n294  62.0        0                        61         1                 38   \n295  55.0        0                      1820         0                 38   \n296  45.0        0                      2060         1                 60   \n297  45.0        0                      2413         0                 38   \n298  50.0        0                       196         0                 45   \n\n     high_blood_pressure  platelets  serum_creatinine  serum_sodium  sex  \\\n0                      1  265000.00               1.9           130    1   \n1                      0  263358.03               1.1           136    1   \n2                      0  162000.00               1.3           129    1   \n3                      0  210000.00               1.9           137    1   \n4                      0  327000.00               2.7           116    0   \n..                   ...        ...               ...           ...  ...   \n294                    1  155000.00               1.1           143    1   \n295                    0  270000.00               1.2           139    0   \n296                    0  742000.00               0.8           138    0   \n297                    0  140000.00               1.4           140    1   \n298                    0  395000.00               1.6           136    1   \n\n     smoking  time  DEATH_EVENT  \n0          0     4            1  \n1          0     6            1  \n2          1     7            1  \n3          0     7            1  \n4          0     8            1  \n..       ...   ...          ...  \n294        1   270            0  \n295        0   271            0  \n296        0   278            0  \n297        1   280            0  \n298        1   285            0  \n\n[299 rows x 13 columns]",
            "text/html": "<div>\n<style scoped>\n    .dataframe tbody tr th:only-of-type {\n        vertical-align: middle;\n    }\n\n    .dataframe tbody tr th {\n        vertical-align: top;\n    }\n\n    .dataframe thead th {\n        text-align: right;\n    }\n</style>\n<table border=\"1\" class=\"dataframe\">\n  <thead>\n    <tr style=\"text-align: right;\">\n      <th></th>\n      <th>age</th>\n      <th>anaemia</th>\n      <th>creatinine_phosphokinase</th>\n      <th>diabetes</th>\n      <th>ejection_fraction</th>\n      <th>high_blood_pressure</th>\n      <th>platelets</th>\n      <th>serum_creatinine</th>\n      <th>serum_sodium</th>\n      <th>sex</th>\n      <th>smoking</th>\n      <th>time</th>\n      <th>DEATH_EVENT</th>\n    </tr>\n  </thead>\n  <tbody>\n    <tr>\n      <th>0</th>\n      <td>75.0</td>\n      <td>0</td>\n      <td>582</td>\n      <td>0</td>\n      <td>20</td>\n      <td>1</td>\n      <td>265000.00</td>\n      <td>1.9</td>\n      <td>130</td>\n      <td>1</td>\n      <td>0</td>\n      <td>4</td>\n      <td>1</td>\n    </tr>\n    <tr>\n      <th>1</th>\n      <td>55.0</td>\n      <td>0</td>\n      <td>7861</td>\n      <td>0</td>\n      <td>38</td>\n      <td>0</td>\n      <td>263358.03</td>\n      <td>1.1</td>\n      <td>136</td>\n      <td>1</td>\n      <td>0</td>\n      <td>6</td>\n      <td>1</td>\n    </tr>\n    <tr>\n      <th>2</th>\n      <td>65.0</td>\n      <td>0</td>\n      <td>146</td>\n      <td>0</td>\n      <td>20</td>\n      <td>0</td>\n      <td>162000.00</td>\n      <td>1.3</td>\n      <td>129</td>\n      <td>1</td>\n      <td>1</td>\n      <td>7</td>\n      <td>1</td>\n    </tr>\n    <tr>\n      <th>3</th>\n      <td>50.0</td>\n      <td>1</td>\n      <td>111</td>\n      <td>0</td>\n      <td>20</td>\n      <td>0</td>\n      <td>210000.00</td>\n      <td>1.9</td>\n      <td>137</td>\n      <td>1</td>\n      <td>0</td>\n      <td>7</td>\n      <td>1</td>\n    </tr>\n    <tr>\n      <th>4</th>\n      <td>65.0</td>\n      <td>1</td>\n      <td>160</td>\n      <td>1</td>\n      <td>20</td>\n      <td>0</td>\n      <td>327000.00</td>\n      <td>2.7</td>\n      <td>116</td>\n      <td>0</td>\n      <td>0</td>\n      <td>8</td>\n      <td>1</td>\n    </tr>\n    <tr>\n      <th>...</th>\n      <td>...</td>\n      <td>...</td>\n      <td>...</td>\n      <td>...</td>\n      <td>...</td>\n      <td>...</td>\n      <td>...</td>\n      <td>...</td>\n      <td>...</td>\n      <td>...</td>\n      <td>...</td>\n      <td>...</td>\n      <td>...</td>\n    </tr>\n    <tr>\n      <th>294</th>\n      <td>62.0</td>\n      <td>0</td>\n      <td>61</td>\n      <td>1</td>\n      <td>38</td>\n      <td>1</td>\n      <td>155000.00</td>\n      <td>1.1</td>\n      <td>143</td>\n      <td>1</td>\n      <td>1</td>\n      <td>270</td>\n      <td>0</td>\n    </tr>\n    <tr>\n      <th>295</th>\n      <td>55.0</td>\n      <td>0</td>\n      <td>1820</td>\n      <td>0</td>\n      <td>38</td>\n      <td>0</td>\n      <td>270000.00</td>\n      <td>1.2</td>\n      <td>139</td>\n      <td>0</td>\n      <td>0</td>\n      <td>271</td>\n      <td>0</td>\n    </tr>\n    <tr>\n      <th>296</th>\n      <td>45.0</td>\n      <td>0</td>\n      <td>2060</td>\n      <td>1</td>\n      <td>60</td>\n      <td>0</td>\n      <td>742000.00</td>\n      <td>0.8</td>\n      <td>138</td>\n      <td>0</td>\n      <td>0</td>\n      <td>278</td>\n      <td>0</td>\n    </tr>\n    <tr>\n      <th>297</th>\n      <td>45.0</td>\n      <td>0</td>\n      <td>2413</td>\n      <td>0</td>\n      <td>38</td>\n      <td>0</td>\n      <td>140000.00</td>\n      <td>1.4</td>\n      <td>140</td>\n      <td>1</td>\n      <td>1</td>\n      <td>280</td>\n      <td>0</td>\n    </tr>\n    <tr>\n      <th>298</th>\n      <td>50.0</td>\n      <td>0</td>\n      <td>196</td>\n      <td>0</td>\n      <td>45</td>\n      <td>0</td>\n      <td>395000.00</td>\n      <td>1.6</td>\n      <td>136</td>\n      <td>1</td>\n      <td>1</td>\n      <td>285</td>\n      <td>0</td>\n    </tr>\n  </tbody>\n</table>\n<p>299 rows × 13 columns</p>\n</div>"
          },
          "metadata": {}
        }
      ],
      "execution_count": 4,
      "metadata": {
        "gather": {
          "logged": 1617712880686
        },
        "jupyter": {
          "outputs_hidden": false,
          "source_hidden": false
        },
        "nteract": {
          "transient": {
            "deleting": false
          }
        }
      }
    },
    {
      "cell_type": "markdown",
      "source": [
        "## AutoML Configuration\n",
        "\n",
        "In overview, the following were the main settings and parameters used for the AutoML model on the Azure platform:\n",
        "\n",
        "* n_cross_validations = 5. It sets the number of cross validations to carry out.\n",
        "* iterations = 30. It specifies how many algorithm and parameter combinations to test during the experiment.\n",
        "* max_concurrent_iterations = 4. It represents the maximum number of iterations that could be performed in parallel.\n",
        "* primary_metric = Accuracy. This is the metric which will be optimized for model training and selection.\n",
        "* target column = DEATH_EVENT. Whether the patient died from a heart failure or not.\n",
        "* task = classification. Based on the project's goal and the nature of the data, the task is clearly a classification one.\n",
        "* experiment_timeout_minutes = 30. It determines the maximum amount of time all iterations can take before the experiment terminates. "
      ],
      "metadata": {}
    },
    {
      "cell_type": "code",
      "source": [
        "automl_settings = {\n",
        "    \"experiment_timeout_minutes\":30,\n",
        "    \"task\":'classification',\n",
        "    \"primary_metric\":'accuracy',\n",
        "    \"training_data\":dataset,\n",
        "    \"label_column_name\":'DEATH_EVENT',\n",
        "    \"iterations\":30,\n",
        "    \"max_concurrent_iterations\": 4,\n",
        "    \"n_cross_validations\":5,\n",
        " }\n",
        "\n",
        "automl_config = AutoMLConfig(\n",
        "    compute_target=cpu_cluster,\n",
        "    **automl_settings)\n"
      ],
      "outputs": [],
      "execution_count": 5,
      "metadata": {
        "gather": {
          "logged": 1617712930999
        }
      }
    },
    {
      "cell_type": "code",
      "source": [
        "# Submit experiment\n",
        "remote_run=exp.submit(automl_config, show_output=True)\n"
      ],
      "outputs": [
        {
          "output_type": "stream",
          "name": "stdout",
          "text": [
            "Running on remote.\n",
            "No run_configuration provided, running on autoMlCluster with default configuration\n",
            "Running on remote compute: autoMlCluster\n",
            "Parent Run ID: AutoML_f4ca9563-54fa-43f1-8ecf-2a7898a06229\n",
            "\n",
            "Current status: FeaturesGeneration. Generating features for the dataset.\n",
            "Current status: ModelSelection. Beginning model selection.\n",
            "\n",
            "****************************************************************************************************\n",
            "DATA GUARDRAILS: \n",
            "\n",
            "TYPE:         Class balancing detection\n",
            "STATUS:       PASSED\n",
            "DESCRIPTION:  Your inputs were analyzed, and all classes are balanced in your training data.\n",
            "              Learn more about imbalanced data: https://aka.ms/AutomatedMLImbalancedData\n",
            "\n",
            "****************************************************************************************************\n",
            "\n",
            "TYPE:         Missing feature values imputation\n",
            "STATUS:       PASSED\n",
            "DESCRIPTION:  No feature missing values were detected in the training data.\n",
            "              Learn more about missing value imputation: https://aka.ms/AutomatedMLFeaturization\n",
            "\n",
            "****************************************************************************************************\n",
            "\n",
            "TYPE:         High cardinality feature detection\n",
            "STATUS:       PASSED\n",
            "DESCRIPTION:  Your inputs were analyzed, and no high cardinality features were detected.\n",
            "              Learn more about high cardinality feature handling: https://aka.ms/AutomatedMLFeaturization\n",
            "\n",
            "****************************************************************************************************\n",
            "\n",
            "****************************************************************************************************\n",
            "ITERATION: The iteration being evaluated.\n",
            "PIPELINE: A summary description of the pipeline being evaluated.\n",
            "DURATION: Time taken for the current iteration.\n",
            "METRIC: The result of computing score on the fitted pipeline.\n",
            "BEST: The best observed score thus far.\n",
            "****************************************************************************************************\n",
            "\n",
            " ITERATION   PIPELINE                                       DURATION      METRIC      BEST\n",
            "         2   MinMaxScaler RandomForest                      0:00:45       0.8427    0.8427\n",
            "         3   MinMaxScaler RandomForest                      0:00:46       0.8360    0.8427\n",
            "         0   MaxAbsScaler LightGBM                          0:00:45       0.8060    0.8427\n",
            "         1   MaxAbsScaler XGBoostClassifier                 0:00:49       0.8259    0.8427\n",
            "         7   SparseNormalizer XGBoostClassifier             0:00:48       0.8262    0.8427\n",
            "         8   MinMaxScaler LogisticRegression                0:00:51       0.8260    0.8427\n",
            "         4   MinMaxScaler RandomForest                      0:02:53       0.8091    0.8427\n",
            "         6   MinMaxScaler SVM                               0:02:53       0.7091    0.8427\n",
            "         5   MinMaxScaler SVM                               0:03:24       0.7058    0.8427\n",
            "         9   StandardScalerWrapper RandomForest             0:00:37       0.8362    0.8427\n",
            "        10   StandardScalerWrapper LightGBM                 0:00:42       0.8093    0.8427\n",
            "        11   MaxAbsScaler GradientBoosting                  0:00:46       0.8294    0.8427\n",
            "        12   MaxAbsScaler ExtremeRandomTrees                0:00:46       0.8362    0.8427\n",
            "        13   SparseNormalizer XGBoostClassifier             0:00:46       0.8294    0.8427\n",
            "        14   SparseNormalizer XGBoostClassifier             0:00:43       0.8397    0.8427\n",
            "        15   StandardScalerWrapper LightGBM                 0:00:43       0.8160    0.8427\n",
            "        16   MaxAbsScaler LightGBM                          0:00:46       0.8227    0.8427\n",
            "        17   StandardScalerWrapper LightGBM                 0:00:46       0.8193    0.8427\n",
            "        18   MinMaxScaler LightGBM                          0:00:56       0.8360    0.8427\n",
            "        19   MinMaxScaler LightGBM                          0:01:14       0.7725    0.8427\n",
            "        21   SparseNormalizer XGBoostClassifier             0:00:41       0.8228    0.8427\n",
            "        20   RobustScaler LightGBM                          0:00:49       0.8392    0.8427\n",
            "        22   RobustScaler LightGBM                          0:00:43       0.8395    0.8427\n",
            "        23   MaxAbsScaler LightGBM                          0:00:40       0.8294    0.8427\n",
            "        24   SparseNormalizer XGBoostClassifier             0:00:37       0.7926    0.8427\n",
            "        25   RobustScaler RandomForest                      0:00:46       0.6791    0.8427\n",
            "        26   MaxAbsScaler LightGBM                          0:00:43       0.8459    0.8459\n",
            "        27   MaxAbsScaler ExtremeRandomTrees                0:00:51       0.8562    0.8562\n",
            "        28    VotingEnsemble                                0:01:00       0.8763    0.8763\n",
            "        29    StackEnsemble                                 0:01:20       0.8595    0.8763\n"
          ]
        }
      ],
      "execution_count": 6,
      "metadata": {
        "gather": {
          "logged": 1617714143308
        },
        "jupyter": {
          "outputs_hidden": false,
          "source_hidden": false
        },
        "nteract": {
          "transient": {
            "deleting": false
          }
        }
      }
    },
    {
      "cell_type": "markdown",
      "source": [
        "## Run Details"
      ],
      "metadata": {}
    },
    {
      "cell_type": "code",
      "source": [
        "RunDetails(remote_run).show()"
      ],
      "outputs": [
        {
          "output_type": "display_data",
          "data": {
            "text/plain": "_AutoMLWidget(widget_settings={'childWidgetDisplay': 'popup', 'send_telemetry': False, 'log_level': 'INFO', 's…",
            "application/vnd.jupyter.widget-view+json": {
              "version_major": 2,
              "version_minor": 0,
              "model_id": "94b3ec7f96f24a0497c6a94d509155a4"
            }
          },
          "metadata": {}
        },
        {
          "output_type": "display_data",
          "data": {
            "application/aml.mini.widget.v1": "{\"status\": \"Completed\", \"workbench_run_details_uri\": \"https://ml.azure.com/experiments/AutoML/runs/AutoML_f4ca9563-54fa-43f1-8ecf-2a7898a06229?wsid=/subscriptions/1b944a9b-fdae-4f97-aeb1-b7eea0beac53/resourcegroups/aml-quickstarts-142099/workspaces/quick-starts-ws-142099\", \"run_id\": \"AutoML_f4ca9563-54fa-43f1-8ecf-2a7898a06229\", \"run_properties\": {\"run_id\": \"AutoML_f4ca9563-54fa-43f1-8ecf-2a7898a06229\", \"created_utc\": \"2021-04-06T12:42:19.236325Z\", \"properties\": {\"num_iterations\": \"30\", \"training_type\": \"TrainFull\", \"acquisition_function\": \"EI\", \"primary_metric\": \"accuracy\", \"train_split\": \"0\", \"acquisition_parameter\": \"0\", \"num_cross_validation\": \"5\", \"target\": \"autoMlCluster\", \"AMLSettingsJsonString\": \"{\\\"path\\\":null,\\\"name\\\":\\\"AutoML\\\",\\\"subscription_id\\\":\\\"1b944a9b-fdae-4f97-aeb1-b7eea0beac53\\\",\\\"resource_group\\\":\\\"aml-quickstarts-142099\\\",\\\"workspace_name\\\":\\\"quick-starts-ws-142099\\\",\\\"region\\\":\\\"southcentralus\\\",\\\"compute_target\\\":\\\"autoMlCluster\\\",\\\"spark_service\\\":null,\\\"azure_service\\\":\\\"remote\\\",\\\"many_models\\\":false,\\\"pipeline_fetch_max_batch_size\\\":1,\\\"enable_batch_run\\\":false,\\\"iterations\\\":30,\\\"primary_metric\\\":\\\"accuracy\\\",\\\"task_type\\\":\\\"classification\\\",\\\"data_script\\\":null,\\\"validation_size\\\":0.0,\\\"n_cross_validations\\\":5,\\\"y_min\\\":null,\\\"y_max\\\":null,\\\"num_classes\\\":null,\\\"featurization\\\":\\\"auto\\\",\\\"_ignore_package_version_incompatibilities\\\":false,\\\"is_timeseries\\\":false,\\\"max_cores_per_iteration\\\":1,\\\"max_concurrent_iterations\\\":4,\\\"iteration_timeout_minutes\\\":null,\\\"mem_in_mb\\\":null,\\\"enforce_time_on_windows\\\":false,\\\"experiment_timeout_minutes\\\":30,\\\"experiment_exit_score\\\":null,\\\"whitelist_models\\\":null,\\\"blacklist_algos\\\":[\\\"TensorFlowLinearClassifier\\\",\\\"TensorFlowDNN\\\"],\\\"supported_models\\\":[\\\"LinearSVM\\\",\\\"LogisticRegression\\\",\\\"BernoulliNaiveBayes\\\",\\\"LightGBM\\\",\\\"MultinomialNaiveBayes\\\",\\\"XGBoostClassifier\\\",\\\"RandomForest\\\",\\\"ExtremeRandomTrees\\\",\\\"AveragedPerceptronClassifier\\\",\\\"SVM\\\",\\\"GradientBoosting\\\",\\\"TensorFlowDNN\\\",\\\"DecisionTree\\\",\\\"TensorFlowLinearClassifier\\\",\\\"KNN\\\",\\\"SGD\\\"],\\\"private_models\\\":[],\\\"auto_blacklist\\\":true,\\\"blacklist_samples_reached\\\":false,\\\"exclude_nan_labels\\\":true,\\\"verbosity\\\":20,\\\"_debug_log\\\":\\\"azureml_automl.log\\\",\\\"show_warnings\\\":false,\\\"model_explainability\\\":true,\\\"service_url\\\":null,\\\"sdk_url\\\":null,\\\"sdk_packages\\\":null,\\\"enable_onnx_compatible_models\\\":false,\\\"enable_split_onnx_featurizer_estimator_models\\\":false,\\\"vm_type\\\":\\\"STANDARD_D12_V2\\\",\\\"telemetry_verbosity\\\":20,\\\"send_telemetry\\\":true,\\\"enable_dnn\\\":false,\\\"scenario\\\":\\\"SDK-1.13.0\\\",\\\"environment_label\\\":null,\\\"save_mlflow\\\":false,\\\"force_text_dnn\\\":false,\\\"enable_feature_sweeping\\\":true,\\\"enable_early_stopping\\\":false,\\\"early_stopping_n_iters\\\":10,\\\"metrics\\\":null,\\\"enable_metric_confidence\\\":false,\\\"enable_ensembling\\\":true,\\\"enable_stack_ensembling\\\":true,\\\"ensemble_iterations\\\":15,\\\"enable_tf\\\":false,\\\"enable_subsampling\\\":false,\\\"subsample_seed\\\":null,\\\"enable_nimbusml\\\":false,\\\"enable_streaming\\\":false,\\\"force_streaming\\\":false,\\\"track_child_runs\\\":true,\\\"allowed_private_models\\\":[],\\\"label_column_name\\\":\\\"DEATH_EVENT\\\",\\\"weight_column_name\\\":null,\\\"cv_split_column_names\\\":null,\\\"enable_local_managed\\\":false,\\\"_local_managed_run_id\\\":null,\\\"cost_mode\\\":1,\\\"lag_length\\\":0,\\\"metric_operation\\\":\\\"maximize\\\",\\\"preprocess\\\":true}\", \"DataPrepJsonString\": \"{\\\\\\\"training_data\\\\\\\": \\\\\\\"{\\\\\\\\\\\\\\\"blocks\\\\\\\\\\\\\\\": [{\\\\\\\\\\\\\\\"id\\\\\\\\\\\\\\\": \\\\\\\\\\\\\\\"3a53bc27-427a-471d-ba36-cc4f412c6e78\\\\\\\\\\\\\\\", \\\\\\\\\\\\\\\"type\\\\\\\\\\\\\\\": \\\\\\\\\\\\\\\"Microsoft.DPrep.GetDatastoreFilesBlock\\\\\\\\\\\\\\\", \\\\\\\\\\\\\\\"arguments\\\\\\\\\\\\\\\": {\\\\\\\\\\\\\\\"datastores\\\\\\\\\\\\\\\": [{\\\\\\\\\\\\\\\"datastoreName\\\\\\\\\\\\\\\": \\\\\\\\\\\\\\\"workspaceblobstore\\\\\\\\\\\\\\\", \\\\\\\\\\\\\\\"path\\\\\\\\\\\\\\\": \\\\\\\\\\\\\\\"UI/04-06-2021_123512_UTC/heart_failure_clinical_records_dataset.csv\\\\\\\\\\\\\\\", \\\\\\\\\\\\\\\"resourceGroup\\\\\\\\\\\\\\\": \\\\\\\\\\\\\\\"aml-quickstarts-142099\\\\\\\\\\\\\\\", \\\\\\\\\\\\\\\"subscription\\\\\\\\\\\\\\\": \\\\\\\\\\\\\\\"1b944a9b-fdae-4f97-aeb1-b7eea0beac53\\\\\\\\\\\\\\\", \\\\\\\\\\\\\\\"workspaceName\\\\\\\\\\\\\\\": \\\\\\\\\\\\\\\"quick-starts-ws-142099\\\\\\\\\\\\\\\"}]}, \\\\\\\\\\\\\\\"localData\\\\\\\\\\\\\\\": {}, \\\\\\\\\\\\\\\"isEnabled\\\\\\\\\\\\\\\": true, \\\\\\\\\\\\\\\"name\\\\\\\\\\\\\\\": null, \\\\\\\\\\\\\\\"annotation\\\\\\\\\\\\\\\": null}, {\\\\\\\\\\\\\\\"id\\\\\\\\\\\\\\\": \\\\\\\\\\\\\\\"8b1d3229-55d2-4d78-8edc-bb838c6a71a8\\\\\\\\\\\\\\\", \\\\\\\\\\\\\\\"type\\\\\\\\\\\\\\\": \\\\\\\\\\\\\\\"Microsoft.DPrep.ParseDelimitedBlock\\\\\\\\\\\\\\\", \\\\\\\\\\\\\\\"arguments\\\\\\\\\\\\\\\": {\\\\\\\\\\\\\\\"columnHeadersMode\\\\\\\\\\\\\\\": 1, \\\\\\\\\\\\\\\"fileEncoding\\\\\\\\\\\\\\\": 0, \\\\\\\\\\\\\\\"handleQuotedLineBreaks\\\\\\\\\\\\\\\": false, \\\\\\\\\\\\\\\"preview\\\\\\\\\\\\\\\": false, \\\\\\\\\\\\\\\"separator\\\\\\\\\\\\\\\": \\\\\\\\\\\\\\\",\\\\\\\\\\\\\\\", \\\\\\\\\\\\\\\"skipRows\\\\\\\\\\\\\\\": 0, \\\\\\\\\\\\\\\"skipRowsMode\\\\\\\\\\\\\\\": 0}, \\\\\\\\\\\\\\\"localData\\\\\\\\\\\\\\\": {}, \\\\\\\\\\\\\\\"isEnabled\\\\\\\\\\\\\\\": true, \\\\\\\\\\\\\\\"name\\\\\\\\\\\\\\\": null, \\\\\\\\\\\\\\\"annotation\\\\\\\\\\\\\\\": null}, {\\\\\\\\\\\\\\\"id\\\\\\\\\\\\\\\": \\\\\\\\\\\\\\\"7ef890cd-3589-42d0-8f1c-379806c426b4\\\\\\\\\\\\\\\", \\\\\\\\\\\\\\\"type\\\\\\\\\\\\\\\": \\\\\\\\\\\\\\\"Microsoft.DPrep.DropColumnsBlock\\\\\\\\\\\\\\\", \\\\\\\\\\\\\\\"arguments\\\\\\\\\\\\\\\": {\\\\\\\\\\\\\\\"columns\\\\\\\\\\\\\\\": {\\\\\\\\\\\\\\\"type\\\\\\\\\\\\\\\": 0, \\\\\\\\\\\\\\\"details\\\\\\\\\\\\\\\": {\\\\\\\\\\\\\\\"selectedColumns\\\\\\\\\\\\\\\": [\\\\\\\\\\\\\\\"Path\\\\\\\\\\\\\\\"]}}}, \\\\\\\\\\\\\\\"localData\\\\\\\\\\\\\\\": {}, \\\\\\\\\\\\\\\"isEnabled\\\\\\\\\\\\\\\": true, \\\\\\\\\\\\\\\"name\\\\\\\\\\\\\\\": null, \\\\\\\\\\\\\\\"annotation\\\\\\\\\\\\\\\": null}, {\\\\\\\\\\\\\\\"id\\\\\\\\\\\\\\\": \\\\\\\\\\\\\\\"6c557b9b-a9f1-4923-9ad1-00ff92a0af34\\\\\\\\\\\\\\\", \\\\\\\\\\\\\\\"type\\\\\\\\\\\\\\\": \\\\\\\\\\\\\\\"Microsoft.DPrep.SetColumnTypesBlock\\\\\\\\\\\\\\\", \\\\\\\\\\\\\\\"arguments\\\\\\\\\\\\\\\": {\\\\\\\\\\\\\\\"columnConversion\\\\\\\\\\\\\\\": [{\\\\\\\\\\\\\\\"column\\\\\\\\\\\\\\\": {\\\\\\\\\\\\\\\"type\\\\\\\\\\\\\\\": 2, \\\\\\\\\\\\\\\"details\\\\\\\\\\\\\\\": {\\\\\\\\\\\\\\\"selectedColumn\\\\\\\\\\\\\\\": \\\\\\\\\\\\\\\"Path\\\\\\\\\\\\\\\"}}, \\\\\\\\\\\\\\\"typeProperty\\\\\\\\\\\\\\\": 0}, {\\\\\\\\\\\\\\\"column\\\\\\\\\\\\\\\": {\\\\\\\\\\\\\\\"type\\\\\\\\\\\\\\\": 2, \\\\\\\\\\\\\\\"details\\\\\\\\\\\\\\\": {\\\\\\\\\\\\\\\"selectedColumn\\\\\\\\\\\\\\\": \\\\\\\\\\\\\\\"age\\\\\\\\\\\\\\\"}}, \\\\\\\\\\\\\\\"typeProperty\\\\\\\\\\\\\\\": 3}, {\\\\\\\\\\\\\\\"column\\\\\\\\\\\\\\\": {\\\\\\\\\\\\\\\"type\\\\\\\\\\\\\\\": 2, \\\\\\\\\\\\\\\"details\\\\\\\\\\\\\\\": {\\\\\\\\\\\\\\\"selectedColumn\\\\\\\\\\\\\\\": \\\\\\\\\\\\\\\"anaemia\\\\\\\\\\\\\\\"}}, \\\\\\\\\\\\\\\"typeProperty\\\\\\\\\\\\\\\": 2}, {\\\\\\\\\\\\\\\"column\\\\\\\\\\\\\\\": {\\\\\\\\\\\\\\\"type\\\\\\\\\\\\\\\": 2, \\\\\\\\\\\\\\\"details\\\\\\\\\\\\\\\": {\\\\\\\\\\\\\\\"selectedColumn\\\\\\\\\\\\\\\": \\\\\\\\\\\\\\\"creatinine_phosphokinase\\\\\\\\\\\\\\\"}}, \\\\\\\\\\\\\\\"typeProperty\\\\\\\\\\\\\\\": 2}, {\\\\\\\\\\\\\\\"column\\\\\\\\\\\\\\\": {\\\\\\\\\\\\\\\"type\\\\\\\\\\\\\\\": 2, \\\\\\\\\\\\\\\"details\\\\\\\\\\\\\\\": {\\\\\\\\\\\\\\\"selectedColumn\\\\\\\\\\\\\\\": \\\\\\\\\\\\\\\"diabetes\\\\\\\\\\\\\\\"}}, \\\\\\\\\\\\\\\"typeProperty\\\\\\\\\\\\\\\": 2}, {\\\\\\\\\\\\\\\"column\\\\\\\\\\\\\\\": {\\\\\\\\\\\\\\\"type\\\\\\\\\\\\\\\": 2, \\\\\\\\\\\\\\\"details\\\\\\\\\\\\\\\": {\\\\\\\\\\\\\\\"selectedColumn\\\\\\\\\\\\\\\": \\\\\\\\\\\\\\\"ejection_fraction\\\\\\\\\\\\\\\"}}, \\\\\\\\\\\\\\\"typeProperty\\\\\\\\\\\\\\\": 2}, {\\\\\\\\\\\\\\\"column\\\\\\\\\\\\\\\": {\\\\\\\\\\\\\\\"type\\\\\\\\\\\\\\\": 2, \\\\\\\\\\\\\\\"details\\\\\\\\\\\\\\\": {\\\\\\\\\\\\\\\"selectedColumn\\\\\\\\\\\\\\\": \\\\\\\\\\\\\\\"high_blood_pressure\\\\\\\\\\\\\\\"}}, \\\\\\\\\\\\\\\"typeProperty\\\\\\\\\\\\\\\": 2}, {\\\\\\\\\\\\\\\"column\\\\\\\\\\\\\\\": {\\\\\\\\\\\\\\\"type\\\\\\\\\\\\\\\": 2, \\\\\\\\\\\\\\\"details\\\\\\\\\\\\\\\": {\\\\\\\\\\\\\\\"selectedColumn\\\\\\\\\\\\\\\": \\\\\\\\\\\\\\\"platelets\\\\\\\\\\\\\\\"}}, \\\\\\\\\\\\\\\"typeProperty\\\\\\\\\\\\\\\": 3}, {\\\\\\\\\\\\\\\"column\\\\\\\\\\\\\\\": {\\\\\\\\\\\\\\\"type\\\\\\\\\\\\\\\": 2, \\\\\\\\\\\\\\\"details\\\\\\\\\\\\\\\": {\\\\\\\\\\\\\\\"selectedColumn\\\\\\\\\\\\\\\": \\\\\\\\\\\\\\\"serum_creatinine\\\\\\\\\\\\\\\"}}, \\\\\\\\\\\\\\\"typeProperty\\\\\\\\\\\\\\\": 3}, {\\\\\\\\\\\\\\\"column\\\\\\\\\\\\\\\": {\\\\\\\\\\\\\\\"type\\\\\\\\\\\\\\\": 2, \\\\\\\\\\\\\\\"details\\\\\\\\\\\\\\\": {\\\\\\\\\\\\\\\"selectedColumn\\\\\\\\\\\\\\\": \\\\\\\\\\\\\\\"serum_sodium\\\\\\\\\\\\\\\"}}, \\\\\\\\\\\\\\\"typeProperty\\\\\\\\\\\\\\\": 2}, {\\\\\\\\\\\\\\\"column\\\\\\\\\\\\\\\": {\\\\\\\\\\\\\\\"type\\\\\\\\\\\\\\\": 2, \\\\\\\\\\\\\\\"details\\\\\\\\\\\\\\\": {\\\\\\\\\\\\\\\"selectedColumn\\\\\\\\\\\\\\\": \\\\\\\\\\\\\\\"sex\\\\\\\\\\\\\\\"}}, \\\\\\\\\\\\\\\"typeProperty\\\\\\\\\\\\\\\": 2}, {\\\\\\\\\\\\\\\"column\\\\\\\\\\\\\\\": {\\\\\\\\\\\\\\\"type\\\\\\\\\\\\\\\": 2, \\\\\\\\\\\\\\\"details\\\\\\\\\\\\\\\": {\\\\\\\\\\\\\\\"selectedColumn\\\\\\\\\\\\\\\": \\\\\\\\\\\\\\\"smoking\\\\\\\\\\\\\\\"}}, \\\\\\\\\\\\\\\"typeProperty\\\\\\\\\\\\\\\": 2}, {\\\\\\\\\\\\\\\"column\\\\\\\\\\\\\\\": {\\\\\\\\\\\\\\\"type\\\\\\\\\\\\\\\": 2, \\\\\\\\\\\\\\\"details\\\\\\\\\\\\\\\": {\\\\\\\\\\\\\\\"selectedColumn\\\\\\\\\\\\\\\": \\\\\\\\\\\\\\\"time\\\\\\\\\\\\\\\"}}, \\\\\\\\\\\\\\\"typeProperty\\\\\\\\\\\\\\\": 2}, {\\\\\\\\\\\\\\\"column\\\\\\\\\\\\\\\": {\\\\\\\\\\\\\\\"type\\\\\\\\\\\\\\\": 2, \\\\\\\\\\\\\\\"details\\\\\\\\\\\\\\\": {\\\\\\\\\\\\\\\"selectedColumn\\\\\\\\\\\\\\\": \\\\\\\\\\\\\\\"DEATH_EVENT\\\\\\\\\\\\\\\"}}, \\\\\\\\\\\\\\\"typeProperty\\\\\\\\\\\\\\\": 2}]}, \\\\\\\\\\\\\\\"localData\\\\\\\\\\\\\\\": {}, \\\\\\\\\\\\\\\"isEnabled\\\\\\\\\\\\\\\": true, \\\\\\\\\\\\\\\"name\\\\\\\\\\\\\\\": null, \\\\\\\\\\\\\\\"annotation\\\\\\\\\\\\\\\": null}], \\\\\\\\\\\\\\\"inspectors\\\\\\\\\\\\\\\": [], \\\\\\\\\\\\\\\"meta\\\\\\\\\\\\\\\": {\\\\\\\\\\\\\\\"savedDatasetId\\\\\\\\\\\\\\\": \\\\\\\\\\\\\\\"7350eb71-37fe-4d07-b528-b56e704fb0ed\\\\\\\\\\\\\\\", \\\\\\\\\\\\\\\"datasetType\\\\\\\\\\\\\\\": \\\\\\\\\\\\\\\"tabular\\\\\\\\\\\\\\\", \\\\\\\\\\\\\\\"subscriptionId\\\\\\\\\\\\\\\": \\\\\\\\\\\\\\\"1b944a9b-fdae-4f97-aeb1-b7eea0beac53\\\\\\\\\\\\\\\", \\\\\\\\\\\\\\\"workspaceId\\\\\\\\\\\\\\\": \\\\\\\\\\\\\\\"dd21185b-7333-4d49-a59c-92007469fa07\\\\\\\\\\\\\\\", \\\\\\\\\\\\\\\"workspaceLocation\\\\\\\\\\\\\\\": \\\\\\\\\\\\\\\"southcentralus\\\\\\\\\\\\\\\"}}\\\\\\\", \\\\\\\"activities\\\\\\\": 0}\", \"EnableSubsampling\": \"False\", \"runTemplate\": \"AutoML\", \"azureml.runsource\": \"automl\", \"display_task_type\": \"classification\", \"dependencies_versions\": \"{\\\"azureml-widgets\\\": \\\"1.24.0\\\", \\\"azureml-train\\\": \\\"1.24.0\\\", \\\"azureml-train-restclients-hyperdrive\\\": \\\"1.24.0\\\", \\\"azureml-train-core\\\": \\\"1.24.0\\\", \\\"azureml-train-automl\\\": \\\"1.24.0\\\", \\\"azureml-train-automl-runtime\\\": \\\"1.24.0\\\", \\\"azureml-train-automl-client\\\": \\\"1.24.0\\\", \\\"azureml-tensorboard\\\": \\\"1.24.0\\\", \\\"azureml-telemetry\\\": \\\"1.24.0\\\", \\\"azureml-sdk\\\": \\\"1.24.0\\\", \\\"azureml-samples\\\": \\\"0+unknown\\\", \\\"azureml-pipeline\\\": \\\"1.24.0\\\", \\\"azureml-pipeline-steps\\\": \\\"1.24.0\\\", \\\"azureml-pipeline-core\\\": \\\"1.24.0\\\", \\\"azureml-opendatasets\\\": \\\"1.24.0\\\", \\\"azureml-model-management-sdk\\\": \\\"1.0.1b6.post1\\\", \\\"azureml-mlflow\\\": \\\"1.24.0\\\", \\\"azureml-interpret\\\": \\\"1.24.0\\\", \\\"azureml-explain-model\\\": \\\"1.24.0\\\", \\\"azureml-defaults\\\": \\\"1.24.0\\\", \\\"azureml-dataset-runtime\\\": \\\"1.24.0\\\", \\\"azureml-dataprep\\\": \\\"2.11.1\\\", \\\"azureml-dataprep-rslex\\\": \\\"1.9.0\\\", \\\"azureml-dataprep-native\\\": \\\"30.0.0\\\", \\\"azureml-datadrift\\\": \\\"1.24.0\\\", \\\"azureml-core\\\": \\\"1.24.0\\\", \\\"azureml-contrib-services\\\": \\\"1.24.0\\\", \\\"azureml-contrib-server\\\": \\\"1.24.0\\\", \\\"azureml-contrib-reinforcementlearning\\\": \\\"1.24.0\\\", \\\"azureml-contrib-pipeline-steps\\\": \\\"1.24.0\\\", \\\"azureml-contrib-notebook\\\": \\\"1.24.0\\\", \\\"azureml-contrib-gbdt\\\": \\\"1.24.0\\\", \\\"azureml-contrib-fairness\\\": \\\"1.24.0\\\", \\\"azureml-contrib-dataset\\\": \\\"1.24.0\\\", \\\"azureml-cli-common\\\": \\\"1.24.0\\\", \\\"azureml-automl-runtime\\\": \\\"1.24.0\\\", \\\"azureml-automl-dnn-nlp\\\": \\\"1.24.0\\\", \\\"azureml-automl-core\\\": \\\"1.24.0\\\", \\\"azureml-accel-models\\\": \\\"1.24.0\\\"}\", \"_aml_system_scenario_identification\": \"Remote.Parent\", \"ClientType\": \"SDK\", \"environment_cpu_name\": \"AzureML-AutoML\", \"environment_cpu_label\": \"prod\", \"environment_gpu_name\": \"AzureML-AutoML-GPU\", \"environment_gpu_label\": \"prod\", \"root_attribution\": \"automl\", \"attribution\": \"AutoML\", \"Orchestrator\": \"AutoML\", \"CancelUri\": \"https://southcentralus.experiments.azureml.net/jasmine/v1.0/subscriptions/1b944a9b-fdae-4f97-aeb1-b7eea0beac53/resourceGroups/aml-quickstarts-142099/providers/Microsoft.MachineLearningServices/workspaces/quick-starts-ws-142099/experimentids/9df3c993-caf7-4b7e-847e-69f154ae8d79/cancel/AutoML_f4ca9563-54fa-43f1-8ecf-2a7898a06229\", \"ClientSdkVersion\": \"1.24.0\", \"snapshotId\": \"00000000-0000-0000-0000-000000000000\", \"SetupRunId\": \"AutoML_f4ca9563-54fa-43f1-8ecf-2a7898a06229_setup\", \"SetupRunContainerId\": \"dcid.AutoML_f4ca9563-54fa-43f1-8ecf-2a7898a06229_setup\", \"FeaturizationRunJsonPath\": \"featurizer_container.json\", \"FeaturizationRunId\": \"AutoML_f4ca9563-54fa-43f1-8ecf-2a7898a06229_featurize\", \"ProblemInfoJsonString\": \"{\\\"dataset_num_categorical\\\": 0, \\\"is_sparse\\\": false, \\\"subsampling\\\": false, \\\"dataset_classes\\\": 2, \\\"dataset_features\\\": 12, \\\"dataset_samples\\\": 299, \\\"single_frequency_class_detected\\\": false}\", \"ModelExplainRunId\": \"AutoML_f4ca9563-54fa-43f1-8ecf-2a7898a06229_ModelExplain\"}, \"tags\": {\"model_explain_run\": \"best_run\", \"_aml_system_azureml.automlComponent\": \"AutoML\", \"pipeline_id\": \"\", \"score\": \"\", \"predicted_cost\": \"\", \"fit_time\": \"\", \"training_percent\": \"\", \"iteration\": \"\", \"run_preprocessor\": \"\", \"run_algorithm\": \"\", \"dynamic_whitelisting_iterations\": \"<25>;\", \"automl_best_child_run_id\": \"AutoML_f4ca9563-54fa-43f1-8ecf-2a7898a06229_28\", \"model_explain_best_run_child_id\": \"AutoML_f4ca9563-54fa-43f1-8ecf-2a7898a06229_28\"}, \"end_time_utc\": \"2021-04-06T13:02:06.602867Z\", \"status\": \"Completed\", \"log_files\": {}, \"log_groups\": [], \"run_duration\": \"0:19:47\", \"run_number\": \"2\", \"run_queued_details\": {\"status\": \"Completed\", \"details\": null}}, \"child_runs\": [{\"run_id\": \"AutoML_f4ca9563-54fa-43f1-8ecf-2a7898a06229_0\", \"run_number\": 6, \"metric\": null, \"status\": \"Completed\", \"run_type\": \"azureml.scriptrun\", \"training_percent\": \"100\", \"start_time\": \"2021-04-06T12:50:34.773014Z\", \"end_time\": \"2021-04-06T12:51:19.318446Z\", \"created_time\": \"2021-04-06T12:48:19.193557Z\", \"created_time_dt\": \"2021-04-06T12:48:19.193557Z\", \"duration\": \"0:03:00\", \"iteration\": \"0\", \"goal\": \"accuracy_max\", \"run_name\": \"MaxAbsScaler, LightGBM\", \"run_properties\": \"copy=True\", \"primary_metric\": 0.8059887, \"best_metric\": 0.8059887}, {\"run_id\": \"AutoML_f4ca9563-54fa-43f1-8ecf-2a7898a06229_1\", \"run_number\": 7, \"metric\": null, \"status\": \"Completed\", \"run_type\": \"azureml.scriptrun\", \"training_percent\": \"100\", \"start_time\": \"2021-04-06T12:51:34.359879Z\", \"end_time\": \"2021-04-06T12:52:23.176603Z\", \"created_time\": \"2021-04-06T12:48:19.307787Z\", \"created_time_dt\": \"2021-04-06T12:48:19.307787Z\", \"duration\": \"0:04:03\", \"iteration\": \"1\", \"goal\": \"accuracy_max\", \"run_name\": \"MaxAbsScaler, XGBoostClassifier\", \"run_properties\": \"copy=True\", \"primary_metric\": 0.8259322, \"best_metric\": 0.8259322}, {\"run_id\": \"AutoML_f4ca9563-54fa-43f1-8ecf-2a7898a06229_2\", \"run_number\": 8, \"metric\": null, \"status\": \"Completed\", \"run_type\": \"azureml.scriptrun\", \"training_percent\": \"100\", \"start_time\": \"2021-04-06T12:48:32.487097Z\", \"end_time\": \"2021-04-06T12:49:17.532433Z\", \"created_time\": \"2021-04-06T12:48:19.360992Z\", \"created_time_dt\": \"2021-04-06T12:48:19.360992Z\", \"duration\": \"0:00:58\", \"iteration\": \"2\", \"goal\": \"accuracy_max\", \"run_name\": \"MinMaxScaler, RandomForest\", \"run_properties\": \"copy=True, feature_range=(0, 1\", \"primary_metric\": 0.84265537, \"best_metric\": 0.84265537}, {\"run_id\": \"AutoML_f4ca9563-54fa-43f1-8ecf-2a7898a06229_3\", \"run_number\": 9, \"metric\": null, \"status\": \"Completed\", \"run_type\": \"azureml.scriptrun\", \"training_percent\": \"100\", \"start_time\": \"2021-04-06T12:49:32.560986Z\", \"end_time\": \"2021-04-06T12:50:18.273767Z\", \"created_time\": \"2021-04-06T12:48:19.366697Z\", \"created_time_dt\": \"2021-04-06T12:48:19.366697Z\", \"duration\": \"0:01:58\", \"iteration\": \"3\", \"goal\": \"accuracy_max\", \"run_name\": \"MinMaxScaler, RandomForest\", \"run_properties\": \"copy=True, feature_range=(0, 1\", \"primary_metric\": 0.8360452, \"best_metric\": 0.84265537}, {\"run_id\": \"AutoML_f4ca9563-54fa-43f1-8ecf-2a7898a06229_4\", \"run_number\": 10, \"metric\": null, \"status\": \"Completed\", \"run_type\": \"azureml.scriptrun\", \"training_percent\": \"100\", \"start_time\": \"2021-04-06T12:51:54.091562Z\", \"end_time\": \"2021-04-06T12:54:47.129197Z\", \"created_time\": \"2021-04-06T12:49:20.954655Z\", \"created_time_dt\": \"2021-04-06T12:49:20.954655Z\", \"duration\": \"0:05:26\", \"iteration\": \"4\", \"goal\": \"accuracy_max\", \"run_name\": \"MinMaxScaler, RandomForest\", \"run_properties\": \"copy=True, feature_range=(0, 1\", \"primary_metric\": 0.80909605, \"best_metric\": 0.84265537}, {\"run_id\": \"AutoML_f4ca9563-54fa-43f1-8ecf-2a7898a06229_5\", \"run_number\": 11, \"metric\": null, \"status\": \"Completed\", \"run_type\": \"azureml.scriptrun\", \"training_percent\": \"100\", \"start_time\": \"2021-04-06T12:52:01.343714Z\", \"end_time\": \"2021-04-06T12:55:25.678985Z\", \"created_time\": \"2021-04-06T12:50:21.348259Z\", \"created_time_dt\": \"2021-04-06T12:50:21.348259Z\", \"duration\": \"0:05:04\", \"iteration\": \"5\", \"goal\": \"accuracy_max\", \"run_name\": \"MinMaxScaler, SVM\", \"run_properties\": \"copy=True, feature_range=(0, 1\", \"primary_metric\": 0.70576271, \"best_metric\": 0.84265537}, {\"run_id\": \"AutoML_f4ca9563-54fa-43f1-8ecf-2a7898a06229_6\", \"run_number\": 12, \"metric\": null, \"status\": \"Completed\", \"run_type\": \"azureml.scriptrun\", \"training_percent\": \"100\", \"start_time\": \"2021-04-06T12:52:07.126053Z\", \"end_time\": \"2021-04-06T12:55:00.09783Z\", \"created_time\": \"2021-04-06T12:51:22.153764Z\", \"created_time_dt\": \"2021-04-06T12:51:22.153764Z\", \"duration\": \"0:03:37\", \"iteration\": \"6\", \"goal\": \"accuracy_max\", \"run_name\": \"MinMaxScaler, SVM\", \"run_properties\": \"copy=True, feature_range=(0, 1\", \"primary_metric\": 0.70909605, \"best_metric\": 0.84265537}, {\"run_id\": \"AutoML_f4ca9563-54fa-43f1-8ecf-2a7898a06229_7\", \"run_number\": 13, \"metric\": null, \"status\": \"Completed\", \"run_type\": \"azureml.scriptrun\", \"training_percent\": \"100\", \"start_time\": \"2021-04-06T12:52:37.655277Z\", \"end_time\": \"2021-04-06T12:53:25.378989Z\", \"created_time\": \"2021-04-06T12:52:26.207593Z\", \"created_time_dt\": \"2021-04-06T12:52:26.207593Z\", \"duration\": \"0:00:59\", \"iteration\": \"7\", \"goal\": \"accuracy_max\", \"run_name\": \"SparseNormalizer, XGBoostClassifier\", \"run_properties\": \"<azureml.automl.runtime.shared.model_wrappers.SparseNormalizer object at 0x7f421ea2ec18\", \"primary_metric\": 0.82615819, \"best_metric\": 0.84265537}, {\"run_id\": \"AutoML_f4ca9563-54fa-43f1-8ecf-2a7898a06229_8\", \"run_number\": 14, \"metric\": null, \"status\": \"Completed\", \"run_type\": \"azureml.scriptrun\", \"training_percent\": \"100\", \"start_time\": \"2021-04-06T12:53:40.383637Z\", \"end_time\": \"2021-04-06T12:54:31.645277Z\", \"created_time\": \"2021-04-06T12:53:27.9839Z\", \"created_time_dt\": \"2021-04-06T12:53:27.9839Z\", \"duration\": \"0:01:03\", \"iteration\": \"8\", \"goal\": \"accuracy_max\", \"run_name\": \"MinMaxScaler, LogisticRegression\", \"run_properties\": \"copy=True, feature_range=(0, 1\", \"primary_metric\": 0.8260452, \"best_metric\": 0.84265537}, {\"run_id\": \"AutoML_f4ca9563-54fa-43f1-8ecf-2a7898a06229_9\", \"run_number\": 15, \"metric\": null, \"status\": \"Completed\", \"run_type\": \"azureml.scriptrun\", \"training_percent\": \"100\", \"start_time\": \"2021-04-06T12:54:48.839184Z\", \"end_time\": \"2021-04-06T12:55:25.712041Z\", \"created_time\": \"2021-04-06T12:54:34.734857Z\", \"created_time_dt\": \"2021-04-06T12:54:34.734857Z\", \"duration\": \"0:00:50\", \"iteration\": \"9\", \"goal\": \"accuracy_max\", \"run_name\": \"StandardScalerWrapper, RandomForest\", \"run_properties\": \"<azureml.automl.runtime.shared.model_wrappers.StandardScalerWrapper object at 0x7fc6515edd68\", \"primary_metric\": 0.83615819, \"best_metric\": 0.84265537}, {\"run_id\": \"AutoML_f4ca9563-54fa-43f1-8ecf-2a7898a06229_10\", \"run_number\": 16, \"metric\": null, \"status\": \"Completed\", \"run_type\": \"azureml.scriptrun\", \"training_percent\": \"100\", \"start_time\": \"2021-04-06T12:54:58.402713Z\", \"end_time\": \"2021-04-06T12:55:40.135669Z\", \"created_time\": \"2021-04-06T12:54:49.619187Z\", \"created_time_dt\": \"2021-04-06T12:54:49.619187Z\", \"duration\": \"0:00:50\", \"iteration\": \"10\", \"goal\": \"accuracy_max\", \"run_name\": \"StandardScalerWrapper, LightGBM\", \"run_properties\": \"<azureml.automl.runtime.shared.model_wrappers.StandardScalerWrapper object at 0x7f8cb0eabfd0\", \"primary_metric\": 0.80926554, \"best_metric\": 0.84265537}, {\"run_id\": \"AutoML_f4ca9563-54fa-43f1-8ecf-2a7898a06229_11\", \"run_number\": 17, \"metric\": null, \"status\": \"Completed\", \"run_type\": \"azureml.scriptrun\", \"training_percent\": \"100\", \"start_time\": \"2021-04-06T12:55:12.392607Z\", \"end_time\": \"2021-04-06T12:55:58.013005Z\", \"created_time\": \"2021-04-06T12:55:02.42807Z\", \"created_time_dt\": \"2021-04-06T12:55:02.42807Z\", \"duration\": \"0:00:55\", \"iteration\": \"11\", \"goal\": \"accuracy_max\", \"run_name\": \"MaxAbsScaler, GradientBoosting\", \"run_properties\": \"copy=True\", \"primary_metric\": 0.82937853, \"best_metric\": 0.84265537}, {\"run_id\": \"AutoML_f4ca9563-54fa-43f1-8ecf-2a7898a06229_12\", \"run_number\": 18, \"metric\": null, \"status\": \"Completed\", \"run_type\": \"azureml.scriptrun\", \"training_percent\": \"100\", \"start_time\": \"2021-04-06T12:55:41.730477Z\", \"end_time\": \"2021-04-06T12:56:27.802549Z\", \"created_time\": \"2021-04-06T12:55:28.497651Z\", \"created_time_dt\": \"2021-04-06T12:55:28.497651Z\", \"duration\": \"0:00:59\", \"iteration\": \"12\", \"goal\": \"accuracy_max\", \"run_name\": \"MaxAbsScaler, ExtremeRandomTrees\", \"run_properties\": \"copy=True\", \"primary_metric\": 0.83621469, \"best_metric\": 0.84265537}, {\"run_id\": \"AutoML_f4ca9563-54fa-43f1-8ecf-2a7898a06229_13\", \"run_number\": 19, \"metric\": null, \"status\": \"Completed\", \"run_type\": \"azureml.scriptrun\", \"training_percent\": \"100\", \"start_time\": \"2021-04-06T12:55:40.999775Z\", \"end_time\": \"2021-04-06T12:56:26.670498Z\", \"created_time\": \"2021-04-06T12:55:28.938846Z\", \"created_time_dt\": \"2021-04-06T12:55:28.938846Z\", \"duration\": \"0:00:57\", \"iteration\": \"13\", \"goal\": \"accuracy_max\", \"run_name\": \"SparseNormalizer, XGBoostClassifier\", \"run_properties\": \"<azureml.automl.runtime.shared.model_wrappers.SparseNormalizer object at 0x7fa3e4517860\", \"primary_metric\": 0.82943503, \"best_metric\": 0.84265537}, {\"run_id\": \"AutoML_f4ca9563-54fa-43f1-8ecf-2a7898a06229_14\", \"run_number\": 20, \"metric\": null, \"status\": \"Completed\", \"run_type\": \"azureml.scriptrun\", \"training_percent\": \"100\", \"start_time\": \"2021-04-06T12:55:55.63757Z\", \"end_time\": \"2021-04-06T12:56:38.472216Z\", \"created_time\": \"2021-04-06T12:55:42.78867Z\", \"created_time_dt\": \"2021-04-06T12:55:42.78867Z\", \"duration\": \"0:00:55\", \"iteration\": \"14\", \"goal\": \"accuracy_max\", \"run_name\": \"SparseNormalizer, XGBoostClassifier\", \"run_properties\": \"<azureml.automl.runtime.shared.model_wrappers.SparseNormalizer object at 0x7f981c2ed518\", \"primary_metric\": 0.83966102, \"best_metric\": 0.84265537}, {\"run_id\": \"AutoML_f4ca9563-54fa-43f1-8ecf-2a7898a06229_15\", \"run_number\": 21, \"metric\": null, \"status\": \"Completed\", \"run_type\": \"azureml.scriptrun\", \"training_percent\": \"100\", \"start_time\": \"2021-04-06T12:56:13.21472Z\", \"end_time\": \"2021-04-06T12:56:56.046081Z\", \"created_time\": \"2021-04-06T12:56:00.354029Z\", \"created_time_dt\": \"2021-04-06T12:56:00.354029Z\", \"duration\": \"0:00:55\", \"iteration\": \"15\", \"goal\": \"accuracy_max\", \"run_name\": \"StandardScalerWrapper, LightGBM\", \"run_properties\": \"<azureml.automl.runtime.shared.model_wrappers.StandardScalerWrapper object at 0x7f35bd0d89e8\", \"primary_metric\": 0.8160452, \"best_metric\": 0.84265537}, {\"run_id\": \"AutoML_f4ca9563-54fa-43f1-8ecf-2a7898a06229_16\", \"run_number\": 22, \"metric\": null, \"status\": \"Completed\", \"run_type\": \"azureml.scriptrun\", \"training_percent\": \"100\", \"start_time\": \"2021-04-06T12:56:41.955096Z\", \"end_time\": \"2021-04-06T12:57:27.499669Z\", \"created_time\": \"2021-04-06T12:56:29.335446Z\", \"created_time_dt\": \"2021-04-06T12:56:29.335446Z\", \"duration\": \"0:00:58\", \"iteration\": \"16\", \"goal\": \"accuracy_max\", \"run_name\": \"MaxAbsScaler, LightGBM\", \"run_properties\": \"copy=True\", \"primary_metric\": 0.82271186, \"best_metric\": 0.84265537}, {\"run_id\": \"AutoML_f4ca9563-54fa-43f1-8ecf-2a7898a06229_17\", \"run_number\": 23, \"metric\": null, \"status\": \"Completed\", \"run_type\": \"azureml.scriptrun\", \"training_percent\": \"100\", \"start_time\": \"2021-04-06T12:56:48.179053Z\", \"end_time\": \"2021-04-06T12:57:33.982871Z\", \"created_time\": \"2021-04-06T12:56:33.83016Z\", \"created_time_dt\": \"2021-04-06T12:56:33.83016Z\", \"duration\": \"0:01:00\", \"iteration\": \"17\", \"goal\": \"accuracy_max\", \"run_name\": \"StandardScalerWrapper, LightGBM\", \"run_properties\": \"<azureml.automl.runtime.shared.model_wrappers.StandardScalerWrapper object at 0x7f3607843160\", \"primary_metric\": 0.81926554, \"best_metric\": 0.84265537}, {\"run_id\": \"AutoML_f4ca9563-54fa-43f1-8ecf-2a7898a06229_18\", \"run_number\": 24, \"metric\": null, \"status\": \"Completed\", \"run_type\": \"azureml.scriptrun\", \"training_percent\": \"100\", \"start_time\": \"2021-04-06T12:56:53.565113Z\", \"end_time\": \"2021-04-06T12:57:49.208344Z\", \"created_time\": \"2021-04-06T12:56:40.965814Z\", \"created_time_dt\": \"2021-04-06T12:56:40.965814Z\", \"duration\": \"0:01:08\", \"iteration\": \"18\", \"goal\": \"accuracy_max\", \"run_name\": \"MinMaxScaler, LightGBM\", \"run_properties\": \"copy=True, feature_range=(0, 1\", \"primary_metric\": 0.8360452, \"best_metric\": 0.84265537}, {\"run_id\": \"AutoML_f4ca9563-54fa-43f1-8ecf-2a7898a06229_19\", \"run_number\": 25, \"metric\": null, \"status\": \"Completed\", \"run_type\": \"azureml.scriptrun\", \"training_percent\": \"100\", \"start_time\": \"2021-04-06T12:57:11.205763Z\", \"end_time\": \"2021-04-06T12:58:25.027053Z\", \"created_time\": \"2021-04-06T12:56:58.496936Z\", \"created_time_dt\": \"2021-04-06T12:56:58.496936Z\", \"duration\": \"0:01:26\", \"iteration\": \"19\", \"goal\": \"accuracy_max\", \"run_name\": \"MinMaxScaler, LightGBM\", \"run_properties\": \"copy=True, feature_range=(0, 1\", \"primary_metric\": 0.77254237, \"best_metric\": 0.84265537}, {\"run_id\": \"AutoML_f4ca9563-54fa-43f1-8ecf-2a7898a06229_20\", \"run_number\": 26, \"metric\": null, \"status\": \"Completed\", \"run_type\": \"azureml.scriptrun\", \"training_percent\": \"100\", \"start_time\": \"2021-04-06T12:57:44.623368Z\", \"end_time\": \"2021-04-06T12:58:33.804387Z\", \"created_time\": \"2021-04-06T12:57:30.532353Z\", \"created_time_dt\": \"2021-04-06T12:57:30.532353Z\", \"duration\": \"0:01:03\", \"iteration\": \"20\", \"goal\": \"accuracy_max\", \"run_name\": \"RobustScaler, LightGBM\", \"run_properties\": \"copy=True, quantile_range=[10, 90], with_centering=False,\\n             with_scaling=False\", \"primary_metric\": 0.83920904, \"best_metric\": 0.84265537}, {\"run_id\": \"AutoML_f4ca9563-54fa-43f1-8ecf-2a7898a06229_21\", \"run_number\": 27, \"metric\": null, \"status\": \"Completed\", \"run_type\": \"azureml.scriptrun\", \"training_percent\": \"100\", \"start_time\": \"2021-04-06T12:57:50.370236Z\", \"end_time\": \"2021-04-06T12:58:31.191082Z\", \"created_time\": \"2021-04-06T12:57:36.399979Z\", \"created_time_dt\": \"2021-04-06T12:57:36.399979Z\", \"duration\": \"0:00:54\", \"iteration\": \"21\", \"goal\": \"accuracy_max\", \"run_name\": \"SparseNormalizer, XGBoostClassifier\", \"run_properties\": \"<azureml.automl.runtime.shared.model_wrappers.SparseNormalizer object at 0x7fae0b3dd0f0\", \"primary_metric\": 0.82282486, \"best_metric\": 0.84265537}, {\"run_id\": \"AutoML_f4ca9563-54fa-43f1-8ecf-2a7898a06229_22\", \"run_number\": 28, \"metric\": null, \"status\": \"Completed\", \"run_type\": \"azureml.scriptrun\", \"training_percent\": \"100\", \"start_time\": \"2021-04-06T12:58:06.55933Z\", \"end_time\": \"2021-04-06T12:58:49.906976Z\", \"created_time\": \"2021-04-06T12:57:51.760413Z\", \"created_time_dt\": \"2021-04-06T12:57:51.760413Z\", \"duration\": \"0:00:58\", \"iteration\": \"22\", \"goal\": \"accuracy_max\", \"run_name\": \"RobustScaler, LightGBM\", \"run_properties\": \"copy=True, quantile_range=[10, 90], with_centering=False,\\n             with_scaling=False\", \"primary_metric\": 0.83949153, \"best_metric\": 0.84265537}, {\"run_id\": \"AutoML_f4ca9563-54fa-43f1-8ecf-2a7898a06229_23\", \"run_number\": 29, \"metric\": null, \"status\": \"Completed\", \"run_type\": \"azureml.scriptrun\", \"training_percent\": \"100\", \"start_time\": \"2021-04-06T12:58:43.271045Z\", \"end_time\": \"2021-04-06T12:59:23.468234Z\", \"created_time\": \"2021-04-06T12:58:28.742349Z\", \"created_time_dt\": \"2021-04-06T12:58:28.742349Z\", \"duration\": \"0:00:54\", \"iteration\": \"23\", \"goal\": \"accuracy_max\", \"run_name\": \"MaxAbsScaler, LightGBM\", \"run_properties\": \"copy=True\", \"primary_metric\": 0.82937853, \"best_metric\": 0.84265537}, {\"run_id\": \"AutoML_f4ca9563-54fa-43f1-8ecf-2a7898a06229_24\", \"run_number\": 30, \"metric\": null, \"status\": \"Completed\", \"run_type\": \"azureml.scriptrun\", \"training_percent\": \"100\", \"start_time\": \"2021-04-06T12:58:49.015653Z\", \"end_time\": \"2021-04-06T12:59:25.746457Z\", \"created_time\": \"2021-04-06T12:58:35.449868Z\", \"created_time_dt\": \"2021-04-06T12:58:35.449868Z\", \"duration\": \"0:00:50\", \"iteration\": \"24\", \"goal\": \"accuracy_max\", \"run_name\": \"SparseNormalizer, XGBoostClassifier\", \"run_properties\": \"<azureml.automl.runtime.shared.model_wrappers.SparseNormalizer object at 0x7f221d525588\", \"primary_metric\": 0.79259887, \"best_metric\": 0.84265537}, {\"run_id\": \"AutoML_f4ca9563-54fa-43f1-8ecf-2a7898a06229_25\", \"run_number\": 31, \"metric\": null, \"status\": \"Completed\", \"run_type\": \"azureml.scriptrun\", \"training_percent\": \"100\", \"start_time\": \"2021-04-06T12:58:59.234607Z\", \"end_time\": \"2021-04-06T12:59:45.413959Z\", \"created_time\": \"2021-04-06T12:58:44.302343Z\", \"created_time_dt\": \"2021-04-06T12:58:44.302343Z\", \"duration\": \"0:01:01\", \"iteration\": \"25\", \"goal\": \"accuracy_max\", \"run_name\": \"RobustScaler, RandomForest\", \"run_properties\": \"copy=True, quantile_range=[25, 75], with_centering=False,\\n             with_scaling=False\", \"primary_metric\": 0.67909605, \"best_metric\": 0.84265537}, {\"run_id\": \"AutoML_f4ca9563-54fa-43f1-8ecf-2a7898a06229_26\", \"run_number\": 32, \"metric\": null, \"status\": \"Completed\", \"run_type\": \"azureml.scriptrun\", \"training_percent\": \"100\", \"start_time\": \"2021-04-06T12:59:05.428833Z\", \"end_time\": \"2021-04-06T12:59:48.04728Z\", \"created_time\": \"2021-04-06T12:58:52.844334Z\", \"created_time_dt\": \"2021-04-06T12:58:52.844334Z\", \"duration\": \"0:00:55\", \"iteration\": \"26\", \"goal\": \"accuracy_max\", \"run_name\": \"MaxAbsScaler, LightGBM\", \"run_properties\": \"copy=True\", \"primary_metric\": 0.8459322, \"best_metric\": 0.8459322}, {\"run_id\": \"AutoML_f4ca9563-54fa-43f1-8ecf-2a7898a06229_27\", \"run_number\": 33, \"metric\": null, \"status\": \"Completed\", \"run_type\": \"azureml.scriptrun\", \"training_percent\": \"100\", \"start_time\": \"2021-04-06T12:59:38.604122Z\", \"end_time\": \"2021-04-06T13:00:30.056798Z\", \"created_time\": \"2021-04-06T12:59:25.699463Z\", \"created_time_dt\": \"2021-04-06T12:59:25.699463Z\", \"duration\": \"0:01:04\", \"iteration\": \"27\", \"goal\": \"accuracy_max\", \"run_name\": \"MaxAbsScaler, ExtremeRandomTrees\", \"run_properties\": \"copy=True\", \"primary_metric\": 0.85615819, \"best_metric\": 0.85615819}, {\"run_id\": \"AutoML_f4ca9563-54fa-43f1-8ecf-2a7898a06229_28\", \"run_number\": 34, \"metric\": null, \"status\": \"Completed\", \"run_type\": \"azureml.scriptrun\", \"training_percent\": \"100\", \"start_time\": \"2021-04-06T13:00:41.84802Z\", \"end_time\": \"2021-04-06T13:01:41.97086Z\", \"created_time\": \"2021-04-06T13:00:31.372198Z\", \"created_time_dt\": \"2021-04-06T13:00:31.372198Z\", \"duration\": \"0:01:10\", \"iteration\": \"28\", \"goal\": \"accuracy_max\", \"run_name\": \"VotingEnsemble\", \"run_properties\": \"classification_labels=None,\\n                              estimators=[('27',\\n                                           Pipeline(memory=None,\\n                                                    steps=[('maxabsscaler',\\n                                                            MaxAbsScaler(copy=True\", \"primary_metric\": 0.87632768, \"best_metric\": 0.87632768}, {\"run_id\": \"AutoML_f4ca9563-54fa-43f1-8ecf-2a7898a06229_29\", \"run_number\": 35, \"metric\": null, \"status\": \"Completed\", \"run_type\": \"azureml.scriptrun\", \"training_percent\": \"100\", \"start_time\": \"2021-04-06T13:00:42.157407Z\", \"end_time\": \"2021-04-06T13:02:01.753713Z\", \"created_time\": \"2021-04-06T13:00:31.612406Z\", \"created_time_dt\": \"2021-04-06T13:00:31.612406Z\", \"duration\": \"0:01:30\", \"iteration\": \"29\", \"goal\": \"accuracy_max\", \"run_name\": \"StackEnsemble\", \"run_properties\": \"base_learners=[('27',\\n                                        Pipeline(memory=None,\\n                                                 steps=[('maxabsscaler',\\n                                                         MaxAbsScaler(copy=True\", \"primary_metric\": 0.85954802, \"best_metric\": 0.87632768}], \"children_metrics\": {\"categories\": [0], \"series\": {\"f1_score_weighted\": [{\"categories\": [\"0\", \"1\", \"2\", \"3\", \"4\", \"5\", \"6\", \"7\", \"8\", \"9\", \"10\", \"11\", \"12\", \"13\", \"14\", \"15\", \"16\", \"17\", \"18\", \"19\", \"20\", \"21\", \"22\", \"23\", \"24\", \"25\", \"26\", \"27\", \"28\", \"29\"], \"mode\": \"markers\", \"name\": \"f1_score_weighted\", \"stepped\": false, \"type\": \"scatter\", \"data\": [0.8014398448329555, 0.8237396450256732, 0.8402328754640427, 0.8311892333247902, 0.8100716357776818, 0.6769421368748841, 0.6782350929116338, 0.8157297548639766, 0.8224441719562481, 0.8310534437189935, 0.8026943251342772, 0.8253646947698787, 0.8250262064539777, 0.8266619723924865, 0.8366627045139088, 0.8041176153746544, 0.8161214746749401, 0.8166959250423487, 0.8324050168303933, 0.7522144212803786, 0.8360434488357885, 0.8137297699171275, 0.8322481665510644, 0.8250321338149078, 0.7758361948741217, 0.5526564268547016, 0.8425198229172894, 0.8483088568405561, 0.870270678532381, 0.8547601382841605]}, {\"categories\": [\"0\", \"1\", \"2\", \"3\", \"4\", \"5\", \"6\", \"7\", \"8\", \"9\", \"10\", \"11\", \"12\", \"13\", \"14\", \"15\", \"16\", \"17\", \"18\", \"19\", \"20\", \"21\", \"22\", \"23\", \"24\", \"25\", \"26\", \"27\", \"28\", \"29\"], \"mode\": \"lines\", \"name\": \"f1_score_weighted_max\", \"stepped\": true, \"type\": \"scatter\", \"data\": [0.8014398448329555, 0.8237396450256732, 0.8402328754640427, 0.8402328754640427, 0.8402328754640427, 0.8402328754640427, 0.8402328754640427, 0.8402328754640427, 0.8402328754640427, 0.8402328754640427, 0.8402328754640427, 0.8402328754640427, 0.8402328754640427, 0.8402328754640427, 0.8402328754640427, 0.8402328754640427, 0.8402328754640427, 0.8402328754640427, 0.8402328754640427, 0.8402328754640427, 0.8402328754640427, 0.8402328754640427, 0.8402328754640427, 0.8402328754640427, 0.8402328754640427, 0.8402328754640427, 0.8425198229172894, 0.8483088568405561, 0.870270678532381, 0.870270678532381]}], \"AUC_micro\": [{\"categories\": [\"0\", \"1\", \"2\", \"3\", \"4\", \"5\", \"6\", \"7\", \"8\", \"9\", \"10\", \"11\", \"12\", \"13\", \"14\", \"15\", \"16\", \"17\", \"18\", \"19\", \"20\", \"21\", \"22\", \"23\", \"24\", \"25\", \"26\", \"27\", \"28\", \"29\"], \"mode\": \"markers\", \"name\": \"AUC_micro\", \"stepped\": false, \"type\": \"scatter\", \"data\": [0.8880105014523284, 0.8999905678444892, 0.9149891314756295, 0.9026320661368061, 0.9059378690669986, 0.7828559880621787, 0.77024702352453, 0.8961263525806761, 0.8817607488269654, 0.910312968814836, 0.9018409939672509, 0.9113898943470906, 0.8900660570078841, 0.8932493376743592, 0.8995741166331512, 0.8864027259089022, 0.8854616010724887, 0.9041282677391553, 0.9083395575983912, 0.8775974017683297, 0.9036439401193783, 0.8994345175396598, 0.9082991956334385, 0.9042483960547735, 0.8800389894347089, 0.8239440454530946, 0.9090313926394075, 0.8939910306744551, 0.9180299562705481, 0.9114112483641355]}, {\"categories\": [\"0\", \"1\", \"2\", \"3\", \"4\", \"5\", \"6\", \"7\", \"8\", \"9\", \"10\", \"11\", \"12\", \"13\", \"14\", \"15\", \"16\", \"17\", \"18\", \"19\", \"20\", \"21\", \"22\", \"23\", \"24\", \"25\", \"26\", \"27\", \"28\", \"29\"], \"mode\": \"lines\", \"name\": \"AUC_micro_max\", \"stepped\": true, \"type\": \"scatter\", \"data\": [0.8880105014523284, 0.8999905678444892, 0.9149891314756295, 0.9149891314756295, 0.9149891314756295, 0.9149891314756295, 0.9149891314756295, 0.9149891314756295, 0.9149891314756295, 0.9149891314756295, 0.9149891314756295, 0.9149891314756295, 0.9149891314756295, 0.9149891314756295, 0.9149891314756295, 0.9149891314756295, 0.9149891314756295, 0.9149891314756295, 0.9149891314756295, 0.9149891314756295, 0.9149891314756295, 0.9149891314756295, 0.9149891314756295, 0.9149891314756295, 0.9149891314756295, 0.9149891314756295, 0.9149891314756295, 0.9149891314756295, 0.9180299562705481, 0.9180299562705481]}], \"f1_score_macro\": [{\"categories\": [\"0\", \"1\", \"2\", \"3\", \"4\", \"5\", \"6\", \"7\", \"8\", \"9\", \"10\", \"11\", \"12\", \"13\", \"14\", \"15\", \"16\", \"17\", \"18\", \"19\", \"20\", \"21\", \"22\", \"23\", \"24\", \"25\", \"26\", \"27\", \"28\", \"29\"], \"mode\": \"markers\", \"name\": \"f1_score_macro\", \"stepped\": false, \"type\": \"scatter\", \"data\": [0.7682096405971308, 0.7972526241921125, 0.8089549922916224, 0.801738236762937, 0.7798965884951856, 0.6067553991764567, 0.6050850954631593, 0.784384931703028, 0.7901074176456355, 0.7976940074105285, 0.7653123938462241, 0.7950008948215135, 0.7936180816943762, 0.7956630428164676, 0.8095790583685322, 0.7695891912830867, 0.7815130779783559, 0.7852844498901923, 0.8045004611589233, 0.7091401478329059, 0.8052251061741543, 0.7768327327539442, 0.8015657436947761, 0.7937436174952393, 0.7235825678644228, 0.40276783177038933, 0.815060658862533, 0.8212673175824303, 0.8490680142814344, 0.8285868847154523]}, {\"categories\": [\"0\", \"1\", \"2\", \"3\", \"4\", \"5\", \"6\", \"7\", \"8\", \"9\", \"10\", \"11\", \"12\", \"13\", \"14\", \"15\", \"16\", \"17\", \"18\", \"19\", \"20\", \"21\", \"22\", \"23\", \"24\", \"25\", \"26\", \"27\", \"28\", \"29\"], \"mode\": \"lines\", \"name\": \"f1_score_macro_max\", \"stepped\": true, \"type\": \"scatter\", \"data\": [0.7682096405971308, 0.7972526241921125, 0.8089549922916224, 0.8089549922916224, 0.8089549922916224, 0.8089549922916224, 0.8089549922916224, 0.8089549922916224, 0.8089549922916224, 0.8089549922916224, 0.8089549922916224, 0.8089549922916224, 0.8089549922916224, 0.8089549922916224, 0.8095790583685322, 0.8095790583685322, 0.8095790583685322, 0.8095790583685322, 0.8095790583685322, 0.8095790583685322, 0.8095790583685322, 0.8095790583685322, 0.8095790583685322, 0.8095790583685322, 0.8095790583685322, 0.8095790583685322, 0.815060658862533, 0.8212673175824303, 0.8490680142814344, 0.8490680142814344]}], \"balanced_accuracy\": [{\"categories\": [\"0\", \"1\", \"2\", \"3\", \"4\", \"5\", \"6\", \"7\", \"8\", \"9\", \"10\", \"11\", \"12\", \"13\", \"14\", \"15\", \"16\", \"17\", \"18\", \"19\", \"20\", \"21\", \"22\", \"23\", \"24\", \"25\", \"26\", \"27\", \"28\", \"29\"], \"mode\": \"markers\", \"name\": \"balanced_accuracy\", \"stepped\": false, \"type\": \"scatter\", \"data\": [0.7760209025470652, 0.8060125968992248, 0.8130786267995571, 0.8048006644518273, 0.7943376245847176, 0.6178446843853821, 0.6140351605758582, 0.7896387043189369, 0.797781007751938, 0.7982018272425249, 0.768312569213732, 0.8031679125138428, 0.7813988095238096, 0.8010804263565892, 0.810765503875969, 0.7672155315614617, 0.7812631506090808, 0.795357834994463, 0.8116756644518273, 0.7118839977851605, 0.8089929401993355, 0.7757101328903655, 0.8059482281284607, 0.7958423311184939, 0.7140393133997786, 0.5, 0.8187548449612404, 0.8082994186046513, 0.843095238095238, 0.8321940753045404]}, {\"categories\": [\"0\", \"1\", \"2\", \"3\", \"4\", \"5\", \"6\", \"7\", \"8\", \"9\", \"10\", \"11\", \"12\", \"13\", \"14\", \"15\", \"16\", \"17\", \"18\", \"19\", \"20\", \"21\", \"22\", \"23\", \"24\", \"25\", \"26\", \"27\", \"28\", \"29\"], \"mode\": \"lines\", \"name\": \"balanced_accuracy_max\", \"stepped\": true, \"type\": \"scatter\", \"data\": [0.7760209025470652, 0.8060125968992248, 0.8130786267995571, 0.8130786267995571, 0.8130786267995571, 0.8130786267995571, 0.8130786267995571, 0.8130786267995571, 0.8130786267995571, 0.8130786267995571, 0.8130786267995571, 0.8130786267995571, 0.8130786267995571, 0.8130786267995571, 0.8130786267995571, 0.8130786267995571, 0.8130786267995571, 0.8130786267995571, 0.8130786267995571, 0.8130786267995571, 0.8130786267995571, 0.8130786267995571, 0.8130786267995571, 0.8130786267995571, 0.8130786267995571, 0.8130786267995571, 0.8187548449612404, 0.8187548449612404, 0.843095238095238, 0.843095238095238]}], \"accuracy\": [{\"categories\": [\"0\", \"1\", \"2\", \"3\", \"4\", \"5\", \"6\", \"7\", \"8\", \"9\", \"10\", \"11\", \"12\", \"13\", \"14\", \"15\", \"16\", \"17\", \"18\", \"19\", \"20\", \"21\", \"22\", \"23\", \"24\", \"25\", \"26\", \"27\", \"28\", \"29\"], \"mode\": \"markers\", \"name\": \"accuracy\", \"stepped\": false, \"type\": \"scatter\", \"data\": [0.8059887005649717, 0.8259322033898304, 0.8426553672316384, 0.836045197740113, 0.8090960451977403, 0.7057627118644068, 0.70909604519774, 0.8261581920903955, 0.8260451977401131, 0.8361581920903955, 0.8092655367231639, 0.8293785310734464, 0.8362146892655368, 0.8294350282485876, 0.8396610169491525, 0.8160451977401131, 0.8227118644067797, 0.8192655367231639, 0.836045197740113, 0.7725423728813559, 0.8392090395480226, 0.8228248587570622, 0.8394915254237288, 0.8293785310734464, 0.7925988700564972, 0.67909604519774, 0.8459322033898304, 0.8561581920903955, 0.8763276836158193, 0.85954802259887]}, {\"categories\": [\"0\", \"1\", \"2\", \"3\", \"4\", \"5\", \"6\", \"7\", \"8\", \"9\", \"10\", \"11\", \"12\", \"13\", \"14\", \"15\", \"16\", \"17\", \"18\", \"19\", \"20\", \"21\", \"22\", \"23\", \"24\", \"25\", \"26\", \"27\", \"28\", \"29\"], \"mode\": \"lines\", \"name\": \"accuracy_max\", \"stepped\": true, \"type\": \"scatter\", \"data\": [0.8059887005649717, 0.8259322033898304, 0.8426553672316384, 0.8426553672316384, 0.8426553672316384, 0.8426553672316384, 0.8426553672316384, 0.8426553672316384, 0.8426553672316384, 0.8426553672316384, 0.8426553672316384, 0.8426553672316384, 0.8426553672316384, 0.8426553672316384, 0.8426553672316384, 0.8426553672316384, 0.8426553672316384, 0.8426553672316384, 0.8426553672316384, 0.8426553672316384, 0.8426553672316384, 0.8426553672316384, 0.8426553672316384, 0.8426553672316384, 0.8426553672316384, 0.8426553672316384, 0.8459322033898304, 0.8561581920903955, 0.8763276836158193, 0.8763276836158193]}], \"average_precision_score_weighted\": [{\"categories\": [\"0\", \"1\", \"2\", \"3\", \"4\", \"5\", \"6\", \"7\", \"8\", \"9\", \"10\", \"11\", \"12\", \"13\", \"14\", \"15\", \"16\", \"17\", \"18\", \"19\", \"20\", \"21\", \"22\", \"23\", \"24\", \"25\", \"26\", \"27\", \"28\", \"29\"], \"mode\": \"markers\", \"name\": \"average_precision_score_weighted\", \"stepped\": false, \"type\": \"scatter\", \"data\": [0.8955370396295249, 0.9103506263314479, 0.9181157346812354, 0.914643573303046, 0.9114296586590198, 0.7675756738587172, 0.7528024940225674, 0.9046303292122181, 0.8936086622860687, 0.923466350146031, 0.9121500058940821, 0.918778759650927, 0.9043897390743046, 0.8970278471197135, 0.8977687189620761, 0.9058607560878091, 0.8899023871517153, 0.9088403074951525, 0.9156792744979502, 0.8982147143930279, 0.9106133527541177, 0.9089115070864834, 0.9214983499111875, 0.9151977041012611, 0.8912076178093706, 0.8596432499864435, 0.9165397967670378, 0.9013718427438949, 0.9264482783313893, 0.9261052205361995]}, {\"categories\": [\"0\", \"1\", \"2\", \"3\", \"4\", \"5\", \"6\", \"7\", \"8\", \"9\", \"10\", \"11\", \"12\", \"13\", \"14\", \"15\", \"16\", \"17\", \"18\", \"19\", \"20\", \"21\", \"22\", \"23\", \"24\", \"25\", \"26\", \"27\", \"28\", \"29\"], \"mode\": \"lines\", \"name\": \"average_precision_score_weighted_max\", \"stepped\": true, \"type\": \"scatter\", \"data\": [0.8955370396295249, 0.9103506263314479, 0.9181157346812354, 0.9181157346812354, 0.9181157346812354, 0.9181157346812354, 0.9181157346812354, 0.9181157346812354, 0.9181157346812354, 0.923466350146031, 0.923466350146031, 0.923466350146031, 0.923466350146031, 0.923466350146031, 0.923466350146031, 0.923466350146031, 0.923466350146031, 0.923466350146031, 0.923466350146031, 0.923466350146031, 0.923466350146031, 0.923466350146031, 0.923466350146031, 0.923466350146031, 0.923466350146031, 0.923466350146031, 0.923466350146031, 0.923466350146031, 0.9264482783313893, 0.9264482783313893]}], \"recall_score_macro\": [{\"categories\": [\"0\", \"1\", \"2\", \"3\", \"4\", \"5\", \"6\", \"7\", \"8\", \"9\", \"10\", \"11\", \"12\", \"13\", \"14\", \"15\", \"16\", \"17\", \"18\", \"19\", \"20\", \"21\", \"22\", \"23\", \"24\", \"25\", \"26\", \"27\", \"28\", \"29\"], \"mode\": \"markers\", \"name\": \"recall_score_macro\", \"stepped\": false, \"type\": \"scatter\", \"data\": [0.7760209025470652, 0.8060125968992248, 0.8130786267995571, 0.8048006644518273, 0.7943376245847176, 0.6178446843853821, 0.6140351605758582, 0.7896387043189369, 0.797781007751938, 0.7982018272425249, 0.768312569213732, 0.8031679125138428, 0.7813988095238096, 0.8010804263565892, 0.810765503875969, 0.7672155315614617, 0.7812631506090808, 0.795357834994463, 0.8116756644518273, 0.7118839977851605, 0.8089929401993355, 0.7757101328903655, 0.8059482281284607, 0.7958423311184939, 0.7140393133997786, 0.5, 0.8187548449612404, 0.8082994186046513, 0.843095238095238, 0.8321940753045404]}, {\"categories\": [\"0\", \"1\", \"2\", \"3\", \"4\", \"5\", \"6\", \"7\", \"8\", \"9\", \"10\", \"11\", \"12\", \"13\", \"14\", \"15\", \"16\", \"17\", \"18\", \"19\", \"20\", \"21\", \"22\", \"23\", \"24\", \"25\", \"26\", \"27\", \"28\", \"29\"], \"mode\": \"lines\", \"name\": \"recall_score_macro_max\", \"stepped\": true, \"type\": \"scatter\", \"data\": [0.7760209025470652, 0.8060125968992248, 0.8130786267995571, 0.8130786267995571, 0.8130786267995571, 0.8130786267995571, 0.8130786267995571, 0.8130786267995571, 0.8130786267995571, 0.8130786267995571, 0.8130786267995571, 0.8130786267995571, 0.8130786267995571, 0.8130786267995571, 0.8130786267995571, 0.8130786267995571, 0.8130786267995571, 0.8130786267995571, 0.8130786267995571, 0.8130786267995571, 0.8130786267995571, 0.8130786267995571, 0.8130786267995571, 0.8130786267995571, 0.8130786267995571, 0.8130786267995571, 0.8187548449612404, 0.8187548449612404, 0.843095238095238, 0.843095238095238]}], \"matthews_correlation\": [{\"categories\": [\"0\", \"1\", \"2\", \"3\", \"4\", \"5\", \"6\", \"7\", \"8\", \"9\", \"10\", \"11\", \"12\", \"13\", \"14\", \"15\", \"16\", \"17\", \"18\", \"19\", \"20\", \"21\", \"22\", \"23\", \"24\", \"25\", \"26\", \"27\", \"28\", \"29\"], \"mode\": \"markers\", \"name\": \"matthews_correlation\", \"stepped\": false, \"type\": \"scatter\", \"data\": [0.5628617041183437, 0.6132552509330647, 0.6296864591142833, 0.6285711820295827, 0.5783256479632031, 0.28080470045325157, 0.2859750838499126, 0.6162686798389891, 0.6074796463603056, 0.6215042665176137, 0.5596588796082372, 0.6128532930032586, 0.6296104543581578, 0.6096999604896205, 0.6341138679482298, 0.577377585520883, 0.5894205461764175, 0.593339563274919, 0.6297397011260139, 0.4769239457378391, 0.6260209038378604, 0.5944741037596385, 0.6413603614778853, 0.6077922264849838, 0.49570718278801246, 0.0, 0.6473169687400697, 0.6713478829186263, 0.7292901226073087, 0.6853392429925063]}, {\"categories\": [\"0\", \"1\", \"2\", \"3\", \"4\", \"5\", \"6\", \"7\", \"8\", \"9\", \"10\", \"11\", \"12\", \"13\", \"14\", \"15\", \"16\", \"17\", \"18\", \"19\", \"20\", \"21\", \"22\", \"23\", \"24\", \"25\", \"26\", \"27\", \"28\", \"29\"], \"mode\": \"lines\", \"name\": \"matthews_correlation_max\", \"stepped\": true, \"type\": \"scatter\", \"data\": [0.5628617041183437, 0.6132552509330647, 0.6296864591142833, 0.6296864591142833, 0.6296864591142833, 0.6296864591142833, 0.6296864591142833, 0.6296864591142833, 0.6296864591142833, 0.6296864591142833, 0.6296864591142833, 0.6296864591142833, 0.6296864591142833, 0.6296864591142833, 0.6341138679482298, 0.6341138679482298, 0.6341138679482298, 0.6341138679482298, 0.6341138679482298, 0.6341138679482298, 0.6341138679482298, 0.6341138679482298, 0.6413603614778853, 0.6413603614778853, 0.6413603614778853, 0.6413603614778853, 0.6473169687400697, 0.6713478829186263, 0.7292901226073087, 0.7292901226073087]}], \"weighted_accuracy\": [{\"categories\": [\"0\", \"1\", \"2\", \"3\", \"4\", \"5\", \"6\", \"7\", \"8\", \"9\", \"10\", \"11\", \"12\", \"13\", \"14\", \"15\", \"16\", \"17\", \"18\", \"19\", \"20\", \"21\", \"22\", \"23\", \"24\", \"25\", \"26\", \"27\", \"28\", \"29\"], \"mode\": \"markers\", \"name\": \"weighted_accuracy\", \"stepped\": false, \"type\": \"scatter\", \"data\": [0.8252063202764133, 0.8406325321291572, 0.8627773671257755, 0.8583440705986218, 0.8182340502089052, 0.7654458596757182, 0.771290385096506, 0.853412521437642, 0.8461635991415463, 0.8606327390351176, 0.8373043846340588, 0.8474479996274045, 0.8749372131086055, 0.848519821961955, 0.8586782896708176, 0.8499213641944703, 0.8513702623377982, 0.8367900889571981, 0.8528042475897724, 0.8149648296961984, 0.8598730471189169, 0.8535686900997972, 0.8626268195462659, 0.8518238554329095, 0.8448826995704847, 0.7971865900207855, 0.8642174606373777, 0.8889679613127071, 0.8986147612977045, 0.8786790340376791]}, {\"categories\": [\"0\", \"1\", \"2\", \"3\", \"4\", \"5\", \"6\", \"7\", \"8\", \"9\", \"10\", \"11\", \"12\", \"13\", \"14\", \"15\", \"16\", \"17\", \"18\", \"19\", \"20\", \"21\", \"22\", \"23\", \"24\", \"25\", \"26\", \"27\", \"28\", \"29\"], \"mode\": \"lines\", \"name\": \"weighted_accuracy_max\", \"stepped\": true, \"type\": \"scatter\", \"data\": [0.8252063202764133, 0.8406325321291572, 0.8627773671257755, 0.8627773671257755, 0.8627773671257755, 0.8627773671257755, 0.8627773671257755, 0.8627773671257755, 0.8627773671257755, 0.8627773671257755, 0.8627773671257755, 0.8627773671257755, 0.8749372131086055, 0.8749372131086055, 0.8749372131086055, 0.8749372131086055, 0.8749372131086055, 0.8749372131086055, 0.8749372131086055, 0.8749372131086055, 0.8749372131086055, 0.8749372131086055, 0.8749372131086055, 0.8749372131086055, 0.8749372131086055, 0.8749372131086055, 0.8749372131086055, 0.8889679613127071, 0.8986147612977045, 0.8986147612977045]}], \"norm_macro_recall\": [{\"categories\": [\"0\", \"1\", \"2\", \"3\", \"4\", \"5\", \"6\", \"7\", \"8\", \"9\", \"10\", \"11\", \"12\", \"13\", \"14\", \"15\", \"16\", \"17\", \"18\", \"19\", \"20\", \"21\", \"22\", \"23\", \"24\", \"25\", \"26\", \"27\", \"28\", \"29\"], \"mode\": \"markers\", \"name\": \"norm_macro_recall\", \"stepped\": false, \"type\": \"scatter\", \"data\": [0.5520418050941306, 0.6120251937984496, 0.626157253599114, 0.6096013289036545, 0.5886752491694354, 0.23568936877076405, 0.22807032115171647, 0.5792774086378738, 0.5955620155038759, 0.59640365448505, 0.5366251384274641, 0.6063358250276856, 0.562797619047619, 0.6021608527131784, 0.6215310077519379, 0.5344310631229235, 0.5625263012181616, 0.5907156699889259, 0.6233513289036546, 0.4237679955703212, 0.6179858803986711, 0.5514202657807308, 0.6118964562569215, 0.5916846622369878, 0.42807862679955716, 0.0, 0.6375096899224806, 0.6165988372093023, 0.6861904761904762, 0.6643881506090809]}, {\"categories\": [\"0\", \"1\", \"2\", \"3\", \"4\", \"5\", \"6\", \"7\", \"8\", \"9\", \"10\", \"11\", \"12\", \"13\", \"14\", \"15\", \"16\", \"17\", \"18\", \"19\", \"20\", \"21\", \"22\", \"23\", \"24\", \"25\", \"26\", \"27\", \"28\", \"29\"], \"mode\": \"lines\", \"name\": \"norm_macro_recall_max\", \"stepped\": true, \"type\": \"scatter\", \"data\": [0.5520418050941306, 0.6120251937984496, 0.626157253599114, 0.626157253599114, 0.626157253599114, 0.626157253599114, 0.626157253599114, 0.626157253599114, 0.626157253599114, 0.626157253599114, 0.626157253599114, 0.626157253599114, 0.626157253599114, 0.626157253599114, 0.626157253599114, 0.626157253599114, 0.626157253599114, 0.626157253599114, 0.626157253599114, 0.626157253599114, 0.626157253599114, 0.626157253599114, 0.626157253599114, 0.626157253599114, 0.626157253599114, 0.626157253599114, 0.6375096899224806, 0.6375096899224806, 0.6861904761904762, 0.6861904761904762]}], \"log_loss\": [{\"categories\": [\"0\", \"1\", \"2\", \"3\", \"4\", \"5\", \"6\", \"7\", \"8\", \"9\", \"10\", \"11\", \"12\", \"13\", \"14\", \"15\", \"16\", \"17\", \"18\", \"19\", \"20\", \"21\", \"22\", \"23\", \"24\", \"25\", \"26\", \"27\", \"28\", \"29\"], \"mode\": \"markers\", \"name\": \"log_loss\", \"stepped\": false, \"type\": \"scatter\", \"data\": [0.5282491261622873, 0.43217688137359717, 0.3750886343065244, 0.40552974649477597, 0.39874760433195905, 0.5896602637267844, 0.5928757155370168, 0.41609772050327454, 0.4316159715359401, 0.40673151176992584, 0.402847525757828, 0.3790391242322597, 0.44404704365999076, 0.41580917256082356, 0.4049669611121631, 0.4727004574854833, 0.4583476083735859, 0.41361788159624924, 0.3845454077175118, 0.4487036146132519, 0.39300925739363946, 0.39622241912559064, 0.387110920761537, 0.40512814840013806, 0.45808354637918763, 0.63211402338251, 0.3776645975380298, 0.412462821624269, 0.3735268864212581, 0.3891071549230056]}, {\"categories\": [\"0\", \"1\", \"2\", \"3\", \"4\", \"5\", \"6\", \"7\", \"8\", \"9\", \"10\", \"11\", \"12\", \"13\", \"14\", \"15\", \"16\", \"17\", \"18\", \"19\", \"20\", \"21\", \"22\", \"23\", \"24\", \"25\", \"26\", \"27\", \"28\", \"29\"], \"mode\": \"lines\", \"name\": \"log_loss_min\", \"stepped\": true, \"type\": \"scatter\", \"data\": [0.5282491261622873, 0.43217688137359717, 0.3750886343065244, 0.3750886343065244, 0.3750886343065244, 0.3750886343065244, 0.3750886343065244, 0.3750886343065244, 0.3750886343065244, 0.3750886343065244, 0.3750886343065244, 0.3750886343065244, 0.3750886343065244, 0.3750886343065244, 0.3750886343065244, 0.3750886343065244, 0.3750886343065244, 0.3750886343065244, 0.3750886343065244, 0.3750886343065244, 0.3750886343065244, 0.3750886343065244, 0.3750886343065244, 0.3750886343065244, 0.3750886343065244, 0.3750886343065244, 0.3750886343065244, 0.3750886343065244, 0.3735268864212581, 0.3735268864212581]}], \"AUC_macro\": [{\"categories\": [\"0\", \"1\", \"2\", \"3\", \"4\", \"5\", \"6\", \"7\", \"8\", \"9\", \"10\", \"11\", \"12\", \"13\", \"14\", \"15\", \"16\", \"17\", \"18\", \"19\", \"20\", \"21\", \"22\", \"23\", \"24\", \"25\", \"26\", \"27\", \"28\", \"29\"], \"mode\": \"markers\", \"name\": \"AUC_macro\", \"stepped\": false, \"type\": \"scatter\", \"data\": [0.8811331210778885, 0.8929591177556295, 0.9076628137689184, 0.9075942229605021, 0.8994052925433739, 0.7395696982281285, 0.7086207318198596, 0.8907245985603544, 0.8716374123292727, 0.90809530730897, 0.8994653700627537, 0.9043363095238096, 0.8885020302694722, 0.8847910668143225, 0.8876623292727943, 0.8939186277224069, 0.8940475959763751, 0.8981020441122185, 0.902828672942045, 0.8769880260243632, 0.895562246216316, 0.8974649317091178, 0.9058246124031009, 0.9035347452934662, 0.8740262781469177, 0.8459270948689553, 0.9039159514581027, 0.8859564184200812, 0.9177765319306015, 0.9170165190107049]}, {\"categories\": [\"0\", \"1\", \"2\", \"3\", \"4\", \"5\", \"6\", \"7\", \"8\", \"9\", \"10\", \"11\", \"12\", \"13\", \"14\", \"15\", \"16\", \"17\", \"18\", \"19\", \"20\", \"21\", \"22\", \"23\", \"24\", \"25\", \"26\", \"27\", \"28\", \"29\"], \"mode\": \"lines\", \"name\": \"AUC_macro_max\", \"stepped\": true, \"type\": \"scatter\", \"data\": [0.8811331210778885, 0.8929591177556295, 0.9076628137689184, 0.9076628137689184, 0.9076628137689184, 0.9076628137689184, 0.9076628137689184, 0.9076628137689184, 0.9076628137689184, 0.90809530730897, 0.90809530730897, 0.90809530730897, 0.90809530730897, 0.90809530730897, 0.90809530730897, 0.90809530730897, 0.90809530730897, 0.90809530730897, 0.90809530730897, 0.90809530730897, 0.90809530730897, 0.90809530730897, 0.90809530730897, 0.90809530730897, 0.90809530730897, 0.90809530730897, 0.90809530730897, 0.90809530730897, 0.9177765319306015, 0.9177765319306015]}], \"precision_score_weighted\": [{\"categories\": [\"0\", \"1\", \"2\", \"3\", \"4\", \"5\", \"6\", \"7\", \"8\", \"9\", \"10\", \"11\", \"12\", \"13\", \"14\", \"15\", \"16\", \"17\", \"18\", \"19\", \"20\", \"21\", \"22\", \"23\", \"24\", \"25\", \"26\", \"27\", \"28\", \"29\"], \"mode\": \"markers\", \"name\": \"precision_score_weighted\", \"stepped\": false, \"type\": \"scatter\", \"data\": [0.8237683758533973, 0.8403871377947292, 0.8486018479465987, 0.8522196444263471, 0.8289593133610687, 0.7149121536859897, 0.7252076427018089, 0.852412546738455, 0.8454689134209824, 0.852765027325636, 0.8261621101752858, 0.8440105411143692, 0.8538860471005731, 0.8424335258100143, 0.8486564553883307, 0.8315673124386462, 0.8361078787627895, 0.8365893952835302, 0.8498653043810706, 0.7962027427641425, 0.8484418322609185, 0.8454421284857526, 0.8623071031456402, 0.8415420803589324, 0.8052965413363349, 0.4689005075169971, 0.8567140521724006, 0.8675779389653482, 0.8950471537693939, 0.8781369841960954]}, {\"categories\": [\"0\", \"1\", \"2\", \"3\", \"4\", \"5\", \"6\", \"7\", \"8\", \"9\", \"10\", \"11\", \"12\", \"13\", \"14\", \"15\", \"16\", \"17\", \"18\", \"19\", \"20\", \"21\", \"22\", \"23\", \"24\", \"25\", \"26\", \"27\", \"28\", \"29\"], \"mode\": \"lines\", \"name\": \"precision_score_weighted_max\", \"stepped\": true, \"type\": \"scatter\", \"data\": [0.8237683758533973, 0.8403871377947292, 0.8486018479465987, 0.8522196444263471, 0.8522196444263471, 0.8522196444263471, 0.8522196444263471, 0.852412546738455, 0.852412546738455, 0.852765027325636, 0.852765027325636, 0.852765027325636, 0.8538860471005731, 0.8538860471005731, 0.8538860471005731, 0.8538860471005731, 0.8538860471005731, 0.8538860471005731, 0.8538860471005731, 0.8538860471005731, 0.8538860471005731, 0.8538860471005731, 0.8623071031456402, 0.8623071031456402, 0.8623071031456402, 0.8623071031456402, 0.8623071031456402, 0.8675779389653482, 0.8950471537693939, 0.8950471537693939]}], \"recall_score_micro\": [{\"categories\": [\"0\", \"1\", \"2\", \"3\", \"4\", \"5\", \"6\", \"7\", \"8\", \"9\", \"10\", \"11\", \"12\", \"13\", \"14\", \"15\", \"16\", \"17\", \"18\", \"19\", \"20\", \"21\", \"22\", \"23\", \"24\", \"25\", \"26\", \"27\", \"28\", \"29\"], \"mode\": \"markers\", \"name\": \"recall_score_micro\", \"stepped\": false, \"type\": \"scatter\", \"data\": [0.8059887005649717, 0.8259322033898304, 0.8426553672316384, 0.836045197740113, 0.8090960451977403, 0.7057627118644068, 0.70909604519774, 0.8261581920903955, 0.8260451977401131, 0.8361581920903955, 0.8092655367231639, 0.8293785310734464, 0.8362146892655368, 0.8294350282485876, 0.8396610169491525, 0.8160451977401131, 0.8227118644067797, 0.8192655367231639, 0.836045197740113, 0.7725423728813559, 0.8392090395480226, 0.8228248587570622, 0.8394915254237288, 0.8293785310734464, 0.7925988700564972, 0.67909604519774, 0.8459322033898304, 0.8561581920903955, 0.8763276836158193, 0.85954802259887]}, {\"categories\": [\"0\", \"1\", \"2\", \"3\", \"4\", \"5\", \"6\", \"7\", \"8\", \"9\", \"10\", \"11\", \"12\", \"13\", \"14\", \"15\", \"16\", \"17\", \"18\", \"19\", \"20\", \"21\", \"22\", \"23\", \"24\", \"25\", \"26\", \"27\", \"28\", \"29\"], \"mode\": \"lines\", \"name\": \"recall_score_micro_max\", \"stepped\": true, \"type\": \"scatter\", \"data\": [0.8059887005649717, 0.8259322033898304, 0.8426553672316384, 0.8426553672316384, 0.8426553672316384, 0.8426553672316384, 0.8426553672316384, 0.8426553672316384, 0.8426553672316384, 0.8426553672316384, 0.8426553672316384, 0.8426553672316384, 0.8426553672316384, 0.8426553672316384, 0.8426553672316384, 0.8426553672316384, 0.8426553672316384, 0.8426553672316384, 0.8426553672316384, 0.8426553672316384, 0.8426553672316384, 0.8426553672316384, 0.8426553672316384, 0.8426553672316384, 0.8426553672316384, 0.8426553672316384, 0.8459322033898304, 0.8561581920903955, 0.8763276836158193, 0.8763276836158193]}], \"precision_score_micro\": [{\"categories\": [\"0\", \"1\", \"2\", \"3\", \"4\", \"5\", \"6\", \"7\", \"8\", \"9\", \"10\", \"11\", \"12\", \"13\", \"14\", \"15\", \"16\", \"17\", \"18\", \"19\", \"20\", \"21\", \"22\", \"23\", \"24\", \"25\", \"26\", \"27\", \"28\", \"29\"], \"mode\": \"markers\", \"name\": \"precision_score_micro\", \"stepped\": false, \"type\": \"scatter\", \"data\": [0.8059887005649717, 0.8259322033898304, 0.8426553672316384, 0.836045197740113, 0.8090960451977403, 0.7057627118644068, 0.70909604519774, 0.8261581920903955, 0.8260451977401131, 0.8361581920903955, 0.8092655367231639, 0.8293785310734464, 0.8362146892655368, 0.8294350282485876, 0.8396610169491525, 0.8160451977401131, 0.8227118644067797, 0.8192655367231639, 0.836045197740113, 0.7725423728813559, 0.8392090395480226, 0.8228248587570622, 0.8394915254237288, 0.8293785310734464, 0.7925988700564972, 0.67909604519774, 0.8459322033898304, 0.8561581920903955, 0.8763276836158193, 0.85954802259887]}, {\"categories\": [\"0\", \"1\", \"2\", \"3\", \"4\", \"5\", \"6\", \"7\", \"8\", \"9\", \"10\", \"11\", \"12\", \"13\", \"14\", \"15\", \"16\", \"17\", \"18\", \"19\", \"20\", \"21\", \"22\", \"23\", \"24\", \"25\", \"26\", \"27\", \"28\", \"29\"], \"mode\": \"lines\", \"name\": \"precision_score_micro_max\", \"stepped\": true, \"type\": \"scatter\", \"data\": [0.8059887005649717, 0.8259322033898304, 0.8426553672316384, 0.8426553672316384, 0.8426553672316384, 0.8426553672316384, 0.8426553672316384, 0.8426553672316384, 0.8426553672316384, 0.8426553672316384, 0.8426553672316384, 0.8426553672316384, 0.8426553672316384, 0.8426553672316384, 0.8426553672316384, 0.8426553672316384, 0.8426553672316384, 0.8426553672316384, 0.8426553672316384, 0.8426553672316384, 0.8426553672316384, 0.8426553672316384, 0.8426553672316384, 0.8426553672316384, 0.8426553672316384, 0.8426553672316384, 0.8459322033898304, 0.8561581920903955, 0.8763276836158193, 0.8763276836158193]}], \"recall_score_weighted\": [{\"categories\": [\"0\", \"1\", \"2\", \"3\", \"4\", \"5\", \"6\", \"7\", \"8\", \"9\", \"10\", \"11\", \"12\", \"13\", \"14\", \"15\", \"16\", \"17\", \"18\", \"19\", \"20\", \"21\", \"22\", \"23\", \"24\", \"25\", \"26\", \"27\", \"28\", \"29\"], \"mode\": \"markers\", \"name\": \"recall_score_weighted\", \"stepped\": false, \"type\": \"scatter\", \"data\": [0.8059887005649717, 0.8259322033898304, 0.8426553672316384, 0.836045197740113, 0.8090960451977403, 0.7057627118644068, 0.70909604519774, 0.8261581920903955, 0.8260451977401131, 0.8361581920903955, 0.8092655367231639, 0.8293785310734464, 0.8362146892655368, 0.8294350282485876, 0.8396610169491525, 0.8160451977401131, 0.8227118644067797, 0.8192655367231639, 0.836045197740113, 0.7725423728813559, 0.8392090395480226, 0.8228248587570622, 0.8394915254237288, 0.8293785310734464, 0.7925988700564972, 0.67909604519774, 0.8459322033898304, 0.8561581920903955, 0.8763276836158193, 0.85954802259887]}, {\"categories\": [\"0\", \"1\", \"2\", \"3\", \"4\", \"5\", \"6\", \"7\", \"8\", \"9\", \"10\", \"11\", \"12\", \"13\", \"14\", \"15\", \"16\", \"17\", \"18\", \"19\", \"20\", \"21\", \"22\", \"23\", \"24\", \"25\", \"26\", \"27\", \"28\", \"29\"], \"mode\": \"lines\", \"name\": \"recall_score_weighted_max\", \"stepped\": true, \"type\": \"scatter\", \"data\": [0.8059887005649717, 0.8259322033898304, 0.8426553672316384, 0.8426553672316384, 0.8426553672316384, 0.8426553672316384, 0.8426553672316384, 0.8426553672316384, 0.8426553672316384, 0.8426553672316384, 0.8426553672316384, 0.8426553672316384, 0.8426553672316384, 0.8426553672316384, 0.8426553672316384, 0.8426553672316384, 0.8426553672316384, 0.8426553672316384, 0.8426553672316384, 0.8426553672316384, 0.8426553672316384, 0.8426553672316384, 0.8426553672316384, 0.8426553672316384, 0.8426553672316384, 0.8426553672316384, 0.8459322033898304, 0.8561581920903955, 0.8763276836158193, 0.8763276836158193]}], \"average_precision_score_macro\": [{\"categories\": [\"0\", \"1\", \"2\", \"3\", \"4\", \"5\", \"6\", \"7\", \"8\", \"9\", \"10\", \"11\", \"12\", \"13\", \"14\", \"15\", \"16\", \"17\", \"18\", \"19\", \"20\", \"21\", \"22\", \"23\", \"24\", \"25\", \"26\", \"27\", \"28\", \"29\"], \"mode\": \"markers\", \"name\": \"average_precision_score_macro\", \"stepped\": false, \"type\": \"scatter\", \"data\": [0.8655792376041671, 0.8826936933050062, 0.886628357281235, 0.8888626517038049, 0.8848654422892441, 0.7184634262666745, 0.7000942485445478, 0.873840304380457, 0.8640380321940277, 0.8981836052519275, 0.8878636219265529, 0.8954695358787635, 0.879500963254088, 0.8676779735790486, 0.8728899332889071, 0.8821896413678351, 0.851284927554245, 0.8806009815350062, 0.8922205973702783, 0.867610950423033, 0.8809703545789802, 0.8738698705256456, 0.8979441324747965, 0.890634825551504, 0.8564066387473475, 0.8239312808519472, 0.8922988111800653, 0.8762394414488529, 0.9019367964015572, 0.9005612164068582]}, {\"categories\": [\"0\", \"1\", \"2\", \"3\", \"4\", \"5\", \"6\", \"7\", \"8\", \"9\", \"10\", \"11\", \"12\", \"13\", \"14\", \"15\", \"16\", \"17\", \"18\", \"19\", \"20\", \"21\", \"22\", \"23\", \"24\", \"25\", \"26\", \"27\", \"28\", \"29\"], \"mode\": \"lines\", \"name\": \"average_precision_score_macro_max\", \"stepped\": true, \"type\": \"scatter\", \"data\": [0.8655792376041671, 0.8826936933050062, 0.886628357281235, 0.8888626517038049, 0.8888626517038049, 0.8888626517038049, 0.8888626517038049, 0.8888626517038049, 0.8888626517038049, 0.8981836052519275, 0.8981836052519275, 0.8981836052519275, 0.8981836052519275, 0.8981836052519275, 0.8981836052519275, 0.8981836052519275, 0.8981836052519275, 0.8981836052519275, 0.8981836052519275, 0.8981836052519275, 0.8981836052519275, 0.8981836052519275, 0.8981836052519275, 0.8981836052519275, 0.8981836052519275, 0.8981836052519275, 0.8981836052519275, 0.8981836052519275, 0.9019367964015572, 0.9019367964015572]}], \"precision_score_macro\": [{\"categories\": [\"0\", \"1\", \"2\", \"3\", \"4\", \"5\", \"6\", \"7\", \"8\", \"9\", \"10\", \"11\", \"12\", \"13\", \"14\", \"15\", \"16\", \"17\", \"18\", \"19\", \"20\", \"21\", \"22\", \"23\", \"24\", \"25\", \"26\", \"27\", \"28\", \"29\"], \"mode\": \"markers\", \"name\": \"precision_score_macro\", \"stepped\": false, \"type\": \"scatter\", \"data\": [0.7889041743265773, 0.8086642059265495, 0.8177721014710609, 0.8261426470017741, 0.7851222167696933, 0.6726530930610775, 0.6856447961014316, 0.8342656144205393, 0.8124325935766489, 0.8257990901449688, 0.7943801096672672, 0.8117961037183005, 0.8554094217304344, 0.8099783443234431, 0.824308208922212, 0.8145149307214524, 0.8106583750313735, 0.8001034451482022, 0.8197374860075091, 0.7754020155235961, 0.8181503701612398, 0.8248523629448281, 0.8411557682083999, 0.8134891781052744, 0.7892809364548495, 0.33954802259887, 0.8297409623473453, 0.8672307771593486, 0.8904235593903296, 0.8562913887915936]}, {\"categories\": [\"0\", \"1\", \"2\", \"3\", \"4\", \"5\", \"6\", \"7\", \"8\", \"9\", \"10\", \"11\", \"12\", \"13\", \"14\", \"15\", \"16\", \"17\", \"18\", \"19\", \"20\", \"21\", \"22\", \"23\", \"24\", \"25\", \"26\", \"27\", \"28\", \"29\"], \"mode\": \"lines\", \"name\": \"precision_score_macro_max\", \"stepped\": true, \"type\": \"scatter\", \"data\": [0.7889041743265773, 0.8086642059265495, 0.8177721014710609, 0.8261426470017741, 0.8261426470017741, 0.8261426470017741, 0.8261426470017741, 0.8342656144205393, 0.8342656144205393, 0.8342656144205393, 0.8342656144205393, 0.8342656144205393, 0.8554094217304344, 0.8554094217304344, 0.8554094217304344, 0.8554094217304344, 0.8554094217304344, 0.8554094217304344, 0.8554094217304344, 0.8554094217304344, 0.8554094217304344, 0.8554094217304344, 0.8554094217304344, 0.8554094217304344, 0.8554094217304344, 0.8554094217304344, 0.8554094217304344, 0.8672307771593486, 0.8904235593903296, 0.8904235593903296]}], \"average_precision_score_micro\": [{\"categories\": [\"0\", \"1\", \"2\", \"3\", \"4\", \"5\", \"6\", \"7\", \"8\", \"9\", \"10\", \"11\", \"12\", \"13\", \"14\", \"15\", \"16\", \"17\", \"18\", \"19\", \"20\", \"21\", \"22\", \"23\", \"24\", \"25\", \"26\", \"27\", \"28\", \"29\"], \"mode\": \"markers\", \"name\": \"average_precision_score_micro\", \"stepped\": false, \"type\": \"scatter\", \"data\": [0.887958292631032, 0.9018582931163117, 0.9190676746248515, 0.902904922073058, 0.9086898543914497, 0.7626703411642315, 0.7511489776499654, 0.8993760782921816, 0.8831949364447629, 0.9141444286762705, 0.9021254270821759, 0.9117516929559273, 0.8919474518645181, 0.8912805992827832, 0.8958867734484735, 0.8877787967043064, 0.8859490806858659, 0.9044306248382764, 0.9081882604104606, 0.8853089489416863, 0.9075915313312042, 0.9044458223285808, 0.9113343205827068, 0.9069949412137124, 0.8871722291412306, 0.8328524812701821, 0.9099198050520568, 0.8948189649658451, 0.920985757092803, 0.9138261234625226]}, {\"categories\": [\"0\", \"1\", \"2\", \"3\", \"4\", \"5\", \"6\", \"7\", \"8\", \"9\", \"10\", \"11\", \"12\", \"13\", \"14\", \"15\", \"16\", \"17\", \"18\", \"19\", \"20\", \"21\", \"22\", \"23\", \"24\", \"25\", \"26\", \"27\", \"28\", \"29\"], \"mode\": \"lines\", \"name\": \"average_precision_score_micro_max\", \"stepped\": true, \"type\": \"scatter\", \"data\": [0.887958292631032, 0.9018582931163117, 0.9190676746248515, 0.9190676746248515, 0.9190676746248515, 0.9190676746248515, 0.9190676746248515, 0.9190676746248515, 0.9190676746248515, 0.9190676746248515, 0.9190676746248515, 0.9190676746248515, 0.9190676746248515, 0.9190676746248515, 0.9190676746248515, 0.9190676746248515, 0.9190676746248515, 0.9190676746248515, 0.9190676746248515, 0.9190676746248515, 0.9190676746248515, 0.9190676746248515, 0.9190676746248515, 0.9190676746248515, 0.9190676746248515, 0.9190676746248515, 0.9190676746248515, 0.9190676746248515, 0.920985757092803, 0.920985757092803]}], \"AUC_weighted\": [{\"categories\": [\"0\", \"1\", \"2\", \"3\", \"4\", \"5\", \"6\", \"7\", \"8\", \"9\", \"10\", \"11\", \"12\", \"13\", \"14\", \"15\", \"16\", \"17\", \"18\", \"19\", \"20\", \"21\", \"22\", \"23\", \"24\", \"25\", \"26\", \"27\", \"28\", \"29\"], \"mode\": \"markers\", \"name\": \"AUC_weighted\", \"stepped\": false, \"type\": \"scatter\", \"data\": [0.8811331210778885, 0.8929591177556293, 0.9076628137689184, 0.9075942229605021, 0.8994052925433739, 0.7395696982281285, 0.7086207318198596, 0.8907245985603544, 0.8716374123292727, 0.90809530730897, 0.8994653700627537, 0.9043363095238094, 0.8885020302694722, 0.8847910668143225, 0.8876623292727943, 0.8939186277224067, 0.8940475959763751, 0.8981020441122185, 0.902828672942045, 0.8769880260243632, 0.895562246216316, 0.8974649317091178, 0.9058246124031009, 0.9035347452934662, 0.8740262781469177, 0.8459270948689553, 0.9039159514581027, 0.8859564184200812, 0.9177765319306015, 0.9170165190107049]}, {\"categories\": [\"0\", \"1\", \"2\", \"3\", \"4\", \"5\", \"6\", \"7\", \"8\", \"9\", \"10\", \"11\", \"12\", \"13\", \"14\", \"15\", \"16\", \"17\", \"18\", \"19\", \"20\", \"21\", \"22\", \"23\", \"24\", \"25\", \"26\", \"27\", \"28\", \"29\"], \"mode\": \"lines\", \"name\": \"AUC_weighted_max\", \"stepped\": true, \"type\": \"scatter\", \"data\": [0.8811331210778885, 0.8929591177556293, 0.9076628137689184, 0.9076628137689184, 0.9076628137689184, 0.9076628137689184, 0.9076628137689184, 0.9076628137689184, 0.9076628137689184, 0.90809530730897, 0.90809530730897, 0.90809530730897, 0.90809530730897, 0.90809530730897, 0.90809530730897, 0.90809530730897, 0.90809530730897, 0.90809530730897, 0.90809530730897, 0.90809530730897, 0.90809530730897, 0.90809530730897, 0.90809530730897, 0.90809530730897, 0.90809530730897, 0.90809530730897, 0.90809530730897, 0.90809530730897, 0.9177765319306015, 0.9177765319306015]}], \"f1_score_micro\": [{\"categories\": [\"0\", \"1\", \"2\", \"3\", \"4\", \"5\", \"6\", \"7\", \"8\", \"9\", \"10\", \"11\", \"12\", \"13\", \"14\", \"15\", \"16\", \"17\", \"18\", \"19\", \"20\", \"21\", \"22\", \"23\", \"24\", \"25\", \"26\", \"27\", \"28\", \"29\"], \"mode\": \"markers\", \"name\": \"f1_score_micro\", \"stepped\": false, \"type\": \"scatter\", \"data\": [0.8059887005649718, 0.8259322033898304, 0.8426553672316384, 0.836045197740113, 0.8090960451977403, 0.7057627118644068, 0.70909604519774, 0.8261581920903955, 0.8260451977401131, 0.8361581920903955, 0.8092655367231639, 0.8293785310734464, 0.8362146892655368, 0.8294350282485876, 0.8396610169491525, 0.8160451977401131, 0.8227118644067797, 0.8192655367231639, 0.836045197740113, 0.772542372881356, 0.8392090395480226, 0.8228248587570622, 0.8394915254237288, 0.8293785310734464, 0.7925988700564972, 0.67909604519774, 0.8459322033898304, 0.8561581920903955, 0.8763276836158193, 0.85954802259887]}, {\"categories\": [\"0\", \"1\", \"2\", \"3\", \"4\", \"5\", \"6\", \"7\", \"8\", \"9\", \"10\", \"11\", \"12\", \"13\", \"14\", \"15\", \"16\", \"17\", \"18\", \"19\", \"20\", \"21\", \"22\", \"23\", \"24\", \"25\", \"26\", \"27\", \"28\", \"29\"], \"mode\": \"lines\", \"name\": \"f1_score_micro_max\", \"stepped\": true, \"type\": \"scatter\", \"data\": [0.8059887005649718, 0.8259322033898304, 0.8426553672316384, 0.8426553672316384, 0.8426553672316384, 0.8426553672316384, 0.8426553672316384, 0.8426553672316384, 0.8426553672316384, 0.8426553672316384, 0.8426553672316384, 0.8426553672316384, 0.8426553672316384, 0.8426553672316384, 0.8426553672316384, 0.8426553672316384, 0.8426553672316384, 0.8426553672316384, 0.8426553672316384, 0.8426553672316384, 0.8426553672316384, 0.8426553672316384, 0.8426553672316384, 0.8426553672316384, 0.8426553672316384, 0.8426553672316384, 0.8459322033898304, 0.8561581920903955, 0.8763276836158193, 0.8763276836158193]}]}, \"metricName\": null, \"primaryMetricName\": \"accuracy\", \"showLegend\": false}, \"run_metrics\": [{\"name\": \"experiment_status\", \"run_id\": \"AutoML_f4ca9563-54fa-43f1-8ecf-2a7898a06229\", \"categories\": [0, 1, 2, 3, 4, 5, 6, 7, 8, 9, 10, 11, 12, 13], \"series\": [{\"data\": [\"DatasetEvaluation\", \"FeaturesGeneration\", \"DatasetFeaturization\", \"DatasetFeaturizationCompleted\", \"DatasetCrossValidationSplit\", \"ModelSelection\", \"BestRunExplainModel\", \"ModelExplanationDataSetSetup\", \"PickSurrogateModel\", \"EngineeredFeatureExplanations\", \"EngineeredFeatureExplanations\", \"RawFeaturesExplanations\", \"RawFeaturesExplanations\", \"BestRunExplainModel\"]}]}, {\"name\": \"experiment_status_description\", \"run_id\": \"AutoML_f4ca9563-54fa-43f1-8ecf-2a7898a06229\", \"categories\": [0, 1, 2, 3, 4, 5, 6, 7, 8, 9, 10, 11, 12, 13], \"series\": [{\"data\": [\"Gathering dataset statistics.\", \"Generating features for the dataset.\", \"Beginning to fit featurizers and featurize the dataset.\", \"Completed fit featurizers and featurizing the dataset.\", \"Generating individually featurized CV splits.\", \"Beginning model selection.\", \"Best run model explanations started\", \"Model explanations data setup completed\", \"Choosing LightGBM as the surrogate model for explanations\", \"Computation of engineered features started\", \"Computation of engineered features completed\", \"Computation of raw features started\", \"Computation of raw features completed\", \"Best run model explanations completed\"]}]}, {\"name\": \"f1_score_macro\", \"run_id\": \"AutoML_f4ca9563-54fa-43f1-8ecf-2a7898a06229\", \"categories\": [0], \"series\": [{\"data\": [0.8490680142814344]}]}, {\"name\": \"average_precision_score_weighted\", \"run_id\": \"AutoML_f4ca9563-54fa-43f1-8ecf-2a7898a06229\", \"categories\": [0], \"series\": [{\"data\": [0.9264482783313893]}]}, {\"name\": \"f1_score_micro\", \"run_id\": \"AutoML_f4ca9563-54fa-43f1-8ecf-2a7898a06229\", \"categories\": [0], \"series\": [{\"data\": [0.8763276836158193]}]}, {\"name\": \"average_precision_score_macro\", \"run_id\": \"AutoML_f4ca9563-54fa-43f1-8ecf-2a7898a06229\", \"categories\": [0], \"series\": [{\"data\": [0.9019367964015572]}]}, {\"name\": \"matthews_correlation\", \"run_id\": \"AutoML_f4ca9563-54fa-43f1-8ecf-2a7898a06229\", \"categories\": [0], \"series\": [{\"data\": [0.7292901226073087]}]}, {\"name\": \"recall_score_weighted\", \"run_id\": \"AutoML_f4ca9563-54fa-43f1-8ecf-2a7898a06229\", \"categories\": [0], \"series\": [{\"data\": [0.8763276836158193]}]}, {\"name\": \"AUC_micro\", \"run_id\": \"AutoML_f4ca9563-54fa-43f1-8ecf-2a7898a06229\", \"categories\": [0], \"series\": [{\"data\": [0.9180299562705481]}]}, {\"name\": \"weighted_accuracy\", \"run_id\": \"AutoML_f4ca9563-54fa-43f1-8ecf-2a7898a06229\", \"categories\": [0], \"series\": [{\"data\": [0.8986147612977045]}]}, {\"name\": \"average_precision_score_micro\", \"run_id\": \"AutoML_f4ca9563-54fa-43f1-8ecf-2a7898a06229\", \"categories\": [0], \"series\": [{\"data\": [0.920985757092803]}]}, {\"name\": \"precision_score_micro\", \"run_id\": \"AutoML_f4ca9563-54fa-43f1-8ecf-2a7898a06229\", \"categories\": [0], \"series\": [{\"data\": [0.8763276836158193]}]}, {\"name\": \"balanced_accuracy\", \"run_id\": \"AutoML_f4ca9563-54fa-43f1-8ecf-2a7898a06229\", \"categories\": [0], \"series\": [{\"data\": [0.843095238095238]}]}, {\"name\": \"f1_score_weighted\", \"run_id\": \"AutoML_f4ca9563-54fa-43f1-8ecf-2a7898a06229\", \"categories\": [0], \"series\": [{\"data\": [0.870270678532381]}]}, {\"name\": \"recall_score_micro\", \"run_id\": \"AutoML_f4ca9563-54fa-43f1-8ecf-2a7898a06229\", \"categories\": [0], \"series\": [{\"data\": [0.8763276836158193]}]}, {\"name\": \"log_loss\", \"run_id\": \"AutoML_f4ca9563-54fa-43f1-8ecf-2a7898a06229\", \"categories\": [0], \"series\": [{\"data\": [0.3735268864212581]}]}, {\"name\": \"precision_score_weighted\", \"run_id\": \"AutoML_f4ca9563-54fa-43f1-8ecf-2a7898a06229\", \"categories\": [0], \"series\": [{\"data\": [0.8950471537693939]}]}, {\"name\": \"norm_macro_recall\", \"run_id\": \"AutoML_f4ca9563-54fa-43f1-8ecf-2a7898a06229\", \"categories\": [0], \"series\": [{\"data\": [0.6861904761904762]}]}, {\"name\": \"AUC_weighted\", \"run_id\": \"AutoML_f4ca9563-54fa-43f1-8ecf-2a7898a06229\", \"categories\": [0], \"series\": [{\"data\": [0.9177765319306015]}]}, {\"name\": \"AUC_macro\", \"run_id\": \"AutoML_f4ca9563-54fa-43f1-8ecf-2a7898a06229\", \"categories\": [0], \"series\": [{\"data\": [0.9177765319306015]}]}, {\"name\": \"recall_score_macro\", \"run_id\": \"AutoML_f4ca9563-54fa-43f1-8ecf-2a7898a06229\", \"categories\": [0], \"series\": [{\"data\": [0.843095238095238]}]}, {\"name\": \"accuracy\", \"run_id\": \"AutoML_f4ca9563-54fa-43f1-8ecf-2a7898a06229\", \"categories\": [0], \"series\": [{\"data\": [0.8763276836158193]}]}, {\"name\": \"precision_score_macro\", \"run_id\": \"AutoML_f4ca9563-54fa-43f1-8ecf-2a7898a06229\", \"categories\": [0], \"series\": [{\"data\": [0.8904235593903296]}]}], \"run_logs\": \"\\nRun is completed.\", \"graph\": {}, \"widget_settings\": {\"childWidgetDisplay\": \"popup\", \"send_telemetry\": false, \"log_level\": \"INFO\", \"sdk_version\": \"1.24.0\"}, \"loading\": false}"
          },
          "metadata": {}
        }
      ],
      "execution_count": 7,
      "metadata": {
        "gather": {
          "logged": 1617714636869
        }
      }
    },
    {
      "cell_type": "markdown",
      "source": [
        "## Best Model\n",
        "\n"
      ],
      "metadata": {}
    },
    {
      "cell_type": "code",
      "source": [
        "\n",
        "#getting the metrics required\n",
        "best_run_auto, fitted_model_auto = remote_run.get_output()\n",
        "best_run_metrics = best_run_auto.get_metrics()\n",
        "parameter_values = best_run_auto.get_details()['runDefinition']['arguments']\n",
        "\n",
        "print('The best run automl model\\n', best_run_auto)\n",
        "\n",
        "print('\\nThe Id for best run is:', best_run_auto.id)\n",
        "print('The Accuracy: is', best_run_metrics['accuracy'])\n",
        "\n"
      ],
      "outputs": [
        {
          "output_type": "stream",
          "name": "stdout",
          "text": [
            "The best run automl model\n",
            " Run(Experiment: AutoML,\n",
            "Id: AutoML_f4ca9563-54fa-43f1-8ecf-2a7898a06229_28,\n",
            "Type: azureml.scriptrun,\n",
            "Status: Completed)\n",
            "\n",
            "The Id for best run is: AutoML_f4ca9563-54fa-43f1-8ecf-2a7898a06229_28\n",
            "The Accuracy: is 0.8763276836158193\n"
          ]
        }
      ],
      "execution_count": 8,
      "metadata": {
        "gather": {
          "logged": 1617714729096
        },
        "jupyter": {
          "outputs_hidden": false,
          "source_hidden": false
        },
        "nteract": {
          "transient": {
            "deleting": false
          }
        }
      }
    },
    {
      "cell_type": "code",
      "source": [
        "# Retrieve and save the best automl model.\n",
        "best_run_model, fitted_model_a = remote_run.get_output()\n",
        "\n",
        "joblib.dump(fitted_model_a, \"bestModelAutoML.joblib\")\n",
        "\n",
        "print(best_run_model)\n",
        "\n",
        "print(fitted_model_a)"
      ],
      "outputs": [
        {
          "output_type": "stream",
          "name": "stdout",
          "text": [
            "Run(Experiment: AutoML,\n",
            "Id: AutoML_f4ca9563-54fa-43f1-8ecf-2a7898a06229_28,\n",
            "Type: azureml.scriptrun,\n",
            "Status: Completed)\n",
            "Pipeline(memory=None,\n",
            "         steps=[('datatransformer',\n",
            "                 DataTransformer(enable_dnn=None, enable_feature_sweeping=None,\n",
            "                                 feature_sweeping_config=None,\n",
            "                                 feature_sweeping_timeout=None,\n",
            "                                 featurization_config=None, force_text_dnn=None,\n",
            "                                 is_cross_validation=None,\n",
            "                                 is_onnx_compatible=None, logger=None,\n",
            "                                 observer=None, task=None, working_dir=None)),\n",
            "                ('prefittedsoftvotingclassifier',...\n",
            "                                                                                               min_child_weight=1,\n",
            "                                                                                               missing=nan,\n",
            "                                                                                               n_estimators=100,\n",
            "                                                                                               n_jobs=1,\n",
            "                                                                                               nthread=None,\n",
            "                                                                                               objective='reg:logistic',\n",
            "                                                                                               random_state=0,\n",
            "                                                                                               reg_alpha=0,\n",
            "                                                                                               reg_lambda=2.0833333333333335,\n",
            "                                                                                               scale_pos_weight=1,\n",
            "                                                                                               seed=None,\n",
            "                                                                                               silent=None,\n",
            "                                                                                               subsample=1,\n",
            "                                                                                               tree_method='auto',\n",
            "                                                                                               verbose=-10,\n",
            "                                                                                               verbosity=0))],\n",
            "                                                                     verbose=False))],\n",
            "                                               flatten_transform=None,\n",
            "                                               weights=[0.125, 0.125, 0.125,\n",
            "                                                        0.25, 0.125, 0.125,\n",
            "                                                        0.125]))],\n",
            "         verbose=False)\n"
          ]
        }
      ],
      "execution_count": 9,
      "metadata": {
        "gather": {
          "logged": 1617714785484
        },
        "jupyter": {
          "outputs_hidden": false,
          "source_hidden": false
        },
        "nteract": {
          "transient": {
            "deleting": false
          }
        }
      }
    },
    {
      "cell_type": "code",
      "source": [
        "#print the estimators\n",
        "from pprint import pprint\n",
        "\n",
        "def print_model(model, prefix=\"\"):\n",
        "    for step in model.steps:\n",
        "        print(prefix + step[0])\n",
        "        if hasattr(step[1], 'estimators') and hasattr(step[1], 'weights'):\n",
        "            pprint({'estimators': list(\n",
        "                e[0] for e in step[1].estimators), 'weights': step[1].weights})\n",
        "            print()\n",
        "            for estimator in step[1].estimators:\n",
        "                print_model(estimator[1], estimator[0] + ' - ')\n",
        "        else:\n",
        "            pprint(step[1].get_params())\n",
        "            print()\n",
        "\n",
        "print_model(fitted_model_a)"
      ],
      "outputs": [
        {
          "output_type": "stream",
          "name": "stdout",
          "text": [
            "datatransformer\n",
            "{'enable_dnn': None,\n",
            " 'enable_feature_sweeping': None,\n",
            " 'feature_sweeping_config': None,\n",
            " 'feature_sweeping_timeout': None,\n",
            " 'featurization_config': None,\n",
            " 'force_text_dnn': None,\n",
            " 'is_cross_validation': None,\n",
            " 'is_onnx_compatible': None,\n",
            " 'logger': None,\n",
            " 'observer': None,\n",
            " 'task': None,\n",
            " 'working_dir': None}\n",
            "\n",
            "prefittedsoftvotingclassifier\n",
            "{'estimators': ['27', '26', '2', '14', '22', '3', '7'],\n",
            " 'weights': [0.125, 0.125, 0.125, 0.25, 0.125, 0.125, 0.125]}\n",
            "\n",
            "27 - maxabsscaler\n",
            "{'copy': True}\n",
            "\n",
            "27 - extratreesclassifier\n",
            "{'bootstrap': False,\n",
            " 'ccp_alpha': 0.0,\n",
            " 'class_weight': None,\n",
            " 'criterion': 'entropy',\n",
            " 'max_depth': None,\n",
            " 'max_features': None,\n",
            " 'max_leaf_nodes': None,\n",
            " 'max_samples': None,\n",
            " 'min_impurity_decrease': 0.0,\n",
            " 'min_impurity_split': None,\n",
            " 'min_samples_leaf': 0.06157894736842105,\n",
            " 'min_samples_split': 0.01,\n",
            " 'min_weight_fraction_leaf': 0.0,\n",
            " 'n_estimators': 50,\n",
            " 'n_jobs': 1,\n",
            " 'oob_score': False,\n",
            " 'random_state': None,\n",
            " 'verbose': 0,\n",
            " 'warm_start': False}\n",
            "\n",
            "26 - maxabsscaler\n",
            "{'copy': True}\n",
            "\n",
            "26 - lightgbmclassifier\n",
            "{'boosting_type': 'goss',\n",
            " 'class_weight': None,\n",
            " 'colsample_bytree': 0.5944444444444444,\n",
            " 'importance_type': 'split',\n",
            " 'learning_rate': 0.04211105263157895,\n",
            " 'max_bin': 330,\n",
            " 'max_depth': 4,\n",
            " 'min_child_samples': 12,\n",
            " 'min_child_weight': 6,\n",
            " 'min_split_gain': 0.9473684210526315,\n",
            " 'n_estimators': 200,\n",
            " 'n_jobs': 1,\n",
            " 'num_leaves': 230,\n",
            " 'objective': None,\n",
            " 'random_state': None,\n",
            " 'reg_alpha': 0.894736842105263,\n",
            " 'reg_lambda': 0.3157894736842105,\n",
            " 'silent': True,\n",
            " 'subsample': 1,\n",
            " 'subsample_for_bin': 200000,\n",
            " 'subsample_freq': 0,\n",
            " 'verbose': -10}\n",
            "\n",
            "2 - minmaxscaler\n",
            "{'copy': True, 'feature_range': (0, 1)}\n",
            "\n",
            "2 - randomforestclassifier\n",
            "{'bootstrap': False,\n",
            " 'ccp_alpha': 0.0,\n",
            " 'class_weight': None,\n",
            " 'criterion': 'gini',\n",
            " 'max_depth': None,\n",
            " 'max_features': 'sqrt',\n",
            " 'max_leaf_nodes': None,\n",
            " 'max_samples': None,\n",
            " 'min_impurity_decrease': 0.0,\n",
            " 'min_impurity_split': None,\n",
            " 'min_samples_leaf': 0.01,\n",
            " 'min_samples_split': 0.10368421052631578,\n",
            " 'min_weight_fraction_leaf': 0.0,\n",
            " 'n_estimators': 10,\n",
            " 'n_jobs': 1,\n",
            " 'oob_score': False,\n",
            " 'random_state': None,\n",
            " 'verbose': 0,\n",
            " 'warm_start': False}\n",
            "\n",
            "14 - sparsenormalizer\n",
            "{'copy': True, 'norm': 'l1'}\n",
            "\n",
            "14 - xgboostclassifier\n",
            "{'base_score': 0.5,\n",
            " 'booster': 'gbtree',\n",
            " 'colsample_bylevel': 1,\n",
            " 'colsample_bynode': 1,\n",
            " 'colsample_bytree': 1,\n",
            " 'eta': 0.1,\n",
            " 'gamma': 0,\n",
            " 'learning_rate': 0.1,\n",
            " 'max_delta_step': 0,\n",
            " 'max_depth': 6,\n",
            " 'max_leaves': 31,\n",
            " 'min_child_weight': 1,\n",
            " 'missing': nan,\n",
            " 'n_estimators': 25,\n",
            " 'n_jobs': 1,\n",
            " 'nthread': None,\n",
            " 'objective': 'reg:logistic',\n",
            " 'random_state': 0,\n",
            " 'reg_alpha': 0.9375,\n",
            " 'reg_lambda': 1.875,\n",
            " 'scale_pos_weight': 1,\n",
            " 'seed': None,\n",
            " 'silent': None,\n",
            " 'subsample': 0.8,\n",
            " 'tree_method': 'auto',\n",
            " 'verbose': -10,\n",
            " 'verbosity': 0}\n",
            "\n",
            "22 - robustscaler\n",
            "{'copy': True,\n",
            " 'quantile_range': [10, 90],\n",
            " 'with_centering': False,\n",
            " 'with_scaling': False}\n",
            "\n",
            "22 - lightgbmclassifier\n",
            "{'boosting_type': 'gbdt',\n",
            " 'class_weight': None,\n",
            " 'colsample_bytree': 0.1988888888888889,\n",
            " 'importance_type': 'split',\n",
            " 'learning_rate': 0.0842121052631579,\n",
            " 'max_bin': 310,\n",
            " 'max_depth': 8,\n",
            " 'min_child_samples': 27,\n",
            " 'min_child_weight': 3,\n",
            " 'min_split_gain': 0.8421052631578947,\n",
            " 'n_estimators': 800,\n",
            " 'n_jobs': 1,\n",
            " 'num_leaves': 230,\n",
            " 'objective': None,\n",
            " 'random_state': None,\n",
            " 'reg_alpha': 0.10526315789473684,\n",
            " 'reg_lambda': 0.9473684210526315,\n",
            " 'silent': True,\n",
            " 'subsample': 0.19842105263157894,\n",
            " 'subsample_for_bin': 200000,\n",
            " 'subsample_freq': 0,\n",
            " 'verbose': -10}\n",
            "\n",
            "3 - minmaxscaler\n",
            "{'copy': True, 'feature_range': (0, 1)}\n",
            "\n",
            "3 - randomforestclassifier\n",
            "{'bootstrap': True,\n",
            " 'ccp_alpha': 0.0,\n",
            " 'class_weight': None,\n",
            " 'criterion': 'gini',\n",
            " 'max_depth': None,\n",
            " 'max_features': 'sqrt',\n",
            " 'max_leaf_nodes': None,\n",
            " 'max_samples': None,\n",
            " 'min_impurity_decrease': 0.0,\n",
            " 'min_impurity_split': None,\n",
            " 'min_samples_leaf': 0.035789473684210524,\n",
            " 'min_samples_split': 0.01,\n",
            " 'min_weight_fraction_leaf': 0.0,\n",
            " 'n_estimators': 10,\n",
            " 'n_jobs': 1,\n",
            " 'oob_score': True,\n",
            " 'random_state': None,\n",
            " 'verbose': 0,\n",
            " 'warm_start': False}\n",
            "\n",
            "7 - sparsenormalizer\n",
            "{'copy': True, 'norm': 'l2'}\n",
            "\n",
            "7 - xgboostclassifier\n",
            "{'base_score': 0.5,\n",
            " 'booster': 'gbtree',\n",
            " 'colsample_bylevel': 1,\n",
            " 'colsample_bynode': 1,\n",
            " 'colsample_bytree': 0.5,\n",
            " 'eta': 0.1,\n",
            " 'gamma': 0,\n",
            " 'learning_rate': 0.1,\n",
            " 'max_delta_step': 0,\n",
            " 'max_depth': 6,\n",
            " 'max_leaves': 15,\n",
            " 'min_child_weight': 1,\n",
            " 'missing': nan,\n",
            " 'n_estimators': 100,\n",
            " 'n_jobs': 1,\n",
            " 'nthread': None,\n",
            " 'objective': 'reg:logistic',\n",
            " 'random_state': 0,\n",
            " 'reg_alpha': 0,\n",
            " 'reg_lambda': 2.0833333333333335,\n",
            " 'scale_pos_weight': 1,\n",
            " 'seed': None,\n",
            " 'silent': None,\n",
            " 'subsample': 1,\n",
            " 'tree_method': 'auto',\n",
            " 'verbose': -10,\n",
            " 'verbosity': 0}\n",
            "\n"
          ]
        }
      ],
      "execution_count": 10,
      "metadata": {
        "scrolled": false,
        "gather": {
          "logged": 1617714810168
        }
      }
    },
    {
      "cell_type": "code",
      "source": [
        "#final estimator\n",
        "print(fitted_model_a._final_estimator)\n"
      ],
      "outputs": [
        {
          "output_type": "stream",
          "name": "stdout",
          "text": [
            "PreFittedSoftVotingClassifier(classification_labels=None,\n",
            "                              estimators=[('27',\n",
            "                                           Pipeline(memory=None,\n",
            "                                                    steps=[('maxabsscaler',\n",
            "                                                            MaxAbsScaler(copy=True)),\n",
            "                                                           ('extratreesclassifier',\n",
            "                                                            ExtraTreesClassifier(bootstrap=False,\n",
            "                                                                                 ccp_alpha=0.0,\n",
            "                                                                                 class_weight=None,\n",
            "                                                                                 criterion='entropy',\n",
            "                                                                                 max_depth=None,\n",
            "                                                                                 max_features=None,\n",
            "                                                                                 max_leaf_nodes=None,\n",
            "                                                                                 max_samples=None,\n",
            "                                                                                 min_impurity_decrease=0...\n",
            "                                                                              max_leaves=15,\n",
            "                                                                              min_child_weight=1,\n",
            "                                                                              missing=nan,\n",
            "                                                                              n_estimators=100,\n",
            "                                                                              n_jobs=1,\n",
            "                                                                              nthread=None,\n",
            "                                                                              objective='reg:logistic',\n",
            "                                                                              random_state=0,\n",
            "                                                                              reg_alpha=0,\n",
            "                                                                              reg_lambda=2.0833333333333335,\n",
            "                                                                              scale_pos_weight=1,\n",
            "                                                                              seed=None,\n",
            "                                                                              silent=None,\n",
            "                                                                              subsample=1,\n",
            "                                                                              tree_method='auto',\n",
            "                                                                              verbose=-10,\n",
            "                                                                              verbosity=0))],\n",
            "                                                    verbose=False))],\n",
            "                              flatten_transform=None,\n",
            "                              weights=[0.125, 0.125, 0.125, 0.25, 0.125, 0.125,\n",
            "                                       0.125])\n"
          ]
        }
      ],
      "execution_count": 11,
      "metadata": {
        "gather": {
          "logged": 1617714882569
        }
      }
    },
    {
      "cell_type": "code",
      "source": [
        "#Register the model \"best-model_auto.joblib\"\n",
        "the_bestmodel = best_run_model.register_model(model_name='bestModelAutoML.joblib', model_path='./')"
      ],
      "outputs": [],
      "execution_count": 12,
      "metadata": {
        "gather": {
          "logged": 1617714898730
        },
        "jupyter": {
          "outputs_hidden": false,
          "source_hidden": false
        },
        "nteract": {
          "transient": {
            "deleting": false
          }
        }
      }
    },
    {
      "cell_type": "code",
      "source": [
        "#display the best model \n",
        "the_bestmodel"
      ],
      "outputs": [
        {
          "output_type": "execute_result",
          "execution_count": 13,
          "data": {
            "text/plain": "Model(workspace=Workspace.create(name='quick-starts-ws-142099', subscription_id='1b944a9b-fdae-4f97-aeb1-b7eea0beac53', resource_group='aml-quickstarts-142099'), name=bestModelAutoML.joblib, id=bestModelAutoML.joblib:1, version=1, tags={}, properties={})"
          },
          "metadata": {}
        }
      ],
      "execution_count": 13,
      "metadata": {
        "gather": {
          "logged": 1617714925852
        }
      }
    }
  ],
  "metadata": {
    "kernel_info": {
      "name": "python3"
    },
    "kernelspec": {
      "name": "python3",
      "language": "python",
      "display_name": "Python 3"
    },
    "language_info": {
      "name": "python",
      "version": "3.6.9",
      "mimetype": "text/x-python",
      "codemirror_mode": {
        "name": "ipython",
        "version": 3
      },
      "pygments_lexer": "ipython3",
      "nbconvert_exporter": "python",
      "file_extension": ".py"
    },
    "nteract": {
      "version": "nteract-front-end@1.0.0"
    },
    "microsoft": {
      "host": {
        "AzureML": {
          "notebookHasBeenCompleted": true
        }
      }
    }
  },
  "nbformat": 4,
  "nbformat_minor": 2
}